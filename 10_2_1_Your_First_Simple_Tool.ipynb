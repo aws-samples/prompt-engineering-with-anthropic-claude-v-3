{
  "cells": [
    {
      "cell_type": "markdown",
      "metadata": {},
      "source": [
        "# \ubd80\ub85d 10.2.1: \uccab \ubc88\uc9f8 \uac04\ub2e8\ud55c \ub3c4\uad6c\n",
        "\n",
        "\uc774\uc804 \uac15\uc758\uc5d0\uc11c \uc6b0\ub9ac\ub294 \ub3c4\uad6c \uc0ac\uc6a9 \uc6cc\ud06c\ud50c\ub85c\uc6b0\ub97c \uc0b4\ud3b4\ubcf4\uc558\uc2b5\ub2c8\ub2e4. \uc774\uc81c \uc2e4\uc81c\ub85c \ub3c4\uad6c \uc0ac\uc6a9\uc758 \uac04\ub2e8\ud55c \uc608\ub97c \uad6c\ud604\ud560 \uc2dc\uac04\uc785\ub2c8\ub2e4. \ubcf5\uc2b5\ud558\uc790\uba74, \ub3c4\uad6c \uc0ac\uc6a9 \ud504\ub85c\uc138\uc2a4\uc5d0\ub294 \ucd5c\ub300 4\ub2e8\uacc4\uac00 \uc788\uc2b5\ub2c8\ub2e4.\n",
        "\n",
        "1. **Claude\uc5d0\uac8c \ub3c4\uad6c\uc640 \uc0ac\uc6a9\uc790 \ud504\ub86c\ud504\ud2b8 \uc81c\uacf5:** (API \uc694\uccad)\n",
        "    * Claude\uac00 \uc561\uc138\uc2a4\ud560 \uc218 \uc788\ub294 \ub3c4\uad6c \uc138\ud2b8\ub97c \uc815\uc758\ud558\uace0, \uc774\ub984, \uc124\uba85 \ubc0f \uc785\ub825 \uc2a4\ud0a4\ub9c8\ub97c \ud3ec\ud568\ud569\ub2c8\ub2e4.\n",
        "    * \uc774\ub7ec\ud55c \ub3c4\uad6c \uc911 \ud558\ub098 \uc774\uc0c1\uc744 \uc0ac\uc6a9\ud574\uc57c \ud560 \uc218 \uc788\ub294 \uc0ac\uc6a9\uc790 \ud504\ub86c\ud504\ud2b8\ub97c \uc81c\uacf5\ud569\ub2c8\ub2e4.\n",
        "\n",
        "2. **Claude\uac00 \ub3c4\uad6c \uc0ac\uc6a9:** (API \uc751\ub2f5)\n",
        "    * Claude\ub294 \uc0ac\uc6a9\uc790 \ud504\ub86c\ud504\ud2b8\ub97c \ud3c9\uac00\ud558\uace0 \uc0ac\uc6a9 \uac00\ub2a5\ud55c \ub3c4\uad6c \uc911 \ud558\ub098\ub77c\ub3c4 \uc0ac\uc6a9\uc790\uc758 \ucffc\ub9ac\ub098 \uc791\uc5c5\uc5d0 \ub3c4\uc6c0\uc774 \ub418\ub294\uc9c0 \ud310\ub2e8\ud569\ub2c8\ub2e4. \uadf8\ub807\ub2e4\uba74 \uc5b4\ub5a4 \ub3c4\uad6c\ub97c \uc0ac\uc6a9\ud560\uc9c0\uc640 \uc5b4\ub5a4 \uc785\ub825\uc744 \uc0ac\uc6a9\ud560\uc9c0\ub3c4 \uacb0\uc815\ud569\ub2c8\ub2e4.\n",
        "    * Claude\ub294 \uc801\uc808\ud55c \ud615\uc2dd\uc758 \ub3c4\uad6c \uc0ac\uc6a9 \uc694\uccad\uc744 \ucd9c\ub825\ud569\ub2c8\ub2e4.\n",
        "    * API \uc751\ub2f5\uc5d0\ub294 `stop_reason`\uc774 `tool_use`\ub85c \ud45c\uc2dc\ub418\uc5b4 Claude\uac00 \uc678\ubd80 \ub3c4\uad6c\ub97c \uc0ac\uc6a9\ud558\ub824 \ud55c\ub2e4\ub294 \uac83\uc744 \ub098\ud0c0\ub0c5\ub2c8\ub2e4.\n",
        "\n",
        "3. **\ub3c4\uad6c \uc785\ub825 \ucd94\ucd9c, \ucf54\ub4dc \uc2e4\ud589 \ubc0f \uacb0\uacfc \ubc18\ud658:** (API \uc694\uccad)\n",
        "    * \ud074\ub77c\uc774\uc5b8\ud2b8 \uce21\uc5d0\uc11c Claude\uc758 \ub3c4\uad6c \uc0ac\uc6a9 \uc694\uccad\uc5d0\uc11c \ub3c4\uad6c \uc774\ub984\uacfc \uc785\ub825\uc744 \ucd94\ucd9c\ud574\uc57c \ud569\ub2c8\ub2e4.\n",
        "    * \ud074\ub77c\uc774\uc5b8\ud2b8 \uce21\uc5d0\uc11c \uc2e4\uc81c \ub3c4\uad6c \ucf54\ub4dc\ub97c \uc2e4\ud589\ud569\ub2c8\ub2e4.\n",
        "    * `tool_result` \ucf58\ud150\uce20 \ube14\ub85d\uc774 \ud3ec\ud568\ub41c \uc0c8\ub85c\uc6b4 \uc0ac\uc6a9\uc790 \uba54\uc2dc\uc9c0\ub85c \ub300\ud654\ub97c \uacc4\uc18d\ud558\uc5ec Claude\uc5d0\uac8c \uacb0\uacfc\ub97c \ubc18\ud658\ud569\ub2c8\ub2e4.\n",
        "\n",
        "4. **Claude\uac00 \ub3c4\uad6c \uacb0\uacfc\ub97c \uc0ac\uc6a9\ud558\uc5ec \uc751\ub2f5 \uc791\uc131:** (API \uc751\ub2f5)\n",
        "    * \ub3c4\uad6c \uacb0\uacfc\ub97c \ubc1b\uc740 \ud6c4 Claude\ub294 \uadf8 \uc815\ubcf4\ub97c \uc0ac\uc6a9\ud558\uc5ec \uc6d0\ub798 \uc0ac\uc6a9\uc790 \ud504\ub86c\ud504\ud2b8\uc5d0 \ub300\ud55c \ucd5c\uc885 \uc751\ub2f5\uc744 \uc791\uc131\ud569\ub2c8\ub2e4."
      ]
    },
    {
      "cell_type": "markdown",
      "metadata": {},
      "source": [
        "\uc6b0\ub9ac\ub294 Claude\uc640 \"\ub300\ud654\"\ud558\ub294 \uac83\ub9cc\uc73c\ub85c \uc2dc\uc791\ud560 \uac83\uc785\ub2c8\ub2e4(\uace7 \ub354 \ud765\ubbf8\ub85c\uc6b4 \uc608\uc81c\uac00 \uc62c \uac83\uc774\ub2c8 \uac71\uc815\ud558\uc9c0 \ub9c8\uc138\uc694!). \uc989, \uc544\uc9c1 4\ub2e8\uacc4\ub294 \uc2e0\uacbd \uc4f0\uc9c0 \uc54a\uaca0\uc2b5\ub2c8\ub2e4. Claude\uc5d0\uac8c \uc9c8\ubb38\uc5d0 \ub2f5\ud558\ub3c4\ub85d \uc694\uccad\ud558\uace0, Claude\ub294 \uadf8 \uc9c8\ubb38\uc5d0 \ub2f5\ud558\uae30 \uc704\ud574 \ub3c4\uad6c\ub97c \uc0ac\uc6a9\ud558\uaca0\ub2e4\uace0 \uc694\uccad\ud560 \uac83\uc785\ub2c8\ub2e4. \uadf8\ub9ac\uace0 \uc6b0\ub9ac\ub294 \ub3c4\uad6c \uc785\ub825\uc744 \ucd94\ucd9c\ud558\uace0, \ucf54\ub4dc\ub97c \uc2e4\ud589\ud558\uace0, \uacb0\uacfc \uac12\uc744 \ubc18\ud658\ud560 \uac83\uc785\ub2c8\ub2e4.\n",
        "\n",
        "\uc624\ub298\ub0a0\uc758 \ub300\ud615 \uc5b8\uc5b4 \ubaa8\ub378\uc740 \ub2e4\uc74c \ucf54\ub4dc\uc5d0\uc11c \ubcfc \uc218 \uc788\ub4ef\uc774 \uc218\ud559 \uc5f0\uc0b0\uc5d0 \uc5b4\ub824\uc6c0\uc744 \uacaa\uace0 \uc788\uc2b5\ub2c8\ub2e4.\n",
        "\n",
        "Claude\uc5d0\uac8c \"1984135\ub97c 9343116\uc73c\ub85c \uacf1\ud558\ub77c\"\uace0 \uc694\uccad\ud569\ub2c8\ub2e4."
      ]
    },
    {
      "cell_type": "code",
      "execution_count": null,
      "metadata": {
        "tags": []
      },
      "outputs": [],
      "source": [
        "%pip install -qU pip\n",
        "%pip install -qUr requirements.txt"
      ]
    },
    {
      "cell_type": "code",
      "execution_count": null,
      "metadata": {
        "tags": []
      },
      "outputs": [],
      "source": [
        "import boto3\n",
        "import json\n",
        "from botocore.exceptions import ClientError\n",
        "session = boto3.Session() # create a boto3 session to dynamically get and set the region name\n",
        "region = session.region_name\n",
        "\n",
        "# Import the hints module from the utils package\n",
        "from utils import hints\n",
        "\n",
        "#modelId = 'anthropic.claude-3-sonnet-20240229-v1:0'\n",
        "modelId = 'anthropic.claude-3-haiku-20240307-v1:0'\n",
        "\n",
        "print(f'Using modelId: {modelId}')\n",
        "print('Using region: ', region)\n",
        "\n",
        "bedrock_client = boto3.client(service_name = 'bedrock-runtime', region_name = region,)"
      ]
    },
    {
      "cell_type": "code",
      "execution_count": null,
      "metadata": {
        "tags": []
      },
      "outputs": [],
      "source": [
        "converse_api_params = {\n",
        "    \"modelId\": \"anthropic.claude-3-haiku-20240307-v1:0\",  # Specify the model ID to use\n",
        "    \"messages\": [{\"role\": \"user\", \"content\": [{\"text\": \"Multiply 1984135 by 9343116. Only respond with the result\"}]}],\n",
        "    \"inferenceConfig\": {\"temperature\": 0.0, \"maxTokens\": 400},\n",
        "}\n",
        "\n",
        "response = bedrock_client.converse(**converse_api_params)\n",
        "\n",
        "print(response['output']['message']['content'][0]['text'])"
      ]
    },
    {
      "cell_type": "markdown",
      "metadata": {},
      "source": [
        "\uc704 \ucf54\ub4dc\ub97c \uc5ec\ub7ec \ubc88 \uc2e4\ud589\ud558\uba74 \ub2e4\ub978 \ub2f5\ubcc0\uc774 \ub098\uc62c \uc218 \uc788\uc9c0\ub9cc, Claude\uac00 \uc751\ub2f5\ud55c \ud55c \uac00\uc9c0 \ub2f5\ubcc0\uc740 \ub2e4\uc74c\uacfc \uac19\uc2b5\ub2c8\ub2e4.\n",
        "\n",
        "```\n",
        "18593367726060\n",
        "```\n",
        "\n",
        "\uc2e4\uc81c \uc815\ud655\ud55c \ub2f5\uc740 \ub2e4\uc74c\uacfc \uac19\uc2b5\ub2c8\ub2e4.\n",
        "\n",
        "```\n",
        "18538003464660\n",
        "```\n",
        "Claude\ub294 `55364261400`\ub9cc\ud07c \uc57d\uac04 \ubc97\uc5b4\ub0ac\uc2b5\ub2c8\ub2e4!"
      ]
    },
    {
      "cell_type": "markdown",
      "metadata": {},
      "source": [
        "## \ub3c4\uad6c \uc0ac\uc6a9\uc758 \uad6c\uc6d0!\n",
        "\n",
        "Claude\ub294 \ubcf5\uc7a1\ud55c \uc218\ud559 \uacc4\uc0b0\uc744 \uc798\ud558\uc9c0 \ubabb\ud558\ubbc0\ub85c, \uacc4\uc0b0\uae30 \ub3c4\uad6c\uc5d0 \uc561\uc138\uc2a4\ud560 \uc218 \uc788\ub3c4\ub85d Claude\uc758 \uae30\ub2a5\uc744 \ud5a5\uc0c1\uc2dc\ucf1c \ubcf4\uaca0\uc2b5\ub2c8\ub2e4.\n",
        "\n",
        "\ud504\ub85c\uc138\uc2a4\ub97c \uc124\uba85\ud558\ub294 \uac04\ub2e8\ud55c \ub2e4\uc774\uc5b4\uadf8\ub7a8\uc740 \ub2e4\uc74c\uacfc \uac19\uc2b5\ub2c8\ub2e4:\n",
        "\n",
        "![chickens_calculator.png](./images/chickens_calculator.png)\n",
        "\uccab \ubc88\uc9f8 \ub2e8\uacc4\ub294 \uc2e4\uc81c \uacc4\uc0b0\uae30 \ud568\uc218\ub97c \uc815\uc758\ud558\uace0 Claude\uc640 \ub3c5\ub9bd\uc801\uc73c\ub85c \uc791\ub3d9\ud558\ub294\uc9c0 \ud655\uc778\ud558\ub294 \uac83\uc785\ub2c8\ub2e4. \ub2e4\uc74c\uacfc \uac19\uc740 \uc138 \uac00\uc9c0 \uc778\uc218\ub97c \uc608\uc0c1\ud558\ub294 \ub9e4\uc6b0 \uac04\ub2e8\ud55c \ud568\uc218\ub97c \uc791\uc131\ud560 \uac83\uc785\ub2c8\ub2e4:\n",
        "* \"add\" \ub610\ub294 \"multiply\"\uc640 \uac19\uc740 \uc5f0\uc0b0\n",
        "* \ub450 \uac1c\uc758 \ud53c\uc5f0\uc0b0\uc790\n",
        "\n",
        "\uae30\ubcf8 \uad6c\ud604\uc740 \ub2e4\uc74c\uacfc \uac19\uc2b5\ub2c8\ub2e4:"
      ]
    },
    {
      "cell_type": "code",
      "execution_count": null,
      "metadata": {
        "tags": []
      },
      "outputs": [],
      "source": [
        "def calculator(operation, operand1, operand2):\n",
        "    if operation == \"add\":\n",
        "        return operand1 + operand2\n",
        "    elif operation == \"subtract\":\n",
        "        return operand1 - operand2\n",
        "    elif operation == \"multiply\":\n",
        "        return operand1 * operand2\n",
        "    elif operation == \"divide\":\n",
        "        if operand2 == 0:\n",
        "            raise ValueError(\"Cannot divide by zero.\")\n",
        "        return operand1 / operand2\n",
        "    else:\n",
        "        raise ValueError(f\"Unsupported operation: {operation}\")"
      ]
    },
    {
      "cell_type": "markdown",
      "metadata": {},
      "source": [
        "\uc774 \uac04\ub2e8\ud55c \ud568\uc218\uc758 \uc720\ud2f8\ub9ac\ud2f0\ub294 `234 + 213` \ub610\ub294 `3 * 9`\uc640 \uac19\uc740 \uac04\ub2e8\ud55c \uc2dd\ub9cc \ucc98\ub9ac\ud560 \uc218 \uc788\uae30 \ub54c\ubb38\uc5d0 \uc0c1\ub2f9\ud788 \uc81c\ud55c\uc801\uc785\ub2c8\ub2e4. \uc5ec\uae30\uc11c \uc911\uc694\ud55c \uc810\uc740 \ub9e4\uc6b0 \uac04\ub2e8\ud55c \uad50\uc721 \uc608\uc81c\ub97c \ud1b5\ud574 \ub3c4\uad6c \uc791\uc5c5 \ud504\ub85c\uc138\uc2a4\ub97c \uc0b4\ud3b4\ubcf4\ub294 \uac83\uc785\ub2c8\ub2e4.\n",
        "\n",
        "\ud568\uc218\ub97c \ud14c\uc2a4\ud2b8\ud558\uace0 \uc81c\ub300\ub85c \uc791\ub3d9\ud558\ub294\uc9c0 \ud655\uc778\ud574 \ubcf4\uaca0\uc2b5\ub2c8\ub2e4."
      ]
    },
    {
      "cell_type": "code",
      "execution_count": null,
      "metadata": {
        "tags": []
      },
      "outputs": [],
      "source": [
        "calculator(\"add\", 10, 3)"
      ]
    },
    {
      "cell_type": "code",
      "execution_count": null,
      "metadata": {
        "tags": []
      },
      "outputs": [],
      "source": [
        "calculator(\"divide\", 200, 25)"
      ]
    },
    {
      "cell_type": "markdown",
      "metadata": {},
      "source": [
        "\ub2e4\uc74c \ub2e8\uacc4\ub294 \uc6b0\ub9ac\uc758 \ub3c4\uad6c\ub97c \uc815\uc758\ud558\uace0 Claude\uc5d0\uac8c \uc54c\ub824\uc8fc\ub294 \uac83\uc785\ub2c8\ub2e4. \ub3c4\uad6c\ub97c \uc815\uc758\ud560 \ub54c\ub294 \ub9e4\uc6b0 \uad6c\uccb4\uc801\uc778 \ud615\uc2dd\uc744 \ub530\ub985\ub2c8\ub2e4. \uac01 \ub3c4\uad6c \uc815\uc758\uc5d0\ub294 \ub2e4\uc74c\uc774 \ud3ec\ud568\ub429\ub2c8\ub2e4:\n",
        "\n",
        "* `name`: \ub3c4\uad6c\uc758 \uc774\ub984\uc785\ub2c8\ub2e4. \uc815\uaddc\uc2dd ^[a-zA-Z0-9_-]{1,64}$\uc640 \uc77c\uce58\ud574\uc57c \ud569\ub2c8\ub2e4.\n",
        "* `description`: \ub3c4\uad6c\uac00 \ubb34\uc5c7\uc744 \ud558\ub294\uc9c0, \uc5b8\uc81c \uc0ac\uc6a9\ud574\uc57c \ud558\ub294\uc9c0, \uc5b4\ub5bb\uac8c \ub3d9\uc791\ud558\ub294\uc9c0\uc5d0 \ub300\ud55c \uc790\uc138\ud55c \ud3c9\ubb38 \uc124\uba85\uc785\ub2c8\ub2e4.\n",
        "* `input_schema`: \ub3c4\uad6c\uc5d0 \ub300\ud55c \uc608\uc0c1 \ub9e4\uac1c\ubcc0\uc218\ub97c \uc815\uc758\ud558\ub294 JSON \uc2a4\ud0a4\ub9c8 \uac1d\uccb4\uc785\ub2c8\ub2e4.\n",
        "\n",
        "JSON \uc2a4\ud0a4\ub9c8\uc5d0 \uc775\uc219\ud558\uc9c0 \uc54a\uc73c\uc2e0\uac00\uc694? [\uc5ec\uae30\uc11c \uc790\uc138\ud788 \uc54c\uc544\ubcf4\uc138\uc694](https://json-schema.org/learn/getting-started-step-by-step).\n",
        "\n",
        "\uac00\uc0c1\uc758 \ub3c4\uad6c\uc5d0 \ub300\ud55c \uac04\ub2e8\ud55c \uc608\uc2dc\uc785\ub2c8\ub2e4:\n",
        "\n",
        "```json\n",
        "{\n",
        "  \"tools\": [\n",
        "    {\n",
        "      \"toolSpec\": {\n",
        "        \"name\": \"send_email\",\n",
        "        \"description\": \"\uc9c0\uc815\ub41c \uc218\uc2e0\uc790\uc5d0\uac8c \uc8fc\uc5b4\uc9c4 \uc81c\ubaa9\uacfc \ubcf8\ubb38\uc73c\ub85c \uc774\uba54\uc77c\uc744 \ubcf4\ub0c5\ub2c8\ub2e4.\",\n",
        "        \"inputSchema\": {\n",
        "          \"json\": {\n",
        "            \"type\": \"object\",\n",
        "            \"properties\": {\n",
        "              \"to\": {\n",
        "                \"type\": \"string\",\n",
        "                \"description\": \"\uc218\uc2e0\uc790\uc758 \uc774\uba54\uc77c \uc8fc\uc18c\"},\n",
        "              \"subject\": {\n",
        "                \"type\": \"string\",\n",
        "                \"description\": \"\uc774\uba54\uc77c\uc758 \uc81c\ubaa9 \uc904\"},\n",
        "              \"body\": {\n",
        "                \"type\": \"string\",\n",
        "                \"description\": \"\uc774\uba54\uc77c \uba54\uc2dc\uc9c0\uc758 \ub0b4\uc6a9\"}\n",
        "            },\n",
        "            \"required\": [\"to\", \"subject\", \"body\"]\n",
        "          }\n",
        "        }\n",
        "      }\n",
        "    }\n",
        "  ]\n",
        "}\n",
        "```\n",
        "\n",
        "\uc774 `send_email` \ub3c4\uad6c\ub294 \ub2e4\uc74c \uc785\ub825\uc744 \uc608\uc0c1\ud569\ub2c8\ub2e4:\n",
        "* `to`\ub294 \ud544\uc218 \ubb38\uc790\uc5f4\uc785\ub2c8\ub2e4.\n",
        "* `subject`\ub294 \ud544\uc218 \ubb38\uc790\uc5f4\uc785\ub2c8\ub2e4.\n",
        "* `body`\ub294 \ud544\uc218 \ubb38\uc790\uc5f4\uc785\ub2c8\ub2e4.\n",
        "\n",
        "\n",
        "`search_product`\ub77c\ub294 \ub3c4\uad6c\uc5d0 \ub300\ud55c \ub610 \ub2e4\ub978 \ub3c4\uad6c \uc815\uc758\uc785\ub2c8\ub2e4:\n",
        "\n",
        "```json\n",
        "{\n",
        "  \"tools\": [\n",
        "    {\n",
        "      \"toolSpec\": {\n",
        "        \"name\": \"search_product\",\n",
        "        \"description\": \"\uc774\ub984 \ub610\ub294 \ud0a4\uc6cc\ub4dc\ub85c \uc81c\ud488\uc744 \uac80\uc0c9\ud558\uace0 \ud604\uc7ac \uac00\uaca9\uacfc \uc7ac\uace0 \uc5ec\ubd80\ub97c \ubc18\ud658\ud569\ub2c8\ub2e4.\",\n",
        "        \"inputSchema\": {\n",
        "          \"json\": {\n",
        "            \"type\": \"object\",\n",
        "            \"properties\": {\n",
        "              \"query\": {\n",
        "                \"type\": \"string\",\n",
        "                \"description\": \"\uc81c\ud488 \uc774\ub984 \ub610\ub294 \uac80\uc0c9 \ud0a4\uc6cc\ub4dc, \uc608: 'iPhone 13 Pro' \ub610\ub294 'wireless headphones'\"},\n",
        "              \"category\": {\n",
        "                \"type\": \"string\",\n",
        "                \"enum\": [\"electronics\", \"clothing\", \"home\", \"toys\", \"sports\"],\n",
        "                \"description\": \"\uac80\uc0c9 \uacb0\uacfc\ub97c \uc881\ud788\uae30 \uc704\ud55c \uc81c\ud488 \uce74\ud14c\uace0\ub9ac\"},\n",
        "              \"max_price\": {\n",
        "                \"type\": \"number\",\n",
        "                \"description\": \"\uc81c\ud488\uc758 \ucd5c\ub300 \uac00\uaca9, \uac80\uc0c9 \uacb0\uacfc\ub97c \ud544\ud130\ub9c1\ud558\ub294 \ub370 \uc0ac\uc6a9\ub429\ub2c8\ub2e4\"}\n",
        "            },\n",
        "            \"required\": [\"query\"]\n",
        "          }\n",
        "        }\n",
        "      }\n",
        "    }\n",
        "  ]\n",
        "}\n",
        "```\n",
        "\uc774 \ub3c4\uad6c\uc5d0\ub294 3\uac1c\uc758 \uc785\ub825\uc774 \uc788\uc2b5\ub2c8\ub2e4:\n",
        "* \ud544\uc218 `query` \ubb38\uc790\uc5f4\ub85c, \uc81c\ud488 \uc774\ub984 \ub610\ub294 \uac80\uc0c9 \ud0a4\uc6cc\ub4dc\ub97c \ub098\ud0c0\ub0c5\ub2c8\ub2e4.\n",
        "* \uc120\ud0dd\uc801 `category` \ubb38\uc790\uc5f4\ub85c, \ubbf8\ub9ac \uc815\uc758\ub41c \uac12 \uc911 \ud558\ub098\uc5ec\uc57c \ud558\uba70 \uac80\uc0c9 \uacb0\uacfc\ub97c \uc881\ud788\ub294 \ub370 \uc0ac\uc6a9\ub429\ub2c8\ub2e4. \uc815\uc758\uc5d0\uc11c `\"enum\"`\uc744 \ud655\uc778\ud558\uc138\uc694.\n",
        "* \uc120\ud0dd\uc801 `max_price` \uc22b\uc790\ub85c, \ud2b9\uc815 \uac00\uaca9 \uc774\ud558\uc758 \uacb0\uacfc\ub97c \ud544\ud130\ub9c1\ud569\ub2c8\ub2e4."
      ]
    },
    {
      "cell_type": "markdown",
      "metadata": {},
      "source": [
        "### \uc6b0\ub9ac\uc758 \uacc4\uc0b0\uae30 \ub3c4\uad6c \uc815\uc758\n",
        "\uc55e\uc11c \uc791\uc131\ud55c \uacc4\uc0b0\uae30 \ud568\uc218\uc5d0 \ub300\ud55c \ud574\ub2f9 \ub3c4\uad6c\ub97c \uc815\uc758\ud574 \ubd05\uc2dc\ub2e4. \uacc4\uc0b0\uae30 \ud568\uc218\uc5d0\ub294 3\uac1c\uc758 \ud544\uc218 \uc778\uc218\uac00 \uc788\uc2b5\ub2c8\ub2e4.\n",
        "* `operation` - \"add\", \"subtract\", \"multiply\" \ub610\ub294 \"divide\"\ub9cc \uac00\ub2a5\ud569\ub2c8\ub2e4.\n",
        "* `operand1` - \uc22b\uc790\uc5ec\uc57c \ud569\ub2c8\ub2e4.\n",
        "* `operand2` - \uc22b\uc790\uc5ec\uc57c \ud569\ub2c8\ub2e4.\n",
        "\n",
        "\ub3c4\uad6c \uc815\uc758\ub294 \ub2e4\uc74c\uacfc \uac19\uc2b5\ub2c8\ub2e4:"
      ]
    },
    {
      "cell_type": "code",
      "execution_count": null,
      "metadata": {
        "tags": []
      },
      "outputs": [],
      "source": [
        "toolConfig = {\n",
        "  \"tools\": [\n",
        "    {\n",
        "      \"toolSpec\": {\n",
        "        \"name\": \"calculator\",\n",
        "        \"description\": \"A simple calculator that performs basic arithmetic operations.\",\n",
        "        \"inputSchema\": {\n",
        "          \"json\": {\n",
        "            \"type\": \"object\",\n",
        "            \"properties\": {\n",
        "              \"operation\": {\n",
        "                \"type\": \"string\",\n",
        "                \"enum\": [\"add\", \"subtract\", \"multiply\", \"divide\"],\n",
        "                \"description\": \"The arithmetic operation to perform.\"\n",
        "              },\n",
        "              \"operand1\": {\n",
        "                \"type\": \"number\",\n",
        "                \"description\": \"The first operand.\"},\n",
        "              \"operand2\": {\n",
        "                \"type\": \"number\",\n",
        "                \"description\": \"The second operand.\"}\n",
        "            },\n",
        "            \"required\": [\"operation\", \"operand1\", \"operand2\"]\n",
        "          }\n",
        "        }\n",
        "      }\n",
        "    }\n",
        "  ]\n",
        "}"
      ]
    },
    {
      "cell_type": "markdown",
      "metadata": {},
      "source": [
        "***"
      ]
    },
    {
      "cell_type": "markdown",
      "metadata": {},
      "source": [
        "## \uc5f0\uc2b5\n",
        "\n",
        "\ub2e4\uc74c \ud568\uc218\ub97c \uc608\uc2dc\ub85c \uc0ac\uc6a9\ud558\uc5ec \uc81c\ub300\ub85c \ud615\uc2dd\uc774 \uc9c0\uc815\ub41c \ub3c4\uad6c \uc815\uc758\ub97c \uc791\uc131\ud574 \ubd05\uc2dc\ub2e4."
      ]
    },
    {
      "cell_type": "code",
      "execution_count": null,
      "metadata": {},
      "outputs": [],
      "source": [
        "def inventory_lookup(product_name, max_results):\n",
        "    return \"this function doesn't do anything\"\n",
        "    #You do not need to touch this or do anything with it!"
      ]
    },
    {
      "cell_type": "markdown",
      "metadata": {},
      "source": [
        "\uc774 \uac00\uc0c1\uc758 `inventory_lookup` \ud568\uc218\ub294 \ub2e4\uc74c\uacfc \uac19\uc774 \ud638\ucd9c\ub418\uc5b4\uc57c \ud569\ub2c8\ub2e4:"
      ]
    },
    {
      "cell_type": "code",
      "execution_count": null,
      "metadata": {},
      "outputs": [],
      "source": [
        "inventory_lookup(\"AA batteries\", 4)\n",
        "\n",
        "inventory_lookup(\"birthday candle\", 10)"
      ]
    },
    {
      "cell_type": "markdown",
      "metadata": {},
      "source": [
        "\ub2f9\uc2e0\uc758 \uacfc\uc81c\ub294 \ud574\ub2f9\ud558\ub294 \uc81c\ub300\ub85c \ud615\uc2dd\uc774 \uc9c0\uc815\ub41c \ub3c4\uad6c \uc815\uc758\ub97c \uc791\uc131\ud558\ub294 \uac83\uc785\ub2c8\ub2e4. \ub3c4\uad6c \uc815\uc758\uc5d0\uc11c \ub450 \uc778\uc218 \ubaa8\ub450 \ud544\uc218\ub85c \uac00\uc815\ud558\uc138\uc694."
      ]
    },
    {
      "cell_type": "markdown",
      "metadata": {
        "tags": []
      },
      "source": [
        "### \uc2dc\uc791 \ub3c4\uad6c \uc815\uc758 \ud15c\ud50c\ub9bf ###\n",
        "\n",
        "```json\n",
        "toolConfig = {\n",
        "  \"tools\": [\n",
        "    {\n",
        "      \"toolSpec\": {\n",
        "        \"name\": \"inventory_lookup\",\n",
        "        \"description\": \" \",\n",
        "        \"inputSchema\": {\n",
        "          \"json\": {\n",
        "            \"type\": \"object\",\n",
        "            \"properties\": {\n",
        "              \" \": {\n",
        "                \"type\": \"string\",\n",
        "                \"description\": \" \"\n",
        "              },\n",
        "              \" \": {\n",
        "                \"type\": \"number\",\n",
        "                \"description\": \" \"\n",
        "              },\n",
        "            },\n",
        "            \"required\": [\" \", \" \"]\n",
        "          }\n",
        "        }\n",
        "      }\n",
        "    }\n",
        "  ]\n",
        "}\n",
        "```"
      ]
    },
    {
      "cell_type": "markdown",
      "metadata": {},
      "source": [
        "***"
      ]
    },
    {
      "cell_type": "markdown",
      "metadata": {},
      "source": [
        "### Claude\uc5d0\uac8c \uc6b0\ub9ac\uc758 \ub3c4\uad6c \uc81c\uacf5\ud558\uae30\n",
        "\uc774\uc81c \uc55e\uc11c \ub2e4\ub8ec \uacc4\uc0b0\uae30 \ud568\uc218\ub85c \ub3cc\uc544\uac11\uc2dc\ub2e4. \uc774 \uc2dc\uc810\uc5d0\uc11c Claude\ub294 \uacc4\uc0b0\uae30 \ub3c4\uad6c\uc5d0 \ub300\ud574 \uc804\ud600 \ubaa8\ub985\ub2c8\ub2e4! \uadf8\uac83\uc740 \ub2e8\uc9c0 \uc791\uc740 Python \ub515\uc154\ub108\ub9ac\uc77c \ubfd0\uc785\ub2c8\ub2e4. Claude\uc5d0 \uc694\uccad\uc744 \ud560 \ub54c \uc6b0\ub9ac\ub294 \ub3c4\uad6c \ubaa9\ub85d\uc744 \uc804\ub2ec\ud558\uc5ec Claude\uc5d0\uac8c \"\uc54c\ub824\uc904\" \uc218 \uc788\uc2b5\ub2c8\ub2e4. \uc9c0\uae08 \ud574\ubd05\uc2dc\ub2e4:"
      ]
    },
    {
      "cell_type": "code",
      "execution_count": null,
      "metadata": {
        "tags": []
      },
      "outputs": [],
      "source": [
        "converse_api_params = {\n",
        "    \"modelId\": modelId,\n",
        "    \"messages\": [{\"role\": \"user\", \"content\": [{\"text\": \"Multiply 1984135 by 9343116. Only respond with the result.\"}]}],\n",
        "    \"toolConfig\": toolConfig, # provide Claude with details about our calculator tool\n",
        "}\n",
        "\n",
        "response = bedrock_client.converse(**converse_api_params)"
      ]
    },
    {
      "cell_type": "markdown",
      "metadata": {},
      "source": [
        "\ub2e4\uc74c\uc73c\ub85c Claude\uac00 \uc6b0\ub9ac\uc5d0\uac8c \ub3cc\ub824\uc900 \uc751\ub2f5\uc744 \uc0b4\ud3b4\ubd05\uc2dc\ub2e4:"
      ]
    },
    {
      "cell_type": "code",
      "execution_count": null,
      "metadata": {
        "tags": []
      },
      "outputs": [],
      "source": [
        "response['output']"
      ]
    },
    {
      "cell_type": "markdown",
      "metadata": {},
      "source": [
        "```\n",
        "{'message': {'role': 'assistant',\n",
        "  'content': [{'toolUse': {'toolUseId': 'tooluse_YOMRWNbNQuCP-BR16tY6mw',\n",
        "     'name': 'calculator', <---------------------------------------------- Claude\ub294 \uacc4\uc0b0\uae30 \ub3c4\uad6c\ub97c \uc0ac\uc6a9\ud558\uae38 \uc6d0\ud569\ub2c8\ub2e4.\n",
        "     'input': {'operand1': 1984135,\n",
        "      'operand2': 9343116,\n",
        "      'operation': 'multiply'}}}]}}\n",
        "```"
      ]
    },
    {
      "cell_type": "markdown",
      "metadata": {},
      "source": [
        "\uc6b0\ub9ac\uc758 \uc751\ub2f5\uc774 \ud3c9\uc18c\uc640 \ub2e4\ub974\uac8c \ubcf4\uc778\ub2e4\ub294 \uac83\uc744 \uc54c \uc218 \uc788\uc2b5\ub2c8\ub2e4! \uad6c\uccb4\uc801\uc73c\ub85c, \uc77c\ubc18\uc801\uc778 `Message`\uac00 \uc544\ub2cc `ToolsMessage`\ub97c \ubc1b\uace0 \uc788\uc2b5\ub2c8\ub2e4.\n",
        "\n",
        "\ub610\ud55c `response['stopReason']`\uc744 \ud655\uc778\ud558\uba74 Claude\uac00 \ub3c4\uad6c\ub97c \uc0ac\uc6a9\ud560 \ub54c\uac00 \ub418\uc5c8\ub2e4\uace0 \ud310\ub2e8\ud558\uc5ec \uc911\uc9c0\ud588\uc74c\uc744 \uc54c \uc218 \uc788\uc2b5\ub2c8\ub2e4.\n"
      ]
    },
    {
      "cell_type": "code",
      "execution_count": null,
      "metadata": {
        "tags": []
      },
      "outputs": [],
      "source": [
        "response['stopReason']"
      ]
    },
    {
      "cell_type": "markdown",
      "metadata": {},
      "source": [
        "`response['output']['message']['content']`\uc5d0\ub294 `ToolUseBlock`\uc774 \ud3ec\ud568\ub41c \ubaa9\ub85d\uc774 \ud3ec\ud568\ub418\uc5b4 \uc788\uc73c\uba70, \uc5ec\uae30\uc5d0\ub294 \ub3c4\uad6c \uc774\ub984\uacfc \uc785\ub825\uc5d0 \ub300\ud55c \uc815\ubcf4\uac00 \ud3ec\ud568\ub418\uc5b4 \uc788\uc2b5\ub2c8\ub2e4:"
      ]
    },
    {
      "cell_type": "code",
      "execution_count": null,
      "metadata": {
        "tags": []
      },
      "outputs": [],
      "source": [
        "response['output']['message']['content'][-1]"
      ]
    },
    {
      "cell_type": "code",
      "execution_count": null,
      "metadata": {
        "tags": []
      },
      "outputs": [],
      "source": [
        "tool_use = response['output']['message']['content'][-1]\n",
        "tool_name = tool_use['toolUse']['name']\n",
        "tool_inputs = tool_use['toolUse']['input']\n",
        "\n",
        "print(\"The Tool Name Claude Wants To Call:\", tool_name)\n",
        "print(\"The Inputs Claude Wants To Call It With:\", tool_inputs)"
      ]
    },
    {
      "cell_type": "markdown",
      "metadata": {},
      "source": [
        "\ub2e4\uc74c \ub2e8\uacc4\ub294 Claude\uac00 \uc81c\uacf5\ud55c \ub3c4\uad6c \uc774\ub984\uacfc \uc785\ub825\uc744 \uc0ac\uc6a9\ud558\uc5ec \uc55e\uc11c \uc791\uc131\ud55c \uacc4\uc0b0\uae30 \ud568\uc218\ub97c \uc2e4\uc81c\ub85c \ud638\ucd9c\ud558\ub294 \uac83\uc785\ub2c8\ub2e4. \uadf8\ub7ec\uba74 \ucd5c\uc885 \ub2f5\ubcc0\uc744 \uc5bb\uc744 \uc218 \uc788\uc2b5\ub2c8\ub2e4!"
      ]
    },
    {
      "cell_type": "code",
      "execution_count": null,
      "metadata": {
        "tags": []
      },
      "outputs": [],
      "source": [
        "operation = tool_inputs[\"operation\"]\n",
        "operand1 = tool_inputs[\"operand1\"]\n",
        "operand2 = tool_inputs[\"operand2\"]\n",
        "\n",
        "result = calculator(operation, operand1, operand2)\n",
        "print(\"RESULT IS\", result)"
      ]
    },
    {
      "cell_type": "markdown",
      "metadata": {},
      "source": [
        "\uc6b0\ub9ac\ub294 `18538003464660`\uc758 \uc815\ud655\ud55c \ub2f5\uc744 \uc5bb\uc5c8\uc2b5\ub2c8\ub2e4!!! Claude\uc5d0 \uc758\uc874\ud558\uc5ec \uc218\ud559 \uacc4\uc0b0\uc744 \ud558\ub294 \ub300\uc2e0, \uc6b0\ub9ac\ub294 \ub2e8\uc21c\ud788 Claude\uc5d0\uac8c \uc9c8\ubb38\ud558\uace0 \ud544\uc694\ud55c \uacbd\uc6b0 \uc0ac\uc6a9\ud560 \uc218 \uc788\ub294 \ub3c4\uad6c\uc5d0 \uc811\uadfc\ud560 \uc218 \uc788\uac8c \ud569\ub2c8\ub2e4.  \n",
        "\n",
        "#### \uc911\uc694 \ucc38\uace0\uc0ac\ud56d\n",
        "Claude\uc5d0\uac8c \ub3c4\uad6c \uc0ac\uc6a9\uc774 \ud544\uc694\ud558\uc9c0 \uc54a\uc740 \uac83\uc744 \uc694\uccad\ud558\ub294 \uacbd\uc6b0, \uc774 \uacbd\uc6b0 \uc218\ud559\uc774\ub098 \uacc4\uc0b0\uacfc \uad00\ub828\uc774 \uc5c6\ub294 \uacbd\uc6b0, \uc6b0\ub9ac\ub294 Claude\uac00 \uc815\uc0c1\uc801\uc73c\ub85c \uc751\ub2f5\ud558\uae30\ub97c \uc6d0\ud560 \uac83\uc785\ub2c8\ub2e4. Claude\ub294 \ub300\uac1c \uadf8\ub807\uac8c \ud560 \uac83\uc774\uc9c0\ub9cc, \ub54c\ub54c\ub85c Claude\ub294 \ub3c4\uad6c\ub97c \uc0ac\uc6a9\ud558\ub294 \uac83\uc5d0 \ub9e4\uc6b0 \uc5f4\uc815\uc801\uc785\ub2c8\ub2e4! \n",
        "\n",
        "\ub2e4\uc74c\uc740 Claude\uac00 \uacc4\uc0b0\uae30\ub97c \uc0ac\uc6a9\ud558\ub294 \uac83\uc774 \uc801\uc808\ud558\uc9c0 \uc54a\uc74c\uc5d0\ub3c4 \ubd88\uad6c\ud558\uace0 \uacc4\uc0b0\uae30\ub97c \uc0ac\uc6a9\ud558\ub824\uace0 \ud558\ub294 \uc608\uc2dc\uc785\ub2c8\ub2e4. Claude\uc5d0\uac8c \"\uc5d0\uba54\ub784\ub4dc\uc758 \uc0c9\uae54\uc740 \ubb34\uc5c7\uc785\ub2c8\uae4c?\"\ub77c\uace0 \ubb3c\uc5b4\ubcf4\uba74 \uc5b4\ub5bb\uac8c \ub420\uc9c0 \ubd05\uc2dc\ub2e4."
      ]
    },
    {
      "cell_type": "code",
      "execution_count": null,
      "metadata": {
        "tags": []
      },
      "outputs": [],
      "source": [
        "converse_api_params = {\n",
        "    \"modelId\": modelId,\n",
        "    \"messages\": [{\"role\": \"user\", \"content\": [{\"text\":\"What color are emeralds?\"}]}],\n",
        "    \"inferenceConfig\": {\"temperature\": 0.0, \"maxTokens\": 400},\n",
        "    \"toolConfig\": toolConfig,\n",
        "}\n",
        "\n",
        "response = bedrock_client.converse(**converse_api_params)"
      ]
    },
    {
      "cell_type": "code",
      "execution_count": null,
      "metadata": {
        "tags": []
      },
      "outputs": [],
      "source": [
        "response['output']['message']['content']"
      ]
    },
    {
      "cell_type": "markdown",
      "metadata": {},
      "source": [
        "Claude\ub294 \ub2e4\uc74c\uacfc \uac19\uc774 \uc751\ub2f5\ud569\ub2c8\ub2e4: \n",
        "\n",
        "```\n",
        "[{'toolUse': {'toolUseId': 'tooluse_PM0i2kehQnOq9gcRFa8QEg',\n",
        "   'name': 'calculator',\n",
        "   'input': {'operand1': 0, 'operand2': 0, 'operation': 'add'}}}]\n",
        "\n",
        "```\n",
        "Claude\ub294 \uc6b0\ub9ac\uc5d0\uac8c \uacc4\uc0b0\uae30 \ub3c4\uad6c\ub97c \ud638\ucd9c\ud558\ub77c\uace0 \ud569\ub2c8\ub2e4? \ub9e4\uc6b0 \uc26c\uc6b4 \ud574\uacb0\ucc45\uc740 \ud504\ub86c\ud504\ud2b8\ub97c \uc870\uc815\ud558\uac70\ub098 \ub2e4\uc74c\uacfc \uac19\uc740 \uc2dc\uc2a4\ud15c \ud504\ub86c\ud504\ud2b8\ub97c \ucd94\uac00\ud558\ub294 \uac83\uc785\ub2c8\ub2e4: `\ub3c4\uad6c\uc5d0 \uc811\uadfc\ud560 \uc218 \uc788\uc9c0\ub9cc, \ud544\uc694\ud55c \uacbd\uc6b0\uc5d0\ub9cc \uc0ac\uc6a9\ud558\uc138\uc694. \ub3c4\uad6c\uac00 \ud544\uc694\ud558\uc9c0 \uc54a\ub2e4\uba74 \uc815\uc0c1\uc801\uc73c\ub85c \uc751\ub2f5\ud558\uc138\uc694`."
      ]
    },
    {
      "cell_type": "code",
      "execution_count": null,
      "metadata": {
        "tags": []
      },
      "outputs": [],
      "source": [
        "converse_api_params = {\n",
        "    \"modelId\": modelId,\n",
        "    \"system\": [{\"text\": \"You have access to tools, but only use them when necessary. If a tool is not required, respond as normal\"}],\n",
        "    \"messages\": [{\"role\": \"user\", \"content\": [{\"text\":\"What color are emeralds?\"}]}],\n",
        "    \"inferenceConfig\": {\"temperature\": 0.0, \"maxTokens\": 400},\n",
        "    \"toolConfig\": toolConfig,\n",
        "}\n",
        "\n",
        "response = bedrock_client.converse(**converse_api_params)"
      ]
    },
    {
      "cell_type": "code",
      "execution_count": null,
      "metadata": {
        "tags": []
      },
      "outputs": [],
      "source": [
        "response['output']['message']['content'][0]['text']"
      ]
    },
    {
      "cell_type": "markdown",
      "metadata": {},
      "source": [
        "\uc774\uc81c Claude\ub294 \uc801\uc808\ud55c \ub0b4\uc6a9\uc73c\ub85c \uc751\ub2f5\ud558\uace0 \ub3c4\uad6c \uc0ac\uc6a9\uc774 \uc801\uc808\ud558\uc9c0 \uc54a\uc744 \ub54c \uc5b5\uc9c0\ub85c \ub3c4\uad6c\ub97c \uc0ac\uc6a9\ud558\ub824 \ud558\uc9c0 \uc54a\uc2b5\ub2c8\ub2e4. \uc6b0\ub9ac\uac00 \ubc1b\uc740 \uc0c8\ub85c\uc6b4 \uc751\ub2f5\uc740 \ub2e4\uc74c\uacfc \uac19\uc2b5\ub2c8\ub2e4: \n",
        "\n",
        "```\n",
        "'\uc5d0\uba54\ub784\ub4dc\ub294 \ub179\uc0c9\uc785\ub2c8\ub2e4.'\n",
        "```\n",
        "\n",
        "\ub610\ud55c `stopReason`\uc774 \uc774\uc81c `tool_use`\uac00 \uc544\ub2cc `end_turn`\uc784\uc744 \uc54c \uc218 \uc788\uc2b5\ub2c8\ub2e4."
      ]
    },
    {
      "cell_type": "code",
      "execution_count": null,
      "metadata": {
        "tags": []
      },
      "outputs": [],
      "source": [
        "response['stopReason']"
      ]
    },
    {
      "cell_type": "markdown",
      "metadata": {},
      "source": [
        "***"
      ]
    },
    {
      "cell_type": "markdown",
      "metadata": {},
      "source": [
        "### \uc804\uccb4 \uc815\ub9ac"
      ]
    },
    {
      "cell_type": "code",
      "execution_count": null,
      "metadata": {
        "tags": []
      },
      "outputs": [],
      "source": [
        "import re\n",
        "import boto3\n",
        "import json\n",
        "from botocore.exceptions import ClientError\n",
        "\n",
        "\n",
        "def calculator(operation, operand1, operand2):\n",
        "    if operation == \"add\":\n",
        "        return operand1 + operand2\n",
        "    elif operation == \"subtract\":\n",
        "        return operand1 - operand2\n",
        "    elif operation == \"multiply\":\n",
        "        return operand1 * operand2\n",
        "    elif operation == \"divide\":\n",
        "        if operand2 == 0:\n",
        "            raise ValueError(\"Cannot divide by zero.\")\n",
        "        return operand1 / operand2\n",
        "    else:\n",
        "        raise ValueError(f\"Unsupported operation: {operation}\")\n",
        "\n",
        "\n",
        "toolConfig = {\n",
        "  \"tools\": [\n",
        "    {\n",
        "      \"toolSpec\": {\n",
        "        \"name\": \"calculator\",\n",
        "        \"description\": \"A simple calculator that performs basic arithmetic operations.\",\n",
        "        \"inputSchema\": {\n",
        "          \"json\": {\n",
        "            \"type\": \"object\",\n",
        "            \"properties\": {\n",
        "              \"operation\": {\n",
        "                \"type\": \"string\",\n",
        "                \"enum\": [\n",
        "                  \"add\", \"subtract\", \"multiply\", \"divide\"],\n",
        "                \"description\": \"The arithmetic operation to perform.\"\n",
        "              },\n",
        "              \"operand1\": {\n",
        "                \"type\": \"number\",\n",
        "                \"description\": \"The first operand.\"\n",
        "              },\n",
        "              \"operand2\": {\n",
        "                \"type\": \"number\",\n",
        "                \"description\": \"The second operand.\"\n",
        "              }\n",
        "            },\n",
        "            \"required\": [\n",
        "              \"operation\", \"operand1\", \"operand2\"]\n",
        "          }\n",
        "        }\n",
        "      }\n",
        "    }\n",
        "  ]\n",
        "}\n",
        "\n",
        "\n",
        "bedrock_client = boto3.client(service_name='bedrock-runtime', region_name=region)\n",
        "\n",
        "\n",
        "def prompt_claude(prompt):\n",
        "\n",
        "    messages = [{\"role\": \"user\", \"content\": [{\"text\": prompt}]}]\n",
        "\n",
        "    converse_api_params = {\n",
        "        \"modelId\": modelId,\n",
        "        \"system\": [{\"text\": \"You have access to tools, but only use them when necessary. If a tool is not required, respond as normal\"}],\n",
        "        \"messages\": messages,\n",
        "        \"inferenceConfig\": {\"temperature\": 0.0, \"maxTokens\": 400},\n",
        "        \"toolConfig\": toolConfig,\n",
        "    }\n",
        "\n",
        "    response = bedrock_client.converse(**converse_api_params)\n",
        "\n",
        "    if response['stopReason'] == \"tool_use\":\n",
        "        tool_use = response['output']['message']['content'][-1]\n",
        "        tool_name = tool_use['toolUse']['name']\n",
        "        tool_inputs = tool_use['toolUse']['input']\n",
        "\n",
        "        if tool_name == \"calculator\":\n",
        "            print(\"Claude wants to use the calculator tool\")\n",
        "            operation = tool_inputs[\"operation\"]\n",
        "            operand1 = tool_inputs[\"operand1\"]\n",
        "            operand2 = tool_inputs[\"operand2\"]\n",
        "\n",
        "            try:\n",
        "                result = calculator(operation, operand1, operand2)\n",
        "                print(\"Calculation result is:\", result)\n",
        "            except ValueError as e:\n",
        "                print(f\"Error: {str(e)}\")\n",
        "\n",
        "    elif response['stopReason'] == \"end_turn\":\n",
        "        print(\"Claude didn't want to use a tool\")\n",
        "        print(\"Claude responded with:\")\n",
        "        print(response['output']['message']['content'][0]['text'])\n"
      ]
    },
    {
      "cell_type": "code",
      "execution_count": null,
      "metadata": {
        "tags": []
      },
      "outputs": [],
      "source": [
        "prompt_claude(\"I had 23 chickens but 2 flew away.  How many are left?\")"
      ]
    },
    {
      "cell_type": "code",
      "execution_count": null,
      "metadata": {
        "tags": []
      },
      "outputs": [],
      "source": [
        "prompt_claude(\"What is 201 times 2\")"
      ]
    },
    {
      "cell_type": "code",
      "execution_count": null,
      "metadata": {
        "tags": []
      },
      "outputs": [],
      "source": [
        "prompt_claude(\"Write me a haiku about the ocean\")"
      ]
    },
    {
      "cell_type": "markdown",
      "metadata": {},
      "source": [
        "*** "
      ]
    },
    {
      "cell_type": "markdown",
      "metadata": {},
      "source": [
        "## \uc5f0\uc2b5\n",
        "\n",
        "Claude\ub97c \uc0ac\uc6a9\ud558\uc5ec \uc5f0\uad6c \ubcf4\uc870 \ub3c4\uad6c\ub97c \uad6c\ucd95\ud558\ub294 \uac83\uc774 \uadc0\ud558\uc758 \uacfc\uc81c\uc785\ub2c8\ub2e4. \uc0ac\uc6a9\uc790\ub294 \uc5f0\uad6c\ud558\uace0 \uc2f6\uc740 \uc8fc\uc81c\ub97c \uc785\ub825\ud558\uba74 \ub098\uc911\uc5d0 \uc77d\uae30 \uc704\ud574 \ub9c8\ud06c\ub2e4\uc6b4 \ud30c\uc77c\uc5d0 Wikipedia \uae30\uc0ac \ub9c1\ud06c \ubaa9\ub85d\uc774 \uc800\uc7a5\ub429\ub2c8\ub2e4. Claude\uc5d0\uac8c \uc9c1\uc811 \uae30\uc0ac URL \ubaa9\ub85d\uc744 \uc0dd\uc131\ud558\ub3c4\ub85d \uc694\uccad\ud560 \uc218 \uc788\uc9c0\ub9cc, Claude\ub294 URL \uc0dd\uc131\uc5d0 \uc2e0\ub8b0\ud560 \uc218 \uc5c6\uc73c\uba70 \uae30\uc0ac URL\uc744 \ud5c8\uad6c\uc801\uc73c\ub85c \ub9cc\ub4e4\uc5b4\ub0bc \uc218 \uc788\uc2b5\ub2c8\ub2e4. \ub610\ud55c Claude\uc758 \ud559\uc2b5 \ub370\uc774\ud130 \uae30\uc900\uc77c \uc774\ud6c4\uc5d0 \ud569\ubc95\uc801\uc778 \uae30\uc0ac\uac00 \uc0c8\ub85c\uc6b4 URL\ub85c \uc774\ub3d9\ud588\uc744 \uc218 \uc788\uc2b5\ub2c8\ub2e4. \ub300\uc2e0 \uc2e4\uc81c Wikipedia API\uc5d0 \uc5f0\uacb0\ub418\ub294 \ub3c4\uad6c\ub97c \uc0ac\uc6a9\ud558\uc5ec \uc774 \uc791\uc5c5\uc744 \uc218\ud589\ud560 \uac83\uc785\ub2c8\ub2e4! \n",
        "\n",
        "\uc6b0\ub9ac\ub294 Claude\uc5d0\uac8c Claude\uac00 \uc0dd\uc131\ud588\uc9c0\ub9cc \ud5c8\uad6c\uc77c \uc218 \uc788\ub294 \uc7a0\uc7ac\uc801 Wikipedia \uae30\uc0ac \uc81c\ubaa9 \ubaa9\ub85d\uc744 \ubc1b\uc544\ub4e4\uc774\ub294 \ub3c4\uad6c\uc5d0 \uc811\uadfc\ud560 \uc218 \uc788\uac8c \ud560 \uac83\uc785\ub2c8\ub2e4. \uc6b0\ub9ac\ub294 \uc774 \ub3c4\uad6c\ub97c \uc0ac\uc6a9\ud558\uc5ec Wikipedia\uc5d0\uc11c \uc2e4\uc81c Wikipedia \uae30\uc0ac \uc81c\ubaa9\uacfc URL\uc744 \ucc3e\uc544 \ucd5c\uc885 \ubaa9\ub85d\uc774 \uc2e4\uc81c\ub85c \uc874\uc7ac\ud558\ub294 \uae30\uc0ac\ub85c\ub9cc \uad6c\uc131\ub418\ub3c4\ub85d \ud560 \uc218 \uc788\uc2b5\ub2c8\ub2e4. \uadf8\ub7f0 \ub2e4\uc74c \ub098\uc911\uc5d0 \uc77d\uae30 \uc704\ud574 \uc774 \uae30\uc0ac URL\uc744 \ub9c8\ud06c\ub2e4\uc6b4 \ud30c\uc77c\uc5d0 \uc800\uc7a5\ud560 \uac83\uc785\ub2c8\ub2e4.\n",
        "\n",
        "\ub3c4\uc6c0\uc744 \uc8fc\uae30 \uc704\ud574 \ub450 \uac00\uc9c0 \ud568\uc218\ub97c \uc81c\uacf5\ud588\uc2b5\ub2c8\ub2e4:\n"
      ]
    },
    {
      "cell_type": "code",
      "execution_count": null,
      "metadata": {
        "tags": []
      },
      "outputs": [],
      "source": [
        "import wikipedia\n",
        "def generate_wikipedia_reading_list(research_topic, article_titles):\n",
        "    wikipedia_articles = []\n",
        "    for t in article_titles:\n",
        "        results = wikipedia.search(t)\n",
        "        try:\n",
        "            page = wikipedia.page(results[0])\n",
        "            title = page.title\n",
        "            url = page.url\n",
        "            wikipedia_articles.append({\"title\": title, \"url\": url})\n",
        "        except:\n",
        "            continue\n",
        "    add_to_research_reading_file(wikipedia_articles, research_topic)\n",
        "\n",
        "def add_to_research_reading_file(articles, topic):\n",
        "    with open(\"output/research_reading.md\", \"a\", encoding=\"utf-8\") as file:\n",
        "        file.write(f\"## {topic} \\n\")\n",
        "        for article in articles:\n",
        "            title = article[\"title\"]\n",
        "            url = article[\"url\"]\n",
        "            file.write(f\"* [{title}]({url}) \\n\")\n",
        "        file.write(f\"\\n\\n\")"
      ]
    },
    {
      "cell_type": "markdown",
      "metadata": {},
      "source": [
        "\uccab \ubc88\uc9f8 \ud568\uc218 `generate_wikipedia_reading_list`\ub294 \"\ud558\uc640\uc774\uc758 \uc5ed\uc0ac\"\ub098 \"\uc804 \uc138\uacc4\uc758 \ud574\uc801\"\uacfc \uac19\uc740 \uc5f0\uad6c \uc8fc\uc81c\uc640 Claude\uac00 \uc0dd\uc131\ud560 \uc7a0\uc7ac\uc801 Wikipedia \uae30\uc0ac \uc81c\ubaa9 \ubaa9\ub85d\uc744 \uc804\ub2ec\ubc1b\uc2b5\ub2c8\ub2e4. \uc774 \ud568\uc218\ub294 `wikipedia` \ud328\ud0a4\uc9c0\ub97c \uc0ac\uc6a9\ud558\uc5ec \ud574\ub2f9\ud558\ub294 \uc2e4\uc81c Wikipedia \ud398\uc774\uc9c0\ub97c \uac80\uc0c9\ud558\uace0, \uae30\uc0ac\uc758 \uc81c\ubaa9\uacfc URL\uc744 \ud3ec\ud568\ud558\ub294 \ub515\uc154\ub108\ub9ac \ubaa9\ub85d\uc744 \uc791\uc131\ud569\ub2c8\ub2e4.",
        "",
        "\uadf8\ub7f0 \ub2e4\uc74c Wikipedia \uae30\uc0ac \ub370\uc774\ud130 \ubaa9\ub85d\uacfc \uc804\ubc18\uc801\uc778 \uc5f0\uad6c \uc8fc\uc81c\ub97c `add_to_research_reading_file`\uc5d0 \uc804\ub2ec\ud569\ub2c8\ub2e4. \uc774 \ud568\uc218\ub294 \ub2e8\uc21c\ud788 Wikipedia \uae30\uc0ac\uc5d0 \ub300\ud55c markdown \ub9c1\ud06c\ub97c `output/research_reading.md`\ub77c\ub294 \ud30c\uc77c\uc5d0 \ucd94\uac00\ud569\ub2c8\ub2e4. \ud30c\uc77c \uc774\ub984\uc740 \ud604\uc7ac \ud558\ub4dc\ucf54\ub529\ub418\uc5b4 \uc788\uc73c\uba70, \uc774 \ud568\uc218\ub294 \ud574\ub2f9 \ud30c\uc77c\uc774 \uc874\uc7ac\ud55c\ub2e4\uace0 \uac00\uc815\ud569\ub2c8\ub2e4. \uc774 \ud30c\uc77c\uc740 \uc774 \uc800\uc7a5\uc18c\uc5d0 \uc788\uc9c0\ub9cc, \ub2e4\ub978 \uacf3\uc5d0\uc11c \uc791\uc5c5\ud560 \uacbd\uc6b0 \uc9c1\uc811 \ub9cc\ub4e4\uc5b4\uc57c \ud569\ub2c8\ub2e4.",
        "",
        "\uc544\uc774\ub514\uc5b4\ub294 Claude\uc5d0\uac8c \uc2e4\uc81c Wikipedia \uae30\uc0ac\uc778\uc9c0 \uc544\ub2cc\uc9c0 \uc5ec\ubd80\uc5d0 \uad00\uacc4\uc5c6\uc774 \uc7a0\uc7ac\uc801 \uae30\uc0ac \uc81c\ubaa9 \ubaa9\ub85d\uc744 \uc804\ub2ec\ud558\uc5ec `generate_wikipedia_reading_list`\ub97c \"\ud638\ucd9c\"\ud558\uac8c \ud558\ub294 \uac83\uc785\ub2c8\ub2e4. Claude\ub294 \ub2e4\uc74c\uacfc \uac19\uc740 \uc785\ub825 \uae30\uc0ac \uc81c\ubaa9 \ubaa9\ub85d\uc744 \uc804\ub2ec\ud560 \uc218 \uc788\uc2b5\ub2c8\ub2e4:",
        "",
        "```py",
        "[\"Piracy\", \"Famous Pirate Ships\", \"Golden Age Of Piracy\", \"List of Pirates\", \"Pirates and Parrots\", \"Piracy in the 21st Century\"]",
        "```",
        "",
        "`generate_wikipedia_reading_list` \ud568\uc218\ub294 \uc774\ub7ec\ud55c \uae30\uc0ac \uc81c\ubaa9\ub4e4\uc744 \ucc28\ub840\ub85c \uac80\ud1a0\ud558\uc5ec \uc2e4\uc81c\ub85c \uc874\uc7ac\ud558\ub294 Wikipedia \uae30\uc0ac\uc758 \uc2e4\uc81c \uc81c\ubaa9\uacfc \ud574\ub2f9 URL\uc744 \uc218\uc9d1\ud569\ub2c8\ub2e4. \uadf8\ub7f0 \ub2e4\uc74c `add_to_research_reading_file`\uc744 \ud638\ucd9c\ud558\uc5ec \ud574\ub2f9 \ub0b4\uc6a9\uc744 \ub098\uc911\uc5d0 \ucc38\uc870\ud560 \uc218 \uc788\ub3c4\ub85d markdown \ud30c\uc77c\uc5d0 \uc791\uc131\ud569\ub2c8\ub2e4."
      ]
    },
    {
      "cell_type": "markdown",
      "metadata": {},
      "source": [
        "### \ucd5c\uc885 \ubaa9\ud45c",
        "",
        "\uc5ec\ub7ec\ubd84\uc758 \uc791\uc5c5\uc740 \uc5f0\uad6c \uc8fc\uc81c\uc640 \uc6d0\ud558\ub294 \uae30\uc0ac \uc218\ub97c \ubc1b\uc544\ub4e4\uc774\ub294 `get_research_help` \ud568\uc218\ub97c \uad6c\ud604\ud558\ub294 \uac83\uc785\ub2c8\ub2e4. \uc774 \ud568\uc218\ub294 Claude\ub97c \uc0ac\uc6a9\ud558\uc5ec \uc2e4\uc81c\ub85c \uac00\ub2a5\ud55c Wikipedia \uae30\uc0ac \ubaa9\ub85d\uc744 \uc0dd\uc131\ud558\uace0 \uc704\uc758 `generate_wikipedia_reading_list` \ud568\uc218\ub97c \ud638\ucd9c\ud574\uc57c \ud569\ub2c8\ub2e4. \ub2e4\uc74c\uc740 \uba87 \uac00\uc9c0 \ud568\uc218 \ud638\ucd9c \uc608\uc2dc\uc785\ub2c8\ub2e4:",
        "",
        "```py",
        "get_research_help(\"Pirates Across The World\", 7)",
        "",
        "get_research_help(\"History of Hawaii\", 3)",
        "",
        "get_research_help(\"are animals conscious?\", 3)",
        "```",
        "",
        "\uc774 3\uac1c\uc758 \ud568\uc218 \ud638\ucd9c \ud6c4, \ucd9c\ub825 `research_reading.md` \ud30c\uc77c\uc740 \ub2e4\uc74c\uacfc \uac19\uc2b5\ub2c8\ub2e4(output/research_reading.md\uc5d0\uc11c \uc9c1\uc811 \ud655\uc778\ud574 \ubcf4\uc138\uc694):",
        "",
        "![research_reading.png](./images/research_reading.png)",
        ""
      ]
    },
    {
      "cell_type": "markdown",
      "metadata": {},
      "source": [
        "\uc774\ub97c \ub2ec\uc131\ud558\uae30 \uc704\ud574\uc11c\ub294 \ub2e4\uc74c\uacfc \uac19\uc740 \uc791\uc5c5\uc744 \uc218\ud589\ud574\uc57c \ud569\ub2c8\ub2e4:\n",
        "\n",
        "* `generate_wikipedia_reading_list` \ud568\uc218\uc5d0 \ub300\ud55c tool definition\uc744 \uc791\uc131\ud558\uc138\uc694\n",
        "* `get_research_help` \ud568\uc218\ub97c \uad6c\ud604\ud558\uc138\uc694\n",
        "    * \ud2b9\uc815 \uc8fc\uc81c\uc5d0 \ub300\ud55c \uc5f0\uad6c \uc790\ub8cc\ub97c \uc218\uc9d1\ud558\ub294 \ub370 \ub3c4\uc6c0\uc774 \ud544\uc694\ud558\ub2e4\uace0 Claude\uc5d0\uac8c \uc54c\ub9ac\uace0, \uc0dd\uc131\ud560 \uae30\uc0ac \uc81c\ubaa9 \uc218\ub97c \uc9c0\uc815\ud558\ub294 prompt\ub97c \uc791\uc131\ud558\uc138\uc694\n",
        "    * Claude\uac00 \uc561\uc138\uc2a4\ud560 \uc218 \uc788\ub294 tool\uc5d0 \ub300\ud574 \uc54c\ub824\uc8fc\uc138\uc694\n",
        "    * \uc694\uccad\uc744 Claude\uc5d0\uac8c \ubcf4\ub0b4\uc138\uc694\n",
        "    * Claude\uac00 tool\uc744 \ud638\ucd9c\ud588\ub294\uc9c0 \ud655\uc778\ud558\uc138\uc694. \ud638\ucd9c\ud588\ub2e4\uba74 \uc0dd\uc131\ub41c \uae30\uc0ac \uc81c\ubaa9\uacfc \uc8fc\uc81c\ub97c \uc81c\uacf5\ubc1b\uc740 `generate_wikipedia_reading_list` \ud568\uc218\uc5d0 \uc804\ub2ec\ud574\uc57c \ud569\ub2c8\ub2e4. \ud574\ub2f9 \ud568\uc218\ub294 \uc2e4\uc81c Wikipedia \uae30\uc0ac \ub9c1\ud06c\ub97c \uc218\uc9d1\ud55c \ub2e4\uc74c `add_to_research_reading_file`\uc744 \ud638\ucd9c\ud558\uc5ec \ub9c1\ud06c\ub97c `output/research_reading.md`\uc5d0 \uc791\uc131\ud569\ub2c8\ub2e4\n",
        "    * `output/research_reading.md`\ub97c \uc5f4\uc5b4 \uc791\ub3d9 \uc5ec\ubd80\ub97c \ud655\uc778\ud558\uc138\uc694!\n"
      ]
    },
    {
      "cell_type": "markdown",
      "metadata": {},
      "source": [
        "#### \uc2dc\uc791 \ucf54\ub4dc"
      ]
    },
    {
      "cell_type": "code",
      "execution_count": null,
      "metadata": {
        "tags": []
      },
      "outputs": [],
      "source": [
        "# Here's your starter code!\n",
        "import wikipedia\n",
        "def generate_wikipedia_reading_list(research_topic, article_titles):\n",
        "    wikipedia_articles = []\n",
        "    for t in article_titles:\n",
        "        results = wikipedia.search(t)\n",
        "        try:\n",
        "            page = wikipedia.page(results[0])\n",
        "            title = page.title\n",
        "            url = page.url\n",
        "            wikipedia_articles.append({\"title\": title, \"url\": url})\n",
        "        except:\n",
        "            continue\n",
        "    add_to_research_reading_file(wikipedia_articles, research_topic)\n",
        "\n",
        "def add_to_research_reading_file(articles, topic):\n",
        "    with open(\"output/research_reading.md\", \"a\", encoding=\"utf-8\") as file:\n",
        "        file.write(f\"## {topic} \\n\")\n",
        "        for article in articles:\n",
        "            title = article[\"title\"]\n",
        "            url = article[\"url\"]\n",
        "            file.write(f\"* [{title}]({url}) \\n\")\n",
        "        file.write(f\"\\n\\n\")"
      ]
    },
    {
      "cell_type": "code",
      "execution_count": null,
      "metadata": {
        "tags": []
      },
      "outputs": [],
      "source": [
        "# ToolSpec starter code\n",
        "toolConfig = {\n",
        "  \"tools\": [\n",
        "    {\n",
        "      \"toolSpec\": {\n",
        "        \"name\": \"generate_wikipedia_reading_list\",\n",
        "        \"description\": \" \",\n",
        "        \"inputSchema\": {\n",
        "          \"json\": {\n",
        "            \"type\": \"object\",\n",
        "            \"properties\": {\n",
        "              \"\": {\n",
        "                \"type\": \"string\",\n",
        "                \"description\": \"\"\n",
        "              },\n",
        "              \" \": {\n",
        "                \"type\": \"string\",\n",
        "                \"description\": \" \"\n",
        "              }\n",
        "            },\n",
        "            \"required\": [\" \", \" \"]\n",
        "          }\n",
        "        }\n",
        "      }\n",
        "    }\n",
        "  ]\n",
        "}"
      ]
    },
    {
      "cell_type": "markdown",
      "metadata": {},
      "source": [
        "\u2753 toolSpec\uacfc \uad00\ub828\ub41c \ud78c\ud2b8\uac00 \ud544\uc694\ud558\uba74 \uc544\ub798 \uc140\uc744 \uc2e4\ud589\ud558\uc138\uc694!"
      ]
    },
    {
      "cell_type": "code",
      "execution_count": null,
      "metadata": {
        "tags": []
      },
      "outputs": [],
      "source": [
        "print(hints.exercise_10_2_1_toolspec)"
      ]
    },
    {
      "cell_type": "code",
      "execution_count": null,
      "metadata": {
        "tags": []
      },
      "outputs": [],
      "source": [
        "def get_research_help(research_topic, num_articles=3):\n",
        "# create your function here\n",
        "    pass"
      ]
    },
    {
      "cell_type": "markdown",
      "metadata": {},
      "source": [
        "\u2753 get_research_help \ud568\uc218\uc640 \uad00\ub828\ub41c \ud78c\ud2b8\uac00 \ud544\uc694\ud558\uba74 \uc544\ub798 \uc140\uc744 \uc2e4\ud589\ud558\uc138\uc694!"
      ]
    },
    {
      "cell_type": "code",
      "execution_count": null,
      "metadata": {
        "tags": []
      },
      "outputs": [],
      "source": [
        "print(hints.exercise_10_2_1_code)"
      ]
    },
    {
      "cell_type": "code",
      "execution_count": null,
      "metadata": {
        "tags": []
      },
      "outputs": [],
      "source": [
        "# Test your function\n",
        "get_research_help(\"Claude Shannon\", 3)"
      ]
    }
  ],
  "metadata": {
    "kernelspec": {
      "display_name": "",
      "name": ""
    },
    "language_info": {
      "codemirror_mode": {
        "name": "ipython",
        "version": 3
      },
      "file_extension": ".py",
      "mimetype": "text/x-python",
      "name": "python",
      "nbconvert_exporter": "python",
      "pygments_lexer": "ipython3",
      "version": "3.10.14"
    }
  },
  "nbformat": 4,
  "nbformat_minor": 4
}