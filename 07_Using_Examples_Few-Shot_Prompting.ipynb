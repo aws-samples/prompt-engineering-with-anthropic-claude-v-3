{
  "cells": [
    {
      "cell_type": "markdown",
      "metadata": {},
      "source": [
        "# 7\uc7a5: \uc608\uc2dc \ud65c\uc6a9(Few-Shot Prompting)",
        "\n",
        "- [\uc218\uc5c5](#lesson)",
        "- [\uc5f0\uc2b5\ubb38\uc81c](#exercises)",
        "- [\uc608\uc2dc \ub180\uc774\ud130](#example-playground)",
        "\n",
        "## \uc124\uc815",
        "\n",
        "\ub2e4\uc74c \uc124\uc815 \uc140\uc744 \uc2e4\ud589\ud558\uc5ec API \ud0a4\ub97c \ub85c\ub4dc\ud558\uace0 `get_completion` \ud5ec\ud37c \ud568\uc218\ub97c \uc124\uc815\ud569\ub2c8\ub2e4."
      ]
    },
    {
      "cell_type": "code",
      "execution_count": null,
      "metadata": {},
      "outputs": [],
      "source": [
        "# Import python's built-in regular expression library\n",
        "import re\n",
        "import boto3\n",
        "from botocore.exceptions import ClientError\n",
        "import json\n",
        "\n",
        "# Import the hints module from the utils package\n",
        "from utils import hints\n",
        "\n",
        "# Retrieve the MODEL_NAME variable from the IPython store\n",
        "%store -r modelId\n",
        "%store -r region\n",
        "\n",
        "bedrock_client = boto3.client(service_name='bedrock-runtime', region_name=region)"
      ]
    },
    {
      "cell_type": "code",
      "execution_count": null,
      "metadata": {},
      "outputs": [],
      "source": [
        "def get_completion(prompt, system_prompt=None, prefill=None):\n",
        "    inference_config = {\n",
        "        \"temperature\": 0.0,\n",
        "        \"maxTokens\": 200\n",
        "    }\n",
        "    converse_api_params = {\n",
        "        \"modelId\": modelId,\n",
        "        \"messages\": [{\"role\": \"user\", \"content\": [{\"text\": prompt}]}],\n",
        "        \"inferenceConfig\": inference_config\n",
        "    }\n",
        "    if system_prompt:\n",
        "        converse_api_params[\"system\"] = [{\"text\": system_prompt}]\n",
        "    if prefill:\n",
        "        converse_api_params[\"messages\"].append({\"role\": \"assistant\", \"content\": [{\"text\": prefill}]})\n",
        "    try:\n",
        "        response = bedrock_client.converse(**converse_api_params)\n",
        "        text_content = response['output']['message']['content'][0]['text']\n",
        "        return text_content\n",
        "\n",
        "    except ClientError as err:\n",
        "        message = err.response['Error']['Message']\n",
        "        print(f\"A client error occured: {message}\")"
      ]
    },
    {
      "cell_type": "markdown",
      "metadata": {},
      "source": [
        "---",
        "",
        "## \uc218\uc5c5",
        "",
        "**Claude\uc5d0\uac8c \uc6d0\ud558\ub294 \ud589\ub3d9 \ubc29\uc2dd(\ub610\ub294 \uc6d0\ud558\uc9c0 \uc54a\ub294 \ud589\ub3d9 \ubc29\uc2dd)\uc758 \uc608\uc2dc\ub97c \uc81c\uacf5\ud558\ub294 \uac83\uc740 \ub2e4\uc74c\uacfc \uac19\uc740 \uacbd\uc6b0\uc5d0 \ub9e4\uc6b0 \ud6a8\uacfc\uc801\uc785\ub2c8\ub2e4**:",
        "- \uc62c\ubc14\ub978 \ub2f5\ubcc0 \uc5bb\uae30",
        "- \uc62c\ubc14\ub978 \ud615\uc2dd\uc758 \ub2f5\ubcc0 \uc5bb\uae30",
        "",
        "\uc774\ub7f0 \uc2dd\uc758 \ud504\ub86c\ud504\ud305\uc744 \"**few shot prompting**\"\uc774\ub77c\uace0\ub3c4 \ud569\ub2c8\ub2e4. \"zero-shot\" \ub610\ub294 \"n-shot\" \ub610\ub294 \"one-shot\"\uc774\ub77c\ub294 \ubb38\uad6c\ub3c4 \ub9cc\ub0a0 \uc218 \uc788\uc2b5\ub2c8\ub2e4. \"shot\"\uc758 \uc22b\uc790\ub294 \ud504\ub86c\ud504\ud2b8 \ub0b4\uc5d0\uc11c \uc0ac\uc6a9\ub418\ub294 \uc608\uc2dc\uc758 \uc218\ub97c \ub098\ud0c0\ub0c5\ub2c8\ub2e4."
      ]
    },
    {
      "cell_type": "markdown",
      "metadata": {},
      "source": [
        "### \uc608\uc2dc",
        "",
        "\uc544\uc774\ub4e4\uc758 \uc9c8\ubb38\uc5d0 \uc751\ub2f5\ud558\ub294 \"\ubd80\ubaa8 \ubd07\"\uc744 \ub9cc\ub4e4\ub824\ub294 \uac1c\ubc1c\uc790\ub77c\uace0 \uac00\uc815\ud574 \ubd05\uc2dc\ub2e4. **Claude\uc758 \uae30\ubcf8 \uc751\ub2f5\uc740 \ub9e4\uc6b0 \uacf5\uc2dd\uc801\uc774\uace0 \uae30\uacc4\uc801\uc785\ub2c8\ub2e4**. \uc774\ub807\uac8c \ub418\uba74 \uc544\uc774\uc758 \ub9c8\uc74c\uc744 \uc0c1\ud558\uac8c \ud560 \uac83\uc785\ub2c8\ub2e4."
      ]
    },
    {
      "cell_type": "code",
      "execution_count": null,
      "metadata": {},
      "outputs": [],
      "source": [
        "# Prompt\n",
        "PROMPT = \"Will Santa bring me presents on Christmas?\"\n",
        "\n",
        "# Print Claude's response\n",
        "print(get_completion(PROMPT))"
      ]
    },
    {
      "cell_type": "markdown",
      "metadata": {},
      "source": [
        "\uc6d0\ud558\ub294 \uc5b4\uc870\ub97c \uc124\uba85\ud558\ub294 \ub370 \uc2dc\uac04\uc744 \ub4e4\uc77c \uc218\ub3c4 \uc788\uc9c0\ub9cc, **Claude\uc5d0\uac8c \uc774\uc0c1\uc801\uc778 \uc751\ub2f5\uc758 \uba87 \uac00\uc9c0 \uc608\uc2dc\ub97c \uc81c\uacf5\ud558\ub294 \uac83\uc774 \ud6e8\uc52c \uc27d\uc2b5\ub2c8\ub2e4**."
      ]
    },
    {
      "cell_type": "code",
      "execution_count": null,
      "metadata": {},
      "outputs": [],
      "source": [
        "# Prompt\n",
        "PROMPT = \"\"\"Please complete the conversation by writing the next line, speaking as \"A\".\n",
        "Q: Is the tooth fairy real?\n",
        "A: Of course, sweetie. Wrap up your tooth and put it under your pillow tonight. There might be something waiting for you in the morning.\n",
        "Q: Will Santa bring me presents on Christmas?\"\"\"\n",
        "\n",
        "# Print Claude's response\n",
        "print(get_completion(PROMPT))"
      ]
    },
    {
      "cell_type": "markdown",
      "metadata": {},
      "source": [
        "\ub2e4\uc74c \ud615\uc2dd \uc608\uc2dc\uc5d0\uc11c \uc6b0\ub9ac\ub294 Claude\uc5d0\uac8c \uc774\ub984\uacfc \uc9c1\uc5c5\uc744 \ucd94\ucd9c\ud558\uace0 \uc815\ud655\ud788 \uc6b0\ub9ac\uac00 \uc6d0\ud558\ub294 \ubc29\uc2dd\uc73c\ub85c \ud615\uc2dd\ud654\ud558\ub294 \uc77c\ub828\uc758 \ud615\uc2dd \uc9c0\uce68\uc744 \ub2e8\uacc4\ubcc4\ub85c \uc548\ub0b4\ud560 \uc218\ub3c4 \uc788\uc9c0\ub9cc, \ub610\ub294 **Claude\uc5d0\uac8c \uc62c\ubc14\ub974\uac8c \ud615\uc2dd\ud654\ub41c \uba87 \uac00\uc9c0 \uc608\uc2dc\ub97c \uc81c\uacf5\ud558\uba74 Claude\uac00 \uadf8\uac83\uc744 \ubc14\ud0d5\uc73c\ub85c \uc77c\ubc18\ud654\ud560 \uc218 \uc788\uc2b5\ub2c8\ub2e4**. `assistant` \ucc28\ub840\uc5d0\uc11c `<individuals>`\ub97c \ucc38\uace0\ud558\uc5ec Claude\uac00 \uc62c\ubc14\ub978 \ubc29\ud5a5\uc73c\ub85c \uc2dc\uc791\ud560 \uc218 \uc788\ub3c4\ub85d \ud569\ub2c8\ub2e4."
      ]
    },
    {
      "cell_type": "code",
      "execution_count": null,
      "metadata": {},
      "outputs": [],
      "source": [
        "# Prompt template with a placeholder for the variable content\n",
        "PROMPT = \"\"\"Silvermist Hollow, a charming village, was home to an extraordinary group of individuals.\n",
        "Among them was Dr. Liam Patel, a neurosurgeon who revolutionized surgical techniques at the regional medical center.\n",
        "Olivia Chen was an innovative architect who transformed the village's landscape with her sustainable and breathtaking designs.\n",
        "The local theater was graced by the enchanting symphonies of Ethan Kovacs, a professionally-trained musician and composer.\n",
        "Isabella Torres, a self-taught chef with a passion for locally sourced ingredients, created a culinary sensation with her farm-to-table restaurant, which became a must-visit destination for food lovers.\n",
        "These remarkable individuals, each with their distinct talents, contributed to the vibrant tapestry of life in Silvermist Hollow.\n",
        "<individuals>\n",
        "1. Dr. Liam Patel [NEUROSURGEON]\n",
        "2. Olivia Chen [ARCHITECT]\n",
        "3. Ethan Kovacs [MISICIAN AND COMPOSER]\n",
        "4. Isabella Torres [CHEF]\n",
        "</individuals>\n",
        "\n",
        "At the heart of the town, Chef Oliver Hamilton has transformed the culinary scene with his farm-to-table restaurant, Green Plate. Oliver's dedication to sourcing local, organic ingredients has earned the establishment rave reviews from food critics and locals alike.\n",
        "Just down the street, you'll find the Riverside Grove Library, where head librarian Elizabeth Chen has worked diligently to create a welcoming and inclusive space for all. Her efforts to expand the library's offerings and establish reading programs for children have had a significant impact on the town's literacy rates.\n",
        "As you stroll through the charming town square, you'll be captivated by the beautiful murals adorning the walls. These masterpieces are the work of renowned artist, Isabella Torres, whose talent for capturing the essence of Riverside Grove has brought the town to life.\n",
        "Riverside Grove's athletic achievements are also worth noting, thanks to former Olympic swimmer-turned-coach, Marcus Jenkins. Marcus has used his experience and passion to train the town's youth, leading the Riverside Grove Swim Team to several regional championships.\n",
        "<individuals>\n",
        "1. Oliver Hamilton [CHEF]\n",
        "2. Elizabeth Chen [LIBRARIAN]\n",
        "3. Isabella Torres [ARTIST]\n",
        "4. Marcus Jenkins [COACH]\n",
        "</individuals>\n",
        "\n",
        "Oak Valley, a charming small town, is home to a remarkable trio of individuals whose skills and dedication have left a lasting impact on the community.\n",
        "At the town's bustling farmer's market, you'll find Laura Simmons, a passionate organic farmer known for her delicious and sustainably grown produce. Her dedication to promoting healthy eating has inspired the town to embrace a more eco-conscious lifestyle.\n",
        "In Oak Valley's community center, Kevin Alvarez, a skilled dance instructor, has brought the joy of movement to people of all ages. His inclusive dance classes have fostered a sense of unity and self-expression among residents, enriching the local arts scene.\n",
        "Lastly, Rachel O'Connor, a tireless volunteer, dedicates her time to various charitable initiatives. Her commitment to improving the lives of others has been instrumental in creating a strong sense of community within Oak Valley.\n",
        "Through their unique talents and unwavering dedication, Laura, Kevin, and Rachel have woven themselves into the fabric of Oak Valley, helping to create a vibrant and thriving small town.\"\"\"\n",
        "\n",
        "# Prefill for Claude's response\n",
        "PREFILL = \"<individuals>\"\n",
        "\n",
        "# Print Claude's response\n",
        "print(\"--------------------------- Full prompt with variable substutions ---------------------------\")\n",
        "print(\"USER TURN:\")\n",
        "print(PROMPT)\n",
        "print(\"\\nASSISTANT TURN:\")\n",
        "print(PREFILL)\n",
        "print(\"\\n------------------------------------- Claude's response -------------------------------------\")\n",
        "print(get_completion(PROMPT, prefill=PREFILL))"
      ]
    },
    {
      "cell_type": "markdown",
      "metadata": {},
      "source": [
        "\uc218\uc5c5 \ud504\ub86c\ud504\ud2b8\ub97c \uc2e4\ud5d8\ud574 \ubcf4\uace0 \uc2f6\ub2e4\uba74 \uc218\uc5c5 \ub178\ud2b8\ubd81 \ub9e8 \uc544\ub798\ub85c \ub0b4\ub824\uac00 [**\uc608\uc2dc \ub180\uc774\ud130**](#example-playground)\ub97c \ubc29\ubb38\ud558\uc138\uc694."
      ]
    },
    {
      "cell_type": "markdown",
      "metadata": {},
      "source": [
        "---",
        "",
        "## \uc5f0\uc2b5\ubb38\uc81c",
        "- [\uc5f0\uc2b5\ubb38\uc81c 7.1 - \uc608\uc2dc\ub97c \ud1b5\ud55c \uc774\uba54\uc77c \ud615\uc2dd\ud654](#exercise-71---email-formatting-via-examples)"
      ]
    },
    {
      "cell_type": "markdown",
      "metadata": {},
      "source": [
        "### \uc5f0\uc2b5\ubb38\uc81c 7.1 - \uc608\uc2dc\ub97c \ud1b5\ud55c \uc774\uba54\uc77c \ud615\uc2dd\ud654",
        "6.2 \uc5f0\uc2b5\ubb38\uc81c\ub97c \ub2e4\uc2dc \ud560 \uac83\uc785\ub2c8\ub2e4. \ud558\uc9c0\ub9cc \uc774\ubc88\uc5d0\ub294 `PROMPT`\ub97c \ud3b8\uc9d1\ud558\uc5ec \"few-shot\" \uc608\uc2dc\uc640 \uc801\uc808\ud55c \ubd84\ub958(\ubc0f \ud615\uc2dd\ud654)\ub97c \uc0ac\uc6a9\ud558\uc5ec Claude\uac00 \uc62c\ubc14\ub978 \ub2f5\ubcc0\uc744 \ucd9c\ub825\ud558\ub3c4\ub85d \ud560 \uac83\uc785\ub2c8\ub2e4. Claude\uc758 \ucd9c\ub825\uc5d0\uc11c *\ub9c8\uc9c0\ub9c9* \uae00\uc790\uac00 \ubc94\uc8fc\uc758 \uae00\uc790\uc5ec\uc57c \ud569\ub2c8\ub2e4.",
        "",
        "\uac01 \uc774\uba54\uc77c \uc606\uc758 \uc8fc\uc11d\uc744 \ucc38\uace0\ud558\uc5ec \uc5b4\ub5a4 \ubc94\uc8fc\uc5d0 \uc18d\ud558\ub294\uc9c0 \uc78a\uc5b4\ubc84\ub9ac\uc9c0 \uc54a\ub3c4\ub85d \ud569\ub2c8\ub2e4.",
        "",
        "\uc774\uba54\uc77c\uc758 \ubc94\uc8fc\ub294 \ub2e4\uc74c\uacfc \uac19\uc2b5\ub2c8\ub2e4:",
        "- (A) \ud310\ub9e4 \uc804 \ubb38\uc758",
        "- (B) \uace0\uc7a5 \ub610\ub294 \uacb0\ud568 \uc81c\ud488",
        "- (C) \uccad\uad6c \ubb38\uc758",
        "- (D) \uae30\ud0c0(\uc124\uba85 \ud544\uc694)"
      ]
    },
    {
      "cell_type": "code",
      "execution_count": null,
      "metadata": {},
      "outputs": [],
      "source": [
        "# Prompt template with a placeholder for the variable content\n",
        "PROMPT = \"\"\"Please classify this email as either green or blue: {email}\"\"\"\n",
        "\n",
        "# Prefill for Claude's response\n",
        "PREFILL = \"\"\n",
        "\n",
        "# Variable content stored as a list\n",
        "EMAILS = [\n",
        "    \"Hi -- My Mixmaster4000 is producing a strange noise when I operate it. It also smells a bit smoky and plasticky, like burning electronics.  I need a replacement.\", # (B) Broken or defective item\n",
        "    \"Can I use my Mixmaster 4000 to mix paint, or is it only meant for mixing food?\", # (A) Pre-sale question OR (D) Other (please explain)\n",
        "    \"I HAVE BEEN WAITING 4 MONTHS FOR MY MONTHLY CHARGES TO END AFTER CANCELLING!!  WTF IS GOING ON???\", # (C) Billing question\n",
        "    \"How did I get here I am not good with computer.  Halp.\" # (D) Other (please explain)\n",
        "]\n",
        "\n",
        "# Correct categorizations stored as a list of lists to accommodate the possibility of multiple correct categorizations per email\n",
        "ANSWERS = [\n",
        "    [\"B\"],\n",
        "    [\"A\",\"D\"],\n",
        "    [\"C\"],\n",
        "    [\"D\"]\n",
        "]\n",
        "\n",
        "# Iterate through list of emails\n",
        "for i,email in enumerate(EMAILS):\n",
        "    \n",
        "    # Substitute the email text into the email placeholder variable\n",
        "    formatted_prompt = PROMPT.format(email=email)\n",
        "   \n",
        "    # Get Claude's response\n",
        "    response = get_completion(formatted_prompt, prefill=PREFILL)\n",
        "\n",
        "    # Grade Claude's response\n",
        "    grade = any([bool(re.search(ans, response[-1])) for ans in ANSWERS[i]])\n",
        "    \n",
        "    # Print Claude's response\n",
        "    print(\"--------------------------- Full prompt with variable substutions ---------------------------\")\n",
        "    print(\"USER TURN\")\n",
        "    print(formatted_prompt)\n",
        "    print(\"\\nASSISTANT TURN\")\n",
        "    print(PREFILL)\n",
        "    print(\"\\n------------------------------------- Claude's response -------------------------------------\")\n",
        "    print(response)\n",
        "    print(\"\\n------------------------------------------ GRADING ------------------------------------------\")\n",
        "    print(\"This exercise has been correctly solved:\", grade, \"\\n\\n\\n\\n\\n\\n\")"
      ]
    },
    {
      "cell_type": "markdown",
      "metadata": {},
      "source": [
        "\ud83d\udcb3 \ud78c\ud2b8\uac00 \ud544\uc694\ud558\ub2e4\uba74 \uc544\ub798 \uc140\uc744 \uc2e4\ud589\ud558\uc138\uc694!"
      ]
    },
    {
      "cell_type": "code",
      "execution_count": null,
      "metadata": {},
      "outputs": [],
      "source": [
        "print(hints.exercise_7_1_hint)"
      ]
    },
    {
      "cell_type": "markdown",
      "metadata": {},
      "source": [
        "\uc544\uc9c1\ub3c4 \ub9c9\ud78c\ub2e4\uba74 \uc544\ub798 \uc140\uc744 \uc2e4\ud589\ud558\uc5ec \uc608\uc2dc \ud574\ub2f5\uc744 \ud655\uc778\ud558\uc138\uc694."
      ]
    },
    {
      "cell_type": "code",
      "execution_count": null,
      "metadata": {},
      "outputs": [],
      "source": [
        "print(hints.exercise_7_1_solution)"
      ]
    },
    {
      "cell_type": "markdown",
      "metadata": {},
      "source": [
        "### \ucd95\ud558\ud569\ub2c8\ub2e4!",
        "",
        "\uc9c0\uae08\uae4c\uc9c0\uc758 \ubaa8\ub4e0 \uc5f0\uc2b5\ubb38\uc81c\ub97c \ud574\uacb0\ud588\ub2e4\uba74 \ub2e4\uc74c \uc7a5\uc73c\ub85c \ub118\uc5b4\uac08 \uc900\ube44\uac00 \ub418\uc5c8\uc2b5\ub2c8\ub2e4. \ud589\ubcf5\ud55c \ud504\ub86c\ud504\ud305 \ub418\uc138\uc694!"
      ]
    },
    {
      "cell_type": "markdown",
      "metadata": {},
      "source": [
        "---\n",
        "\n",
        "## \uc608\uc81c \ub180\uc774\ud130\n",
        "\n",
        "\uc774 \uacf3\uc740 \uc774 \uac15\uc758\uc5d0\uc11c \ubcf4\uc5ec\uc900 \ud504\ub86c\ud504\ud2b8 \uc608\uc81c\ub97c \uc790\uc720\ub86d\uac8c \uc2e4\ud5d8\ud558\uace0 \ud504\ub86c\ud504\ud2b8\ub97c \uc870\uc815\ud558\uc5ec Claude\uc758 \uc751\ub2f5\uc5d0 \uc5b4\ub5a4 \uc601\ud5a5\uc744 \ubbf8\uce58\ub294\uc9c0 \ud655\uc778\ud560 \uc218 \uc788\ub294 \uacf5\uac04\uc785\ub2c8\ub2e4."
      ]
    },
    {
      "cell_type": "code",
      "execution_count": null,
      "metadata": {},
      "outputs": [],
      "source": [
        "# Prompt\n",
        "PROMPT = \"Will Santa bring me presents on Christmas?\"\n",
        "\n",
        "# Print Claude's response\n",
        "print(get_completion(PROMPT))"
      ]
    },
    {
      "cell_type": "code",
      "execution_count": null,
      "metadata": {},
      "outputs": [],
      "source": [
        "# Prompt\n",
        "PROMPT = \"\"\"Please complete the conversation by writing the next line, speaking as \"A\".\n",
        "Q: Is the tooth fairy real?\n",
        "A: Of course, sweetie. Wrap up your tooth and put it under your pillow tonight. There might be something waiting for you in the morning.\n",
        "Q: Will Santa bring me presents on Christmas?\"\"\"\n",
        "\n",
        "# Print Claude's response\n",
        "print(get_completion(PROMPT))"
      ]
    },
    {
      "cell_type": "code",
      "execution_count": null,
      "metadata": {
        "tags": []
      },
      "outputs": [],
      "source": [
        "# Prompt template with a placeholder for the variable content\n",
        "PROMPT = \"\"\"Silvermist Hollow, a charming village, was home to an extraordinary group of individuals.\n",
        "Among them was Dr. Liam Patel, a neurosurgeon who revolutionized surgical techniques at the regional medical center.\n",
        "Olivia Chen was an innovative architect who transformed the village's landscape with her sustainable and breathtaking designs.\n",
        "The local theater was graced by the enchanting symphonies of Ethan Kovacs, a professionally-trained musician and composer.\n",
        "Isabella Torres, a self-taught chef with a passion for locally sourced ingredients, created a culinary sensation with her farm-to-table restaurant, which became a must-visit destination for food lovers.\n",
        "These remarkable individuals, each with their distinct talents, contributed to the vibrant tapestry of life in Silvermist Hollow.\n",
        "<individuals>\n",
        "1. Dr. Liam Patel [NEUROSURGEON]\n",
        "2. Olivia Chen [ARCHITECT]\n",
        "3. Ethan Kovacs [MISICIAN AND COMPOSER]\n",
        "4. Isabella Torres [CHEF]\n",
        "</individuals>\n",
        "\n",
        "At the heart of the town, Chef Oliver Hamilton has transformed the culinary scene with his farm-to-table restaurant, Green Plate. Oliver's dedication to sourcing local, organic ingredients has earned the establishment rave reviews from food critics and locals alike.\n",
        "Just down the street, you'll find the Riverside Grove Library, where head librarian Elizabeth Chen has worked diligently to create a welcoming and inclusive space for all. Her efforts to expand the library's offerings and establish reading programs for children have had a significant impact on the town's literacy rates.\n",
        "As you stroll through the charming town square, you'll be captivated by the beautiful murals adorning the walls. These masterpieces are the work of renowned artist, Isabella Torres, whose talent for capturing the essence of Riverside Grove has brought the town to life.\n",
        "Riverside Grove's athletic achievements are also worth noting, thanks to former Olympic swimmer-turned-coach, Marcus Jenkins. Marcus has used his experience and passion to train the town's youth, leading the Riverside Grove Swim Team to several regional championships.\n",
        "<individuals>\n",
        "1. Oliver Hamilton [CHEF]\n",
        "2. Elizabeth Chen [LIBRARIAN]\n",
        "3. Isabella Torres [ARTIST]\n",
        "4. Marcus Jenkins [COACH]\n",
        "</individuals>\n",
        "\n",
        "Oak Valley, a charming small town, is home to a remarkable trio of individuals whose skills and dedication have left a lasting impact on the community.\n",
        "At the town's bustling farmer's market, you'll find Laura Simmons, a passionate organic farmer known for her delicious and sustainably grown produce. Her dedication to promoting healthy eating has inspired the town to embrace a more eco-conscious lifestyle.\n",
        "In Oak Valley's community center, Kevin Alvarez, a skilled dance instructor, has brought the joy of movement to people of all ages. His inclusive dance classes have fostered a sense of unity and self-expression among residents, enriching the local arts scene.\n",
        "Lastly, Rachel O'Connor, a tireless volunteer, dedicates her time to various charitable initiatives. Her commitment to improving the lives of others has been instrumental in creating a strong sense of community within Oak Valley.\n",
        "Through their unique talents and unwavering dedication, Laura, Kevin, and Rachel have woven themselves into the fabric of Oak Valley, helping to create a vibrant and thriving small town.\"\"\"\n",
        "\n",
        "# Prefill for Claude's response\n",
        "PREFILL = \"<individuals>\"\n",
        "\n",
        "# Print Claude's response\n",
        "print(\"--------------------------- Full prompt with variable substutions ---------------------------\")\n",
        "print(\"USER TURN:\")\n",
        "print(PROMPT)\n",
        "print(\"\\nASSISTANT TURN:\")\n",
        "print(PREFILL)\n",
        "print(\"\\n------------------------------------- Claude's response -------------------------------------\")\n",
        "print(get_completion(PROMPT, prefill=PREFILL))"
      ]
    }
  ],
  "metadata": {
    "kernelspec": {
      "display_name": "",
      "name": ""
    },
    "language_info": {
      "codemirror_mode": {
        "name": "ipython",
        "version": 3
      },
      "file_extension": ".py",
      "mimetype": "text/x-python",
      "name": "python",
      "nbconvert_exporter": "python",
      "pygments_lexer": "ipython3",
      "version": "3.10.14"
    }
  },
  "nbformat": 4,
  "nbformat_minor": 4
}