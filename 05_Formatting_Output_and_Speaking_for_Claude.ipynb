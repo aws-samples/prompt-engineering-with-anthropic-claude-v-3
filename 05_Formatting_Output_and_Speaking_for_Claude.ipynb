{
  "cells": [
    {
      "cell_type": "markdown",
      "metadata": {},
      "source": [
        "# 5\uc7a5: \ucd9c\ub825 \ud615\uc2dd \uc9c0\uc815 \ubc0f Claude\ub97c \ub300\uc2e0\ud558\uc5ec \ub9d0\ud558\uae30\n",
        "\n",
        "- [\uc218\uc5c5](#lesson)\n",
        "- [\uc5f0\uc2b5 \ubb38\uc81c](#exercises)\n",
        "- [\uc608\uc2dc \uc2e4\uc2b5 \uacf5\uac04](#example-playground)\n",
        "\n",
        "## \uc124\uc815\n",
        "\n",
        "\ub2e4\uc74c \uc124\uc815 \uc140\uc744 \uc2e4\ud589\ud558\uc5ec API \ud0a4\ub97c \ub85c\ub4dc\ud558\uace0 `get_completion` \ud5ec\ud37c \ud568\uc218\ub97c \uc124\uc815\ud569\ub2c8\ub2e4."
      ]
    },
    {
      "cell_type": "code",
      "execution_count": null,
      "metadata": {},
      "outputs": [],
      "source": [
        "# Import python's built-in regular expression library\n",
        "import re\n",
        "import boto3\n",
        "from botocore.exceptions import ClientError\n",
        "import json\n",
        "\n",
        "# Import the hints module from the utils package\n",
        "from utils import hints\n",
        "\n",
        "# Retrieve the MODEL_NAME variable from the IPython store\n",
        "%store -r modelId\n",
        "%store -r region\n",
        "\n",
        "bedrock_client = boto3.client(service_name='bedrock-runtime', region_name=region)"
      ]
    },
    {
      "cell_type": "code",
      "execution_count": null,
      "metadata": {},
      "outputs": [],
      "source": [
        "def get_completion(prompt, system_prompt=None, prefill=None):\n",
        "    inference_config = {\n",
        "        \"temperature\": 0.5,\n",
        "        \"maxTokens\": 200\n",
        "    }\n",
        "    converse_api_params = {\n",
        "        \"modelId\": modelId,\n",
        "        \"messages\": [{\"role\": \"user\", \"content\": [{\"text\": prompt}]}],\n",
        "        \"inferenceConfig\": inference_config\n",
        "    }\n",
        "    if system_prompt:\n",
        "        converse_api_params[\"system\"] = [{\"text\": system_prompt}]\n",
        "    if prefill:\n",
        "        converse_api_params[\"messages\"].append({\"role\": \"assistant\", \"content\": [{\"text\": prefill}]})\n",
        "    try:\n",
        "        response = bedrock_client.converse(**converse_api_params)\n",
        "        text_content = response['output']['message']['content'][0]['text']\n",
        "        return text_content\n",
        "\n",
        "    except ClientError as err:\n",
        "        message = err.response['Error']['Message']\n",
        "        print(f\"A client error occured: {message}\")"
      ]
    },
    {
      "cell_type": "markdown",
      "metadata": {},
      "source": [
        "---\n",
        "\n",
        "## \uc218\uc5c5\n",
        "\n",
        "**Claude\ub294 \ub2e4\uc591\ud55c \ubc29\uc2dd\uc73c\ub85c \ucd9c\ub825\uc744 \ud615\uc2dd\ud654\ud560 \uc218 \uc788\uc2b5\ub2c8\ub2e4**. \uadf8\ub807\uac8c \ud558\ub77c\uace0 \uc694\uccad\ud558\uae30\ub9cc \ud558\uba74 \ub429\ub2c8\ub2e4!\n",
        "\n",
        "\uadf8 \uc911 \ud55c \uac00\uc9c0 \ubc29\ubc95\uc740 XML \ud0dc\uadf8\ub97c \uc0ac\uc6a9\ud558\uc5ec \uc751\ub2f5\uc744 \ub2e4\ub978 \ubd88\ud544\uc694\ud55c \ud14d\uc2a4\ud2b8\uc640 \ubd84\ub9ac\ud558\ub294 \uac83\uc785\ub2c8\ub2e4. \uc774\ubbf8 XML \ud0dc\uadf8\ub97c \uc0ac\uc6a9\ud558\uc5ec \ud504\ub86c\ud504\ud2b8\ub97c \ub354 \uba85\ud655\ud558\uace0 \ud30c\uc2f1 \uac00\ub2a5\ud558\uac8c \ub9cc\ub4e4 \uc218 \uc788\ub2e4\ub294 \uac83\uc744 \ubc30\uc6e0\uc2b5\ub2c8\ub2e4. \ub610\ud55c Claude\uc5d0\uac8c **XML \ud0dc\uadf8\ub97c \uc0ac\uc6a9\ud558\uc5ec \ucd9c\ub825\uc744 \ub354 \uba85\ud655\ud558\uace0 \uc774\ud574\ud558\uae30 \uc27d\uac8c \ub9cc\ub4e4\ub77c\uace0 \uc694\uccad\ud560 \uc218 \uc788\uc2b5\ub2c8\ub2e4**."
      ]
    },
    {
      "cell_type": "markdown",
      "metadata": {},
      "source": [
        "### \uc608\uc2dc\n",
        "\n",
        "2\uc7a5\uc5d0\uc11c Claude\uc5d0\uac8c \uc2dc \uc11c\ubb38\uc744 \uc644\uc804\ud788 \uac74\ub108\ub6f0\ub77c\uace0 \uc694\uccad\ud558\uc5ec '\uc2dc \uc11c\ubb38 \ubb38\uc81c'\ub97c \ud574\uacb0\ud55c \uac83\uc744 \uae30\uc5b5\ud558\uc2dc\ub098\uc694? \uc0ac\uc2e4 **Claude\uc5d0\uac8c \uc2dc\ub97c XML \ud0dc\uadf8\ub85c \ubb36\uc73c\ub77c\uace0 \uc9c0\uc2dc\ud558\uc5ec \ube44\uc2b7\ud55c \uacb0\uacfc\ub97c \uc5bb\uc744 \uc218 \uc788\uc2b5\ub2c8\ub2e4**."
      ]
    },
    {
      "cell_type": "code",
      "execution_count": null,
      "metadata": {},
      "outputs": [],
      "source": [
        "# Variable content\n",
        "ANIMAL = \"Rabbit\"\n",
        "\n",
        "# Prompt template with a placeholder for the variable content\n",
        "PROMPT = f\"Please write a haiku about {ANIMAL}. Put it in <haiku> tags.\"\n",
        "\n",
        "# Print Claude's response\n",
        "print(\"--------------------------- Full prompt with variable substutions ---------------------------\")\n",
        "print(PROMPT)\n",
        "print(\"\\n------------------------------------- Claude's response -------------------------------------\")\n",
        "print(get_completion(PROMPT))"
      ]
    },
    {
      "cell_type": "markdown",
      "metadata": {},
      "source": [
        "\uc65c \uc774\ub807\uac8c \ud574\uc57c \ud560\uae4c\uc694? \ucd9c\ub825\uc744 **XML \ud0dc\uadf8\ub85c \ubb36\uc73c\uba74 \uac04\ub2e8\ud55c \ud504\ub85c\uadf8\ub7a8\uc744 \uc791\uc131\ud558\uc5ec XML \ud0dc\uadf8 \uc0ac\uc774\uc758 \ub0b4\uc6a9\ub9cc \ucd94\ucd9c\ud568\uc73c\ub85c\uc368 \ucd5c\uc885 \uc0ac\uc6a9\uc790\uac00 \uc2dc \ubd80\ubd84\ub9cc \uc548\uc815\uc801\uc73c\ub85c \uc5bb\uc744 \uc218 \uc788\uc2b5\ub2c8\ub2e4**.\n",
        "\n",
        "\uc774 \uae30\uc220\uc744 \ud655\uc7a5\ud558\uba74 **\uccab \ubc88\uc9f8 XML \ud0dc\uadf8\ub97c `assistant` \ucc28\ub840\uc5d0 \ub123\uc744 \uc218 \uc788\uc2b5\ub2c8\ub2e4. `assistant` \ucc28\ub840\uc5d0 \ud14d\uc2a4\ud2b8\ub97c \ub123\uc73c\uba74 Claude\uac00 \uc774\ubbf8 \ubb34\uc5b8\uac00\ub97c \ub9d0\ud588\uace0, \uadf8 \uc9c0\uc810\ubd80\ud130 \uacc4\uc18d\ud574\uc57c \ud55c\ub2e4\uace0 \uc9c0\uc2dc\ud558\ub294 \uac83\uacfc \uac19\uc2b5\ub2c8\ub2e4. \uc774 \uae30\uc220\uc744 \"Claude\ub97c \ub300\uc2e0\ud558\uc5ec \ub9d0\ud558\uae30\" \ub610\ub294 \"Claude\uc758 \uc751\ub2f5\uc744 \ubbf8\ub9ac \ucc44\uc6b0\uae30\"\ub77c\uace0 \ud569\ub2c8\ub2e4.\n",
        "\n",
        "\uc544\ub798\uc5d0\uc11c\ub294 \uccab \ubc88\uc9f8 `<haiku>` XML \ud0dc\uadf8\ub97c \uc774\ub807\uac8c \ud588\uc2b5\ub2c8\ub2e4. Claude\uac00 \uc6b0\ub9ac\uac00 \uba48\ucd98 \uc9c0\uc810\ubd80\ud130 \ubc14\ub85c \uc774\uc5b4\uac00\ub294 \uac83\uc744 \ud655\uc778\ud558\uc138\uc694."
      ]
    },
    {
      "cell_type": "code",
      "execution_count": null,
      "metadata": {},
      "outputs": [],
      "source": [
        "# Variable content\n",
        "ANIMAL = \"Cat\"\n",
        "\n",
        "# Prompt template with a placeholder for the variable content\n",
        "PROMPT = f\"Please write a haiku about {ANIMAL}. Put it in <haiku> tags.\"\n",
        "\n",
        "# Prefill for Claude's response\n",
        "PREFILL = \"<haiku>\"\n",
        "\n",
        "# Print Claude's response\n",
        "print(\"--------------------------- Full prompt with variable substutions ---------------------------\")\n",
        "print(\"USER TURN:\")\n",
        "print(PROMPT)\n",
        "print(\"\\nASSISTANT TURN:\")\n",
        "print(PREFILL)\n",
        "print(\"\\n------------------------------------- Claude's response -------------------------------------\")\n",
        "print(get_completion(PROMPT, prefill=PREFILL))"
      ]
    },
    {
      "cell_type": "markdown",
      "metadata": {},
      "source": [
        "Claude\ub294 \ub610\ud55c `JSON`\uacfc \uac19\uc740 \ub2e4\ub978 \ucd9c\ub825 \ud615\uc2dd \uc9c0\uc815 \uc2a4\ud0c0\uc77c\uc744 \uc0ac\uc6a9\ud558\ub294 \ub370\uc5d0\ub3c4 \ub6f0\uc5b4\ub0a9\ub2c8\ub2e4. JSON \ucd9c\ub825\uc744 \uac15\uc81c\ud558\uace0 \uc2f6\ub2e4\uba74(\uacb0\uc815\uc801\uc774\uc9c0\ub294 \uc54a\uc9c0\ub9cc \uadfc\uc0ac\uce58\ub85c), `{`} \uc5ec\ub294 \uc911\uad04\ud638\ub85c Claude\uc758 \uc751\ub2f5\uc744 \ubbf8\ub9ac \ucc44\uc6b8 \uc218 \uc788\uc2b5\ub2c8\ub2e4."
      ]
    },
    {
      "cell_type": "code",
      "execution_count": null,
      "metadata": {},
      "outputs": [],
      "source": [
        "# Variable content\n",
        "ANIMAL = \"Cat\"\n",
        "\n",
        "# Prompt template with a placeholder for the variable content\n",
        "PROMPT = f\"Please write a haiku about {ANIMAL}. Use JSON format with the keys as \\\"first_line\\\", \\\"second_line\\\", and \\\"third_line\\\".\"\n",
        "\n",
        "# Prefill for Claude's response\n",
        "PREFILL = \"{\"\n",
        "\n",
        "# Print Claude's response\n",
        "print(\"--------------------------- Full prompt with variable substutions ---------------------------\")\n",
        "print(\"USER TURN\")\n",
        "print(PROMPT)\n",
        "print(\"\\nASSISTANT TURN\")\n",
        "print(PREFILL)\n",
        "print(\"\\n------------------------------------- Claude's response -------------------------------------\")\n",
        "print(get_completion(PROMPT, prefill=PREFILL))"
      ]
    },
    {
      "cell_type": "markdown",
      "metadata": {},
      "source": [
        "\uc544\ub798\ub294 **\ub3d9\uc77c\ud55c \ud504\ub86c\ud504\ud2b8\uc5d0 \uc5ec\ub7ec \uac1c\uc758 \uc785\ub825 \ubcc0\uc218\uc640 XML \ud0dc\uadf8\ub97c \uc0ac\uc6a9\ud55c \ucd9c\ub825 \ud615\uc2dd \uc9c0\uc815\uc774 \ubaa8\ub450 \ud3ec\ud568\ub41c \uc608\uc2dc**\uc785\ub2c8\ub2e4."
      ]
    },
    {
      "cell_type": "code",
      "execution_count": null,
      "metadata": {},
      "outputs": [],
      "source": [
        "# First input variable\n",
        "EMAIL = \"Hi Zack, just pinging you for a quick update on that prompt you were supposed to write.\"\n",
        "\n",
        "# Second input variable\n",
        "ADJECTIVE = \"olde english\"\n",
        "\n",
        "# Prompt template with a placeholder for the variable content\n",
        "PROMPT = f\"Hey Claude. Here is an email: <email>{EMAIL}</email>. Make this email more {ADJECTIVE}. Write the new version in <{ADJECTIVE}_email> XML tags.\"\n",
        "\n",
        "# Prefill for Claude's response (now as an f-string with a variable)\n",
        "PREFILL = f\"<{ADJECTIVE}_email>\"\n",
        "\n",
        "# Print Claude's response\n",
        "print(\"--------------------------- Full prompt with variable substutions ---------------------------\")\n",
        "print(\"USER TURN\")\n",
        "print(PROMPT)\n",
        "print(\"\\nASSISTANT TURN\")\n",
        "print(PREFILL)\n",
        "print(\"\\n------------------------------------- Claude's response -------------------------------------\")\n",
        "print(get_completion(PROMPT, prefill=PREFILL))"
      ]
    },
    {
      "cell_type": "markdown",
      "metadata": {},
      "source": [
        "#### \ubcf4\ub108\uc2a4 \uc218\uc5c5\n",
        "\n",
        "API\ub97c \ud1b5\ud574 Claude\ub97c \ud638\ucd9c\ud558\ub294 \uacbd\uc6b0 \uc6d0\ud558\ub294 \ud0dc\uadf8\uac00 \ub098\uc624\uba74 Claude\uac00 \uc0d8\ud50c\ub9c1\uc744 \uc911\uc9c0\ud558\ub3c4\ub85d `stop_sequences` \ub9e4\uac1c\ubcc0\uc218\uc5d0 \ub2eb\ub294 XML \ud0dc\uadf8\ub97c \uc804\ub2ec\ud560 \uc218 \uc788\uc2b5\ub2c8\ub2e4. \uc774\ub807\uac8c \ud558\uba74 Claude\uac00 \uc774\ubbf8 \uc6d0\ud558\ub294 \ub2f5\ubcc0\uc744 \uc81c\uacf5\ud55c \ud6c4\uc5d0 \ud558\ub294 \ub9c8\ubb34\ub9ac \ubc1c\uc5b8\uc744 \uc0dd\ub7b5\ud558\uc5ec \ube44\uc6a9\uacfc \ub9c8\uc9c0\ub9c9 \ud1a0\ud070\uae4c\uc9c0\uc758 \uc2dc\uac04\uc744 \uc808\uc57d\ud560 \uc218 \uc788\uc2b5\ub2c8\ub2e4.\n",
        "\n",
        "\uc218\uc5c5 \ud504\ub86c\ud504\ud2b8\ub97c \uc2e4\ud5d8\ud574\ubcf4\uace0 \uc2f6\uc9c0\ub9cc \uc704\uc758 \ub0b4\uc6a9\uc740 \ubcc0\uacbd\ud558\uace0 \uc2f6\uc9c0 \uc54a\ub2e4\uba74 \uc218\uc5c5 \ub178\ud2b8\ubd81 \ub9e8 \uc544\ub798\ub85c \uc2a4\ud06c\ub864\ud558\uc5ec [**\uc608\uc2dc \uc2e4\uc2b5 \uacf5\uac04**](#example-playground)\uc744 \ubc29\ubb38\ud558\uc138\uc694."
      ]
    },
    {
      "cell_type": "markdown",
      "metadata": {},
      "source": [
        "---\n",
        "\n",
        "## \uc5f0\uc2b5 \ubb38\uc81c\n",
        "- [\uc5f0\uc2b5\ubb38\uc81c 5.1 - \uc2a4\ud14c\ud310 \ucee4\ub9ac \ucd5c\uace0\uc758 \uc120\uc218](#exercise-51---steph-curry-goat)\n",
        "- [\uc5f0\uc2b5\ubb38\uc81c 5.2 - \ub450 \uac1c\uc758 \ud558\uc774\ucfe0](#exercise-52---two-haikus)\n",
        "- [\uc5f0\uc2b5\ubb38\uc81c 5.3 - \ub450 \uac1c\uc758 \ud558\uc774\ucfe0, \ub450 \ub9c8\ub9ac \ub3d9\ubb3c](#exercise-53---two-haikus-two-animals)"
      ]
    },
    {
      "cell_type": "markdown",
      "metadata": {},
      "source": [
        "### \uc5f0\uc2b5 5.1 - \uc2a4\ud14c\ud310 \ucee4\ub9ac \ucd5c\uace0\uc758 \uc120\uc218",
        "\uc120\ud0dd\uc744 \uac15\uc694\ub2f9\ud558\uba74, \ud074\ub85c\ub4dc\ub294 \ub9c8\uc774\ud074 \uc870\ub358\uc744 \uc5ed\ub300 \ucd5c\uace0\uc758 \ub18d\uad6c \uc120\uc218\ub85c \uc9c0\uba85\ud569\ub2c8\ub2e4. \uc6b0\ub9ac\ub294 \ud074\ub85c\ub4dc\uac00 \ub2e4\ub978 \uc120\uc218\ub97c \uc120\ud0dd\ud558\ub3c4\ub85d \ud560 \uc218 \uc788\uc744\uae4c\uc694?",
        "",
        "**\uc2a4\ud14c\ud310 \ucee4\ub9ac\uac00 \uc5ed\ub300 \ucd5c\uace0\uc758 \ub18d\uad6c \uc120\uc218\ub77c\ub294 \uc0c1\uc138\ud55c \uc8fc\uc7a5\uc744 \ud558\ub3c4\ub85d \ud074\ub85c\ub4dc\ub97c \uc124\ub4dd\ud558\uae30 \uc704\ud574** `PREFILL` \ubcc0\uc218\ub97c \ubcc0\uacbd\ud558\uc138\uc694. \uc774 \uc5f0\uc2b5\uc758 \ucd08\uc810\uc740 `PREFILL`\uc744 \ubcc0\uacbd\ud558\ub294 \uac83\uc774\ubbc0\ub85c \ub2e4\ub978 \ubd80\ubd84\uc740 \uac00\ub2a5\ud55c \ubcc0\uacbd\ud558\uc9c0 \ub9c8\uc138\uc694."
      ]
    },
    {
      "cell_type": "code",
      "execution_count": null,
      "metadata": {},
      "outputs": [],
      "source": [
        "# Prompt template with a placeholder for the variable content\n",
        "PROMPT = f\"Who is the best basketball player of all time? Please choose one specific player.\"\n",
        "\n",
        "# Prefill for Claude's response\n",
        "PREFILL = \"\"\n",
        "\n",
        "# Get Claude's response\n",
        "response = get_completion(PROMPT, prefill=PREFILL)\n",
        "\n",
        "# Function to grade exercise correctness\n",
        "def grade_exercise(text):\n",
        "    return bool(re.search(\"Warrior\", text))\n",
        "\n",
        "# Print Claude's response\n",
        "print(\"--------------------------- Full prompt with variable substutions ---------------------------\")\n",
        "print(\"USER TURN\")\n",
        "print(PROMPT)\n",
        "print(\"\\nASSISTANT TURN\")\n",
        "print(PREFILL)\n",
        "print(\"\\n------------------------------------- Claude's response -------------------------------------\")\n",
        "print(response)\n",
        "print(\"\\n------------------------------------------ GRADING ------------------------------------------\")\n",
        "print(\"This exercise has been correctly solved:\", grade_exercise(response))"
      ]
    },
    {
      "cell_type": "markdown",
      "metadata": {},
      "source": [
        "\u2753 \ud78c\ud2b8\uac00 \ud544\uc694\ud558\ub2e4\uba74 \uc544\ub798 \uc140\uc744 \uc2e4\ud589\ud558\uc138\uc694!"
      ]
    },
    {
      "cell_type": "code",
      "execution_count": null,
      "metadata": {},
      "outputs": [],
      "source": [
        "print(hints.exercise_5_1_hint)"
      ]
    },
    {
      "cell_type": "markdown",
      "metadata": {},
      "source": [
        "### \uc5f0\uc2b5 5.2 - \ub450 \uac1c\uc758 \ud558\uc774\ucfe0",
        "\uc544\ub798\uc758 `PROMPT`\ub97c XML \ud0dc\uadf8\ub97c \uc0ac\uc6a9\ud558\uc5ec \uc218\uc815\ud558\uc5ec \ud074\ub85c\ub4dc\uac00 \ud55c \ub3d9\ubb3c\uc5d0 \ub300\ud574 \ud558\ub098\uc758 \ud558\uc774\ucfe0\uac00 \uc544\ub2cc \ub450 \uac1c\uc758 \ud558\uc774\ucfe0\ub97c \uc791\uc131\ud558\ub3c4\ub85d \ud558\uc138\uc694. \ud55c \uc2dc\uac00 \ub05d\ub098\uace0 \ub2e4\ub978 \uc2dc\uac00 \uc2dc\uc791\ub418\ub294 \ubd80\ubd84\uc774 \uba85\ud655\ud574\uc57c \ud569\ub2c8\ub2e4."
      ]
    },
    {
      "cell_type": "code",
      "execution_count": null,
      "metadata": {},
      "outputs": [],
      "source": [
        "# Variable content\n",
        "ANIMAL = \"\"\n",
        "\n",
        "# number of haikus\n",
        "NUMBER = \"\"\n",
        "\n",
        "# Prefill for Claude's response\n",
        "PREFILL = \"\"\n",
        "\n",
        "# Prompt template with a placeholder for the variable content\n",
        "PROMPT = f\"Please write {NUMBER} haiku(s) about {ANIMAL}. Put each haiku(s) in {PREFILL} tags.\"\n",
        "\n",
        "# Get Claude's response\n",
        "response = get_completion(PROMPT, prefill=PREFILL)\n",
        "\n",
        "# Function to grade exercise correctness\n",
        "def grade_exercise(text):\n",
        "    return bool(\n",
        "        (re.search(\"cat\", text.lower()) and re.search(\"<haiku>\", text))\n",
        "        and (text.count(\"\\n\") + 1) > 5\n",
        "    )\n",
        "\n",
        "# Print Claude's response\n",
        "print(\"--------------------------- Full prompt with variable substutions ---------------------------\")\n",
        "print(\"USER TURN\")\n",
        "print(PROMPT)\n",
        "print(\"\\nASSISTANT TURN\")\n",
        "print(PREFILL)\n",
        "print(\"\\n------------------------------------- Claude's response -------------------------------------\")\n",
        "print(response)\n",
        "print(\"\\n------------------------------------------ GRADING ------------------------------------------\")\n",
        "print(\"This exercise has been correctly solved:\", grade_exercise(response))"
      ]
    },
    {
      "cell_type": "markdown",
      "metadata": {},
      "source": [
        "\u2753 \ud78c\ud2b8\uac00 \ud544\uc694\ud558\ub2e4\uba74 \uc544\ub798 \uc140\uc744 \uc2e4\ud589\ud558\uc138\uc694!"
      ]
    },
    {
      "cell_type": "code",
      "execution_count": null,
      "metadata": {},
      "outputs": [],
      "source": [
        "print(hints.exercise_5_2_hint)"
      ]
    },
    {
      "cell_type": "markdown",
      "metadata": {},
      "source": [
        "### \uc5f0\uc2b5 5.3 - \ub450 \uac1c\uc758 \ud558\uc774\ucfe0, \ub450 \ub9c8\ub9ac \ub3d9\ubb3c",
        "`PROMPT`\ub97c \uc218\uc815\ud558\uc5ec **\ud074\ub85c\ub4dc\uac00 \ub450 \ub9c8\ub9ac \ub2e4\ub978 \ub3d9\ubb3c\uc5d0 \ub300\ud574 \ub450 \uac1c\uc758 \ud558\uc774\ucfe0\ub97c \uc791\uc131\ud558\ub3c4\ub85d** \ud558\uc138\uc694. \uccab \ubc88\uc9f8 \ub300\uccb4\ub97c \uc704\ud574 `{ANIMAL1}`\uc744, \ub450 \ubc88\uc9f8 \ub300\uccb4\ub97c \uc704\ud574 `{ANIMAL2}`\ub97c \uc0ac\uc6a9\ud558\uc138\uc694."
      ]
    },
    {
      "cell_type": "code",
      "execution_count": null,
      "metadata": {},
      "outputs": [],
      "source": [
        "# First input variable\n",
        "ANIMAL1 = \"Cat\"\n",
        "\n",
        "# Second input variable\n",
        "ANIMAL2 = \"Dog\"\n",
        "\n",
        "# number of haikus\n",
        "NUMBER = \"two\"\n",
        "\n",
        "# Prompt template with a placeholder for the variable content\n",
        "PROMPT = f\"Please write a haiku about {ANIMAL1}. Put it in <haiku> tags.\"\n",
        "\n",
        "# Get Claude's response\n",
        "response = get_completion(PROMPT)\n",
        "\n",
        "# Function to grade exercise correctness\n",
        "def grade_exercise(text):\n",
        "    return bool(re.search(\"tail\", text.lower()) and re.search(\"cat\", text.lower()) and re.search(\"<haiku>\", text))\n",
        "\n",
        "# Print Claude's response\n",
        "print(\"--------------------------- Full prompt with variable substutions ---------------------------\")\n",
        "print(\"USER TURN\")\n",
        "print(PROMPT)\n",
        "print(\"\\n------------------------------------- Claude's response -------------------------------------\")\n",
        "print(response)\n",
        "print(\"\\n------------------------------------------ GRADING ------------------------------------------\")\n",
        "print(\"This exercise has been correctly solved:\", grade_exercise(response))"
      ]
    },
    {
      "cell_type": "markdown",
      "metadata": {},
      "source": [
        "\u2753 \ud78c\ud2b8\uac00 \ud544\uc694\ud558\ub2e4\uba74 \uc544\ub798 \uc140\uc744 \uc2e4\ud589\ud558\uc138\uc694!"
      ]
    },
    {
      "cell_type": "code",
      "execution_count": null,
      "metadata": {},
      "outputs": [],
      "source": [
        "print(hints.exercise_5_3_hint)"
      ]
    },
    {
      "cell_type": "markdown",
      "metadata": {},
      "source": [
        "### \ucd95\ud558\ud569\ub2c8\ub2e4!",
        "",
        "\uc9c0\uae08\uae4c\uc9c0\uc758 \ubaa8\ub4e0 \uc5f0\uc2b5 \ubb38\uc81c\ub97c \ud574\uacb0\ud588\ub2e4\uba74 \ub2e4\uc74c \uc7a5\uc73c\ub85c \ub118\uc5b4\uac08 \uc900\ube44\uac00 \ub418\uc5c8\uc2b5\ub2c8\ub2e4. \ud504\ub86c\ud504\ud2b8 \uc791\uc131\uc744 \uc990\uae30\uc138\uc694!"
      ]
    },
    {
      "cell_type": "markdown",
      "metadata": {},
      "source": [
        "---",
        "",
        "## \uc608\uc81c \ub180\uc774\ud130",
        "",
        "\uc774 \uc601\uc5ed\uc5d0\uc11c\ub294 \uc774 \uac15\uc758\uc5d0\uc11c \ubcf4\uc5ec\uc900 \ud504\ub86c\ud504\ud2b8 \uc608\uc81c\ub97c \uc790\uc720\ub86d\uac8c \uc2e4\ud5d8\ud558\uace0 \ud504\ub86c\ud504\ud2b8\ub97c \uc218\uc815\ud558\uc5ec \ud074\ub85c\ub4dc\uc758 \uc751\ub2f5\uc774 \uc5b4\ub5bb\uac8c \ub2ec\ub77c\uc9c0\ub294\uc9c0 \ud655\uc778\ud560 \uc218 \uc788\uc2b5\ub2c8\ub2e4."
      ]
    },
    {
      "cell_type": "code",
      "execution_count": null,
      "metadata": {},
      "outputs": [],
      "source": [
        "# Variable content\n",
        "ANIMAL = \"Rabbit\"\n",
        "\n",
        "# Prompt template with a placeholder for the variable content\n",
        "PROMPT = f\"Please write a haiku about {ANIMAL}. Put it in <haiku> tags.\"\n",
        "\n",
        "# Print Claude's response\n",
        "print(\"--------------------------- Full prompt with variable substutions ---------------------------\")\n",
        "print(PROMPT)\n",
        "print(\"\\n------------------------------------- Claude's response -------------------------------------\")\n",
        "print(get_completion(PROMPT))"
      ]
    },
    {
      "cell_type": "code",
      "execution_count": null,
      "metadata": {},
      "outputs": [],
      "source": [
        "# Variable content\n",
        "ANIMAL = \"Cat\"\n",
        "\n",
        "# Prompt template with a placeholder for the variable content\n",
        "PROMPT = f\"Please write a haiku about {ANIMAL}. Put it in <haiku> tags.\"\n",
        "\n",
        "# Prefill for Claude's response\n",
        "PREFILL = \"<haiku>\"\n",
        "\n",
        "# Print Claude's response\n",
        "print(\"--------------------------- Full prompt with variable substutions ---------------------------\")\n",
        "print(\"USER TURN:\")\n",
        "print(PROMPT)\n",
        "print(\"\\nASSISTANT TURN:\")\n",
        "print(PREFILL)\n",
        "print(\"\\n------------------------------------- Claude's response -------------------------------------\")\n",
        "print(get_completion(PROMPT, prefill=PREFILL))"
      ]
    },
    {
      "cell_type": "code",
      "execution_count": null,
      "metadata": {},
      "outputs": [],
      "source": [
        "# Variable content\n",
        "ANIMAL = \"Cat\"\n",
        "\n",
        "# Prompt template with a placeholder for the variable content\n",
        "PROMPT = f\"Please write a haiku about {ANIMAL}. Use JSON format with the keys as \\\"first_line\\\", \\\"second_line\\\", and \\\"third_line\\\".\"\n",
        "\n",
        "# Prefill for Claude's response\n",
        "PREFILL = \"{\"\n",
        "\n",
        "# Print Claude's response\n",
        "print(\"--------------------------- Full prompt with variable substutions ---------------------------\")\n",
        "print(\"USER TURN\")\n",
        "print(PROMPT)\n",
        "print(\"\\nASSISTANT TURN\")\n",
        "print(PREFILL)\n",
        "print(\"\\n------------------------------------- Claude's response -------------------------------------\")\n",
        "print(get_completion(PROMPT, prefill=PREFILL))"
      ]
    },
    {
      "cell_type": "code",
      "execution_count": null,
      "metadata": {
        "tags": []
      },
      "outputs": [],
      "source": [
        "# First input variable\n",
        "EMAIL = \"Hi Zack, just pinging you for a quick update on that prompt you were supposed to write.\"\n",
        "\n",
        "# Second input variable\n",
        "ADJECTIVE = \"olde english\"\n",
        "\n",
        "# Prompt template with a placeholder for the variable content\n",
        "PROMPT = f\"Hey Claude. Here is an email: <email>{EMAIL}</email>. Make this email more {ADJECTIVE}. Write the new version in <{ADJECTIVE}_email> XML tags.\"\n",
        "\n",
        "# Prefill for Claude's response (now as an f-string with a variable)\n",
        "PREFILL = f\"<{ADJECTIVE}_email>\"\n",
        "\n",
        "# Print Claude's response\n",
        "print(\"--------------------------- Full prompt with variable substutions ---------------------------\")\n",
        "print(\"USER TURN\")\n",
        "print(PROMPT)\n",
        "print(\"\\nASSISTANT TURN\")\n",
        "print(PREFILL)\n",
        "print(\"\\n------------------------------------- Claude's response -------------------------------------\")\n",
        "print(get_completion(PROMPT, prefill=PREFILL))"
      ]
    }
  ],
  "metadata": {
    "kernelspec": {
      "display_name": "",
      "name": ""
    },
    "language_info": {
      "codemirror_mode": {
        "name": "ipython",
        "version": 3
      },
      "file_extension": ".py",
      "mimetype": "text/x-python",
      "name": "python",
      "nbconvert_exporter": "python",
      "pygments_lexer": "ipython3",
      "version": "3.10.14"
    }
  },
  "nbformat": 4,
  "nbformat_minor": 4
}