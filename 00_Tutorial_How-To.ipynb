{
  "cells": [
    {
      "cell_type": "markdown",
      "metadata": {},
      "source": [
        "# 튜토리얼 방법\n",
        "\n",
        "이 튜토리얼에서는 요구 사항과 환경 변수가 워크샵의 모든 노트북에 저장되도록 이 초기 노트북을 먼저 실행해야 합니다."
      ]
    },
    {
      "cell_type": "markdown",
      "metadata": {},
      "source": [
        "## 시작 방법\n",
        "\n",
        "1. 강사 주도 워크샵에 참석하거나 제공된 [CloudFormation 템플릿](https://raw.githubusercontent.com/aws-samples/prompt-engineering-with-anthropic-claude-v-3/main/cloudformation/workshop-v1-final-cfn.yml)을 사용하여 워크샵 인프라를 배포한 경우 2단계로 진행할 수 있습니다. 그렇지 않은 경우 워크샵 [GitHub 저장소](https://github.com/aws-samples/prompt-engineering-with-anthropic-claude-v-3)를 로컬 머신에 다운로드해야 합니다.\n",
        "\n",
        "2. 다음 명령을 실행하여 필요한 종속성을 설치하세요.\n",
        " "
      ]
    },
    {
      "cell_type": "markdown",
      "metadata": {},
      "source": [
        "> ⚠️ **pip의 종속성 해결 프로그램과 관련된 오류 메시지는 무시하세요.**"
      ]
    },
    {
      "cell_type": "code",
      "execution_count": null,
      "metadata": {
        "tags": []
      },
      "outputs": [],
      "source": [
        "%pip install -qU pip\n",
        "%pip install -qUr requirements.txt --force-reinstall"
      ]
    },
    {
      "cell_type": "markdown",
      "metadata": {},
      "source": [
        "3. 제공된 지침에 따라 노트북 셀을 순서대로 실행하세요."
      ]
    },
    {
      "cell_type": "markdown",
      "metadata": {},
      "source": [
        "---\n",
        "\n",
        "## 사용 참고 사항 및 팁 💡\n",
        "\n",
        "- 이 과정에서는 `temperature`는 0의 값을 가지고  Claude 3 Haiku를 사용합니다. `temperature` 에 대해서는 이 과정의 뒷부분에서 더 자세히 다룰 것입니다. 지금은 이러한 설정이 더 결정적인 결과를 산출한다는 것을 이해하면 됩니다. 이 과정의 모든 프롬프트 엔지니어링 기술은 Claude 2, Claude Instant 1.2와 같은 이전 세대 레거시 Claude 모델에도 적용됩니다.\n",
        "\n",
        "- `Shift + Enter`를 사용하여 셀을 실행하고 다음 셀로 이동할 수 있습니다.\n",
        "\n",
        "- 튜토리얼 페이지 하단에 도달하면 폴더 내 다음 번호가 매겨진 파일로 이동하거나, 해당 챕터 파일의 내용이 끝났다면 다음 번호가 매겨진 폴더로 이동하세요.\n",
        "\n",
        "### Boto3 SDK 및 Converse API\n",
        "이 튜토리얼 전체에서 [Amazon Boto3 SDK](https://boto3.amazonaws.com/v1/documentation/api/latest/reference/services/bedrock-runtime.html)와 [Converse API](https://boto3.amazonaws.com/v1/documentation/api/latest/reference/services/bedrock-runtime/client/converse.html)를 사용할 것입니다. \n",
        "\n",
        "아래는 이 튜토리얼에서 프롬프트를 실행하는 모습의 예시입니다. 먼저 `get_completion`이라는 헬퍼 함수를 만들어 프롬프트를 Claude에 보내고 Claude가 생성한 응답을 반환합니다. 지금 그 셀을 실행하세요."
      ]
    },
    {
      "cell_type": "markdown",
      "metadata": {},
      "source": [
        "먼저 모델 이름과 리전을 설정하고 저장합니다."
      ]
    },
    {
      "cell_type": "code",
      "execution_count": null,
      "metadata": {},
      "outputs": [],
      "source": [
        "import boto3\n",
        "import json\n",
        "from datetime import datetime\n",
        "from botocore.exceptions import ClientError\n",
        "\n",
        "session = boto3.Session()\n",
        "region = session.region_name"
      ]
    },
    {
      "cell_type": "code",
      "execution_count": null,
      "metadata": {},
      "outputs": [],
      "source": [
        "#modelId = 'anthropic.claude-3-sonnet-20240229-v1:0'\n",
        "modelId = 'anthropic.claude-3-haiku-20240307-v1:0'\n",
        "\n",
        "%store modelId\n",
        "%store region\n",
        "\n",
        "print(f'Using modelId: {modelId}')\n",
        "print('Using region: ', region)\n",
        "\n",
        "bedrock_client = boto3.client(service_name = 'bedrock-runtime', region_name = region,)"
      ]
    },
    {
      "cell_type": "markdown",
      "metadata": {},
      "source": [
        "그런 다음 `get_completion`이라는 헬퍼 함수를 만들어 프롬프트를 Claude에 보내고 Claude가 생성한 응답을 반환합니다. 지금 그 셀을 실행하세요."
      ]
    },
    {
      "cell_type": "code",
      "execution_count": null,
      "metadata": {
        "tags": []
      },
      "outputs": [],
      "source": [
        "def get_completion(prompt, system_prompt=None):\n",
        "    # Define the inference configuration\n",
        "    inference_config = {\n",
        "        \"temperature\": 0.0,  # Set the temperature for generating diverse responses\n",
        "        \"maxTokens\": 200  # Set the maximum number of tokens to generate\n",
        "    }\n",
        "    # Define additional model fields\n",
        "    additional_model_fields = {\n",
        "        \"top_p\": 1,  # Set the top_p value for nucleus sampling\n",
        "    }\n",
        "    # Create the converse method parameters\n",
        "    converse_api_params = {\n",
        "        \"modelId\": modelId,  # Specify the model ID to use\n",
        "        \"messages\": [{\"role\": \"user\", \"content\": [{\"text\": prompt}]}],  # Provide the user's prompt\n",
        "        \"inferenceConfig\": inference_config,  # Pass the inference configuration\n",
        "        \"additionalModelRequestFields\": additional_model_fields  # Pass additional model fields\n",
        "    }\n",
        "    # Check if system_text is provided\n",
        "    if system_prompt:\n",
        "        # If system_text is provided, add the system parameter to the converse_params dictionary\n",
        "        converse_api_params[\"system\"] = [{\"text\": system_prompt}]\n",
        "\n",
        "    # Send a request to the Bedrock client to generate a response\n",
        "    try:\n",
        "        response = bedrock_client.converse(**converse_api_params)\n",
        "\n",
        "        # Extract the generated text content from the response\n",
        "        text_content = response['output']['message']['content'][0]['text']\n",
        "\n",
        "        # Return the generated text content\n",
        "        return text_content\n",
        "\n",
        "    except ClientError as err:\n",
        "        message = err.response['Error']['Message']\n",
        "        print(f\"A client error occured: {message}\")"
      ]
    },
    {
      "cell_type": "markdown",
      "metadata": {},
      "source": [
        "이제 Claude에 대한 예시 프롬프트를 작성하고 `get_completion` 헬퍼 함수를 실행하여 Claude의 출력을 인쇄할 것입니다. 아래 셀을 실행하면 그 아래에 Claude의 응답이 출력됩니다.\n",
        "\n",
        "프롬프트 문자열을 수정하여 Claude에게 다른 응답을 이끌어 내는 것도 해보세요."
      ]
    },
    {
      "cell_type": "code",
      "execution_count": null,
      "metadata": {
        "tags": []
      },
      "outputs": [],
      "source": [
        "# Prompt\n",
        "prompt = \"Hello, Claude!\"\n",
        "\n",
        "# Get Claude's response\n",
        "print(get_completion(prompt))"
      ]
    },
    {
      "cell_type": "markdown",
      "metadata": {},
      "source": [
        "앞서 정의한 `modelId`와 `region` 변수는 이 튜토리얼 전체에서 사용됩니다. 각 튜토리얼 페이지의 셀을 위에서부터 아래로 실행하는 것만 확인하세요."
      ]
    }
  ],
  "metadata": {
    "kernelspec": {
      "display_name": "Python 3",
      "language": "python",
      "name": "python3"
    },
    "language_info": {
      "codemirror_mode": {
        "name": "ipython",
        "version": 3
      },
      "file_extension": ".py",
      "mimetype": "text/x-python",
      "name": "python",
      "nbconvert_exporter": "python",
      "pygments_lexer": "ipython3",
      "version": "3.9.6"
    }
  },
  "nbformat": 4,
  "nbformat_minor": 4
}
