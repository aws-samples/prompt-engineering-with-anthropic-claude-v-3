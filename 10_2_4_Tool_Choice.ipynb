{
  "cells": [
    {
      "cell_type": "markdown",
      "metadata": {},
      "source": [
        "# \ubd80\ub85d 10.2.4: \ub3c4\uad6c \uc120\ud0dd"
      ]
    },
    {
      "cell_type": "markdown",
      "metadata": {},
      "source": [
        "Claude API\ub294 `tool_choice` \ub77c\ub294 \ub9e4\uac1c\ubcc0\uc218\ub97c \uc9c0\uc6d0\ud558\uc5ec Claude\uac00 \ub3c4\uad6c\ub97c \ud638\ucd9c\ud558\ub294 \ubc29\uc2dd\uc744 \uc9c0\uc815\ud560 \uc218 \uc788\uc2b5\ub2c8\ub2e4. \uc774 \ub178\ud2b8\ubd81\uc5d0\uc11c\ub294 \uc774 \ub9e4\uac1c\ubcc0\uc218\uac00 \uc5b4\ub5bb\uac8c \uc791\ub3d9\ud558\ub294\uc9c0\uc640 \uc5b8\uc81c \uc0ac\uc6a9\ud574\uc57c \ud558\ub294\uc9c0 \uc0b4\ud3b4\ubcf4\uaca0\uc2b5\ub2c8\ub2e4.\n",
        "\n",
        "`tool_choice` \ub9e4\uac1c\ubcc0\uc218\ub97c \uc0ac\uc6a9\ud560 \ub54c \uc138 \uac00\uc9c0 \uc635\uc158\uc774 \uc788\uc2b5\ub2c8\ub2e4: \n",
        "\n",
        "* `auto`\ub294 Claude\uac00 \uc81c\uacf5\ub41c \ub3c4\uad6c\ub97c \ud638\ucd9c\ud560\uc9c0 \uc5ec\ubd80\ub97c \uacb0\uc815\ud558\ub3c4\ub85d \ud5c8\uc6a9\ud569\ub2c8\ub2e4.\n",
        "* `any`\ub294 Claude\uc5d0\uac8c \uc81c\uacf5\ub41c \ub3c4\uad6c \uc911 \ud558\ub098\ub97c \uc0ac\uc6a9\ud558\ub3c4\ub85d \uc9c0\uc2dc\ud558\uc9c0\ub9cc \ud2b9\uc815 \ub3c4\uad6c\ub97c \uac15\uc81c\ud558\uc9c0\ub294 \uc54a\uc2b5\ub2c8\ub2e4.\n",
        "* `tool`\uc740 Claude\uc5d0\uac8c \ud2b9\uc815 \ub3c4\uad6c\ub97c \ud56d\uc0c1 \uc0ac\uc6a9\ud558\ub3c4\ub85d \uac15\uc81c\ud569\ub2c8\ub2e4.\n",
        "\n",
        "\n",
        "\ub2e4\uc74c \ub2e4\uc774\uc5b4\uadf8\ub7a8\uc740 \uac01 \uc635\uc158\uc774 \uc5b4\ub5bb\uac8c \uc791\ub3d9\ud558\ub294\uc9c0 \ubcf4\uc5ec\uc90d\ub2c8\ub2e4: \n",
        "\n",
        "![tool_choice.png](./images/tool_choice.png)\n",
        "\n",
        "\uac01 \uc635\uc158\uc744 \uc790\uc138\ud788 \uc0b4\ud3b4\ubcf4\uaca0\uc2b5\ub2c8\ub2e4. Anthropic SDK\ub97c \uac00\uc838\uc624\ub294 \uac83\ubd80\ud130 \uc2dc\uc791\ud558\uaca0\uc2b5\ub2c8\ub2e4:"
      ]
    },
    {
      "cell_type": "code",
      "execution_count": null,
      "metadata": {
        "tags": []
      },
      "outputs": [],
      "source": [
        "%pip install -qU pip\n",
        "%pip install -qUr requirements.txt"
      ]
    },
    {
      "cell_type": "code",
      "execution_count": null,
      "metadata": {
        "tags": []
      },
      "outputs": [],
      "source": [
        "import boto3\n",
        "import json\n",
        "from datetime import datetime\n",
        "from botocore.exceptions import ClientError\n",
        "\n",
        "session = boto3.Session()\n",
        "region = session.region_name"
      ]
    },
    {
      "cell_type": "code",
      "execution_count": null,
      "metadata": {
        "tags": []
      },
      "outputs": [],
      "source": [
        "modelId = 'anthropic.claude-3-sonnet-20240229-v1:0'\n",
        "#modelId = 'anthropic.claude-3-haiku-20240307-v1:0'\n",
        "\n",
        "print(f'Using modelId: {modelId}')\n",
        "print(f'Using region: ', {region})\n",
        "\n",
        "bedrock_client = boto3.client(service_name = 'bedrock-runtime', region_name = region,)"
      ]
    },
    {
      "cell_type": "markdown",
      "metadata": {},
      "source": [
        "## \uc790\ub3d9\n",
        "\n",
        "`tool_choice`\ub97c `auto`\ub85c \uc124\uc815\ud558\uba74 \ubaa8\ub378\uc774 \ub3c4\uad6c\ub97c \uc0ac\uc6a9\ud560\uc9c0 \uc5ec\ubd80\ub97c \uc790\ub3d9\uc73c\ub85c \uacb0\uc815\ud560 \uc218 \uc788\uc2b5\ub2c8\ub2e4. \uc774\uac83\uc774 `tool_choice` \ub9e4\uac1c\ubcc0\uc218\ub97c \uc0ac\uc6a9\ud558\uc9c0 \uc54a\uc744 \ub54c \ub3c4\uad6c\ub97c \uc0ac\uc6a9\ud560 \ub54c\uc758 \uae30\ubcf8 \ub3d9\uc791\uc785\ub2c8\ub2e4.\n",
        "\n",
        "\uc774\ub97c \ubcf4\uc5ec\uc8fc\uae30 \uc704\ud574 Claude\uc5d0\uac8c \uac00\uc9dc \uc6f9 \uac80\uc0c9 \ub3c4\uad6c\ub97c \uc81c\uacf5\ud560 \uac83\uc785\ub2c8\ub2e4. Claude\uc5d0\uac8c \uc9c8\ubb38\uc744 \ud558\ub294\ub370, \uadf8\uc911 \uc77c\ubd80\ub294 \uc6f9 \uac80\uc0c9 \ub3c4\uad6c\ub97c \ud638\ucd9c\ud574\uc57c \ud558\uace0 \ub2e4\ub978 \uc77c\ubd80\ub294 Claude\uac00 \uc2a4\uc2a4\ub85c \ub2f5\ud560 \uc218 \uc788\uc5b4\uc57c \ud569\ub2c8\ub2e4.\n",
        "\n",
        "\uba3c\uc800 `web_search`\ub77c\ub294 \ub3c4\uad6c\ub97c \uc815\uc758\ud569\uc2dc\ub2e4. \uc774 \ub370\ubaa8\ub97c \uac04\ub2e8\ud558\uac8c \uc720\uc9c0\ud558\uae30 \uc704\ud574 \uc2e4\uc81c\ub85c \uc6f9\uc744 \uac80\uc0c9\ud558\uc9c0\ub294 \uc54a\uc2b5\ub2c8\ub2e4.\n",
        "\n",
        "`toolChoice`\ub97c `auto`\ub85c \uc124\uc815\ud569\ub2c8\ub2e4."
      ]
    },
    {
      "cell_type": "code",
      "execution_count": null,
      "metadata": {
        "tags": []
      },
      "outputs": [],
      "source": [
        "def web_search(topic):\n",
        "    print(f\"pretending to search the web for {topic}\")\n",
        "\n",
        "toolConfig = {'tools': [],\n",
        "        \"toolChoice\": {\n",
        "        \"auto\":{},\n",
        "    }\n",
        "}\n",
        "\n",
        "toolConfig['tools'].append({\n",
        "      \"toolSpec\": {\n",
        "        \"name\": \"web_search\",\n",
        "        \"description\": \"A tool to retrieve up to date information on a given topic by searching the web. Only search the web for queries that you can not confidently answer.\",\n",
        "        \"inputSchema\": {\n",
        "          \"json\": {\n",
        "            \"type\": \"object\",\n",
        "            \"properties\": {\n",
        "              \"topic\": {\"type\": \"string\", \"description\": \"The topic to search the web for\"}\n",
        "            },\n",
        "            \"required\": [\"topic\"]\n",
        "          }\n",
        "        }\n",
        "      }\n",
        "    })"
      ]
    },
    {
      "cell_type": "markdown",
      "metadata": {},
      "source": [
        "\ub2e4\uc74c\uc73c\ub85c `user_query`\ub97c \ubc1b\uc544 Claude\uc5d0 \uc804\ub2ec\ud558\uace0 `web_search_tool`\ub3c4 \ud568\uaed8 \uc804\ub2ec\ud558\ub294 \ud568\uc218\ub97c \uc791\uc131\ud569\ub2c8\ub2e4. "
      ]
    },
    {
      "cell_type": "markdown",
      "metadata": {},
      "source": [
        "\uc804\uccb4 \ud568\uc218\ub294 \ub2e4\uc74c\uacfc \uac19\uc2b5\ub2c8\ub2e4:"
      ]
    },
    {
      "cell_type": "code",
      "execution_count": null,
      "metadata": {},
      "outputs": [],
      "source": [
        "from datetime import date\n",
        "\n",
        "def chat_with_web_search(user_query):\n",
        "    messages = [{\"role\": \"user\", \"content\": [{\"text\": user_query}]}]\n",
        "\n",
        "    system_prompt=f\"\"\"\n",
        "    Answer as many questions as you can using your existing knowledge.  \n",
        "    Only search the web for queries that you can not confidently answer.\n",
        "    Today's date is {date.today().strftime(\"%B %d %Y\")}\n",
        "    If you think a user's question involves something in the future that hasn't happened yet, use the search tool.\n",
        "    \"\"\"\n",
        "\n",
        "    converse_api_params = {\n",
        "        \"modelId\": modelId,\n",
        "        \"system\": [{\"text\": system_prompt}],\n",
        "        \"messages\": messages,\n",
        "        \"inferenceConfig\": {\"temperature\": 0.0, \"maxTokens\": 1000},\n",
        "        \"toolConfig\":toolConfig\n",
        "    }\n",
        "\n",
        "    response = bedrock_client.converse(**converse_api_params)\n",
        "\n",
        "    stop_reason = response['stopReason']\n",
        "\n",
        "    if stop_reason == \"end_turn\":\n",
        "        print(\"Claude did NOT call a tool\")\n",
        "        print(f\"Assistant: {stop_reason}\")\n",
        "    elif stop_reason == \"tool_use\":\n",
        "        print(\"Claude wants to use a tool\")\n",
        "        print(stop_reason)"
      ]
    },
    {
      "cell_type": "markdown",
      "metadata": {},
      "source": [
        "Claude\uac00 \ub3c4\uad6c\ub97c \uc0ac\uc6a9\ud558\uc9c0 \uc54a\uace0 \ub2f5\ud560 \uc218 \uc788\ub294 \uc9c8\ubb38\uc73c\ub85c \uc2dc\uc791\ud574 \ubcf4\uaca0\uc2b5\ub2c8\ub2e4:"
      ]
    },
    {
      "cell_type": "code",
      "execution_count": null,
      "metadata": {},
      "outputs": [],
      "source": [
        "chat_with_web_search(\"What color is the sky?\")"
      ]
    },
    {
      "cell_type": "markdown",
      "metadata": {},
      "source": [
        "\"\ud558\ub298\uc740 \ubb34\uc2a8 \uc0c9\uc778\uac00\uc694?\"\ub77c\uace0 \ubb3c\uc5c8\uc744 \ub54c, Claude\ub294 \ub3c4\uad6c\ub97c \uc0ac\uc6a9\ud558\uc9c0 \uc54a\uc2b5\ub2c8\ub2e4. Claude\uac00 \uc6f9 \uac80\uc0c9 \ub3c4\uad6c\ub97c \uc0ac\uc6a9\ud574\uc57c \ud558\ub294 \uc9c8\ubb38\uc744 \ud574 \ubcf4\uaca0\uc2b5\ub2c8\ub2e4:"
      ]
    },
    {
      "cell_type": "code",
      "execution_count": null,
      "metadata": {},
      "outputs": [],
      "source": [
        "chat_with_web_search(\"Who won the 2024 Miami Grand Prix?\")"
      ]
    },
    {
      "cell_type": "markdown",
      "metadata": {},
      "source": [
        "\"2024 \ub9c8\uc774\uc560\ubbf8 \uadf8\ub791\ud504\ub9ac\uc5d0\uc11c \ub204\uac00 \uc6b0\uc2b9\ud588\ub098\uc694?\"\ub77c\uace0 \ubb3c\uc5c8\uc744 \ub54c, Claude\ub294 \uc6f9 \uac80\uc0c9 \ub3c4\uad6c\ub97c \uc0ac\uc6a9\ud569\ub2c8\ub2e4! \n",
        "\n",
        "\uba87 \uac00\uc9c0 \uc608\uc2dc\ub97c \ub354 \uc0b4\ud3b4\ubcf4\uaca0\uc2b5\ub2c8\ub2e4:"
      ]
    },
    {
      "cell_type": "code",
      "execution_count": null,
      "metadata": {},
      "outputs": [],
      "source": [
        "# Claude should NOT need to use the tool for this:\n",
        "chat_with_web_search(\"Who won the Superbowl in 2022?\")"
      ]
    },
    {
      "cell_type": "code",
      "execution_count": null,
      "metadata": {},
      "outputs": [],
      "source": [
        "# Claude SHOULD use the tool for this:\n",
        "chat_with_web_search(\"Who won the Superbowl in 2024?\")"
      ]
    },
    {
      "cell_type": "markdown",
      "metadata": {},
      "source": [
        "### \ud504\ub86c\ud504\ud2b8\uac00 \uc911\uc694\ud569\ub2c8\ub2e4!\n",
        "\n",
        "`toolChoice`\ub97c `auto`\ub85c \uc124\uc815\ud560 \ub54c, \uc0c1\uc138\ud55c \ud504\ub86c\ud504\ud2b8\ub97c \uc791\uc131\ud558\ub294 \uac83\uc774 \uc911\uc694\ud569\ub2c8\ub2e4. \uc885\uc885 Claude\ub294 \ub3c4\uad6c\ub97c \ud638\ucd9c\ud558\ub294 \ub370 \ub108\ubb34 \uc801\uadf9\uc801\uc785\ub2c8\ub2e4. \uc0c1\uc138\ud55c \ud504\ub86c\ud504\ud2b8\ub97c \uc791\uc131\ud558\uba74 Claude\uac00 \ub3c4\uad6c\ub97c \ud638\ucd9c\ud574\uc57c \ud558\ub294\uc9c0 \uc5ec\ubd80\ub97c \ud310\ub2e8\ud558\ub294 \ub370 \ub3c4\uc6c0\uc774 \ub429\ub2c8\ub2e4. \uc704\uc758 \uc608\uc2dc\uc5d0\uc11c \uc6b0\ub9ac\ub294 \uc2dc\uc2a4\ud15c \ud504\ub86c\ud504\ud2b8\uc5d0 \uad6c\uccb4\uc801\uc778 \uc9c0\uce68\uc744 \ud3ec\ud568\uc2dc\ucf30\uc2b5\ub2c8\ub2e4:"
      ]
    },
    {
      "cell_type": "code",
      "execution_count": null,
      "metadata": {},
      "outputs": [],
      "source": [
        "system_prompt=f\"\"\"\n",
        "    Answer as many questions as you can using your existing knowledge.\n",
        "    Only search the web for queries that you can not confidently answer.\n",
        "    Today's date is {date.today().strftime(\"%B %d %Y\")}\n",
        "    If you think a user's question involves something in the future that hasn't happened yet, use the search tool.\n",
        "\"\"\""
      ]
    },
    {
      "cell_type": "markdown",
      "metadata": {},
      "source": [
        "***"
      ]
    },
    {
      "cell_type": "markdown",
      "metadata": {},
      "source": [
        "## \ud2b9\uc815 \ub3c4\uad6c \uac15\uc81c \uc0ac\uc6a9\n",
        "\n",
        "`toolChoice`\ub97c \uc0ac\uc6a9\ud558\uc5ec Claude\uc5d0\uac8c \ud2b9\uc815 \ub3c4\uad6c\ub97c \uc0ac\uc6a9\ud558\ub3c4\ub85d \uac15\uc81c\ud560 \uc218 \uc788\uc2b5\ub2c8\ub2e4. \uc544\ub798 \uc608\uc2dc\uc5d0\uc11c\ub294 \ub450 \uac00\uc9c0 \uac04\ub2e8\ud55c \ub3c4\uad6c\ub97c \uc815\uc758\ud588\uc2b5\ub2c8\ub2e4: \n",
        "* `print_sentiment_scores` - Claude\ub97c \"\uc18d\uc5ec\" \uac10\uc815 \ubd84\uc11d \ub370\uc774\ud130\ub97c \ud3ec\ud568\ud558\ub294 \uc798 \uad6c\uc870\ud654\ub41c JSON \ucd9c\ub825\uc744 \uc0dd\uc131\ud558\ub3c4\ub85d \ud558\ub294 \ub3c4\uad6c. \uc774 \uc811\uadfc \ubc29\uc2dd\uc5d0 \ub300\ud55c \uc790\uc138\ud55c \ub0b4\uc6a9\uc740 Anthropic Cookbook\uc758 [Extracting Structured JSON using Claude and Tool Use](https://github.com/anthropics/anthropic-cookbook/blob/main/tool_use/extracting_structured_json.ipynb)\ub97c \ucc38\uc870\ud558\uc138\uc694.\n",
        "* `calculator` - \ub450 \uac1c\uc758 \uc22b\uc790\ub97c \ub354\ud558\ub294 \ub9e4\uc6b0 \uac04\ub2e8\ud55c \uacc4\uc0b0\uae30 \ub3c4\uad6c\uc785\ub2c8\ub2e4.\n"
      ]
    },
    {
      "cell_type": "markdown",
      "metadata": {},
      "source": [
        "\uc6b0\ub9ac\uc758 \ubaa9\ud45c\ub294 `analyze_tweet_sentiment`\ub77c\ub294 \ud568\uc218\ub97c \uc791\uc131\ud558\ub294 \uac83\uc785\ub2c8\ub2e4. \uc774 \ud568\uc218\ub294 \ud2b8\uc717\uc744 \uc785\ub825\ubc1b\uc544 Claude\ub97c \uc0ac\uc6a9\ud558\uc5ec \ud574\ub2f9 \ud2b8\uc717\uc5d0 \ub300\ud55c \uae30\ubcf8\uc801\uc778 \uac10\uc815 \ubd84\uc11d\uc744 \ucd9c\ub825\ud569\ub2c8\ub2e4. \uacb0\uad6d\uc5d0\ub294 Claude\uac00 `print_sentiment_scores` \ub3c4\uad6c\ub97c \uc0ac\uc6a9\ud558\ub3c4\ub85d \"\uac15\uc81c\"\ud560 \uac83\uc785\ub2c8\ub2e4. \ud558\uc9c0\ub9cc \uc6b0\uc120 \ub3c4\uad6c \uc0ac\uc6a9\uc744 **\uac15\uc81c\ud558\uc9c0 \uc54a\uc558\uc744 \ub54c** \uc5b4\ub5a4 \uc77c\uc774 \uc77c\uc5b4\ub098\ub294\uc9c0 \ubcf4\uc5ec\ub4dc\ub9ac\uaca0\uc2b5\ub2c8\ub2e4.",
        "",
        "\uc774 \uccab \ubc88\uc9f8 \"\ub098\uc05c\" \ubc84\uc804\uc758 `analyze_tweet_sentiment` \ud568\uc218\uc5d0\uc11c\ub294 Claude\uc5d0\uac8c \ub450 \uac00\uc9c0 \ub3c4\uad6c\ub97c \ubaa8\ub450 \uc81c\uacf5\ud569\ub2c8\ub2e4. \ube44\uad50\ub97c \uc704\ud574 `toolChoice`\ub97c `auto`\ub85c \uc124\uc815\ud558\uaca0\uc2b5\ub2c8\ub2e4."
      ]
    },
    {
      "cell_type": "code",
      "execution_count": null,
      "metadata": {},
      "outputs": [],
      "source": [
        "# Create our toolConfig\n",
        "toolConfig = {'tools': [],\n",
        "        \"toolChoice\": {\n",
        "        \"auto\":{},\n",
        "    }\n",
        "}\n",
        "\n",
        "# append our print_sentiment_scores tool\n",
        "toolConfig['tools'].append({\n",
        "    \"toolSpec\": {\n",
        "      \"name\": \"print_sentiment_scores\",\n",
        "      \"description\": \"Prints the sentiment scores of a given tweet or piece of text.\",\n",
        "      \"inputSchema\": {\n",
        "        \"json\": {\n",
        "          \"type\": \"object\",\n",
        "          \"properties\": {\n",
        "            \"positive_score\": {\"type\": \"number\",\"description\": \"The positive sentiment score, ranging from 0.0 to 1.0.\"},\n",
        "            \"negative_score\": {\"type\": \"number\",\"description\": \"The negative sentiment score, ranging from 0.0 to 1.0.\"},\n",
        "            \"neutral_score\": {\"type\": \"number\",\"description\": \"The neutral sentiment score, ranging from 0.0 to 1.0.\"}\n",
        "          },\n",
        "          \"required\": [\"positive_score\", \"negative_score\", \"neutral_score\"]\n",
        "        }\n",
        "      }\n",
        "    }\n",
        "  })\n",
        "\n",
        "# Append our Calculator tool\n",
        "toolConfig['tools'].append({\n",
        "    \"toolSpec\": {\n",
        "      \"name\": \"calculator\",\n",
        "      \"description\": \"Adds two numbers\",\n",
        "      \"inputSchema\": {\n",
        "        \"json\": {\n",
        "          \"type\": \"object\",\n",
        "          \"properties\": {\n",
        "            \"num1\": {\"type\": \"number\", \"description\": \"first number to add\"},\n",
        "            \"num2\": {\"type\": \"number\", \"description\": \"second number to add\"}\n",
        "          },\n",
        "          \"required\": [\"num1\", \"num2\"]\n",
        "        }\n",
        "      }\n",
        "    }\n",
        "  })"
      ]
    },
    {
      "cell_type": "markdown",
      "metadata": {},
      "source": [
        "Claude\uc5d0\uac8c \uc798 \uc791\uc131\ub41c \ud504\ub86c\ud504\ud2b8\ub97c \uc81c\uacf5\ud558\uc9c0 \uc54a\ub294 \uac83\uc5d0 \uc720\uc758\ud558\uc2dc\uae30 \ubc14\ub78d\ub2c8\ub2e4. \uc774\ub807\uac8c \ud558\uba74 \ud2b9\uc815 \ub3c4\uad6c \uc0ac\uc6a9\uc744 \uac15\uc81c\ud588\uc744 \ub54c\uc758 \uc601\ud5a5\uc744 \ub354 \uc27d\uac8c \ubcfc \uc218 \uc788\uc2b5\ub2c8\ub2e4."
      ]
    },
    {
      "cell_type": "code",
      "execution_count": null,
      "metadata": {
        "tags": []
      },
      "outputs": [],
      "source": [
        "def analyze_tweet_sentiment(query):\n",
        "    messages = [{\"role\": \"user\", \"content\": [{\"text\": query}]}]\n",
        "\n",
        "    converse_api_params = {\n",
        "        \"modelId\": modelId,\n",
        "        \"system\": [{\"text\": system_prompt}],\n",
        "        \"messages\": messages,\n",
        "        \"inferenceConfig\": {\"temperature\": 0.0, \"maxTokens\": 1000},\n",
        "        \"toolConfig\":toolConfig,\n",
        "    }\n",
        "    response = bedrock_client.converse(**converse_api_params)\n",
        "    print(response)"
      ]
    },
    {
      "cell_type": "markdown",
      "metadata": {},
      "source": [
        "\ud568\uc218\ub97c \ud638\ucd9c\ud560 \ub54c \ud2b8\uc717 `Holy cow, I just made the most incredible meal!`\uc744 \uc0ac\uc6a9\ud574 \ubcf4\uaca0\uc2b5\ub2c8\ub2e4."
      ]
    },
    {
      "cell_type": "code",
      "execution_count": null,
      "metadata": {},
      "outputs": [],
      "source": [
        "analyze_tweet_sentiment(\"Holy cow, I just made the most incredible meal!\")"
      ]
    },
    {
      "cell_type": "markdown",
      "metadata": {},
      "source": [
        "Claude\ub294 `print_sentiment_scores` \ub3c4\uad6c\ub97c \ud638\ucd9c\ud558\uc9c0 \uc54a\uace0 \uc9c1\uc811 \uc751\ub2f5\ud569\ub2c8\ub2e4.\\n",
        "> \"That's great to hear! I don't actually have the capability to assess sentiment from text, but it sounds like you're really excited and proud of the incredible meal you made\\n",
        "\\n",
        "\ub2e4\uc74c\uc73c\ub85c \ub204\uad70\uac00\uac00 \uc774\ub807\uac8c \ud2b8\uc717\ud588\ub2e4\uace0 \uac00\uc815\ud574 \ubd05\uc2dc\ub2e4. `I love my cats! I had four and just adopted 2 more! Guess how many I have now?`"
      ]
    },
    {
      "cell_type": "code",
      "execution_count": null,
      "metadata": {},
      "outputs": [],
      "source": [
        "analyze_tweet_sentiment(\"I love my cats! I had four and just adopted 2 more! Guess how many I have now?\")"
      ]
    },
    {
      "cell_type": "markdown",
      "metadata": {},
      "source": [
        "Claude\ub294 \uacc4\uc0b0\uae30 \ub3c4\uad6c\ub97c \ud638\ucd9c\ud558\ub824\uace0 \ud569\ub2c8\ub2e4.\\n",
        "\\n",
        "> {'toolUse': {'toolUseId': 'tooluse_oyzX9vToT468sAwe_A99EA', **'name': 'calculator', 'input': {'num1': 4, 'num2': 2}**}}]}}, 'stopReason': 'tool_use'{'toolUse': {'toolUseId': 'tooluse_oyzX9vToT468sAwe_A99EA', 'name': 'calculator', 'input': {'num1': 4, 'num2': 2}}}]}}, 'stopReason': 'tool_use'"
      ]
    },
    {
      "cell_type": "markdown",
      "metadata": {},
      "source": [
        "\uba85\ubc31\ud788 \ud604\uc7ac \uad6c\ud604 \ubc29\uc2dd\uc740 \uc6b0\ub9ac\uac00 \uc6d0\ud558\ub294 \ub300\ub85c \uc791\ub3d9\ud558\uc9c0 \uc54a\uc2b5\ub2c8\ub2e4(\ub300\ubd80\ubd84 \uc2e4\ud328\ud558\ub3c4\ub85d \uc124\uc815\ud588\uae30 \ub54c\ubb38\uc785\ub2c8\ub2e4).",
        "",
        "\uadf8\ub798\uc11c `toolChoice`\ub97c \uc5c5\ub370\uc774\ud2b8\ud558\uc5ec Claude\uac00 **\ud56d\uc0c1** `print_sentiment_scores` \ub3c4\uad6c\ub97c \uc0ac\uc6a9\ud558\ub3c4\ub85d \uac15\uc81c\ud558\uaca0\uc2b5\ub2c8\ub2e4."
      ]
    },
    {
      "cell_type": "code",
      "execution_count": null,
      "metadata": {},
      "outputs": [],
      "source": [
        "toolConfig['toolChoice'] = {\n",
        "    \"tool\": {\n",
        "        \"name\": \"print_sentiment_scores\"}\n",
        "}"
      ]
    },
    {
      "cell_type": "markdown",
      "metadata": {},
      "source": [
        "\ub610\ud55c `type`\uc744 `tool`\ub85c \uc124\uc815\ud558\uace0 \ud2b9\uc815 \ub3c4\uad6c \uc774\ub984\uc744 \uc81c\uacf5\ud574\uc57c \ud569\ub2c8\ub2e4."
      ]
    },
    {
      "cell_type": "code",
      "execution_count": null,
      "metadata": {},
      "outputs": [],
      "source": [
        "def analyze_tweet_sentiment(query):\n",
        "    messages = [{\"role\": \"user\", \"content\": [{\"text\": query}]}]\n",
        "\n",
        "    converse_api_params = {\n",
        "        \"modelId\": modelId,\n",
        "        \"system\": [{\"text\": system_prompt}],\n",
        "        \"messages\": messages,\n",
        "        \"inferenceConfig\": {\"temperature\": 0.0, \"maxTokens\": 1000},\n",
        "        \"toolConfig\":toolConfig,\n",
        "    }\n",
        "    response = bedrock_client.converse(**converse_api_params)\n",
        "    print(response)"
      ]
    },
    {
      "cell_type": "markdown",
      "metadata": {},
      "source": [
        "\uc774\uc81c \uc55e\uc11c\uc640 \uac19\uc740 \ud504\ub86c\ud504\ud2b8\ub85c Claude\uc5d0\uac8c \uc785\ub825\ud558\uba74 \ud56d\uc0c1 `print_sentiment_scores` \ub3c4\uad6c\ub97c \ud638\ucd9c\ud560 \uac83\uc785\ub2c8\ub2e4."
      ]
    },
    {
      "cell_type": "code",
      "execution_count": null,
      "metadata": {},
      "outputs": [],
      "source": [
        "analyze_tweet_sentiment(\"Holy cow, I just made the most incredible meal!\")"
      ]
    },
    {
      "cell_type": "markdown",
      "metadata": {},
      "source": [
        "Claude\ub294 `print_sentiment_scores` \ub3c4\uad6c\ub97c \ud638\ucd9c\ud569\ub2c8\ub2e4.\\n",
        "\\n",
        "> [{'toolUse': {'toolUseId': 'tooluse_EZnn27PHRXWfo7JR8FWkDw', **'name': 'print_sentiment_scores',** 'input': {'positive_score': 0.9, 'negative_score': 0.1, 'neutral_score': 0.0}}}][{'toolUse': {'toolUseId': 'tooluse_EZnn27PHRXWfo7JR8FWkDw', 'name': 'print_sentiment_scores', 'input': {'positive_score': 0.9, 'negative_score': 0.1, 'neutral_score': 0.0}}}]\\n",
        "\\n",
        "\"\uc218\ud559\uc801\uc778\" \ud2b8\uc717\uc73c\ub85c Claude\ub97c \uc18d\uc774\ub824\uace0 \ud574\ub3c4 \uc5ec\uc804\ud788 `print_sentiment_scores` \ub3c4\uad6c\ub97c \ud638\ucd9c\ud569\ub2c8\ub2e4."
      ]
    },
    {
      "cell_type": "code",
      "execution_count": null,
      "metadata": {},
      "outputs": [],
      "source": [
        "analyze_tweet_sentiment(\"I love my cats! I had four and just adopted 2 more! Guess how many I have now?\")"
      ]
    },
    {
      "cell_type": "markdown",
      "metadata": {},
      "source": [
        "Claude\uac00 `print_sentiment_scores` \ub3c4\uad6c\ub97c \ud638\ucd9c\ud558\ub3c4\ub85d \uac15\uc81c\ud558\ub354\ub77c\ub3c4 \uae30\ubcf8\uc801\uc778 \ud504\ub86c\ud504\ud2b8 \uc5d4\uc9c0\ub2c8\uc5b4\ub9c1\uc744 \uc0ac\uc6a9\ud558\uc5ec Claude\uc5d0\uac8c \uc791\uc5c5 \ucee8\ud14d\uc2a4\ud2b8\ub97c \ub354 \uc798 \uc81c\uacf5\ud574\uc57c \ud569\ub2c8\ub2e4."
      ]
    },
    {
      "cell_type": "code",
      "execution_count": null,
      "metadata": {},
      "outputs": [],
      "source": [
        "def analyze_tweet_sentiment(query):\n",
        "    prompt = f\"\"\"\n",
        "    Analyze the sentiment in the following tweet:\n",
        "    <tweet>{query}</tweet>\"\"\"\n",
        "\n",
        "    messages = [{\"role\": \"user\", \"content\": [{\"text\": prompt}]}]\n",
        "\n",
        "    converse_api_params = {\n",
        "        \"modelId\": modelId,\n",
        "        \"system\": [{\"text\": system_prompt}],\n",
        "        \"messages\": messages,\n",
        "        \"inferenceConfig\": {\"temperature\": 0.0, \"maxTokens\": 1000},\n",
        "        \"toolConfig\":toolConfig,\n",
        "    }\n",
        "    response = bedrock_client.converse(**converse_api_params)\n",
        "    print(response)"
      ]
    },
    {
      "cell_type": "markdown",
      "metadata": {},
      "source": [
        "***"
      ]
    },
    {
      "cell_type": "markdown",
      "metadata": {},
      "source": [
        "## \uc544\ubb34 \ub3c4\uad6c\n",
        "\n",
        "`toolChoice`\uc758 \ub9c8\uc9c0\ub9c9 \uc635\uc158\uc740 `any`\ub85c, \uc774\ub97c \ud1b5\ud574 Claude\uc5d0\uac8c \"\ub3c4\uad6c\ub97c \ud638\ucd9c\ud574\uc57c \ud558\uc9c0\ub9cc \uc5b4\ub5a4 \ub3c4\uad6c\ub97c \uc120\ud0dd\ud560\uc9c0\ub294 \ub2f9\uc2e0\uc774 \uacb0\uc815\ud558\ub77c\"\uace0 \uc9c0\uc2dc\ud560 \uc218 \uc788\uc2b5\ub2c8\ub2e4. Claude\ub97c \uc0ac\uc6a9\ud558\uc5ec SMS \ucc44\ud305\ubd07\uc744 \ub9cc\ub4e4\uace0 \uc2f6\ub2e4\uace0 \uac00\uc815\ud574 \ubd05\uc2dc\ub2e4. \uc774 \ucc44\ud305\ubd07\uc774 \uc0ac\uc6a9\uc790\uc640 \uc2e4\uc81c\ub85c \"\ub300\ud654\"\ud560 \uc218 \uc788\ub294 \uc720\uc77c\ud55c \ubc29\ubc95\uc740 SMS \ud14d\uc2a4\ud2b8 \uba54\uc2dc\uc9c0\ub97c \ud1b5\ud574\uc11c\uc785\ub2c8\ub2e4.\n",
        "\n",
        "\uc544\ub798 \uc608\uc2dc\uc5d0\uc11c \uc6b0\ub9ac\ub294 \ub450 \uac00\uc9c0 \ub3c4\uad6c\uc5d0 \uc561\uc138\uc2a4\ud560 \uc218 \uc788\ub294 \ub9e4\uc6b0 \ub2e8\uc21c\ud55c \ud14d\uc2a4\ud2b8 \uba54\uc2dc\uc9d5 \uc5b4\uc2dc\uc2a4\ud134\ud2b8\ub97c \ub9cc\ub4ed\ub2c8\ub2e4:\n",
        "* `send_text_to_user` - \uc0ac\uc6a9\uc790\uc5d0\uac8c \ud14d\uc2a4\ud2b8 \uba54\uc2dc\uc9c0\ub97c \ubcf4\ub0c5\ub2c8\ub2e4.\n",
        "* `get_customer_info` - \uc0ac\uc6a9\uc790 \uc774\ub984\uc744 \uae30\ubc18\uc73c\ub85c \uace0\uac1d \ub370\uc774\ud130\ub97c \uc870\ud68c\ud569\ub2c8\ub2e4.\n",
        "\n",
        "\uc5ec\uae30\uc11c \uc544\uc774\ub514\uc5b4\ub294 \ud56d\uc0c1 \uc774 \ub450 \ub3c4\uad6c \uc911 \ud558\ub098\ub97c \ud638\ucd9c\ud558\uace0 \ub3c4\uad6c \uc751\ub2f5\uc774 \uc544\ub2cc \ub2e4\ub978 \uc751\ub2f5\uc744 \ud558\uc9c0 \uc54a\ub294 \ucc44\ud305\ubd07\uc744 \ub9cc\ub4dc\ub294 \uac83\uc785\ub2c8\ub2e4. \ubaa8\ub4e0 \uc0c1\ud669\uc5d0\uc11c Claude\ub294 \ud14d\uc2a4\ud2b8 \uba54\uc2dc\uc9c0\ub97c \ubcf4\ub0b4\uac70\ub098 `get_customer_info`\ub97c \ud638\ucd9c\ud558\uc5ec \ub354 \ub9ce\uc740 \uace0\uac1d \uc815\ubcf4\ub97c \uc5bb\uc5b4\uc57c \ud569\ub2c8\ub2e4. \uc774\ub97c \ubcf4\uc7a5\ud558\uae30 \uc704\ud574 `toolChoice`\ub97c `any`\ub85c \uc124\uc815\ud569\ub2c8\ub2e4:"
      ]
    },
    {
      "cell_type": "code",
      "execution_count": null,
      "metadata": {},
      "outputs": [],
      "source": [
        "toolConfig = {'tools': [],\n",
        "        \"toolChoice\": {\n",
        "        \"any\":{},\n",
        "    }\n",
        "}\n",
        "\n",
        "toolConfig['tools'].append({\n",
        "      \"toolSpec\": {\n",
        "        \"name\": \"send_text_to_user\",\n",
        "        \"description\": \"Sends a text message to a user\",\n",
        "        \"inputSchema\": {\n",
        "          \"json\": {\n",
        "            \"type\": \"object\",\n",
        "            \"properties\": {\n",
        "              \"text\": {\n",
        "                \"type\": \"string\",\n",
        "                \"description\": \"The piece of text to be sent to the user via text message\"}\n",
        "            },\n",
        "            \"required\": [\"text\"]\n",
        "          }\n",
        "        }\n",
        "      }\n",
        "    })\n",
        "\n",
        "toolConfig['tools'].append({\n",
        "      \"toolSpec\": {\n",
        "        \"name\": \"get_customer_info\",\n",
        "        \"description\": \"gets information on a customer based on the customer's username.  Response includes email, username, and previous purchases. Only call this tool once a user has provided you with their username\",\n",
        "        \"inputSchema\": {\n",
        "          \"json\": {\n",
        "            \"type\": \"object\",\n",
        "            \"properties\": {\n",
        "              \"username\": {\n",
        "                \"type\": \"string\",\n",
        "                \"description\": \"The username of the user in question. \"}\n",
        "            },\n",
        "            \"required\": [\"username\"]\n",
        "          }\n",
        "        }\n",
        "      }\n",
        "    })"
      ]
    },
    {
      "cell_type": "code",
      "execution_count": null,
      "metadata": {
        "tags": []
      },
      "outputs": [],
      "source": [
        "#toolConfig # Optional uncomment to see the updated toolConfig"
      ]
    },
    {
      "cell_type": "code",
      "execution_count": null,
      "metadata": {},
      "outputs": [],
      "source": [
        "def send_text_to_user(text):\n",
        "    # Sends a text to the user\n",
        "    # We'll just print out the text to keep things simple:\n",
        "    print(f\"TEXT MESSAGE SENT: {text}\")\n",
        "\n",
        "def get_customer_info(username):\n",
        "    return {\n",
        "        \"username\": username,\n",
        "        \"email\": f\"{username}@email.com\",\n",
        "        \"purchases\": [\n",
        "            {\"id\": 1, \"product\": \"computer mouse\"},\n",
        "            {\"id\": 2, \"product\": \"screen protector\"},\n",
        "            {\"id\": 3, \"product\": \"usb charging cable\"},\n",
        "        ]\n",
        "    }\n",
        "\n",
        "system_prompt = \"\"\"\n",
        "All your communication with a user is done via text message.\n",
        "Only call tools when you have enough information to accurately call them.  \n",
        "Do not call the get_customer_info tool until a user has provided you with their username. This is important.\n",
        "If you do not know a user's username, simply ask a user for their username.\n",
        "\"\"\"\n",
        "\n",
        "def sms_chatbot(user_message):\n",
        "    messages = [{\"role\": \"user\", \"content\": [{\"text\": user_message}]}]\n",
        "\n",
        "    converse_api_params = {\n",
        "        \"modelId\": modelId,\n",
        "        \"system\": [{\"text\": system_prompt}],\n",
        "        \"messages\": messages,\n",
        "        \"inferenceConfig\": {\"temperature\": 0.0, \"maxTokens\": 1000},\n",
        "        \"toolConfig\":toolConfig,\n",
        "    }\n",
        "\n",
        "    response = bedrock_client.converse(**converse_api_params)\n",
        "\n",
        "    if(response['stopReason'] == \"tool_use\"):\n",
        "        tool_use = response['output']['message']['content'][-1]\n",
        "        tool_name = tool_use['toolUse']['name']\n",
        "        tool_inputs = tool_use['toolUse']['input']\n",
        "        print(f\"=======Claude Wants To Call The {tool_name} Tool=======\")\n",
        "        if tool_name == \"send_text_to_user\":\n",
        "            send_text_to_user(tool_inputs[\"text\"])\n",
        "        elif tool_name == \"get_customer_info\":\n",
        "            print(get_customer_info(tool_inputs[\"username\"]))\n",
        "        else:\n",
        "            print(\"Oh dear, that tool doesn't exist!\")\n",
        "            \n",
        "    else:\n",
        "        print(\"No tool was called. This shouldn't happen!\")"
      ]
    },
    {
      "cell_type": "markdown",
      "metadata": {},
      "source": [
        "\uac04\ub2e8\ud558\uac8c \uc2dc\uc791\ud574 \ubd05\uc2dc\ub2e4:"
      ]
    },
    {
      "cell_type": "code",
      "execution_count": null,
      "metadata": {},
      "outputs": [],
      "source": [
        "sms_chatbot(\"Hey there! How are you?\")"
      ]
    },
    {
      "cell_type": "markdown",
      "metadata": {},
      "source": [
        "Claude\ub294 `send_text_to_user` \ub3c4\uad6c\ub97c \ud638\ucd9c\ud558\uc5ec \uc751\ub2f5\ud569\ub2c8\ub2e4.\n",
        "\n",
        "\ub2e4\uc74c\uc73c\ub85c Claude\uc5d0\uac8c \uc870\uae08 \ub354 \uae4c\ub2e4\ub85c\uc6b4 \uc9c8\ubb38\uc744 \ud574 \ubd05\uc2dc\ub2e4:"
      ]
    },
    {
      "cell_type": "code",
      "execution_count": null,
      "metadata": {},
      "outputs": [],
      "source": [
        "sms_chatbot(\"I need help looking up an order\")"
      ]
    },
    {
      "cell_type": "markdown",
      "metadata": {},
      "source": [
        "Claude\ub294 \uc0ac\uc6a9\uc790\uc5d0\uac8c \uc0ac\uc6a9\uc790 \uc774\ub984\uc744 \uc81c\uacf5\ud558\ub77c\ub294 \ud14d\uc2a4\ud2b8 \uba54\uc2dc\uc9c0\ub97c \ubcf4\ub0b4\uace0 \uc2f6\uc5b4 \ud569\ub2c8\ub2e4.\n",
        "\n",
        "\uc774\uc81c Claude\uc5d0\uac8c \uc6b0\ub9ac\uc758 \uc0ac\uc6a9\uc790 \uc774\ub984\uc744 \uc81c\uacf5\ud588\uc744 \ub54c \uc5b4\ub5a4 \uc77c\uc774 \uc77c\uc5b4\ub098\ub294\uc9c0 \ubd05\uc2dc\ub2e4:"
      ]
    },
    {
      "cell_type": "code",
      "execution_count": null,
      "metadata": {},
      "outputs": [],
      "source": [
        "sms_chatbot(\"I need help looking up an order.  My username is jenny76\")"
      ]
    },
    {
      "cell_type": "markdown",
      "metadata": {},
      "source": [
        "Claude\ub294 \uc6b0\ub9ac\uac00 \uae30\ub300\ud55c \ub300\ub85c `get_customer_info` \ub3c4\uad6c\ub97c \ud638\ucd9c\ud569\ub2c8\ub2e4!\n",
        "\n",
        "\uc6b0\ub9ac\uac00 Claude\uc5d0\uac8c \ubb34\uc758\ubbf8\ud55c \uba54\uc2dc\uc9c0\ub97c \ubcf4\ub0b4\ub354\ub77c\ub3c4 \uc5ec\uc804\ud788 \uc6b0\ub9ac\uc758 \ub3c4\uad6c \uc911 \ud558\ub098\ub97c \ud638\ucd9c\ud560 \uac83\uc785\ub2c8\ub2e4:"
      ]
    },
    {
      "cell_type": "code",
      "execution_count": null,
      "metadata": {},
      "outputs": [],
      "source": [
        "sms_chatbot(\"askdj aksjdh asjkdbhas kjdhas 1+1 ajsdh\")"
      ]
    }
  ],
  "metadata": {
    "kernelspec": {
      "display_name": "",
      "name": ""
    },
    "language_info": {
      "codemirror_mode": {
        "name": "ipython",
        "version": 3
      },
      "file_extension": ".py",
      "mimetype": "text/x-python",
      "name": "python",
      "nbconvert_exporter": "python",
      "pygments_lexer": "ipython3",
      "version": "3.10.14"
    }
  },
  "nbformat": 4,
  "nbformat_minor": 4
}