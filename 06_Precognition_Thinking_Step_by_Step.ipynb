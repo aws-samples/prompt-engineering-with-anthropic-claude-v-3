{
  "cells": [
    {
      "cell_type": "markdown",
      "metadata": {},
      "source": [
        "# 6\uc7a5: \uc608\uc9c0\ub825(\ub2e8\uacc4\ubcc4 \uc0ac\uace0)\n",
        "\n",
        "- [\uc218\uc5c5](#lesson)\n",
        "- [\uc5f0\uc2b5 \ubb38\uc81c](#exercises)\n",
        "- [\uc608\uc2dc \ub180\uc774\ud130](#example-playground)\n",
        "\n",
        "## \uc124\uc815\n",
        "\n",
        "\ub2e4\uc74c \uc124\uc815 \uc140\uc744 \uc2e4\ud589\ud558\uc5ec API \ud0a4\ub97c \ub85c\ub4dc\ud558\uace0 `get_completion` \ud5ec\ud37c \ud568\uc218\ub97c \uc124\uc815\ud569\ub2c8\ub2e4."
      ]
    },
    {
      "cell_type": "code",
      "execution_count": null,
      "metadata": {},
      "outputs": [],
      "source": [
        "# Import python's built-in regular expression library\n",
        "import re\n",
        "import boto3\n",
        "from botocore.exceptions import ClientError\n",
        "import json\n",
        "\n",
        "# Import the hints module from the utils package\n",
        "from utils import hints\n",
        "\n",
        "# Retrieve the MODEL_NAME variable from the IPython store\n",
        "%store -r modelId\n",
        "%store -r region\n",
        "\n",
        "bedrock_client = boto3.client(service_name='bedrock-runtime', region_name=region)"
      ]
    },
    {
      "cell_type": "code",
      "execution_count": null,
      "metadata": {},
      "outputs": [],
      "source": [
        "def get_completion(prompt, system_prompt=None, prefill=None):\n",
        "    inference_config = {\n",
        "        \"temperature\": 0.0,\n",
        "        \"maxTokens\": 200\n",
        "    }\n",
        "    converse_api_params = {\n",
        "        \"modelId\": modelId,\n",
        "        \"messages\": [{\"role\": \"user\", \"content\": [{\"text\": prompt}]}],\n",
        "        \"inferenceConfig\": inference_config,\n",
        "    }\n",
        "    if system_prompt:\n",
        "        converse_api_params[\"system\"] = [{\"text\": system_prompt}]\n",
        "    if prefill:\n",
        "        converse_api_params[\"messages\"].append({\"role\": \"assistant\", \"content\": [{\"text\": prefill}]})\n",
        "    try:\n",
        "        response = bedrock_client.converse(**converse_api_params)\n",
        "        text_content = response['output']['message']['content'][0]['text']\n",
        "        return text_content\n",
        "\n",
        "    except ClientError as err:\n",
        "        message = err.response['Error']['Message']\n",
        "        print(f\"A client error occured: {message}\")"
      ]
    },
    {
      "cell_type": "markdown",
      "metadata": {},
      "source": [
        "---\n",
        "\n",
        "## \uc218\uc5c5\n",
        "\n",
        "\ub9cc\uc57d \ub204\uad70\uac00\uac00 \ub2f9\uc2e0\uc744 \uae68\uc6cc \ubc14\ub85c \ubcf5\uc7a1\ud55c \uc9c8\ubb38\uc744 \uc5ec\ub7ec \uac1c \ud574\uc57c \ud55c\ub2e4\uba74 \uc5b4\ub5bb\uac8c \ub300\ub2f5\ud560 \uac83\uc778\uac00? \uc544\ub9c8\ub3c4 **\uba3c\uc800 \ub2f5\ubcc0\uc744 \uc0dd\uac01\ud574\ubcfc \uc2dc\uac04**\uc774 \uc8fc\uc5b4\uc9c4\ub2e4\uba74 \uadf8\ub807\uc9c0 \uc54a\uc744 \ub54c\ubcf4\ub2e4 \uc798\ud560 \uac83\uc774\ub2e4.\n",
        "\n",
        "Claude\ub3c4 \ub9c8\ucc2c\uac00\uc9c0\ub2e4.\n",
        "\n",
        "**Claude\uc5d0\uac8c \ub2e8\uacc4\ubcc4\ub85c \uc0dd\uac01\ud560 \uc2dc\uac04\uc744 \uc8fc\uba74 \ud2b9\ud788 \ubcf5\uc7a1\ud55c \uc791\uc5c5\uc5d0\uc11c \ub354 \uc815\ud655\ud574\uc9c8 \uc218 \uc788\ub2e4**. \ud558\uc9c0\ub9cc **\uc0dd\uac01\ud558\ub294 \uac83\uc740 \uc18c\ub9ac \ub0b4\uc5b4\uc57c\ub9cc \ud55c\ub2e4**. Claude\uc5d0\uac8c \uc0dd\uac01\ud558\ub77c\uace0 \ud558\uba74\uc11c \ub2f5\ubcc0\ub9cc \ucd9c\ub825\ud558\ub77c\uace0 \ud558\uba74 \uc2e4\uc81c\ub85c\ub294 \uc0dd\uac01\ud558\uc9c0 \uc54a\uc740 \uac83\uc774\ub2e4."
      ]
    },
    {
      "cell_type": "markdown",
      "metadata": {},
      "source": [
        "### \uc608\uc2dc\n",
        "\n",
        "\uc544\ub798 \ud504\ub86c\ud504\ud2b8\uc5d0\uc11c \ub450 \ubc88\uc9f8 \ubb38\uc7a5\uc774 \uccab \ubc88\uc9f8 \ubb38\uc7a5\uc744 \ubd80\uc815\ud558\ub294 \uac83\uc740 \uc0ac\ub78c\uc5d0\uac8c\ub294 \uba85\ud655\ud558\ub2e4. \uadf8\ub7ec\ub098 **Claude\ub294 \"unrelated\"\ub77c\ub294 \ub2e8\uc5b4\ub97c \ub108\ubb34 \ubb38\uc790 \uadf8\ub300\ub85c \ubc1b\uc544\ub4e4\uc778\ub2e4**."
      ]
    },
    {
      "cell_type": "code",
      "execution_count": null,
      "metadata": {},
      "outputs": [],
      "source": [
        "# Prompt\n",
        "PROMPT = \"\"\"Is this movie review sentiment positive or negative?\n",
        "\n",
        "This movie blew my mind with its freshness and originality. In totally unrelated news, I have been living under a rock since the year 1900.\"\"\"\n",
        "\n",
        "# Print Claude's response\n",
        "print(get_completion(PROMPT))"
      ]
    },
    {
      "cell_type": "markdown",
      "metadata": {},
      "source": [
        "Claude\uc758 \uc751\ub2f5\uc744 \uac1c\uc120\ud558\uae30 \uc704\ud574\uc11c\ub294 **Claude\uc5d0\uac8c \uba3c\uc800 \uc0dd\uac01\ud560 \uc2dc\uac04\uc744 \uc8fc\uc790**. \uadf8\ub807\uac8c \ud558\ub824\uba74 Claude\uac00 \uc791\uc5c5\uc744 \ucc98\ub9ac\ud558\uace0 \uc0dd\uac01\ud558\uae30 \uc704\ud574 \ucde8\ud574\uc57c \ud560 \ub2e8\uacc4\ub97c \ubb38\uc790 \uadf8\ub300\ub85c \uc801\uc5b4\uc8fc\uba74 \ub41c\ub2e4. \uc5ed\ud560 \ud504\ub86c\ud504\ud305\uc744 \uc57d\uac04 \ub354\ud558\uba74 Claude\uac00 \ub9ac\ubdf0\ub97c \ub354 \uae4a\uc774 \uc774\ud574\ud560 \uc218 \uc788\uac8c \ub41c\ub2e4."
      ]
    },
    {
      "cell_type": "code",
      "execution_count": null,
      "metadata": {},
      "outputs": [],
      "source": [
        "# System prompt\n",
        "SYSTEM_PROMPT = \"You are a savvy reader of movie reviews.\"\n",
        "\n",
        "# Prompt\n",
        "PROMPT = \"\"\"Is this review sentiment positive or negative? First, write the best arguments for each side in <positive-argument> and <negative-argument> XML tags, then answer.\n",
        "\n",
        "This movie blew my mind with its freshness and originality. In totally unrelated news, I have been living under a rock since 1900.\"\"\"\n",
        "\n",
        "# Print Claude's response\n",
        "print(get_completion(PROMPT, SYSTEM_PROMPT))"
      ]
    },
    {
      "cell_type": "markdown",
      "metadata": {},
      "source": [
        "**Claude\ub294 \ub54c\ub54c\ub85c \uc21c\uc11c\uc5d0 \ubbfc\uac10\ud558\ub2e4**. \uc774 \uc608\uc2dc\ub294 Claude\uac00 \ubbf8\ubb18\ud55c \ud14d\uc2a4\ud2b8\ub97c \uc774\ud574\ud558\ub294 \ub2a5\ub825\uc758 \ud55c\uacc4\uc5d0 \uc788\uc73c\uba70, \uc55e\uc758 \uc608\uc2dc\uc5d0\uc11c \ubd80\uc815\uc801\uc778 \uac83\uacfc \uae0d\uc815\uc801\uc778 \uac83\uc758 \uc21c\uc11c\ub97c \ubc14\uafb8\uba74 Claude\uc758 \uc804\ubc18\uc801\uc778 \ud3c9\uac00\uac00 \uae0d\uc815\uc801\uc73c\ub85c \ubc14\ub010\ub2e4.\n",
        "\n",
        "\ub300\ubd80\ubd84\uc758 \uc0c1\ud669\uc5d0\uc11c(\ud558\uc9c0\ub9cc \ud63c\ub780\uc2a4\ub7fd\uac8c\ub3c4 \ubaa8\ub4e0 \uc0c1\ud669\uc740 \uc544\ub2c8\ub2e4) **Claude\ub294 \ub450 \uac00\uc9c0 \uc635\uc158 \uc911 \ub450 \ubc88\uc9f8 \uac83\uc744 \uc120\ud0dd\ud560 \uac00\ub2a5\uc131\uc774 \ub354 \ub192\ub2e4**. \uc544\ub9c8\ub3c4 \uc6f9\uc5d0\uc11c \uc218\uc9d1\ud55c \ud559\uc2b5 \ub370\uc774\ud130\uc5d0\uc11c \ub450 \ubc88\uc9f8 \uc635\uc158\uc774 \ub9de\ub294 \uacbd\uc6b0\uac00 \ub354 \ub9ce\uc558\uae30 \ub54c\ubb38\uc77c \uac83\uc774\ub2e4."
      ]
    },
    {
      "cell_type": "code",
      "execution_count": null,
      "metadata": {},
      "outputs": [],
      "source": [
        "# Prompt\n",
        "PROMPT = \"\"\"Is this review sentiment negative or positive? First write the best arguments for each side in <negative-argument> and <positive-argument> XML tags, then answer.\n",
        "\n",
        "This movie blew my mind with its freshness and originality. Unrelatedly, I have been living under a rock since 1900.\"\"\"\n",
        "\n",
        "# Print Claude's response\n",
        "print(get_completion(PROMPT))"
      ]
    },
    {
      "cell_type": "markdown",
      "metadata": {},
      "source": [
        "**Claude\uc5d0\uac8c \uc0dd\uac01\ud560 \uc2dc\uac04\uc744 \uc8fc\uba74 Claude\uc758 \ub2f5\ubcc0\uc774 \uc798\ubabb\ub41c \uac83\uc5d0\uc11c \uc62c\ubc14\ub978 \uac83\uc73c\ub85c \ubc14\ub014 \uc218 \uc788\ub2e4**. \ub9ce\uc740 \uacbd\uc6b0\uc5d0 \uadf8\ub807\uac8c \uac04\ub2e8\ud558\ub2e4!\n",
        "\n",
        "Claude\uc758 \ub2f5\ubcc0\uc774 \uc798\ubabb\ub41c \uc608\uc2dc\ub97c \uc0b4\ud3b4\ubcf4\uba70 Claude\uc5d0\uac8c \uc0dd\uac01\ud558\ub77c\uace0 \ud558\uba74 \uc5b4\ub5bb\uac8c \uace0\uce60 \uc218 \uc788\ub294\uc9c0 \uc54c\uc544\ubcf4\uc790."
      ]
    },
    {
      "cell_type": "code",
      "execution_count": null,
      "metadata": {},
      "outputs": [],
      "source": [
        "# Prompt\n",
        "PROMPT = \"Name a famous movie starring an actor who was born in the year 1956.\"\n",
        "\n",
        "# Print Claude's response\n",
        "print(get_completion(PROMPT))"
      ]
    },
    {
      "cell_type": "markdown",
      "metadata": {},
      "source": [
        "\uc774\ub97c \ud574\uacb0\ud558\uae30 \uc704\ud574 `<brainstorm>` \ud0dc\uadf8\ub97c \uc0ac\uc6a9\ud558\uc5ec Claude\uc5d0\uac8c \ub2e8\uacc4\ubcc4\ub85c \uc0dd\uac01\ud558\ub77c\uace0 \uc694\uccad\ud574\ubcf4\uc790."
      ]
    },
    {
      "cell_type": "code",
      "execution_count": null,
      "metadata": {},
      "outputs": [],
      "source": [
        "# Prompt\n",
        "PROMPT = \"Name a famous movie starring an actor who was born in the year 1956. First brainstorm about some actors and their birth years in <brainstorm> tags, then give your answer.\"\n",
        "\n",
        "# Print Claude's response\n",
        "print(get_completion(PROMPT))"
      ]
    },
    {
      "cell_type": "markdown",
      "metadata": {},
      "source": [
        "\uc704\uc758 \ub0b4\uc6a9\uc744 \ubcc0\uacbd\ud558\uc9c0 \uc54a\uace0 \uc218\uc5c5 \ud504\ub86c\ud504\ud2b8\ub97c \uc2e4\ud5d8\ud574\ubcf4\uace0 \uc2f6\ub2e4\uba74 \uc218\uc5c5 \ub178\ud2b8\ubd81\uc758 \ub9e8 \uc544\ub798\ub85c \uc2a4\ud06c\ub864\ud558\uc5ec [**\uc608\uc2dc \ub180\uc774\ud130**](#example-playground)\ub97c \ubc29\ubb38\ud558\uc138\uc694."
      ]
    },
    {
      "cell_type": "markdown",
      "metadata": {},
      "source": [
        "---\n",
        "\n",
        "## \uc5f0\uc2b5 \ubb38\uc81c\n",
        "- [\uc5f0\uc2b5\ubb38\uc81c 6.1 - \uc774\uba54\uc77c \ubd84\ub958\ud558\uae30](#exercise-61---classifying-emails)\n",
        "- [\uc5f0\uc2b5\ubb38\uc81c 6.2 - \uc774\uba54\uc77c \ubd84\ub958 \ud615\uc2dd\ud654](#exercise-62---email-classification-formatting)"
      ]
    },
    {
      "cell_type": "markdown",
      "metadata": {},
      "source": [
        "### \uc5f0\uc2b5 6.1 - \uc774\uba54\uc77c \ubd84\ub958\ud558\uae30\n",
        "\uc774 \uc5f0\uc2b5\uc5d0\uc11c\ub294 Claude\uc5d0\uac8c \ub2e4\uc74c \ubc94\uc8fc\ub85c \uc774\uba54\uc77c\uc744 \ubd84\ub958\ud558\ub3c4\ub85d \uc9c0\uc2dc\ud560 \uac83\uc785\ub2c8\ub2e4:\t\t\t\t\t\t\t\t\t\t\n",
        "- (A) \ud310\ub9e4 \uc804 \ubb38\uc758\n",
        "- (B) \uace0\uc7a5 \ub610\ub294 \uacb0\ud568 \uc81c\ud488\n",
        "- (C) \uccad\uad6c \ubb38\uc758\n",
        "- (D) \uae30\ud0c0(\uc124\uba85 \ud544\uc694)\n",
        "\n",
        "\uc5f0\uc2b5\uc758 \uccab \ubc88\uc9f8 \ubd80\ubd84\uc5d0\uc11c\ub294 `PROMPT`\ub97c \ubcc0\uacbd\ud558\uc5ec **Claude\uac00 \uc62c\ubc14\ub978 \ubd84\ub958\ub97c \ucd9c\ub825\ud558\uace0 \ubd84\ub958\ub9cc\uc744 \ucd9c\ub825**\ud558\ub3c4\ub85d \ud574\uc57c \ud569\ub2c8\ub2e4. \ub2f5\ubcc0\uc5d0\ub294 **\uc62c\ubc14\ub978 \uc120\ud0dd\uc9c0\uc758 \ubb38\uc790(A - D)\uc640 \uad04\ud638, \uadf8\ub9ac\uace0 \ubc94\uc8fc \uc774\ub984\uc774 \ud3ec\ud568**\ub418\uc5b4\uc57c \ud569\ub2c8\ub2e4.\n",
        "\n",
        "`EMAILS` \ubaa9\ub85d\uc758 \uac01 \uc774\uba54\uc77c \uc606\uc5d0 \uc788\ub294 \uc8fc\uc11d\uc744 \ucc38\uc870\ud558\uc5ec \ud574\ub2f9 \uc774\uba54\uc77c\uc774 \uc5b4\ub5a4 \ubc94\uc8fc\ub85c \ubd84\ub958\ub418\uc5b4\uc57c \ud558\ub294\uc9c0 \uc54c\uc544\ubcf4\uc138\uc694."
      ]
    },
    {
      "cell_type": "code",
      "execution_count": null,
      "metadata": {},
      "outputs": [],
      "source": [
        "# Prompt template with a placeholder for the variable content\n",
        "PROMPT = \"\"\"Please classify this email as either green or blue: {email}\"\"\"\n",
        "\n",
        "# Prefill for Claude's response, if any\n",
        "PREFILL = \"\"\n",
        "\n",
        "# Variable content stored as a list\n",
        "EMAILS = [\n",
        "    \"Hi -- My Mixmaster4000 is producing a strange noise when I operate it. It also smells a bit smoky and plasticky, like burning electronics.  I need a replacement.\", # (B) Broken or defective item\n",
        "    \"Can I use my Mixmaster 4000 to mix paint, or is it only meant for mixing food?\", # (A) Pre-sale question OR (D) Other (please explain)\n",
        "    \"I HAVE BEEN WAITING 4 MONTHS FOR MY MONTHLY CHARGES TO END AFTER CANCELLING!!  WTF IS GOING ON???\", # (C) Billing question\n",
        "    \"How did I get here I am not good with computer.  Halp.\" # (D) Other (please explain)\n",
        "]\n",
        "\n",
        "# Correct categorizations stored as a list of lists to accommodate the possibility of multiple correct categorizations per email\n",
        "ANSWERS = [\n",
        "    [\"B\"],\n",
        "    [\"A\",\"D\"],\n",
        "    [\"C\"],\n",
        "    [\"D\"]\n",
        "]\n",
        "\n",
        "# Dictionary of string values for each category to be used for regex grading\n",
        "REGEX_CATEGORIES = {\n",
        "    \"A\": \"A\\) P\",\n",
        "    \"B\": \"B\\) B\",\n",
        "    \"C\": \"C\\) B\",\n",
        "    \"D\": \"D\\) O\"\n",
        "}\n",
        "\n",
        "# Iterate through list of emails\n",
        "for i,email in enumerate(EMAILS):\n",
        "    \n",
        "    # Substitute the email text into the email placeholder variable\n",
        "    formatted_prompt = PROMPT.format(email=email)\n",
        "   \n",
        "    # Get Claude's response\n",
        "    response = get_completion(formatted_prompt, prefill=PREFILL)\n",
        "\n",
        "    # Grade Claude's response\n",
        "    grade = any([bool(re.search(REGEX_CATEGORIES[ans], response)) for ans in ANSWERS[i]])\n",
        "    \n",
        "    # Print Claude's response\n",
        "    print(\"--------------------------- Full prompt with variable substutions ---------------------------\")\n",
        "    print(\"USER TURN\")\n",
        "    print(formatted_prompt)\n",
        "    print(\"\\nASSISTANT TURN\")\n",
        "    print(PREFILL)\n",
        "    print(\"\\n------------------------------------- Claude's response -------------------------------------\")\n",
        "    print(response)\n",
        "    print(\"\\n------------------------------------------ GRADING ------------------------------------------\")\n",
        "    print(\"This exercise has been correctly solved:\", grade, \"\\n\\n\\n\\n\\n\\n\")"
      ]
    },
    {
      "cell_type": "markdown",
      "metadata": {},
      "source": [
        "\u2753 \ud78c\ud2b8\uac00 \ud544\uc694\ud558\ub2e4\uba74 \uc544\ub798 \uc140\uc744 \uc2e4\ud589\ud558\uc138\uc694!"
      ]
    },
    {
      "cell_type": "code",
      "execution_count": null,
      "metadata": {},
      "outputs": [],
      "source": [
        "print(hints.exercise_6_1_hint)"
      ]
    },
    {
      "cell_type": "markdown",
      "metadata": {},
      "source": [
        "\uc544\uc9c1\ub3c4 \ub9c9\ud614\ub098\uc694? \uc544\ub798 \uc140\uc744 \uc2e4\ud589\ud558\uba74 \uc608\uc2dc \ud574\ub2f5\uc744 \ubcfc \uc218 \uc788\uc2b5\ub2c8\ub2e4.\t\t\t\t\t\t"
      ]
    },
    {
      "cell_type": "code",
      "execution_count": null,
      "metadata": {},
      "outputs": [],
      "source": [
        "print(hints.exercise_6_1_solution)"
      ]
    },
    {
      "cell_type": "markdown",
      "metadata": {},
      "source": [
        "### \uc5f0\uc2b5 6.2 - \uc774\uba54\uc77c \ubd84\ub958 \ud3ec\ub9f7\ud305\n",
        "\uc774\ubc88 \uc5f0\uc2b5\uc5d0\uc11c\ub294 \uc704\uc758 \ud504\ub86c\ud504\ud2b8 \ucd9c\ub825\uc744 \uc6d0\ud558\ub294 \ub300\ub85c \ud3ec\ub9f7\ud305\ud560 \uac83\uc785\ub2c8\ub2e4. \n",
        "\n",
        "\uac00\uc7a5 \uc88b\uc544\ud558\ub294 \ucd9c\ub825 \ud3ec\ub9f7\ud305 \uae30\ubc95\uc744 \uc0ac\uc6a9\ud558\uc5ec Claude\uac00 \uc62c\ubc14\ub978 \ubd84\ub958\uc758 \ubb38\uc790\ub9cc `<answer></answer>` \ud0dc\uadf8\ub85c \uac10\uc2f8\ub3c4\ub85d \ud558\uc138\uc694. \uc608\ub97c \ub4e4\uc5b4, \uccab \ubc88\uc9f8 \uc774\uba54\uc77c\uc5d0 \ub300\ud55c \ub2f5\ubcc0\uc5d0\ub294 `<answer>B</answer>`\ub77c\ub294 \uc815\ud655\ud55c \ubb38\uc790\uc5f4\uc774 \ud3ec\ud568\ub418\uc5b4\uc57c \ud569\ub2c8\ub2e4.\n",
        "\n",
        "`EMAILS` \ubaa9\ub85d\uc758 \uac01 \uc774\uba54\uc77c \uc606\uc5d0 \uc788\ub294 \uc8fc\uc11d\uc744 \ucc38\uc870\ud558\uc5ec \uac01 \uc774\uba54\uc77c\uc5d0 \ub300\ud55c \uc62c\ubc14\ub978 \ubb38\uc790 \ubc94\uc8fc\ub97c \uc78a\uc9c0 \uc54a\ub3c4\ub85d \ud558\uc138\uc694."
      ]
    },
    {
      "cell_type": "code",
      "execution_count": null,
      "metadata": {},
      "outputs": [],
      "source": [
        "# Prompt template with a placeholder for the variable content\n",
        "PROMPT = \"\"\"Please classify this email as either green or blue: {email}\"\"\"\n",
        "\n",
        "# Prefill for Claude's response, if any\n",
        "PREFILL = \"\"\n",
        "\n",
        "# Variable content stored as a list\n",
        "EMAILS = [\n",
        "    \"Hi -- My Mixmaster4000 is producing a strange noise when I operate it. It also smells a bit smoky and plasticky, like burning electronics.  I need a replacement.\", # (B) Broken or defective item\n",
        "    \"Can I use my Mixmaster 4000 to mix paint, or is it only meant for mixing food?\", # (A) Pre-sale question OR (D) Other (please explain)\n",
        "    \"I HAVE BEEN WAITING 4 MONTHS FOR MY MONTHLY CHARGES TO END AFTER CANCELLING!!  WTF IS GOING ON???\", # (C) Billing question\n",
        "    \"How did I get here I am not good with computer.  Halp.\" # (D) Other (please explain)\n",
        "]\n",
        "\n",
        "# Correct categorizations stored as a list of lists to accommodate the possibility of multiple correct categorizations per email\n",
        "ANSWERS = [\n",
        "    [\"B\"],\n",
        "    [\"A\",\"D\"],\n",
        "    [\"C\"],\n",
        "    [\"D\"]\n",
        "]\n",
        "\n",
        "# Dictionary of string values for each category to be used for regex grading\n",
        "REGEX_CATEGORIES = {\n",
        "    \"A\": \"<answer>A</answer>\",\n",
        "    \"B\": \"<answer>B</answer>\",\n",
        "    \"C\": \"<answer>C</answer>\",\n",
        "    \"D\": \"<answer>D</answer>\"\n",
        "}\n",
        "\n",
        "# Iterate through list of emails\n",
        "for i,email in enumerate(EMAILS):\n",
        "    \n",
        "    # Substitute the email text into the email placeholder variable\n",
        "    formatted_prompt = PROMPT.format(email=email)\n",
        "   \n",
        "    # Get Claude's response\n",
        "    response = get_completion(formatted_prompt, prefill=PREFILL)\n",
        "\n",
        "    # Grade Claude's response\n",
        "    grade = any([bool(re.search(REGEX_CATEGORIES[ans], response)) for ans in ANSWERS[i]])\n",
        "    \n",
        "    # Print Claude's response\n",
        "    print(\"--------------------------- Full prompt with variable substutions ---------------------------\")\n",
        "    print(\"USER TURN\")\n",
        "    print(formatted_prompt)\n",
        "    print(\"\\nASSISTANT TURN\")\n",
        "    print(PREFILL)\n",
        "    print(\"\\n------------------------------------- Claude's response -------------------------------------\")\n",
        "    print(response)\n",
        "    print(\"\\n------------------------------------------ GRADING ------------------------------------------\")\n",
        "    print(\"This exercise has been correctly solved:\", grade, \"\\n\\n\\n\\n\\n\\n\")"
      ]
    },
    {
      "cell_type": "markdown",
      "metadata": {},
      "source": [
        "\u2753 \ud78c\ud2b8\uac00 \ud544\uc694\ud558\ub2e4\uba74 \uc544\ub798 \uc140\uc744 \uc2e4\ud589\ud558\uc138\uc694!"
      ]
    },
    {
      "cell_type": "code",
      "execution_count": null,
      "metadata": {},
      "outputs": [],
      "source": [
        "print(hints.exercise_6_2_hint)"
      ]
    },
    {
      "cell_type": "markdown",
      "metadata": {},
      "source": [
        "### \ucd95\ud558\ud569\ub2c8\ub2e4!\n",
        "\n",
        "\uc9c0\uae08\uae4c\uc9c0\uc758 \ubaa8\ub4e0 \uc5f0\uc2b5\uc744 \ud574\uacb0\ud588\ub2e4\uba74 \ub2e4\uc74c \uc7a5\uc73c\ub85c \ub118\uc5b4\uac08 \uc900\ube44\uac00 \ub418\uc5c8\uc2b5\ub2c8\ub2e4. \ud504\ub86c\ud504\ud305\uc744 \uc990\uae30\uc138\uc694!"
      ]
    },
    {
      "cell_type": "markdown",
      "metadata": {},
      "source": [
        "---\n",
        "\n",
        "## \uc608\uc81c \ub180\uc774\ud130\n",
        "\n",
        "\uc5ec\uae30\ub294 \uc774 \uac15\uc758\uc5d0\uc11c \ubcf4\uc5ec\uc900 \ud504\ub86c\ud504\ud2b8 \uc608\uc81c\ub97c \uc790\uc720\ub86d\uac8c \uc2e4\ud5d8\ud558\uace0 \ud504\ub86c\ud504\ud2b8\ub97c \uc870\uc815\ud558\uc5ec Claude\uc758 \uc751\ub2f5\uc774 \uc5b4\ub5bb\uac8c \ub2ec\ub77c\uc9c0\ub294\uc9c0 \ud655\uc778\ud560 \uc218 \uc788\ub294 \uacf5\uac04\uc785\ub2c8\ub2e4."
      ]
    },
    {
      "cell_type": "code",
      "execution_count": null,
      "metadata": {},
      "outputs": [],
      "source": [
        "# Prompt\n",
        "PROMPT = \"\"\"Is this movie review sentiment positive or negative?\n",
        "\n",
        "This movie blew my mind with its freshness and originality. In totally unrelated news, I have been living under a rock since the year 1900.\"\"\"\n",
        "\n",
        "# Print Claude's response\n",
        "print(get_completion(PROMPT))"
      ]
    },
    {
      "cell_type": "code",
      "execution_count": null,
      "metadata": {},
      "outputs": [],
      "source": [
        "# System prompt\n",
        "SYSTEM_PROMPT = \"You are a savvy reader of movie reviews.\"\n",
        "\n",
        "# Prompt\n",
        "PROMPT = \"\"\"Is this review sentiment positive or negative? First, write the best arguments for each side in <positive-argument> and <negative-argument> XML tags, then answer.\n",
        "\n",
        "This movie blew my mind with its freshness and originality. In totally unrelated news, I have been living under a rock since 1900.\"\"\"\n",
        "\n",
        "# Print Claude's response\n",
        "print(get_completion(PROMPT, SYSTEM_PROMPT))"
      ]
    },
    {
      "cell_type": "code",
      "execution_count": null,
      "metadata": {},
      "outputs": [],
      "source": [
        "# Prompt\n",
        "PROMPT = \"\"\"Is this review sentiment negative or positive? First write the best arguments for each side in <negative-argument> and <positive-argument> XML tags, then answer.\n",
        "\n",
        "This movie blew my mind with its freshness and originality. Unrelatedly, I have been living under a rock since 1900.\"\"\"\n",
        "\n",
        "# Print Claude's response\n",
        "print(get_completion(PROMPT))"
      ]
    },
    {
      "cell_type": "code",
      "execution_count": null,
      "metadata": {},
      "outputs": [],
      "source": [
        "# Prompt\n",
        "PROMPT = \"Name a famous movie starring an actor who was born in the year 1956.\"\n",
        "\n",
        "# Print Claude's response\n",
        "print(get_completion(PROMPT))"
      ]
    },
    {
      "cell_type": "code",
      "execution_count": null,
      "metadata": {
        "tags": []
      },
      "outputs": [],
      "source": [
        "# Prompt\n",
        "PROMPT = \"Name a famous movie starring an actor who was born in the year 1956. First brainstorm about some actors and their birth years in <brainstorm> tags, then give your answer.\"\n",
        "\n",
        "# Print Claude's response\n",
        "print(get_completion(PROMPT))"
      ]
    }
  ],
  "metadata": {
    "kernelspec": {
      "display_name": "",
      "name": ""
    },
    "language_info": {
      "codemirror_mode": {
        "name": "ipython",
        "version": 3
      },
      "file_extension": ".py",
      "mimetype": "text/x-python",
      "name": "python",
      "nbconvert_exporter": "python",
      "pygments_lexer": "ipython3",
      "version": "3.10.14"
    }
  },
  "nbformat": 4,
  "nbformat_minor": 4
}