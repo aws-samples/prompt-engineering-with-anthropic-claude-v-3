{
  "cells": [
    {
      "cell_type": "markdown",
      "metadata": {},
      "source": [
        "# \ubd80\ub85d 10.4.5: Haiku\ub97c \ud558\uc704 \uc5d0\uc774\uc804\ud2b8\ub85c \uc0ac\uc6a9\ud558\uae30\n",
        "\n",
        "\uc774 \ub808\uc2dc\ud53c\uc5d0\uc11c\ub294 Claude 3 Haiku \ud558\uc704 \uc5d0\uc774\uc804\ud2b8 \ubaa8\ub378\uc744 \uc0ac\uc6a9\ud558\uc5ec Apple\uc758 2023\ub144 \uc7ac\ubb34 \uc2e4\uc801 \ubcf4\uace0\uc11c\uc5d0\uc11c \uad00\ub828 \uc815\ubcf4\ub97c \ucd94\ucd9c\ud558\uace0, Claude 3 Sonnet\uc744 \uc0ac\uc6a9\ud558\uc5ec \uc9c8\ubb38\uc5d0 \ub300\ud55c \uc751\ub2f5\uc744 \uc0dd\uc131\ud558\uace0 matplotlib\ub97c \uc0ac\uc6a9\ud558\uc5ec \uc751\ub2f5\uc5d0 \ub3d9\ubc18\ub418\ub294 \uadf8\ub798\ud504\ub97c \ub9cc\ub4dc\ub294 \ubc29\ubc95\uc744 \ubcf4\uc5ec\uc90d\ub2c8\ub2e4."
      ]
    },
    {
      "cell_type": "markdown",
      "metadata": {},
      "source": [
        "## 1\ub2e8\uacc4: \ud658\uacbd \uc124\uc815\n",
        "\uba3c\uc800 \ud544\uc694\ud55c \ub77c\uc774\ube0c\ub7ec\ub9ac\ub97c \uc124\uce58\ud558\uace0 Anthropic API \ud074\ub77c\uc774\uc5b8\ud2b8\ub97c \uc124\uc815\ud569\ub2c8\ub2e4."
      ]
    },
    {
      "cell_type": "code",
      "execution_count": null,
      "metadata": {
        "tags": []
      },
      "outputs": [],
      "source": [
        "pip install -qUr requirements.txt"
      ]
    },
    {
      "cell_type": "code",
      "execution_count": null,
      "metadata": {
        "tags": []
      },
      "outputs": [],
      "source": [
        "# Import the required libraries\n",
        "import boto3\n",
        "import fitz\n",
        "from PIL import Image\n",
        "import io\n",
        "from concurrent.futures import ThreadPoolExecutor\n",
        "import requests\n",
        "import os\n",
        "\n",
        "session = boto3.Session()\n",
        "region = session.region_name\n",
        "\n",
        "modelId = 'anthropic.claude-3-sonnet-20240229-v1:0'\n",
        "#modelId = 'anthropic.claude-3-haiku-20240307-v1:0'\n",
        "\n",
        "print(f'Using modelId: {modelId}')\n",
        "print('Using region: ', region)\n",
        "\n",
        "bedrock_client = boto3.client(service_name = 'bedrock-runtime', region_name = region,)"
      ]
    },
    {
      "cell_type": "markdown",
      "metadata": {},
      "source": [
        "## 2\ub2e8\uacc4: \ubb38\uc11c \uc218\uc9d1 \ubc0f \uc9c8\ubb38 \uc791\uc131\n",
        "\uc774 \uc608\uc81c\uc5d0\uc11c\ub294 2023 \ud68c\uacc4\uc5f0\ub3c4\uc758 Apple \uc7ac\ubb34\uc81c\ud45c \uc804\uccb4\ub97c \uc0ac\uc6a9\ud558\uace0 \uc5f0\uac04 \uc21c\ub9e4\ucd9c\uc5d0 \ub300\ud574 \uc9c8\ubb38\ud560 \uac83\uc785\ub2c8\ub2e4."
      ]
    },
    {
      "cell_type": "code",
      "execution_count": null,
      "metadata": {
        "tags": []
      },
      "outputs": [],
      "source": [
        "# List of Apple's earnings release PDF URLs\n",
        "pdf_urls = [\n",
        "    \"https://www.apple.com/newsroom/pdfs/fy2023-q4/FY23_Q4_Consolidated_Financial_Statements.pdf\",\n",
        "    \"https://www.apple.com/newsroom/pdfs/fy2023-q3/FY23_Q3_Consolidated_Financial_Statements.pdf\",\n",
        "    \"https://www.apple.com/newsroom/pdfs/FY23_Q2_Consolidated_Financial_Statements.pdf\",\n",
        "    \"https://www.apple.com/newsroom/pdfs/FY23_Q1_Consolidated_Financial_Statements.pdf\"\n",
        "]\n",
        "\n",
        "# User's question\n",
        "QUESTION = \"How did Apple's net sales change quarter to quarter in the 2023 financial year and what were the key contributors to the changes?\""
      ]
    },
    {
      "cell_type": "markdown",
      "metadata": {},
      "source": [
        "## 3\ub2e8\uacc4: PDF \ub2e4\uc6b4\ub85c\ub4dc \ubc0f \uc774\ubbf8\uc9c0 \ubcc0\ud658\n",
        "\ub2e4\uc74c\uc73c\ub85c \uc218\uc775 \uc2e4\uc801 \ubcf4\uace0\uc11c PDF\ub97c \ub2e4\uc6b4\ub85c\ub4dc\ud558\uace0 base64 \uc778\ucf54\ub529\ub41c PNG \uc774\ubbf8\uc9c0\ub85c \ubcc0\ud658\ud558\ub294 \ud568\uc218\ub97c \uc815\uc758\ud569\ub2c8\ub2e4. \uc774\ub807\uac8c \ud574\uc57c \ud558\ub294 \uc774\uc720\ub294 \uc774\ub7ec\ud55c PDF\uc5d0 \uc804\ud1b5\uc801\uc778 PDF \ud30c\uc11c\ub85c \uad6c\ubb38 \ubd84\uc11d\ud558\uae30 \uc5b4\ub824\uc6b4 \ud45c\uac00 \ub9ce\uc774 \ud3ec\ud568\ub418\uc5b4 \uc788\uae30 \ub54c\ubb38\uc785\ub2c8\ub2e4. \uc774\ubbf8\uc9c0\ub85c \ubcc0\ud658\ud558\uc5ec Haiku\uc5d0 \uc804\ub2ec\ud558\ub294 \uac83\uc774 \ub354 \uc27d\uc2b5\ub2c8\ub2e4.\n",
        "\n",
        "```download_pdf``` \ud568\uc218\ub294 \uc8fc\uc5b4\uc9c4 URL\uc5d0\uc11c PDF \ud30c\uc77c\uc744 \ub2e4\uc6b4\ub85c\ub4dc\ud558\uc5ec \uc9c0\uc815\ub41c \ud3f4\ub354\uc5d0 \uc800\uc7a5\ud569\ub2c8\ub2e4. ```pdf_to_pngs``` \ud568\uc218\ub294 PDF\ub97c PNG \uc774\ubbf8\uc9c0 \ubaa9\ub85d\uc73c\ub85c \ubcc0\ud658\ud569\ub2c8\ub2e4."
      ]
    },
    {
      "cell_type": "code",
      "execution_count": null,
      "metadata": {
        "tags": []
      },
      "outputs": [],
      "source": [
        "# Function to download a PDF file from a URL and save it to a specified folder\n",
        "def download_pdf(url, folder):\n",
        "    response = requests.get(url)\n",
        "    if response.status_code == 200:\n",
        "        file_name = os.path.join(folder, url.split(\"/\")[-1])\n",
        "        with open(file_name, \"wb\") as file:\n",
        "            file.write(response.content)\n",
        "        return file_name\n",
        "    else:\n",
        "        print(f\"Failed to download PDF from {url}\")\n",
        "        return None\n",
        "    \n",
        "# Define the function to convert a PDF to a list of base64-encoded PNG images\n",
        "def pdf_to_png(pdf_path, quality=75, max_size=(1024, 1024)):\n",
        "    # Open the PDF file\n",
        "    doc = fitz.open(pdf_path)\n",
        "    pdf_to_png_images = []\n",
        "\n",
        "    # Iterate through each page of the PDF\n",
        "    for page_num in range(doc.page_count):\n",
        "        # Load the page\n",
        "        page = doc.load_page(page_num)\n",
        "\n",
        "        # Render the page as a PNG image\n",
        "        pix = page.get_pixmap(matrix=fitz.Matrix(300/72, 300/72))\n",
        "\n",
        "        # Convert the pixmap to a PIL Image\n",
        "        image = Image.frombytes(\"RGB\", [pix.width, pix.height], pix.samples)\n",
        "\n",
        "        # Resize the image if it exceeds the maximum size\n",
        "        if image.size[0] > max_size[0] or image.size[1] > max_size[1]:\n",
        "            image.thumbnail(max_size, Image.Resampling.LANCZOS)\n",
        "\n",
        "        # Convert the PIL image to bytes\n",
        "        image_data = io.BytesIO()\n",
        "        image.save(image_data, format='PNG', optimize=True, quality=quality)\n",
        "        image_data.seek(0)\n",
        "        pdf_to_png_image = image_data.getvalue()\n",
        "\n",
        "        # Append the PNG image bytes to the list\n",
        "        pdf_to_png_images.append(pdf_to_png_image)\n",
        "\n",
        "    # Close the PDF document\n",
        "    doc.close()\n",
        "\n",
        "    return pdf_to_png_images\n",
        "\n",
        "# Folder to save the downloaded PDFs\n",
        "folder = \"./images/using_sub_agents\"\n",
        "\n",
        "# Download the PDFs concurrently\n",
        "with ThreadPoolExecutor() as executor:\n",
        "    pdf_paths = list(executor.map(download_pdf, pdf_urls, [folder] * len(pdf_urls)))\n",
        "\n",
        "# Remove any None values (failed downloads) from pdf_paths\n",
        "pdf_paths = [path for path in pdf_paths if path is not None]"
      ]
    },
    {
      "cell_type": "markdown",
      "metadata": {},
      "source": [
        "ThreadPoolExecutor\ub97c \uc0ac\uc6a9\ud558\uc5ec PDF\ub97c \ub3d9\uc2dc\uc5d0 \ub2e4\uc6b4\ub85c\ub4dc\ud558\uace0 \ud30c\uc77c \uacbd\ub85c\ub97c pdf_paths\uc5d0 \uc800\uc7a5\ud569\ub2c8\ub2e4."
      ]
    },
    {
      "cell_type": "markdown",
      "metadata": {},
      "source": [
        "## 4\ub2e8\uacc4: Sonnet\uc744 \uc0ac\uc6a9\ud558\uc5ec Haiku\uc5d0 \ub300\ud55c \ud2b9\uc815 \ud504\ub86c\ud504\ud2b8 \uc0dd\uc131\n",
        "Opus\ub97c \uc624\ucf00\uc2a4\ud2b8\ub808\uc774\ud130\ub85c \uc0ac\uc6a9\ud558\uace0 \uc0ac\uc6a9\uc790\uac00 \uc81c\uacf5\ud55c \uc9c8\ubb38\uc744 \uae30\ubc18\uc73c\ub85c \uac01 Haiku \ud558\uc704 \uc5d0\uc774\uc804\ud2b8\uc5d0 \ub300\ud55c \ud2b9\uc815 \ud504\ub86c\ud504\ud2b8\ub97c \uc791\uc131\ud558\ub3c4\ub85d \ud569\ub2c8\ub2e4."
      ]
    },
    {
      "cell_type": "code",
      "execution_count": null,
      "metadata": {
        "tags": []
      },
      "outputs": [],
      "source": [
        "def generate_haiku_prompt(question):\n",
        "    prompt = f\"\"\"Based on the following question, please generate a specific prompt for an LLM sub-agent to extract relevant information from an earning's report PDF. Each sub-agent only has access to a single quarter's earnings report. Output only the prompt and nothing else.\\n\\nQuestion: {question}\"\"\"\n",
        "    messages = [\n",
        "        {\n",
        "            \"role\": 'user',\n",
        "            \"content\": [\n",
        "                {\"text\": prompt }\n",
        "            ]\n",
        "        }\n",
        "    ]\n",
        "\n",
        "    converse_api_params = {\n",
        "        \"modelId\": modelId,\n",
        "        \"messages\": messages,\n",
        "    }\n",
        "\n",
        "    response = bedrock_client.converse(**converse_api_params)\n",
        "\n",
        "    return response['output']['message']['content'][0]['text']\n",
        "\n",
        "haiku_prompt = generate_haiku_prompt(QUESTION)\n",
        "print(haiku_prompt)"
      ]
    },
    {
      "cell_type": "markdown",
      "metadata": {},
      "source": [
        "## 5\ub2e8\uacc4: PDF\uc5d0\uc11c \uc815\ubcf4 \ucd94\ucd9c\n",
        "\uc774\uc81c \uc9c8\ubb38\uc744 \uc815\uc758\ud558\uace0 \ud558\uc704 \uc5d0\uc774\uc804\ud2b8 Haiku \ubaa8\ub378\uc744 \uc0ac\uc6a9\ud558\uc5ec PDF\uc5d0\uc11c \uc815\ubcf4\ub97c \ucd94\ucd9c\ud569\ub2c8\ub2e4. \uac01 \ubaa8\ub378\uc5d0\uc11c \ucd94\ucd9c\ud55c \uc815\ubcf4\ub97c \uae54\ub054\ud558\uac8c \uc815\uc758\ub41c XML \ud0dc\uadf8 \uc9d1\ud569\uc73c\ub85c \ud3ec\ub9f7\ud305\ud569\ub2c8\ub2e4."
      ]
    },
    {
      "cell_type": "code",
      "execution_count": null,
      "metadata": {
        "tags": []
      },
      "outputs": [],
      "source": [
        "def extract_info(pdf_path, haiku_prompt):\n",
        "    pdf_pngs = pdf_to_png(pdf_path)\n",
        "\n",
        "    messages = [\n",
        "        {\n",
        "            \"role\": \"user\",\n",
        "            \"content\": [\n",
        "                *[{\"image\": {\"format\": 'png', \"source\": {\"bytes\": pdf_png}}} for pdf_png in pdf_pngs],\n",
        "                {\"text\": haiku_prompt}\n",
        "            ]\n",
        "        }\n",
        "    ]\n",
        "\n",
        "    converse_api_params = {\n",
        "        \"modelId\": \"anthropic.claude-3-haiku-20240307-v1:0\",\n",
        "        \"messages\": messages,\n",
        "    }\n",
        "    response = bedrock_client.converse(**converse_api_params)\n",
        "\n",
        "    return response['output']['message']['content'][0]['text'], pdf_path\n",
        "\n",
        "def process_pdf(pdf_path):\n",
        "    return extract_info(pdf_path, QUESTION)\n",
        "\n",
        "# Process the PDFs concurrently with Haiku sub-agent models\n",
        "with ThreadPoolExecutor() as executor:\n",
        "    extracted_info_list = list(executor.map(process_pdf, pdf_paths))\n",
        "\n",
        "extracted_info = \"\"\n",
        "# Display the extracted information from each model call\n",
        "for info in extracted_info_list:\n",
        "    extracted_info += \"<info quarter=\\\"\" + info[1].split(\"/\")[-1].split(\"_\")[1] + \"\\\">\" + info[0] + \"</info>\\n\"\n",
        "print(extracted_info)"
      ]
    },
    {
      "cell_type": "markdown",
      "metadata": {},
      "source": [
        "\ud558\uc704 \uc5d0\uc774\uc804\ud2b8 \ubaa8\ub378\uc744 \uc0ac\uc6a9\ud558\uc5ec PDF\uc5d0\uc11c \ub3d9\uc2dc\uc5d0 \uc815\ubcf4\ub97c \ucd94\ucd9c\ud558\uace0 \ucd94\ucd9c\ub41c \uc815\ubcf4\ub97c \uacb0\ud569\ud569\ub2c8\ub2e4. \uadf8\ub7f0 \ub2e4\uc74c \uc9c8\ubb38\uacfc \ucd94\ucd9c\ub41c \uc815\ubcf4\ub97c \ud3ec\ud568\ud558\uc5ec \uac15\ub825\ud55c \ubaa8\ub378\uc5d0 \ub300\ud55c \uba54\uc2dc\uc9c0\ub97c \uc900\ube44\ud558\uace0, \uc751\ub2f5\uacfc matplotlib \ucf54\ub4dc\ub97c \uc0dd\uc131\ud558\ub3c4\ub85d \uc694\uccad\ud569\ub2c8\ub2e4."
      ]
    },
    {
      "cell_type": "markdown",
      "metadata": {},
      "source": [
        "## 6\ub2e8\uacc4: Sonnet\uc5d0 \uc815\ubcf4\ub97c \uc804\ub2ec\ud558\uc5ec \uc751\ub2f5 \uc0dd\uc131\n",
        "\uc774\uc81c \ud558\uc704 \uc5d0\uc774\uc804\ud2b8\ub97c \uc0ac\uc6a9\ud558\uc5ec \uac01 PDF\uc5d0\uc11c \uc815\ubcf4\ub97c \uac00\uc838\uc654\uc73c\ubbc0\ub85c Opus\ub97c \ud638\ucd9c\ud558\uc5ec \uc2e4\uc81c\ub85c \uc9c8\ubb38\uc5d0 \ub2f5\ubcc0\ud558\uace0 \uc751\ub2f5\uc5d0 \ub3d9\ubc18\ub418\ub294 \uadf8\ub798\ud504\ub97c \ub9cc\ub4e4\uae30 \uc704\ud55c \ucf54\ub4dc\ub97c \uc791\uc131\ud569\ub2c8\ub2e4."
      ]
    },
    {
      "cell_type": "code",
      "execution_count": null,
      "metadata": {
        "tags": []
      },
      "outputs": [],
      "source": [
        "# Prepare the messages for the powerful model\n",
        "messages = [\n",
        "    {\n",
        "        \"role\": \"user\",\n",
        "        \"content\": [\n",
        "            {\"text\": f\"Based on the following extracted information from Apple's earnings releases, please provide a response to the question: {QUESTION}\\n\\nAlso, please generate Python code using the matplotlib library to accompany your response. Enclose the code within <code> tags.\\n\\nExtracted Information:\\n{extracted_info}\"}\n",
        "        ]\n",
        "    }\n",
        "]\n",
        "\n",
        "# Generate the matplotlib code using the powerful model\n",
        "converse_api_params = {\n",
        "    \"modelId\": \"anthropic.claude-3-sonnet-20240229-v1:0\",\n",
        "    \"messages\": messages,\n",
        "    \"inferenceConfig\": {\"maxTokens\": 4096},\n",
        "}\n",
        "response = bedrock_client.converse(**converse_api_params)\n",
        "\n",
        "generated_response = response['output']['message']['content'][0]['text']\n",
        "print(\"Generated Response:\")\n",
        "print(generated_response)"
      ]
    },
    {
      "cell_type": "markdown",
      "metadata": {},
      "source": [
        "## 7\ub2e8\uacc4: \uc751\ub2f5 \ucd94\ucd9c \ubc0f Matplotlib \ucf54\ub4dc \uc2e4\ud589\n",
        "\ub9c8\uc9c0\ub9c9\uc73c\ub85c \uc0dd\uc131\ub41c \uc751\ub2f5\uc5d0\uc11c matplotlib \ucf54\ub4dc\ub97c \ucd94\ucd9c\ud558\uace0 \uc2e4\ud589\ud558\uc5ec \uc218\uc775 \uc131\uc7a5 \ucd94\uc138\ub97c \uc2dc\uac01\ud654\ud569\ub2c8\ub2e4.\n",
        "\n",
        "```extract_code_and_response``` \ud568\uc218\ub97c \uc815\uc758\ud558\uc5ec \uc0dd\uc131\ub41c \uc751\ub2f5\uc5d0\uc11c matplotlib \ucf54\ub4dc\uc640 \ucf54\ub4dc\uac00 \uc544\ub2cc \uc751\ub2f5\uc744 \ucd94\ucd9c\ud569\ub2c8\ub2e4. \ucf54\ub4dc\uac00 \uc544\ub2cc \uc751\ub2f5\uc744 \uc778\uc1c4\ud558\uace0 matplotlib \ucf54\ub4dc\uac00 \uc788\uc73c\uba74 \uc2e4\ud589\ud569\ub2c8\ub2e4.\n",
        "\n",
        "\ubaa8\ub378\uc774 \uc791\uc131\ud55c \ucf54\ub4dc\ub97c \uc0cc\ub4dc\ubc15\uc2a4 \uc678\ubd80\uc5d0\uc11c ```exec```\ub97c \uc0ac\uc6a9\ud558\ub294 \uac83\uc740 \uc88b\uc740 \uad00\ud589\uc774 \uc544\ub2c8\uc9c0\ub9cc \uc774 \ub370\ubaa8\ub97c \uc704\ud574 \uadf8\ub807\uac8c \ud558\uaca0\uc2b5\ub2c8\ub2e4 :)"
      ]
    },
    {
      "cell_type": "code",
      "execution_count": null,
      "metadata": {
        "tags": []
      },
      "outputs": [],
      "source": [
        "# Extract the matplotlib code from the response\n",
        "# Function to extract the code and non-code parts from the response\n",
        "def extract_code_and_response(response):\n",
        "    start_tag = \"<code>\"\n",
        "    end_tag = \"</code>\"\n",
        "    start_index = response.find(start_tag)\n",
        "    end_index = response.find(end_tag)\n",
        "    if start_index != -1 and end_index != -1:\n",
        "        code = response[start_index + len(start_tag):end_index].strip()\n",
        "        non_code_response = response[:start_index].strip()\n",
        "        return code, non_code_response\n",
        "    else:\n",
        "        return None, response.strip()\n",
        "\n",
        "matplotlib_code, non_code_response = extract_code_and_response(generated_response)\n",
        "\n",
        "print(non_code_response)\n",
        "if matplotlib_code:\n",
        "\n",
        "    # Execute the extracted matplotlib code\n",
        "    exec(matplotlib_code)\n",
        "else:\n",
        "    print(\"No matplotlib code found in the response.\")"
      ]
    }
  ],
  "metadata": {
    "kernelspec": {
      "display_name": "conda_python3",
      "language": "python",
      "name": "conda_python3"
    },
    "language_info": {
      "codemirror_mode": {
        "name": "ipython",
        "version": 3
      },
      "file_extension": ".py",
      "mimetype": "text/x-python",
      "name": "python",
      "nbconvert_exporter": "python",
      "pygments_lexer": "ipython3",
      "version": "3.10.14"
    }
  },
  "nbformat": 4,
  "nbformat_minor": 4
}