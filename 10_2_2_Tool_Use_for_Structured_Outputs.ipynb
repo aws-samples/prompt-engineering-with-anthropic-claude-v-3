{
  "cells": [
    {
      "cell_type": "markdown",
      "metadata": {},
      "source": [
        "# \ubd80\ub85d 10.2.2: \ub3c4\uad6c \uc0ac\uc6a9\uc73c\ub85c JSON \uac15\uc81c\ud558\uae30\n",
        "\n",
        "## \ud559\uc2b5 \ubaa9\ud45c\n",
        "\n",
        "* \uad6c\uc870\ud654\ub41c \uc751\ub2f5\uc744 \uac15\uc81c\ud558\uae30 \uc704\ud574 \ub3c4\uad6c\ub97c \uc0ac\uc6a9\ud558\ub294 \ubc29\ubc95 \uc774\ud574\ud558\uae30\n",
        "* \uc774 \"\ud2b8\ub9ad\"\uc744 \ud65c\uc6a9\ud558\uc5ec \uad6c\uc870\ud654\ub41c JSON \uc0dd\uc131\ud558\uae30\n",
        "\n",
        "Claude\ub97c \ud65c\uc6a9\ud558\ub294 \ub354 \ud765\ubbf8\ub85c\uc6b4 \ubc29\ubc95 \uc911 \ud558\ub098\ub294 JSON\uacfc \uac19\uc740 \uad6c\uc870\ud654\ub41c \ucf58\ud150\uce20\ub85c \uc751\ub2f5\ud558\ub3c4\ub85d \uac15\uc81c\ud558\ub294 \uac83\uc785\ub2c8\ub2e4. \uc5d4\ud2f0\ud2f0 \ucd94\ucd9c, \ub370\uc774\ud130 \uc694\uc57d, \uac10\uc815 \ubd84\uc11d \ub4f1 Claude\uc5d0\uac8c \ud45c\uc900\ud654\ub41c JSON \uc751\ub2f5\uc744 \ubc1b\uace0 \uc2f6\uc740 \uc0c1\ud669\uc774 \ub9ce\uc2b5\ub2c8\ub2e4.\n",
        "\n",
        "\uc774\ub97c \uc704\ud55c \ud55c \uac00\uc9c0 \ubc29\ubc95\uc740 \ub2e8\uc21c\ud788 Claude\uc5d0\uac8c JSON\uc73c\ub85c \uc751\ub2f5\ud558\ub77c\uace0 \uc694\uccad\ud558\ub294 \uac83\uc774\uc9c0\ub9cc, \uc774\ub807\uac8c \ud558\uba74 Claude\ub85c\ubd80\ud130 \ubc1b\uc740 \ud070 \ubb38\uc790\uc5f4\uc5d0\uc11c \uc2e4\uc81c\ub85c JSON\uc744 \ucd94\ucd9c\ud558\uac70\ub098 \uc6d0\ud558\ub294 \uc815\ud655\ud55c \ud615\uc2dd\uc758 JSON\uc744 \ub530\ub974\ub3c4\ub85d \ud558\ub294 \ucd94\uac00 \uc791\uc5c5\uc774 \ud544\uc694\ud560 \uc218 \uc788\uc2b5\ub2c8\ub2e4.\n",
        "\n",
        "\ub2e4\ud589\ud788\ub3c4 **Claude\uac00 \ub3c4\uad6c\ub97c \uc0ac\uc6a9\ud558\uace0 \uc2f6\uc744 \ub54c\ub9c8\ub2e4 \uc6b0\ub9ac\uac00 \ub3c4\uad6c\ub97c \uc815\uc758\ud560 \ub54c \uc9c0\uc815\ud55c \uc644\ubcbd\ud558\uac8c \uad6c\uc870\ud654\ub41c \ud615\uc2dd\uc73c\ub85c \uc751\ub2f5\ud569\ub2c8\ub2e4.**\n",
        "\n",
        "\uc774\uc804 \uc218\uc5c5\uc5d0\uc11c Claude\uc5d0\uac8c \uacc4\uc0b0\uae30 \ub3c4\uad6c\ub97c \uc81c\uacf5\ud588\uc2b5\ub2c8\ub2e4. \ub3c4\uad6c\ub97c \uc0ac\uc6a9\ud558\uace0 \uc2f6\uc744 \ub54c \ub2e4\uc74c\uacfc \uac19\uc740 \ucf58\ud150\uce20\ub85c \uc751\ub2f5\ud588\uc2b5\ub2c8\ub2e4.\n",
        "\n",
        "```\n",
        "{\n",
        "    'operand1': 1984135, \n",
        "    'operand2': 9343116, \n",
        "    'operation': 'multiply'\n",
        "}\n",
        "```\n",
        "\n",
        "\uc774\uac83\uc740 JSON\uacfc \ub9e4\uc6b0 \uc720\uc0ac\ud574 \ubcf4\uc785\ub2c8\ub2e4!\n",
        "\n",
        "Claude\uac00 \uad6c\uc870\ud654\ub41c JSON\uc744 \uc0dd\uc131\ud558\uac8c \ud558\uace0 \uc2f6\ub2e4\uba74 \uc774 \uc810\uc744 \ud65c\uc6a9\ud560 \uc218 \uc788\uc2b5\ub2c8\ub2e4. \ud574\uc57c \ud560 \uc77c\uc740 \ud2b9\uc815 JSON \uad6c\uc870\ub97c \uc124\uba85\ud558\ub294 \ub3c4\uad6c\ub97c \uc815\uc758\ud558\uace0 Claude\uc5d0\uac8c \uc54c\ub824\uc8fc\ub294 \uac83\ubfd0\uc785\ub2c8\ub2e4. \uadf8\ub7ec\uba74 Claude\ub294 \"\ub3c4\uad6c\ub97c \ud638\ucd9c\"\ud55c\ub2e4\uace0 \uc0dd\uac01\ud558\uba70 \uc751\ub2f5\ud560 \uac83\uc774\uc9c0\ub9cc, \uc0ac\uc2e4 \uc6b0\ub9ac\uac00 \uc6d0\ud558\ub294 \uac83\uc740 \uad6c\uc870\ud654\ub41c \uc751\ub2f5\uc77c \ubfd0\uc785\ub2c8\ub2e4."
      ]
    },
    {
      "cell_type": "markdown",
      "metadata": {},
      "source": [
        "***"
      ]
    },
    {
      "cell_type": "markdown",
      "metadata": {},
      "source": [
        "# \uac1c\ub150 \uac1c\uc694\n",
        "\n",
        "\uc774\uac83\uc774 \uc774\uc804 \uc218\uc5c5\uc5d0\uc11c \ud588\ub358 \uac83\uacfc \uc5b4\ub5bb\uac8c \ub2e4\ub978\uc9c0 \uc0b4\ud3b4\ubcf4\uaca0\uc2b5\ub2c8\ub2e4. \ub2e4\uc74c\uc740 \uc774\uc804 \uc218\uc5c5\uc758 \uc6cc\ud06c\ud50c\ub85c\uc6b0 \ub2e4\uc774\uc5b4\uadf8\ub7a8\uc785\ub2c8\ub2e4.\n",
        "\n",
        "![chickens_calculator.png](./images/chickens_calculator.png)\n",
        "\n",
        "\uc774\uc804 \uc218\uc5c5\uc5d0\uc11c\ub294 Claude\uc5d0\uac8c \ub3c4\uad6c\ub97c \uc81c\uacf5\ud588\uace0, Claude\uac00 \ub3c4\uad6c\ub97c \ud638\ucd9c\ud558\uace0 \uc2f6\uc5b4 \ud588\uc73c\uba70, \uc2e4\uc81c\ub85c \uae30\ubcf8 \ub3c4\uad6c \ud568\uc218\ub97c \ud638\ucd9c\ud588\uc2b5\ub2c8\ub2e4.\n",
        "\n",
        "\uc774\ubc88 \uc218\uc5c5\uc5d0\uc11c\ub294 Claude\ub97c \"\uc18d\uc774\uaca0\uc2b5\ub2c8\ub2e4\". \ud2b9\uc815 \ub3c4\uad6c\uc5d0 \ub300\ud574 \uc54c\ub824\uc8fc\uc9c0\ub9cc \uc2e4\uc81c\ub85c \uae30\ubcf8 \ub3c4\uad6c \ud568\uc218\ub97c \ud638\ucd9c\ud560 \ud544\uc694\ub294 \uc5c6\uc2b5\ub2c8\ub2e4. \ud2b9\uc815 \uc751\ub2f5 \uad6c\uc870\ub97c \uac15\uc81c\ud558\uae30 \uc704\ud574 \ub3c4\uad6c\ub97c \uc0ac\uc6a9\ud558\ub294 \uac83\uc785\ub2c8\ub2e4. \ub2e4\uc74c \ub2e4\uc774\uc5b4\uadf8\ub7a8\uc744 \ucc38\uc870\ud558\uc138\uc694.\n",
        "\n",
        "![structured_response.png](./images/structured_response.png)"
      ]
    },
    {
      "cell_type": "markdown",
      "metadata": {},
      "source": [
        "## \uac10\uc815 \ubd84\uc11d\n",
        "\uac04\ub2e8\ud55c \uc608\uc2dc\ub85c \uc2dc\uc791\ud574 \ubcf4\uaca0\uc2b5\ub2c8\ub2e4. Claude\uc5d0\uac8c \ud14d\uc2a4\ud2b8\uc758 \uac10\uc815\uc744 \ubd84\uc11d\ud558\uace0 \ub2e4\uc74c\uacfc \uac19\uc740 \ud615\ud0dc\uc758 JSON \uac1d\uccb4\ub85c \uc751\ub2f5\ud558\uac8c \ud558\uace0 \uc2f6\ub2e4\uace0 \uac00\uc815\ud574 \ubd05\uc2dc\ub2e4.\n",
        "\n",
        "```\n",
        "{\n",
        "  \"negative_score\": 0.6,\n",
        "  \"neutral_score\": 0.3,\n",
        "  \"positive_score\": 0.1\n",
        "}\n",
        "```"
      ]
    },
    {
      "cell_type": "markdown",
      "metadata": {},
      "source": [
        "\ud574\uc57c \ud560 \uc77c\uc740 \uc774 \ud615\ud0dc\ub97c JSON \uc2a4\ud0a4\ub9c8\ub97c \uc0ac\uc6a9\ud558\uc5ec \ub3c4\uad6c\ub85c \uc815\uc758\ud558\ub294 \uac83\ubfd0\uc785\ub2c8\ub2e4. \ub2e4\uc74c\uc740 \uc7a0\uc7ac\uc801\uc778 \uad6c\ud604 \uc608\uc2dc\uc785\ub2c8\ub2e4."
      ]
    },
    {
      "cell_type": "code",
      "execution_count": null,
      "metadata": {
        "tags": []
      },
      "outputs": [],
      "source": [
        "%pip install -qU pip\n",
        "%pip install -qUr requirements.txt"
      ]
    },
    {
      "cell_type": "code",
      "execution_count": null,
      "metadata": {
        "tags": []
      },
      "outputs": [],
      "source": [
        "import boto3\n",
        "import json\n",
        "from datetime import datetime\n",
        "from botocore.exceptions import ClientError\n",
        "\n",
        "# Import the hints module from the utils package\n",
        "from utils import hints\n",
        "\n",
        "session = boto3.Session()\n",
        "region = session.region_name"
      ]
    },
    {
      "cell_type": "code",
      "execution_count": null,
      "metadata": {
        "tags": []
      },
      "outputs": [],
      "source": [
        "modelId = 'anthropic.claude-3-sonnet-20240229-v1:0'\n",
        "#modelId = 'anthropic.claude-3-haiku-20240307-v1:0'\n",
        "\n",
        "bedrock_client = boto3.client(service_name = 'bedrock-runtime', region_name = region,)"
      ]
    },
    {
      "cell_type": "code",
      "execution_count": null,
      "metadata": {
        "tags": []
      },
      "outputs": [],
      "source": [
        "tools = {\n",
        "  \"tools\": [\n",
        "    {\n",
        "      \"toolSpec\": {\n",
        "        \"name\": \"print_sentiment_scores\",\n",
        "        \"description\": \"Prints the sentiment scores of a given text.\",\n",
        "        \"inputSchema\": {\n",
        "          \"json\": {\n",
        "            \"type\": \"object\",\n",
        "            \"properties\": {\n",
        "              \"positive_score\": {\n",
        "                \"type\": \"number\",\n",
        "                \"description\": \"The positive sentiment score, ranging from 0.0 to 1.0.\"},\n",
        "              \"negative_score\": {\n",
        "                \"type\": \"number\",\n",
        "                \"description\": \"The negative sentiment score, ranging from 0.0 to 1.0.\"},\n",
        "              \"neutral_score\": {\n",
        "                \"type\": \"number\",\n",
        "                \"description\": \"The neutral sentiment score, ranging from 0.0 to 1.0.\"}\n",
        "            },\n",
        "            \"required\": [\"positive_score\", \"negative_score\", \"neutral_score\"\n",
        "            ]\n",
        "          }\n",
        "        }\n",
        "      }\n",
        "    }\n",
        "  ]\n",
        "}"
      ]
    },
    {
      "cell_type": "markdown",
      "metadata": {},
      "source": [
        "\uc774\uc81c \uc6b0\ub9ac\ub294 Claude\uc5d0\uac8c \uc774 \ub3c4\uad6c\uc5d0 \ub300\ud574 \uc54c\ub824\uc8fc\uace0 Claude\uc5d0\uac8c \uc774 \ub3c4\uad6c\ub97c \uc0ac\uc6a9\ud558\ub77c\uace0 \uba85\uc2dc\uc801\uc73c\ub85c \uc9c0\uc2dc\ud560 \uc218 \uc788\uc2b5\ub2c8\ub2e4. \uadf8\ub7ec\uba74 Claude\uac00 \uc2e4\uc81c\ub85c \uadf8 \ub3c4\uad6c\ub97c \uc0ac\uc6a9\ud560 \uac83\uc785\ub2c8\ub2e4. Claude\uac00 \ub3c4\uad6c\ub97c \uc0ac\uc6a9\ud558\uaca0\ub2e4\ub294 \uc751\ub2f5\uc744 \ubc1b\uc544\uc57c \ud569\ub2c8\ub2e4. \ub3c4\uad6c \uc0ac\uc6a9 \uc751\ub2f5\uc5d0\ub294 \uc6b0\ub9ac\uac00 \uc6d0\ud558\ub294 \uc815\ud655\ud55c \ud615\uc2dd\uc758 \ubaa8\ub4e0 \ub370\uc774\ud130\uac00 \ud3ec\ud568\ub418\uc5b4\uc57c \ud569\ub2c8\ub2e4."
      ]
    },
    {
      "cell_type": "code",
      "execution_count": null,
      "metadata": {
        "tags": []
      },
      "outputs": [],
      "source": [
        "tweet = \"I'm a HUGE hater of pickles.  I actually despise pickles.  They are garbage.\"\n",
        "\n",
        "query = f\"\"\"\n",
        "<text>\n",
        "{tweet}\n",
        "</text>\n",
        "\n",
        "Only use the print_sentiment_scores tool.\n",
        "\"\"\"\n",
        "\n",
        "converse_api_params = {\n",
        "    \"modelId\": \"anthropic.claude-3-haiku-20240307-v1:0\",\n",
        "    \"messages\": [{\"role\": \"user\", \"content\": [{\"text\": query}]}],\n",
        "    \"inferenceConfig\": {\"temperature\": 0.0, \"maxTokens\": 400},\n",
        "    \"toolConfig\": tools,\n",
        "}\n",
        "\n",
        "response = bedrock_client.converse(**converse_api_params)"
      ]
    },
    {
      "cell_type": "code",
      "execution_count": null,
      "metadata": {
        "tags": []
      },
      "outputs": [],
      "source": [
        "response['output']"
      ]
    },
    {
      "cell_type": "markdown",
      "metadata": {},
      "source": [
        "Claude\ub85c\ubd80\ud130 \ubc1b\uc740 \uc751\ub2f5\uc744 \uc0b4\ud3b4\ubd05\uc2dc\ub2e4. \uc911\uc694\ud55c \ubd80\ubd84\uc744 \uad75\uac8c \ud45c\uc2dc\ud588\uc2b5\ub2c8\ub2e4:\n",
        "\n",
        ">{'message': {'role': 'assistant',\n",
        "  'content': [{'text': '\uc8fc\uc5b4\uc9c4 \ud14d\uc2a4\ud2b8\uc5d0 \ub300\ud55c \uac10\uc815 \ubd84\uc11d \uacb0\uacfc\uc785\ub2c8\ub2e4:'},\n",
        "   {'toolUse': {'toolUseId': 'tooluse_d2ReNcjDQvKjLLet4u9EOA',\n",
        "     'name': 'print_sentiment_scores',\n",
        "     **'input': {'positive_score': 0.0,\n",
        "      'negative_score': 0.7,\n",
        "      'neutral_score': 0.3}**}}]}}\n",
        "\n",
        "Claude\ub294 \uc774 \uac10\uc815 \ubd84\uc11d \ub370\uc774\ud130\ub97c \uc0ac\uc6a9\ud560 \ub3c4\uad6c\ub97c \ud638\ucd9c\ud55c\ub2e4\uace0 \"\uc0dd\uac01\"\ud558\uc9c0\ub9cc, \uc2e4\uc81c\ub85c\ub294 \uc6b0\ub9ac\uac00 \uadf8 \ub370\uc774\ud130\ub97c \ucd94\ucd9c\ud558\uc5ec JSON\uc73c\ub85c \ubcc0\ud658\ud560 \uac83\uc785\ub2c8\ub2e4."
      ]
    },
    {
      "cell_type": "code",
      "execution_count": null,
      "metadata": {
        "tags": []
      },
      "outputs": [],
      "source": [
        "import json\n",
        "json_sentiment = None\n",
        "for content in response['output']['message']['content']:\n",
        "    if isinstance(content, dict) and 'toolUse' in content:\n",
        "        tool_use = content['toolUse']\n",
        "        if tool_use['name'] == \"print_sentiment_scores\":\n",
        "            json_sentiment = tool_use['input']\n",
        "            break\n",
        "\n",
        "if json_sentiment:\n",
        "    print(\"Sentiment Analysis (JSON):\")\n",
        "    print(json.dumps(json_sentiment, indent=2))\n",
        "else:\n",
        "    print(\"No sentiment analysis found in the response.\")"
      ]
    },
    {
      "cell_type": "markdown",
      "metadata": {},
      "source": [
        "\uc798 \ub418\uc5c8\uc2b5\ub2c8\ub2e4! \uc774\uc81c \ud2b8\uc717\uc774\ub098 \uae30\uc0ac\ub97c \uc785\ub825\ubc1b\uc544 \uac10\uc815 \ubd84\uc11d \uacb0\uacfc\ub97c JSON\uc73c\ub85c \ucd9c\ub825\ud558\uac70\ub098 \ubc18\ud658\ud558\ub294 \uc7ac\uc0ac\uc6a9 \uac00\ub2a5\ud55c \ud568\uc218\ub97c \ub9cc\ub4e4\uc5b4 \ubd05\uc2dc\ub2e4."
      ]
    },
    {
      "cell_type": "code",
      "execution_count": null,
      "metadata": {
        "tags": []
      },
      "outputs": [],
      "source": [
        "def analyze_sentiment(content):\n",
        "\n",
        "    query = f\"\"\"\n",
        "    <text>\n",
        "    {content}\n",
        "    </text>\n",
        "\n",
        "    Only use the print_sentiment_scores tool.\n",
        "    \"\"\"\n",
        "\n",
        "    converse_api_params = {\n",
        "        \"modelId\": \"anthropic.claude-3-haiku-20240307-v1:0\",\n",
        "        \"messages\": [{\"role\": \"user\", \"content\": [{\"text\": query}]}],\n",
        "        \"inferenceConfig\": {\"temperature\": 0.0, \"maxTokens\": 4096},\n",
        "        \"toolConfig\": tools,\n",
        "    }\n",
        "\n",
        "    response = bedrock_client.converse(**converse_api_params)\n",
        "\n",
        "    json_sentiment = None\n",
        "    for content in response['output']['message']['content']:\n",
        "        if isinstance(content, dict) and 'toolUse' in content:\n",
        "            tool_use = content['toolUse']\n",
        "            if tool_use['name'] == \"print_sentiment_scores\":\n",
        "                json_sentiment = tool_use['input']\n",
        "                break\n",
        "\n",
        "    if json_sentiment:\n",
        "        print(\"Sentiment Analysis (JSON):\")\n",
        "        print(json.dumps(json_sentiment, indent=2))\n",
        "    else:\n",
        "        print(\"No sentiment analysis found in the response.\")"
      ]
    },
    {
      "cell_type": "code",
      "execution_count": null,
      "metadata": {
        "tags": []
      },
      "outputs": [],
      "source": [
        "analyze_sentiment(\"OMG I absolutely love taking bubble baths soooo much!!!!\")"
      ]
    },
    {
      "cell_type": "code",
      "execution_count": null,
      "metadata": {
        "tags": []
      },
      "outputs": [],
      "source": [
        "analyze_sentiment(\"Honestly I have no opinion on taking baths\")"
      ]
    },
    {
      "cell_type": "markdown",
      "metadata": {},
      "source": [
        "***"
      ]
    },
    {
      "cell_type": "markdown",
      "metadata": {},
      "source": [
        "## `toolChoice`\ub97c \uc0ac\uc6a9\ud558\uc5ec \ub3c4\uad6c \uc0ac\uc6a9 \uac15\uc81c\ud558\uae30\n",
        "\n",
        "\ud604\uc7ac \uc6b0\ub9ac\ub294 \ud504\ub86c\ud504\ud2b8\ub97c \ud1b5\ud574 Claude\uc5d0\uac8c `print_sentiment_scores` \ub3c4\uad6c\ub97c \uc0ac\uc6a9\ud558\ub3c4\ub85d \"\uac15\uc81c\"\ud558\uace0 \uc788\uc2b5\ub2c8\ub2e4. \ud504\ub86c\ud504\ud2b8\uc5d0\uc11c `print_sentiment_scores \ub3c4\uad6c\ub9cc \uc0ac\uc6a9\ud558\uc138\uc694.`\ub77c\uace0 \uc4f0\uba74 \ub300\uac1c \uc791\ub3d9\ud558\uc9c0\ub9cc, \ub354 \ub098\uc740 \ubc29\ubc95\uc774 \uc788\uc2b5\ub2c8\ub2e4! `tool_choice` \ub9e4\uac1c\ubcc0\uc218\ub97c \uc0ac\uc6a9\ud558\uc5ec Claude\uc5d0\uac8c \ud2b9\uc815 \ub3c4\uad6c\ub97c \uc0ac\uc6a9\ud558\ub3c4\ub85d \uac15\uc81c\ud560 \uc218 \uc788\uc2b5\ub2c8\ub2e4."
      ]
    },
    {
      "cell_type": "markdown",
      "metadata": {
        "tags": []
      },
      "source": [
        "```json\n",
        "tool_choice = {\n",
        "    \"tool\": {\n",
        "        \"name\": \"print_sentiment_scores\"}\n",
        "}\n",
        "```"
      ]
    },
    {
      "cell_type": "markdown",
      "metadata": {},
      "source": [
        "\uc704\uc758 \ucf54\ub4dc\ub294 Claude\uc5d0\uac8c `print_sentiment_scores` \ub3c4\uad6c\ub97c \ud638\ucd9c\ud558\uc5ec \uc751\ub2f5\ud574\uc57c \ud55c\ub2e4\uace0 \uc54c\ub824\uc90d\ub2c8\ub2e4. \uc774\uc81c \ub3c4\uad6c\uc640 \ud568\uc218\ub97c \uc5c5\ub370\uc774\ud2b8\ud574 \ubd05\uc2dc\ub2e4."
      ]
    },
    {
      "cell_type": "code",
      "execution_count": null,
      "metadata": {},
      "outputs": [],
      "source": [
        "# create out toolConfig var and force the toolChoice to be print_sentiment_scores by name\n",
        "toolConfig = {'tools': [],\n",
        "        \"toolChoice\": {\n",
        "        \"tool\": {\"name\":\"print_sentiment_scores\"},\n",
        "    }\n",
        "}"
      ]
    },
    {
      "cell_type": "code",
      "execution_count": null,
      "metadata": {},
      "outputs": [],
      "source": [
        "# append our tool specification to our toolConfig\n",
        "toolConfig['tools'].append({\n",
        "      \"toolSpec\": {\n",
        "        \"name\": \"print_sentiment_scores\",\n",
        "        \"description\": \"Prints the sentiment scores of a given text.\",\n",
        "        \"inputSchema\": {\n",
        "          \"json\": {\n",
        "            \"type\": \"object\",\n",
        "            \"properties\": {\n",
        "              \"positive_score\": {\n",
        "                \"type\": \"number\",\n",
        "                \"description\": \"The positive sentiment score, ranging from 0.0 to 1.0.\"},\n",
        "              \"negative_score\": {\n",
        "                \"type\": \"number\",\n",
        "                \"description\": \"The negative sentiment score, ranging from 0.0 to 1.0.\"},\n",
        "              \"neutral_score\": {\n",
        "                \"type\": \"number\",\n",
        "                \"description\": \"The neutral sentiment score, ranging from 0.0 to 1.0.\"}\n",
        "            },\n",
        "            \"required\": [\"positive_score\", \"negative_score\", \"neutral_score\"]\n",
        "          }\n",
        "        }\n",
        "      }\n",
        "    })"
      ]
    },
    {
      "cell_type": "code",
      "execution_count": null,
      "metadata": {
        "tags": []
      },
      "outputs": [],
      "source": [
        "# optional uncomment if you want to see the complete toolConfig\n",
        "toolConfig"
      ]
    },
    {
      "cell_type": "code",
      "execution_count": null,
      "metadata": {
        "tags": []
      },
      "outputs": [],
      "source": [
        "def analyze_sentiment(content):\n",
        "\n",
        "    query = f\"\"\"\n",
        "    <text>\n",
        "    {content}\n",
        "    </text>\n",
        "\n",
        "    Only use the print_sentiment_scores tool.\n",
        "    \"\"\"\n",
        "\n",
        "    converse_api_params = {\n",
        "        \"modelId\": \"anthropic.claude-3-haiku-20240307-v1:0\",\n",
        "        \"messages\": [{\"role\": \"user\", \"content\": [{\"text\": query}]}],\n",
        "        \"inferenceConfig\": {\"temperature\": 0.0, \"maxTokens\": 4096},\n",
        "        \"toolConfig\": toolConfig\n",
        "    }\n",
        "\n",
        "    response = bedrock_client.converse(**converse_api_params)\n",
        "\n",
        "    json_sentiment = None\n",
        "    for content in response['output']['message']['content']:\n",
        "        if isinstance(content, dict) and 'toolUse' in content:\n",
        "            tool_use = content['toolUse']\n",
        "            if tool_use['name'] == \"print_sentiment_scores\":\n",
        "                json_sentiment = tool_use['input']\n",
        "                break\n",
        "\n",
        "    if json_sentiment:\n",
        "        print(\"Sentiment Analysis (JSON):\")\n",
        "        print(json.dumps(json_sentiment, indent=2))\n",
        "    else:\n",
        "        print(\"No sentiment analysis found in the response.\")"
      ]
    },
    {
      "cell_type": "code",
      "execution_count": null,
      "metadata": {
        "tags": []
      },
      "outputs": [],
      "source": [
        "analyze_sentiment(\"Honestly I have no opinion on taking baths\")"
      ]
    },
    {
      "cell_type": "markdown",
      "metadata": {},
      "source": [
        "\uc55e\uc73c\ub85c \uc788\uc744 \uc218\uc5c5\uc5d0\uc11c `toolChoice`\uc5d0 \ub300\ud574 \ub354 \uc790\uc138\ud788 \ub2e4\ub8f0 \uac83\uc785\ub2c8\ub2e4."
      ]
    },
    {
      "cell_type": "markdown",
      "metadata": {},
      "source": [
        "***"
      ]
    },
    {
      "cell_type": "markdown",
      "metadata": {},
      "source": [
        "## \uc5d4\ud2f0\ud2f0 \ucd94\ucd9c \uc608\uc2dc\n",
        "\n",
        "\uc774\ubc88\uc5d0\ub294 \uac19\uc740 \ubc29\uc2dd\uc73c\ub85c Claude\uc5d0\uac8c \ud14d\uc2a4\ud2b8 \uc0d8\ud50c\uc5d0\uc11c \uc0ac\ub78c, \uc870\uc9c1, \uc704\uce58 \ub4f1\uc758 \uc5d4\ud2f0\ud2f0\ub97c \ucd94\ucd9c\ud558\uc5ec \uc798 \uc815\ub9ac\ub41c JSON \ud615\uc2dd\uc73c\ub85c \uc751\ub2f5\ud558\ub3c4\ub85d \ud574\ubd05\uc2dc\ub2e4.\n"
      ]
    },
    {
      "cell_type": "code",
      "execution_count": null,
      "metadata": {
        "tags": []
      },
      "outputs": [],
      "source": [
        "toolConfig = {\n",
        "  \"tools\": [\n",
        "    {\n",
        "      \"toolSpec\": {\n",
        "        \"name\": \"print_entities\",\n",
        "        \"description\": \"Prints extract named entities.\",\n",
        "        \"inputSchema\": {\n",
        "          \"json\": {\n",
        "            \"type\": \"object\",\n",
        "            \"properties\": {\n",
        "              \"entities\": {\n",
        "                \"type\": \"array\",\n",
        "                \"items\": {\n",
        "                  \"type\": \"object\",\n",
        "                  \"properties\": {\n",
        "                    \"name\": {\"type\": \"string\", \"description\": \"The extracted entity name.\"},\n",
        "                    \"type\": {\"type\": \"string\", \"description\": \"The entity type (e.g., PERSON, ORGANIZATION, LOCATION).\"},\n",
        "                    \"context\": {\"type\": \"string\", \"description\": \"The context in which the entity appears in the text.\"}\n",
        "                  },\n",
        "                  \"required\": [\"name\", \"type\", \"context\"]\n",
        "                }\n",
        "              }\n",
        "            },\n",
        "            \"required\": [\"entities\"]\n",
        "          }\n",
        "        }\n",
        "      }\n",
        "    }\n",
        "  ]\n",
        "}\n",
        "\n",
        "text = \"John works at Google in New York. He met with Sarah, the CEO of Acme Inc., last week in San Francisco.\"\n",
        "\n",
        "query = f\"\"\"\n",
        "<document>\n",
        "{text}\n",
        "</document>\n",
        "\n",
        "Use the print_entities tool.\n",
        "\"\"\"\n",
        "\n",
        "converse_api_params = {\n",
        "    \"modelId\": \"anthropic.claude-3-haiku-20240307-v1:0\",\n",
        "    \"messages\": [{\"role\": \"user\", \"content\": [{\"text\": query}]}],\n",
        "    \"additionalModelRequestFields\": {\"max_tokens\": 4096},\n",
        "    \"toolConfig\": toolConfig\n",
        "}\n",
        "\n",
        "response = bedrock_client.converse(**converse_api_params)\n",
        "\n",
        "\n",
        "json_entities = None\n",
        "for content in response['output']['message']['content']:\n",
        "    if isinstance(content, dict) and 'toolUse' in content:\n",
        "        tool_use = content['toolUse']\n",
        "        if tool_use['name'] == \"print_entities\":\n",
        "            json_entities = tool_use['input']\n",
        "            break\n",
        "\n",
        "if json_entities:\n",
        "    print(\"Extracted Entities (JSON):\")\n",
        "    print(json.dumps(json_entities, indent=2))\n",
        "else:\n",
        "    print(\"No entities found in the response.\")"
      ]
    },
    {
      "cell_type": "markdown",
      "metadata": {},
      "source": [
        "\uc55e\uc11c\uc640 \ub9c8\ucc2c\uac00\uc9c0\ub85c \uac19\uc740 \"\ud2b8\ub9ad\"\uc744 \uc0ac\uc6a9\ud569\ub2c8\ub2e4. Claude\uc5d0\uac8c \ud2b9\uc815 \ub3c4\uad6c\uc5d0 \uc811\uadfc\ud560 \uc218 \uc788\ub2e4\uace0 \uc54c\ub824\uc11c Claude\uac00 \ud2b9\uc815 \ub370\uc774\ud130 \ud615\uc2dd\uc73c\ub85c \uc751\ub2f5\ud558\ub3c4\ub85d \ud569\ub2c8\ub2e4. \uadf8\ub7f0 \ub2e4\uc74c Claude\uac00 \uc751\ub2f5\ud55c \ud615\uc2dd\ud654\ub41c \ub370\uc774\ud130\ub97c \ucd94\ucd9c\ud558\uba74 \ub429\ub2c8\ub2e4.\n",
        "\n",
        "\uc774 \uc0ac\uc6a9 \uc0ac\ub840\uc5d0\uc11c\ub294 Claude\uc5d0\uac8c \ud2b9\uc815 \ub3c4\uad6c\ub97c \uc0ac\uc6a9\ud558\ub77c\uace0 \uba85\uc2dc\uc801\uc73c\ub85c \uc9c0\uc2dc\ud558\ub294 \uac83\uc774 \ub3c4\uc6c0\uc774 \ub429\ub2c8\ub2e4.\n",
        "\n",
        "\n",
        ">print_entities \ub3c4\uad6c\ub97c \uc0ac\uc6a9\ud558\uc138\uc694.\n"
      ]
    },
    {
      "cell_type": "markdown",
      "metadata": {},
      "source": [
        "***"
      ]
    },
    {
      "cell_type": "markdown",
      "metadata": {},
      "source": [
        "## \ub354 \ubcf5\uc7a1\ud55c \ub370\uc774\ud130\ub97c \uc0ac\uc6a9\ud55c Wikipedia \uc694\uc57d \uc608\uc2dc\n",
        "\n",
        "\uc880 \ub354 \ubcf5\uc7a1\ud55c \uc608\uc2dc\ub97c \ud574\ubd05\uc2dc\ub2e4. Python `wikipedia` \ud328\ud0a4\uc9c0\ub97c \uc0ac\uc6a9\ud558\uc5ec \uc804\uccb4 Wikipedia \ubb38\uc11c\ub97c \uac00\uc838\uc640 Claude\uc5d0\uac8c \uc804\ub2ec\ud569\ub2c8\ub2e4. Claude\uc5d0\uac8c \ub2e4\uc74c\uacfc \uac19\uc740 \ub0b4\uc6a9\uc744 \ud3ec\ud568\ud558\ub294 \uc751\ub2f5\uc744 \uc0dd\uc131\ud558\ub3c4\ub85d \ud569\ub2c8\ub2e4.\n",
        "\n",
        "* \ubb38\uc11c\uc758 \uc8fc\uc694 \uc8fc\uc81c\n",
        "* \ubb38\uc11c\uc758 \uc694\uc57d\n",
        "* \ubb38\uc11c\uc5d0\uc11c \uc5b8\uae09\ub41c \ud0a4\uc6cc\ub4dc \ubc0f \uc8fc\uc81c \ubaa9\ub85d\n",
        "* \ubb38\uc11c\uc758 \uce74\ud14c\uace0\ub9ac \ubd84\ub958 \ubaa9\ub85d(\uc5d4\ud130\ud14c\uc778\uba3c\ud2b8, \uc815\uce58, \ube44\uc988\ub2c8\uc2a4 \ub4f1) \ubc0f \ubd84\ub958 \uc810\uc218(\ud574\ub2f9 \uc8fc\uc81c\uac00 \uadf8 \uce74\ud14c\uace0\ub9ac\uc5d0 \uc18d\ud558\ub294 \uc815\ub3c4)"
      ]
    },
    {
      "cell_type": "markdown",
      "metadata": {},
      "source": [
        "\uc6b0\ub9ac\uac00 \ud074\ub85c\ub4dc\uc5d0\uac8c \uc6d4\ud2b8 \ub514\uc988\ub2c8\uc5d0 \ub300\ud55c \uc704\ud0a4\ubc31\uacfc \uae30\uc0ac\ub97c \uc804\ub2ec\ud558\uba74, \ub2e4\uc74c\uacfc \uac19\uc740 \uacb0\uacfc\ub97c \uc608\uc0c1\ud560 \uc218 \uc788\uc2b5\ub2c8\ub2e4: \n",
        "\n",
        "```json\n",
        "{\n",
        "  \"subject\": \"Walt Disney\",\n",
        "  \"summary\": \"Walter Elias Disney\ub294 \ubbf8\uad6d\uc758 \uc560\ub2c8\uba54\uc774\ud130, \uc601\ud654 \uc81c\uc791\uc790, \uae30\uc5c5\uac00\uc600\uc2b5\ub2c8\ub2e4. \uadf8\ub294 \ubbf8\uad6d \uc560\ub2c8\uba54\uc774\uc158 \uc0b0\uc5c5\uc758 \uc120\uad6c\uc790\uc600\uace0 \ub9cc\ud654 \uc81c\uc791\uc5d0 \uc5ec\ub7ec \uac00\uc9c0 \ubc1c\uc804\uc744 \uc774\ub04c\uc5c8\uc2b5\ub2c8\ub2e4. \uadf8\ub294 \uac1c\uc778\uc73c\ub85c\ub294 \uac00\uc7a5 \ub9ce\uc740 \uc544\uce74\ub370\ubbf8\uc0c1\uc744 \uc218\uc0c1\ud558\uace0 \ud6c4\ubcf4\uc5d0 \uc62c\ub790\uc2b5\ub2c8\ub2e4. \ub610\ud55c \ub514\uc988\ub2c8\ub79c\ub4dc\uc640 \ub2e4\ub978 \ud14c\ub9c8\ud30c\ud06c, \uadf8\ub9ac\uace0 TV \ud504\ub85c\uadf8\ub7a8 \uac1c\ubc1c\uc5d0\ub3c4 \uad00\uc5ec\ud588\uc2b5\ub2c8\ub2e4.\",\n",
        "  \"keywords\": [\n",
        "    \"Walt Disney\",\n",
        "    \"animation\",\n",
        "    \"film producer\",\n",
        "    \"entrepreneur\",\n",
        "    \"Disneyland\",\n",
        "    \"theme parks\",\n",
        "    \"television\"\n",
        "  ],\n",
        "  \"categories\": [\n",
        "    {\n",
        "      \"name\": \"Entertainment\",\n",
        "      \"score\": 0.9\n",
        "    },\n",
        "    {\n",
        "      \"name\": \"Business\",\n",
        "      \"score\": 0.7\n",
        "    },\n",
        "    {\n",
        "      \"name\": \"Technology\",\n",
        "      \"score\": 0.6\n",
        "    }\n",
        "  ]\n",
        "}\n",
        "```"
      ]
    },
    {
      "cell_type": "markdown",
      "metadata": {},
      "source": [
        "\uc704\ud0a4\ubc31\uacfc \ud398\uc774\uc9c0 \uc8fc\uc81c\ub97c \uc785\ub825\ubc1b\uc544 \ud574\ub2f9 \uae30\uc0ac\ub97c \ucc3e\uace0, \ub0b4\uc6a9\uc744 \ub2e4\uc6b4\ub85c\ub4dc\ud55c \ub2e4\uc74c \ud074\ub85c\ub4dc\uc5d0 \uc804\ub2ec\ud558\uc5ec \uacb0\uacfc JSON \ub370\uc774\ud130\ub97c \ucd9c\ub825\ud558\ub294 \ud568\uc218\uc758 \uad6c\ud604 \uc608\uc2dc\uc785\ub2c8\ub2e4. \ud074\ub85c\ub4dc\uc758 \uc751\ub2f5 \ud615\uc2dd\uc744 \"\ucf54\uce58\"\ud558\uae30 \uc704\ud574 \ub3c4\uad6c\ub97c \uc815\uc758\ud558\ub294 \ub3d9\uc77c\ud55c \uc804\ub7b5\uc744 \uc0ac\uc6a9\ud569\ub2c8\ub2e4.\n",
        "\n",
        "\ucc38\uace0: \uba38\uc2e0\uc5d0 wikipedia\uac00 \uc124\uce58\ub418\uc5b4 \uc788\uc9c0 \uc54a\ub2e4\uba74 `pip install wikipedia`\ub97c \uc2e4\ud589\ud558\uc138\uc694!"
      ]
    },
    {
      "cell_type": "code",
      "execution_count": null,
      "metadata": {
        "tags": []
      },
      "outputs": [],
      "source": [
        "import wikipedia\n",
        "\n",
        "#tool definition\n",
        "toolConfig = {\n",
        "  \"tools\": [\n",
        "    {\n",
        "      \"toolSpec\": {\n",
        "        \"name\": \"print_article_classification\",\n",
        "        \"description\": \"Prints the classification results.\",\n",
        "        \"inputSchema\": {\n",
        "          \"json\": {\n",
        "            \"type\": \"object\",\n",
        "            \"properties\": {\n",
        "              \"subject\": {\n",
        "                \"type\": \"string\",\n",
        "                \"description\": \"The overall subject of the article\"},\n",
        "              \"summary\": {\n",
        "                \"type\": \"string\",\n",
        "                \"description\": \"A paragaph summary of the article\"},\n",
        "              \"keywords\": {\n",
        "                \"type\": \"array\",\n",
        "                \"items\": {\n",
        "                  \"type\": \"string\",\n",
        "                  \"description\": \"List of keywords and topics in the article\"}\n",
        "              },\n",
        "              \"categories\": {\n",
        "                \"type\": \"array\",\n",
        "                \"items\": {\n",
        "                  \"type\": \"object\",\n",
        "                  \"properties\": {\n",
        "                    \"name\": {\"type\": \"string\", \"description\": \"The category name.\"},\n",
        "                    \"score\": {\"type\": \"number\", \"description\": \"The classification score for the category, ranging from 0.0 to 1.0.\"}\n",
        "                  },\n",
        "                  \"required\": [\"name\", \"score\"]\n",
        "                }\n",
        "              }\n",
        "            },\n",
        "            \"required\": [\"subject\", \"summary\", \"keywords\", \"categories\"]\n",
        "          }\n",
        "        }\n",
        "      }\n",
        "    }\n",
        "  ]\n",
        "}\n",
        "\n",
        "#The function that generates the json for a given article subject\n",
        "def generate_json_for_article(subject):\n",
        "    page = wikipedia.page(subject, auto_suggest=True)\n",
        "    query = f\"\"\"\n",
        "    <document>\n",
        "    {page.content}\n",
        "    </document>\n",
        "\n",
        "    Use the print_article_classification tool. Example categories are Politics, Sports, Technology, Entertainment, Business.\n",
        "    \"\"\"\n",
        "\n",
        "    converse_api_params = {\n",
        "        \"modelId\": \"anthropic.claude-3-haiku-20240307-v1:0\",\n",
        "        \"messages\": [{\"role\": \"user\", \"content\": [{\"text\": query}]}],\n",
        "        \"additionalModelRequestFields\": {\"max_tokens\": 4096},\n",
        "        \"toolConfig\": toolConfig\n",
        "    }\n",
        "\n",
        "    response = bedrock_client.converse(**converse_api_params)\n",
        "\n",
        "    json_classification = None\n",
        "    for content in response['output']['message']['content']:\n",
        "        if isinstance(content, dict) and 'toolUse' in content:\n",
        "            tool_use = content['toolUse']\n",
        "            if tool_use['name'] == \"print_article_classification\":\n",
        "                json_classification = tool_use['input']\n",
        "                break\n",
        "\n",
        "    if json_classification:\n",
        "        print(\"Text Classification (JSON):\")\n",
        "        print(json.dumps(json_classification, indent=2))\n",
        "    else:\n",
        "        print(\"No text classification found in the response.\")"
      ]
    },
    {
      "cell_type": "code",
      "execution_count": null,
      "metadata": {
        "tags": []
      },
      "outputs": [],
      "source": [
        "generate_json_for_article(\"Jeff Goldblum\")"
      ]
    },
    {
      "cell_type": "code",
      "execution_count": null,
      "metadata": {
        "tags": []
      },
      "outputs": [],
      "source": [
        "generate_json_for_article(\"Octopus\")"
      ]
    },
    {
      "cell_type": "code",
      "execution_count": null,
      "metadata": {
        "tags": []
      },
      "outputs": [],
      "source": [
        "generate_json_for_article(\"Herbert Hoover\")"
      ]
    },
    {
      "cell_type": "markdown",
      "metadata": {},
      "source": [
        "***"
      ]
    },
    {
      "cell_type": "markdown",
      "metadata": {},
      "source": [
        "## \uc5f0\uc2b5\n",
        "\n",
        "\uc704\uc758 \uc804\ub7b5\uc744 \uc0ac\uc6a9\ud558\uc5ec \ub2e8\uc5b4\ub098 \uad6c\ub97c \uc785\ub825\ubc1b\uc544 \uc601\uc5b4 \uc6d0\ubb38\uacfc \uc2a4\ud398\uc778\uc5b4, \ud504\ub791\uc2a4\uc5b4, \uc77c\ubcf8\uc5b4, \uc544\ub78d\uc5b4\ub85c \ubc88\uc5ed\ub41c \uad6c\uc870\ud654\ub41c JSON \ucd9c\ub825\uc744 \uc0dd\uc131\ud558\ub294 `translate` \ud568\uc218\ub97c \uc791\uc131\ud558\uc138\uc694.\n",
        "\n",
        "\ub2e4\uc74c\uacfc \uac19\uc774 \uc791\ub3d9\ud574\uc57c \ud569\ub2c8\ub2e4:\n",
        "\n",
        "\uc774\ub807\uac8c \ud638\ucd9c\ud558\uba74:"
      ]
    },
    {
      "cell_type": "code",
      "execution_count": null,
      "metadata": {},
      "outputs": [],
      "source": [
        "translate(\"how much does this cost\")"
      ]
    },
    {
      "cell_type": "markdown",
      "metadata": {},
      "source": [
        "**1\ub2e8\uacc4.** \"translations_from_claude\"\ub77c\ub294 \uc774\ub984\uc758 \ub3c4\uad6c\uc5d0 \ub300\ud55c toolSpec\uc744 \ud3ec\ud568\ud558\ub294 toolConfig\ub97c \uc644\uc131\ud574\uc57c \ud569\ub2c8\ub2e4. \uc5ec\uae30\uc5d0\ub294 \uc601\uc5b4\uac00 \ud3ec\ud568\ub41c toolSpec\uc758 \uc2dc\uc791 \ubd80\ubd84\uc774 \uc788\uc2b5\ub2c8\ub2e4."
      ]
    },
    {
      "cell_type": "code",
      "execution_count": null,
      "metadata": {
        "tags": []
      },
      "outputs": [],
      "source": [
        "# Here is a strater toolConfig we've added \"English\" for you.\n",
        "toolConfig = {\n",
        "  \"tools\": [\n",
        "    {\n",
        "      \"toolSpec\": {\n",
        "        \"name\": \"translations_from_claude\",\n",
        "        \"description\": \"The translations from Claude of a user provided phrase into English to Spanish, French, Japanese, and Arabic.\",\n",
        "        \"inputSchema\": {\n",
        "          \"json\": {\n",
        "            \"type\": \"object\",\n",
        "            \"properties\": {\n",
        "              \"english\": {\"type\": \"string\", \"description\": \"Your English translation of the provided content from the user\"},\n",
        "            },\n",
        "            \"required\": [\"english\"]\n",
        "          }\n",
        "        }\n",
        "      }\n",
        "    }\n",
        "  ],\n",
        "    \"toolChoice\": {\"tool\": {\"name\": \"translations_from_claude\"}}\n",
        "}"
      ]
    },
    {
      "cell_type": "markdown",
      "metadata": {
        "tags": []
      },
      "source": [
        "\u2753 toolSpec\uacfc \uad00\ub828\ub41c \ud78c\ud2b8\uac00 \ud544\uc694\ud558\uba74 \uc544\ub798 \uc140\uc744 \uc2e4\ud589\ud558\uc138\uc694!"
      ]
    },
    {
      "cell_type": "code",
      "execution_count": null,
      "metadata": {
        "tags": []
      },
      "outputs": [],
      "source": [
        "print(hints.exercise_10_2_2_toolSpec)"
      ]
    },
    {
      "cell_type": "markdown",
      "metadata": {},
      "source": [
        "**2\ub2e8\uacc4.** \uc774\uc81c \"translate\" \ud568\uc218\ub97c \uc644\uc131\ud574\uc57c \ud569\ub2c8\ub2e4."
      ]
    },
    {
      "cell_type": "code",
      "execution_count": null,
      "metadata": {
        "tags": []
      },
      "outputs": [],
      "source": [
        "def translate(query):\n",
        "    prompt = f\"\"\"\n",
        "    Translate phrase below from the user into Spanish, French, Japanese and Arabic.\n",
        "    Content to translate: '{query}'\n",
        "    \"\"\"\n",
        "\n",
        "    pass"
      ]
    },
    {
      "cell_type": "markdown",
      "metadata": {},
      "source": [
        "\u2753 translate \ud568\uc218\uc640 \uad00\ub828\ub41c \ud78c\ud2b8\uac00 \ud544\uc694\ud558\uba74 \uc544\ub798 \uc140\uc744 \uc2e4\ud589\ud558\uc138\uc694!"
      ]
    },
    {
      "cell_type": "code",
      "execution_count": null,
      "metadata": {
        "tags": []
      },
      "outputs": [],
      "source": [
        "print(hints.exercise_10_2_2_translate)"
      ]
    },
    {
      "cell_type": "markdown",
      "metadata": {},
      "source": [
        "**3\ub2e8\uacc4.** \uc774\uc81c translate \ud568\uc218\ub97c \uc2e4\ud589\ud574 \ubd05\uc2dc\ub2e4."
      ]
    },
    {
      "cell_type": "code",
      "execution_count": null,
      "metadata": {},
      "outputs": [],
      "source": [
        "translate(\"how much does this cost\")"
      ]
    },
    {
      "cell_type": "markdown",
      "metadata": {},
      "source": [
        "\ub2e4\uc74c\uacfc \uac19\uc740 \ucd9c\ub825\uc744 \uc608\uc0c1\ud569\ub2c8\ub2e4: \n",
        "\n",
        "```json\n",
        "{\n",
        "  \"english\": \"how much does this cost\",\n",
        "  \"spanish\": \"\u00bfcu\u00e1nto cuesta esto?\",\n",
        "  \"french\": \"combien \u00e7a co\u00fbte?\",\n",
        "  \"japanese\": \"\u3053\u308c\u306f\u3044\u304f\u3089\u3067\u3059\u304b\",\n",
        "  \"arabic\": \"\u0643\u0645 \u062a\u0643\u0644\u0641\u0629 \u0647\u0630\u0627\u061f\"\n",
        "}\n",
        "```\n",
        "\n",
        "**\ucc38\uace0: \uacb0\uacfc\ub97c \ucd9c\ub825\ud558\ub824\uba74 \ub2e4\uc74c \ucf54\ub4dc \ub77c\uc778\uc774 \ub3c4\uc6c0\uc774 \ub420 \uac83\uc785\ub2c8\ub2e4:**"
      ]
    },
    {
      "cell_type": "code",
      "execution_count": null,
      "metadata": {
        "tags": []
      },
      "outputs": [],
      "source": [
        "print(json.dumps(translations_from_claude, ensure_ascii=False, indent=2))"
      ]
    }
  ],
  "metadata": {
    "kernelspec": {
      "display_name": "",
      "name": ""
    },
    "language_info": {
      "codemirror_mode": {
        "name": "ipython",
        "version": 3
      },
      "file_extension": ".py",
      "mimetype": "text/x-python",
      "name": "python",
      "nbconvert_exporter": "python",
      "pygments_lexer": "ipython3",
      "version": "3.10.14"
    }
  },
  "nbformat": 4,
  "nbformat_minor": 4
}