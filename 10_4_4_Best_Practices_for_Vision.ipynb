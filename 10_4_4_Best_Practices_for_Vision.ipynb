{
  "cells": [
    {
      "cell_type": "markdown",
      "metadata": {},
      "source": [
        "# \ubd80\ub85d 10.4.4: Claude\uc640 \ube44\uc804\uc744 \uc0ac\uc6a9\ud560 \ub54c\uc758 \ubaa8\ubc94 \uc0ac\ub840\n",
        "\n",
        "\ube44\uc804\uc740 Claude\uc640 \uc0c1\ud638 \uc791\uc6a9\ud560 \uc218 \uc788\ub294 \uc0c8\ub85c\uc6b4 \ubc29\uc2dd\uc744 \uc81c\uacf5\ud569\ub2c8\ub2e4. \uc774\ubbf8\uc9c0\uc5d0\uc11c \ucd5c\uace0\uc758 \uc131\ub2a5\uc744 \ub0b4\uae30 \uc704\ud55c \uba87 \uac00\uc9c0 \ud301\uc744 \ubaa8\uc558\uc2b5\ub2c8\ub2e4. \uadf8 \uc804\uc5d0 \uba3c\uc800 \ub178\ud2b8\ubd81\uc744 \uc2e4\ud589\ud558\ub294 \ub370 \ud544\uc694\ud55c \ucf54\ub4dc\ub97c \uc124\uc815\ud574 \ubcf4\uaca0\uc2b5\ub2c8\ub2e4."
      ]
    },
    {
      "cell_type": "code",
      "execution_count": null,
      "metadata": {
        "tags": []
      },
      "outputs": [],
      "source": [
        "pip install -qUr requirements.txt"
      ]
    },
    {
      "cell_type": "code",
      "execution_count": null,
      "metadata": {
        "tags": []
      },
      "outputs": [],
      "source": [
        "import boto3\n",
        "from IPython.display import Image\n",
        "from botocore.exceptions import ClientError\n",
        "\n",
        "session = boto3.Session()\n",
        "region = session.region_name\n",
        "\n",
        "modelId = 'anthropic.claude-3-sonnet-20240229-v1:0'\n",
        "#modelId = 'anthropic.claude-3-haiku-20240307-v1:0'\n",
        "\n",
        "print(f'Using modelId: {modelId}')\n",
        "print('Using region: ', region)\n",
        "\n",
        "bedrock_client = boto3.client(service_name = 'bedrock-runtime', region_name = region,)"
      ]
    },
    {
      "cell_type": "code",
      "execution_count": null,
      "metadata": {
        "tags": []
      },
      "outputs": [],
      "source": [
        "def get_base64_encoded_image(image_path):\n",
        "    with open(image_path, \"rb\") as f:\n",
        "        image_file = f.read()\n",
        "\n",
        "    return image_file"
      ]
    },
    {
      "cell_type": "markdown",
      "metadata": {},
      "source": [
        "## \uba40\ud2f0\ubaa8\ub2ec\uc5d0 \uc804\ud1b5\uc801\uc778 \uae30\uc220 \uc801\uc6a9\n",
        "\n",
        "\uc5ed\ud560 \ud560\ub2f9\uacfc \uac19\uc740 \uc804\ud1b5\uc801\uc778 \ud504\ub86c\ud504\ud2b8 \uc5d4\uc9c0\ub2c8\uc5b4\ub9c1 \uae30\uc220\uc744 \uc0ac\uc6a9\ud558\uc5ec hallucination \ubb38\uc81c\ub97c \ud574\uacb0\ud560 \uc218 \uc788\uc2b5\ub2c8\ub2e4. \uc774\uc5d0 \ub300\ud55c \uc608\uc2dc\ub97c \uc0b4\ud3b4\ubcf4\uaca0\uc2b5\ub2c8\ub2e4:\n"
      ]
    },
    {
      "cell_type": "markdown",
      "metadata": {},
      "source": [
        "\uc608\ub97c \ub4e4\uc5b4 Claude\uc5d0\uac8c \uc774 \uc774\ubbf8\uc9c0\uc5d0 \uc788\ub294 \uac1c\uc758 \uc218\ub97c \uc138\ub3c4\ub85d \ud558\uace0 \uc2f6\ub2e4\uace0 \uac00\uc815\ud574 \ubd05\uc2dc\ub2e4."
      ]
    },
    {
      "cell_type": "code",
      "execution_count": null,
      "metadata": {
        "tags": []
      },
      "outputs": [],
      "source": [
        "Image(filename='./images/best_practices/nine_dogs.jpg') "
      ]
    },
    {
      "cell_type": "code",
      "execution_count": null,
      "metadata": {
        "tags": []
      },
      "outputs": [],
      "source": [
        "messages = [\n",
        "    {\n",
        "        \"role\": 'user',\n",
        "        \"content\": [\n",
        "            {\"image\": {\n",
        "                \"format\": 'jpeg',\n",
        "                \"source\": {\"bytes\": get_base64_encoded_image(\"./images/best_practices/nine_dogs.jpg\")}\n",
        "                },\n",
        "            },\n",
        "            {\"text\": \"How many dogs are in this picture?\"},\n",
        "        ]\n",
        "    }\n",
        "]\n",
        "\n",
        "converse_api_params = {\n",
        "    \"modelId\": modelId,\n",
        "    \"messages\": messages,\n",
        "}\n",
        "response = bedrock_client.converse(**converse_api_params)\n",
        "\n",
        "# Extract the generated text content from the response\n",
        "print(response['output']['message']['content'][0]['text'])"
      ]
    },
    {
      "cell_type": "markdown",
      "metadata": {},
      "source": [
        "\uac1c\ub294 9\ub9c8\ub9ac\ubc16\uc5d0 \uc5c6\uc9c0\ub9cc Claude\ub294 10\ub9c8\ub9ac\ub77c\uace0 \uc0dd\uac01\ud569\ub2c8\ub2e4! \ud504\ub86c\ud504\ud2b8 \uc5d4\uc9c0\ub2c8\uc5b4\ub9c1\uc744 \uc870\uae08 \uc801\uc6a9\ud558\uace0 \ub2e4\uc2dc \uc2dc\ub3c4\ud574 \ubd05\uc2dc\ub2e4."
      ]
    },
    {
      "cell_type": "code",
      "execution_count": null,
      "metadata": {
        "tags": []
      },
      "outputs": [],
      "source": [
        "messages = [\n",
        "    {\n",
        "        \"role\": 'user',\n",
        "        \"content\": [\n",
        "            {\"image\": {\n",
        "                \"format\": 'jpeg',\n",
        "                \"source\": {\"bytes\": get_base64_encoded_image(\"./images/best_practices/nine_dogs.jpg\")}\n",
        "                },\n",
        "            },\n",
        "            {\"text\": \"You have perfect vision and pay great attention to detail which makes you an expert at counting objects in images. How many dogs are in this picture? Before providing the answer in <answer> tags, think step by step in <thinking> tags and analyze every part of the image.\"},\n",
        "        ]\n",
        "    }\n",
        "]\n",
        "\n",
        "converse_api_params = {\n",
        "    \"modelId\": modelId,\n",
        "    \"messages\": messages,\n",
        "}\n",
        "response = bedrock_client.converse(**converse_api_params)\n",
        "\n",
        "print(response['output']['message']['content'][0]['text'])"
      ]
    },
    {
      "cell_type": "markdown",
      "metadata": {},
      "source": [
        "\ud6cc\ub96d\ud569\ub2c8\ub2e4! \ud504\ub86c\ud504\ud2b8\uc5d0 \ud504\ub86c\ud504\ud2b8 \uc5d4\uc9c0\ub2c8\uc5b4\ub9c1\uc744 \uc801\uc6a9\ud55c \ud6c4\uc5d0\ub294 Claude\uac00 \uac1c\uac00 9\ub9c8\ub9ac\ub77c\uace0 \uc815\ud655\ud788 \uc149\ub2c8\ub2e4."
      ]
    },
    {
      "cell_type": "markdown",
      "metadata": {},
      "source": [
        "## \uc2dc\uac01\uc801 \ud504\ub86c\ud504\ud305\n",
        "\n",
        "\uc774\ubbf8\uc9c0 \uc785\ub825\uc744 \uc0ac\uc6a9\ud558\uba74 \uc774\uc81c \uc774\ubbf8\uc9c0 \uc790\uccb4\uc5d0 \ud504\ub86c\ud504\ud2b8\ub97c \uc81c\uacf5\ud560 \uc218 \uc788\uc2b5\ub2c8\ub2e4. \uba87 \uac00\uc9c0 \uc608\ub97c \uc0b4\ud3b4\ubcf4\uaca0\uc2b5\ub2c8\ub2e4.\n",
        "\n",
        "\uc774 \uc774\ubbf8\uc9c0\uc5d0\uc11c \uc6b0\ub9ac\ub294 \ud14d\uc2a4\ud2b8\ub97c \uc791\uc131\ud558\uace0 \ud654\uc0b4\ud45c\ub97c \uadf8\ub838\uc2b5\ub2c8\ub2e4. \ud14d\uc2a4\ud2b8 \ud504\ub86c\ud504\ud2b8 \uc5c6\uc774 \uc774\uac83\uc744 Claude\uc5d0 \uc804\ub2ec\ud574 \ubcf4\uaca0\uc2b5\ub2c8\ub2e4."
      ]
    },
    {
      "cell_type": "code",
      "execution_count": null,
      "metadata": {},
      "outputs": [],
      "source": [
        "Image(filename='./images/best_practices/circle.png') "
      ]
    },
    {
      "cell_type": "code",
      "execution_count": null,
      "metadata": {
        "tags": []
      },
      "outputs": [],
      "source": [
        "messages = [\n",
        "    {\n",
        "        \"role\": 'user',\n",
        "        \"content\": [\n",
        "            {\"image\": {\n",
        "                \"format\": 'png',\n",
        "                \"source\": {\"bytes\": get_base64_encoded_image(\"./images/best_practices/circle.png\")}\n",
        "                },\n",
        "            }\n",
        "        ]\n",
        "    }\n",
        "]\n",
        "\n",
        "converse_api_params = {\n",
        "    \"modelId\": modelId,\n",
        "    \"messages\": messages,\n",
        "    \"inferenceConfig\": {\"maxTokens\": 2048},\n",
        "}\n",
        "response = bedrock_client.converse(**converse_api_params)\n",
        "\n",
        "print(response['output']['message']['content'][0]['text'])"
      ]
    },
    {
      "cell_type": "markdown",
      "metadata": {},
      "source": [
        "\ubcf4\uc2dc\ub2e4\uc2dc\ud53c \uc6b0\ub9ac\uac00 \uc9c8\ubb38\uc744 \uc8fc\uc9c0 \uc54a\uc558\uae30 \ub54c\ubb38\uc5d0 Claude\ub294 \uc774\ubbf8\uc9c0\ub97c \uc124\uba85\ud558\ub824\uace0 \ud588\uc2b5\ub2c8\ub2e4. \uc774\ubbf8\uc9c0\uc5d0 \uc9c8\ubb38\uc744 \ucd94\uac00\ud558\uace0 \ub2e4\uc2dc \uc804\ub2ec\ud574 \ubd05\uc2dc\ub2e4."
      ]
    },
    {
      "cell_type": "code",
      "execution_count": null,
      "metadata": {},
      "outputs": [],
      "source": [
        "Image(filename='./images/best_practices/labeled_circle.png') "
      ]
    },
    {
      "cell_type": "code",
      "execution_count": null,
      "metadata": {
        "tags": []
      },
      "outputs": [],
      "source": [
        "messages = [\n",
        "    {\n",
        "        \"role\": 'user',\n",
        "        \"content\": [\n",
        "            {\"image\": {\n",
        "                \"format\": 'png',\n",
        "                \"source\": {\"bytes\": get_base64_encoded_image(\"./images/best_practices/labeled_circle.png\")}\n",
        "                },\n",
        "            }\n",
        "        ]\n",
        "    }\n",
        "]\n",
        "\n",
        "converse_api_params = {\n",
        "    \"modelId\": modelId,\n",
        "    \"messages\": messages,\n",
        "    \"inferenceConfig\": {\"maxTokens\": 2048},\n",
        "}\n",
        "response = bedrock_client.converse(**converse_api_params)\n",
        "\n",
        "print(response['output']['message']['content'][0]['text'])"
      ]
    },
    {
      "cell_type": "markdown",
      "metadata": {},
      "source": [
        "\uc6b0\ub9ac\ub294 \ub610\ud55c \uc774\ubbf8\uc9c0\uc758 \ud2b9\uc815 \ubd80\ubd84\uc744 \uac15\uc870\ud558\uace0 \uadf8\uac83\uc5d0 \ub300\ud55c \uc9c8\ubb38\uc744 \ud560 \uc218 \uc788\uc2b5\ub2c8\ub2e4.\n",
        "\n",
        "\uc774 \ub450 \uc22b\uc790\uc758 \ucc28\uc774\ub294 \ubb34\uc5c7\uc785\ub2c8\uae4c?"
      ]
    },
    {
      "cell_type": "code",
      "execution_count": null,
      "metadata": {},
      "outputs": [],
      "source": [
        "Image(filename='./images/best_practices/table.png') "
      ]
    },
    {
      "cell_type": "code",
      "execution_count": null,
      "metadata": {
        "tags": []
      },
      "outputs": [],
      "source": [
        "messages = [\n",
        "    {\n",
        "        \"role\": 'user',\n",
        "        \"content\": [\n",
        "            {\"image\": {\n",
        "                \"format\": 'png',\n",
        "                \"source\": {\"bytes\": get_base64_encoded_image(\"./images/best_practices/table.png\")}\n",
        "                },\n",
        "            },\n",
        "            {\"text\": \"What\u2019s the difference between these two numbers?\"},\n",
        "        ]\n",
        "    }\n",
        "]\n",
        "\n",
        "converse_api_params = {\n",
        "    \"modelId\": modelId,\n",
        "    \"messages\": messages,\n",
        "}\n",
        "response = bedrock_client.converse(**converse_api_params)\n",
        "\n",
        "# Extract the generated text content from the response\n",
        "print(response['output']['message']['content'][0]['text'])"
      ]
    },
    {
      "cell_type": "markdown",
      "metadata": {},
      "source": [
        "## \ud4e8\uc0f7 \uc608\uc2dc\n",
        "\n",
        "\uc2dc\uac01\uc801 \uc791\uc5c5\uc5d0\uc11c\ub3c4 \ud504\ub86c\ud504\ud2b8\uc5d0 \uc608\uc2dc\ub97c \ucd94\uac00\ud558\uba74 \uc815\ud655\ub3c4\uac00 \ud5a5\uc0c1\ub429\ub2c8\ub2e4. Claude\uc5d0\uac8c \uc18d\ub3c4\uacc4 \uc0ac\uc9c4\uc744 \uc77d\uac8c \ud574 \ubd05\uc2dc\ub2e4."
      ]
    },
    {
      "cell_type": "code",
      "execution_count": null,
      "metadata": {
        "tags": []
      },
      "outputs": [],
      "source": [
        "Image(filename='./images/best_practices/140.png') "
      ]
    },
    {
      "cell_type": "code",
      "execution_count": null,
      "metadata": {
        "tags": []
      },
      "outputs": [],
      "source": [
        "messages = [\n",
        "    {\n",
        "        \"role\": 'user',\n",
        "        \"content\": [\n",
        "            {\"image\": {\n",
        "                \"format\": 'png',\n",
        "                \"source\": {\"bytes\": get_base64_encoded_image(\"./images/best_practices/140.png\")}\n",
        "                },\n",
        "            },\n",
        "            {\"text\": \"What speed am I going?\"},\n",
        "        ]\n",
        "    }\n",
        "]\n",
        "\n",
        "converse_api_params = {\n",
        "    \"modelId\": modelId,\n",
        "    \"messages\": messages,\n",
        "}\n",
        "response = bedrock_client.converse(**converse_api_params)\n",
        "\n",
        "# Extract the generated text content from the response\n",
        "print(response['output']['message']['content'][0]['text'])"
      ]
    },
    {
      "cell_type": "markdown",
      "metadata": {},
      "source": [
        "Claude\uc758 \ub2f5\ubcc0\uc774 \uc798\ubabb\ub41c \uac83 \uac19\uc2b5\ub2c8\ub2e4. \uc6b0\ub9ac\uac00 \uc2dc\uc18d 140km\uac00 \uc544\ub2c8\ub77c 140\ub9c8\uc77c\ub85c \uac00\uace0 \uc788\ub2e4\uace0 \uc0dd\uac01\ud569\ub2c8\ub2e4! \ub2e4\uc2dc \uc2dc\ub3c4\ud574 \ubcf4\uaca0\uc9c0\ub9cc \uc774\ubc88\uc5d0\ub294 \ud504\ub86c\ud504\ud2b8\uc5d0 \uc608\uc2dc\ub97c \ucd94\uac00\ud574 \ubcf4\uaca0\uc2b5\ub2c8\ub2e4."
      ]
    },
    {
      "cell_type": "code",
      "execution_count": null,
      "metadata": {
        "tags": []
      },
      "outputs": [],
      "source": [
        "messages = [\n",
        "    {\n",
        "        \"role\": 'user',\n",
        "        \"content\": [\n",
        "            {\"image\": {\n",
        "                \"format\": 'png',\n",
        "                \"source\": {\"bytes\": get_base64_encoded_image(\"./images/best_practices/70.png\")}\n",
        "                },\n",
        "            },\n",
        "            {\"text\": \"What speed am I going?\"},\n",
        "        ]\n",
        "    },\n",
        "    {\n",
        "        \"role\": 'assistant',\n",
        "        \"content\": [\n",
        "            {\"text\": \"You are going 70 miles per hour.\"}\n",
        "        ]\n",
        "    },\n",
        "    {\n",
        "        \"role\": 'user',\n",
        "        \"content\": [\n",
        "            {\"image\": {\n",
        "                \"format\": 'png',\n",
        "                \"source\": {\"bytes\": get_base64_encoded_image(\"./images/best_practices/100.png\")}\n",
        "                },\n",
        "            },\n",
        "            {\"text\": \"What speed am I going?\"},\n",
        "        ]\n",
        "    },\n",
        "    {\n",
        "        \"role\": 'assistant',\n",
        "        \"content\": [\n",
        "            {\"text\": \"You are going 100 miles per hour.\"}\n",
        "        ]\n",
        "    },\n",
        "    {\n",
        "        \"role\": 'user',\n",
        "        \"content\": [\n",
        "            {\"image\": {\n",
        "                \"format\": 'png',\n",
        "                \"source\": {\"bytes\": get_base64_encoded_image(\"./images/best_practices/140.png\")}\n",
        "                },\n",
        "            },\n",
        "            {\"text\": \"What speed am I going?\"},\n",
        "        ]\n",
        "    },\n",
        "]\n",
        "\n",
        "\n",
        "converse_api_params = {\n",
        "    \"modelId\": modelId,\n",
        "    \"messages\": messages,\n",
        "}\n",
        "response = bedrock_client.converse(**converse_api_params)\n",
        "\n",
        "# Extract the generated text content from the response\n",
        "print(response['output']['message']['content'][0]['text'])"
      ]
    },
    {
      "cell_type": "markdown",
      "metadata": {},
      "source": [
        "\uc644\ubcbd\ud569\ub2c8\ub2e4! \uadf8 \uc608\uc2dc\ub4e4 \ub355\ubd84\uc5d0 Claude\uac00 \uc18d\ub3c4\uacc4\uc758 \uc18d\ub3c4\ub97c \uc77d\ub294 \ubc29\ubc95\uc744 \ubc30\uc6e0\uc2b5\ub2c8\ub2e4. \uadf8\ub7ec\ub098 \uc774\ubbf8\uc9c0\uc5d0 \ub300\ud55c \ud4e8\uc0f7 \ud504\ub86c\ud504\ud305\uc774 \ud56d\uc0c1 \uc791\ub3d9\ud558\ub294 \uac83\uc740 \uc544\ub2c8\uc9c0\ub9cc \uc0ac\uc6a9 \uc0ac\ub840\uc5d0\uc11c \uc2dc\ub3c4\ud574 \ubcfc \ub9cc\ud569\ub2c8\ub2e4."
      ]
    },
    {
      "cell_type": "markdown",
      "metadata": {},
      "source": [
        "## \ub2e4\uc911 \uc774\ubbf8\uc9c0 \uc785\ub825\n",
        "Claude\ub294 \ud504\ub86c\ud504\ud2b8 \ub0b4\uc5d0\uc11c \ud55c \ubc88\uc5d0 \uc5ec\ub7ec \uc774\ubbf8\uc9c0\ub97c \uc218\uc6a9\ud558\uace0 \ucd94\ub860\ud560 \uc218\ub3c4 \uc788\uc2b5\ub2c8\ub2e4! \uc608\ub97c \ub4e4\uc5b4, \ub9e4\uc6b0 \ud070 \uc774\ubbf8\uc9c0(\uc608: \uae34 \uc601\uc218\uc99d \uc774\ubbf8\uc9c0)\uac00 \uc788\ub2e4\uace0 \uac00\uc815\ud574 \ubd05\uc2dc\ub2e4! \uc6b0\ub9ac\ub294 \uadf8 \uc774\ubbf8\uc9c0\ub97c \uc5ec\ub7ec \uc870\uac01\uc73c\ub85c \ub098\ub204\uace0 \uac01 \uc870\uac01\uc744 Claude\uc5d0 \uacf5\uae09\ud560 \uc218 \uc788\uc2b5\ub2c8\ub2e4."
      ]
    },
    {
      "cell_type": "code",
      "execution_count": null,
      "metadata": {},
      "outputs": [],
      "source": [
        "Image(filename='./images/best_practices/receipt1.png') "
      ]
    },
    {
      "cell_type": "code",
      "execution_count": null,
      "metadata": {},
      "outputs": [],
      "source": [
        "Image(filename='./images/best_practices/receipt2.png') "
      ]
    },
    {
      "cell_type": "code",
      "execution_count": null,
      "metadata": {
        "tags": []
      },
      "outputs": [],
      "source": [
        "messages = [\n",
        "    {\n",
        "        \"role\": 'user',\n",
        "        \"content\": [\n",
        "            {\"image\": {\"format\": 'png',\"source\": {\"bytes\": get_base64_encoded_image(\"./images/best_practices/receipt1.png\")}},},\n",
        "            {\"image\": {\"format\": 'png',\"source\": {\"bytes\": get_base64_encoded_image(\"./images/best_practices/receipt2.png\")}},},\n",
        "            {\"text\": \"Output the name of the restaurant and the total.\"},\n",
        "        ]\n",
        "    }\n",
        "]\n",
        "\n",
        "converse_api_params = {\n",
        "    \"modelId\": modelId,\n",
        "    \"messages\": messages,\n",
        "}\n",
        "response = bedrock_client.converse(**converse_api_params)\n",
        "\n",
        "# Extract the generated text content from the response\n",
        "print(response['output']['message']['content'][0]['text'])"
      ]
    },
    {
      "cell_type": "markdown",
      "metadata": {},
      "source": [
        "## \uc608\uc2dc\uc5d0\uc11c \uac1d\uccb4 \uc2dd\ubcc4\n",
        "\n",
        "\uc774\ubbf8\uc9c0 \uc785\ub825\uc744 \uc0ac\uc6a9\ud558\uba74 \ud504\ub86c\ud504\ud2b8\uc5d0 \ub2e4\ub978 \uc774\ubbf8\uc9c0\ub97c \uc804\ub2ec\ud558\uace0 Claude\uac00 \uadf8 \uc815\ubcf4\ub97c \uc0ac\uc6a9\ud558\uc5ec \uc9c8\ubb38\uc5d0 \ub2f5\ud560 \uc218 \uc788\uc2b5\ub2c8\ub2e4. \uc774\uc5d0 \ub300\ud55c \uc608\uc2dc\ub97c \uc0b4\ud3b4\ubcf4\uaca0\uc2b5\ub2c8\ub2e4.\n",
        "\n",
        "\uc608\ub97c \ub4e4\uc5b4 \uc774\ubbf8\uc9c0\uc5d0\uc11c \ubc14\uc9c0 \uc885\ub958\ub97c \uc2dd\ubcc4\ud558\ub824\uace0 \ud55c\ub2e4\uace0 \uac00\uc815\ud574 \ubd05\uc2dc\ub2e4. \ud504\ub86c\ud504\ud2b8\uc5d0 \ub2e4\uc591\ud55c \ubc14\uc9c0 \uc885\ub958\uc758 \uc608\uc2dc\ub97c Claude\uc5d0\uac8c \uc81c\uacf5\ud560 \uc218 \uc788\uc2b5\ub2c8\ub2e4."
      ]
    },
    {
      "cell_type": "code",
      "execution_count": null,
      "metadata": {},
      "outputs": [],
      "source": [
        "Image(filename='./images/best_practices/officer_example.png') "
      ]
    },
    {
      "cell_type": "code",
      "execution_count": null,
      "metadata": {
        "tags": []
      },
      "outputs": [],
      "source": [
        "messages = [\n",
        "    {\n",
        "        \"role\": 'user',\n",
        "        \"content\": [\n",
        "            {\"image\": {\"format\": 'png',\"source\": {\"bytes\": get_base64_encoded_image(\"./images/best_practices/wrinkle.png\")}},},\n",
        "            {\"image\": {\"format\": 'png',\"source\": {\"bytes\": get_base64_encoded_image(\"./images/best_practices/officer.png\")}},},\n",
        "            {\"image\": {\"format\": 'png',\"source\": {\"bytes\": get_base64_encoded_image(\"./images/best_practices/chinos.png\")}},},\n",
        "            {\"image\": {\"format\": 'png',\"source\": {\"bytes\": get_base64_encoded_image(\"./images/best_practices/officer_example.png\")}},},\n",
        "            {\"text\": \"These pants are (in order) WRINKLE-RESISTANT DRESS PANT, ITALIAN MELTON OFFICER PANT, SLIM RAPID MOVEMENT CHINO. What pant is shown in the last image?\"},\n",
        "        ]\n",
        "    }\n",
        "]\n",
        "\n",
        "converse_api_params = {\n",
        "    \"modelId\": modelId,\n",
        "    \"messages\": messages,\n",
        "}\n",
        "response = bedrock_client.converse(**converse_api_params)\n",
        "\n",
        "# Extract the generated text content from the response\n",
        "print(response['output']['message']['content'][0]['text'])"
      ]
    }
  ],
  "metadata": {
    "kernelspec": {
      "display_name": "conda_python3",
      "language": "python",
      "name": "conda_python3"
    },
    "language_info": {
      "codemirror_mode": {
        "name": "ipython",
        "version": 3
      },
      "file_extension": ".py",
      "mimetype": "text/x-python",
      "name": "python",
      "nbconvert_exporter": "python",
      "pygments_lexer": "ipython3",
      "version": "3.10.14"
    }
  },
  "nbformat": 4,
  "nbformat_minor": 4
}