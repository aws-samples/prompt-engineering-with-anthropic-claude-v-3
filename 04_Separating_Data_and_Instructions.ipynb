{
  "cells": [
    {
      "cell_type": "markdown",
      "metadata": {},
      "source": [
        "# 4\uc7a5: \ub370\uc774\ud130\uc640 \uc9c0\uce68 \ubd84\ub9ac\n",
        "\n",
        "- [\uc218\uc5c5](#lesson)\n",
        "- [\uc5f0\uc2b5 \ubb38\uc81c](#exercises)\n",
        "- [\uc608\uc2dc \ud50c\ub808\uc774\uadf8\ub77c\uc6b4\ub4dc](#example-playground)\n",
        "\n",
        "## \uc124\uc815\n",
        "\n",
        "\ub2e4\uc74c \uc124\uc815 \uc140\uc744 \uc2e4\ud589\ud558\uc5ec API \ud0a4\ub97c \ub85c\ub4dc\ud558\uace0 `get_completion` \ud5ec\ud37c \ud568\uc218\ub97c \uc124\uc815\ud569\ub2c8\ub2e4."
      ]
    },
    {
      "cell_type": "code",
      "execution_count": null,
      "metadata": {},
      "outputs": [],
      "source": [
        "# Import python's built-in regular expression library\n",
        "import re\n",
        "import boto3\n",
        "from botocore.exceptions import ClientError\n",
        "import json\n",
        "\n",
        "# Import the hints module from the utils package\n",
        "from utils import hints\n",
        "\n",
        "# Retrieve the MODEL_NAME variable from the IPython store\n",
        "%store -r modelId\n",
        "%store -r region\n",
        "\n",
        "bedrock_client = boto3.client(service_name='bedrock-runtime', region_name=region)"
      ]
    },
    {
      "cell_type": "code",
      "execution_count": null,
      "metadata": {},
      "outputs": [],
      "source": [
        "def get_completion(prompt, system_prompt=None):\n",
        "    inference_config = {\n",
        "        \"temperature\": 0.0,\n",
        "        \"maxTokens\": 200\n",
        "    }\n",
        "    converse_api_params = {\n",
        "        \"modelId\": modelId,\n",
        "        \"messages\": [{\"role\": \"user\", \"content\": [{\"text\": prompt}]}],\n",
        "        \"inferenceConfig\": inference_config\n",
        "    }\n",
        "    if system_prompt:\n",
        "        converse_api_params[\"system\"] = [{\"text\": system_prompt}]\n",
        "    try:\n",
        "        response = bedrock_client.converse(**converse_api_params)\n",
        "        text_content = response['output']['message']['content'][0]['text']\n",
        "        return text_content\n",
        "\n",
        "    except ClientError as err:\n",
        "        message = err.response['Error']['Message']\n",
        "        print(f\"A client error occured: {message}\")"
      ]
    },
    {
      "cell_type": "markdown",
      "metadata": {},
      "source": [
        "---\n",
        "\n",
        "## \uc218\uc5c5\n",
        "\n",
        "\uc885\uc885 \uc804\uccb4 \ud504\ub86c\ud504\ud2b8\ub97c \uc791\uc131\ud558\uace0 \uc2f6\uc9c0 \uc54a\uace0 \ub300\uc2e0 **Claude\uc5d0 \uc81c\ucd9c\ud558\uae30 \uc804\uc5d0 \ucd94\uac00 \uc785\ub825 \ub370\uc774\ud130\ub85c \uc218\uc815\ud560 \uc218 \uc788\ub294 \ud504\ub86c\ud504\ud2b8 \ud15c\ud50c\ub9bf\uc744 \uc6d0\ud569\ub2c8\ub2e4**. \uc774\uac83\uc740 Claude\uac00 \ub9e4\ubc88 \ub3d9\uc77c\ud55c \uc791\uc5c5\uc744 \uc218\ud589\ud558\uae30\ub97c \uc6d0\ud558\uc9c0\ub9cc Claude\uac00 \uc791\uc5c5\uc5d0 \uc0ac\uc6a9\ud558\ub294 \ub370\uc774\ud130\uac00 \ub9e4\ubc88 \ub2e4\ub97c \uc218 \uc788\ub294 \uacbd\uc6b0\uc5d0 \uc720\uc6a9\ud560 \uc218 \uc788\uc2b5\ub2c8\ub2e4.\n",
        "\n",
        "\ub2e4\ud589\ud788\ub3c4 **\ud504\ub86c\ud504\ud2b8\uc758 \uace0\uc815 \uace8\uaca9\uacfc \ubcc0\uc218 \uc0ac\uc6a9\uc790 \uc785\ub825\uc744 \ubd84\ub9ac\ud55c \ub2e4\uc74c Claude\uc5d0 \uc804\uccb4 \ud504\ub86c\ud504\ud2b8\ub97c \ubcf4\ub0b4\uae30 \uc804\uc5d0 \uc0ac\uc6a9\uc790 \uc785\ub825\uc744 \ud504\ub86c\ud504\ud2b8\uc5d0 \ub300\uccb4\ud558\uc5ec** \uc774\ub97c \uaf64 \uc27d\uac8c \uc218\ud589\ud560 \uc218 \uc788\uc2b5\ub2c8\ub2e4.\n",
        "\n",
        "\uc544\ub798\uc5d0\uc11c\ub294 \ub300\uccb4 \uac00\ub2a5\ud55c \ud504\ub86c\ud504\ud2b8 \ud15c\ud50c\ub9bf\uc744 \uc791\uc131\ud558\ub294 \ubc29\ubc95\uacfc \uc0ac\uc6a9\uc790 \uc785\ub825\uc744 \ub300\uccb4\ud558\ub294 \ubc29\ubc95\uc744 \ub2e8\uacc4\ubcc4\ub85c \uc0b4\ud3b4\ubcfc \uac83\uc785\ub2c8\ub2e4."
      ]
    },
    {
      "cell_type": "markdown",
      "metadata": {},
      "source": [
        "### \uc608\uc2dc\n",
        "\n",
        "\uccab \ubc88\uc9f8 \uc608\uc2dc\uc5d0\uc11c\ub294 Claude\uc5d0\uac8c \ub3d9\ubb3c \uc18c\ub9ac \uc0dd\uc131\uae30 \uc5ed\ud560\uc744 \uc694\uccad\ud558\uace0 \uc788\uc2b5\ub2c8\ub2e4. Claude\uc5d0 \uc81c\ucd9c\ub41c \uc804\uccb4 \ud504\ub86c\ud504\ud2b8\ub294 \uc785\ub825(\uc774 \uacbd\uc6b0 \"Cow\")\uc73c\ub85c \ub300\uccb4\ub41c `PROMPT_TEMPLATE`\uc784\uc744 \uc8fc\ubaa9\ud558\uc138\uc694. \uc804\uccb4 \ud504\ub86c\ud504\ud2b8\ub97c \ucd9c\ub825\ud560 \ub54c \"Cow\"\ub77c\ub294 \ub2e8\uc5b4\uac00 f-string\uc744 \ud1b5\ud574 `ANIMAL` \uc790\ub9ac \ud45c\uc2dc\uc790\ub97c \ub300\uccb4\ud558\ub294 \uac83\uc744 \ud655\uc778\ud560 \uc218 \uc788\uc2b5\ub2c8\ub2e4.\n",
        "\n",
        "**\ucc38\uace0:** \uc2e4\uc81c\ub85c \uc790\ub9ac \ud45c\uc2dc\uc790 \ubcc0\uc218\ub97c \ud2b9\ubcc4\ud788 \ubd80\ub974\uc9c0 \uc54a\uc544\ub3c4 \ub429\ub2c8\ub2e4. \uc774 \uc608\uc2dc\uc5d0\uc11c\ub294 `ANIMAL`\uc774\ub77c\uace0 \ubd88\ub800\uc9c0\ub9cc, \uc27d\uac8c `CREATURE` \ub610\ub294 `A`\ub77c\uace0 \ubd80\ub97c \uc218 \uc788\uc2b5\ub2c8\ub2e4(\uadf8\ub7ec\ub098 \uc77c\ubc18\uc801\uc73c\ub85c \ud504\ub86c\ud504\ud2b8 \ud15c\ud50c\ub9bf\uc774 \ub300\uccb4 \uc5c6\uc774\ub3c4 \uc0ac\uc6a9\uc790\uac00 \ud574\uc11d\ud560 \uc218 \uc788\ub3c4\ub85d \ubcc0\uc218 \uc774\ub984\uc744 \uad6c\uccb4\uc801\uc774\uace0 \uad00\ub828\uc131 \uc788\uac8c \uc9c0\uc815\ud558\ub294 \uac83\uc774 \uc88b\uc2b5\ub2c8\ub2e4). \ud504\ub86c\ud504\ud2b8 \ud15c\ud50c\ub9bf f-string\uc5d0\uc11c \uc0ac\uc6a9\ud558\ub294 \uac83\uacfc \ub3d9\uc77c\ud55c \uc774\ub984\uc744 \ubcc0\uc218\uc5d0 \uc9c0\uc815\ud558\uae30\ub9cc \ud558\uba74 \ub429\ub2c8\ub2e4."
      ]
    },
    {
      "cell_type": "code",
      "execution_count": null,
      "metadata": {},
      "outputs": [],
      "source": [
        "# Variable content\n",
        "ANIMAL = \"Cow\"\n",
        "\n",
        "# Prompt template with a placeholder for the variable content\n",
        "PROMPT = f\"I will tell you the name of an animal. Please respond with the noise that animal makes. {ANIMAL}\"\n",
        "\n",
        "# Print Claude's response\n",
        "print(\"--------------------------- Full prompt with variable substutions ---------------------------\")\n",
        "print(PROMPT)\n",
        "print(\"\\n------------------------------------- Claude's response -------------------------------------\")\n",
        "print(get_completion(PROMPT))"
      ]
    },
    {
      "cell_type": "markdown",
      "metadata": {},
      "source": [
        "\uc774\ub807\uac8c \uc785\ub825\uc744 \ubd84\ub9ac\ud558\uace0 \ub300\uccb4\ud558\ub294 \uc774\uc720\ub294 \ubb34\uc5c7\uc77c\uae4c\uc694? \ud504\ub86c\ud504\ud2b8 \ud15c\ud50c\ub9bf\uc740 **\ubc18\ubcf5 \uc791\uc5c5\uc744 \ub2e8\uc21c\ud654\ud569\ub2c8\ub2e4**. \uc608\ub97c \ub4e4\uc5b4 \uc81c3\uc790 \uc0ac\uc6a9\uc790\uac00 \ud504\ub86c\ud504\ud2b8\uc5d0 \ucf58\ud150\uce20\ub97c \uc81c\ucd9c\ud560 \uc218 \uc788\ub3c4\ub85d \ud504\ub86c\ud504\ud2b8 \uad6c\uc870\ub97c \uad6c\ucd95\ud55c\ub2e4\uace0 \uac00\uc815\ud574 \ubd05\uc2dc\ub2e4(\uc774 \uacbd\uc6b0 \uc18c\ub9ac\ub97c \uc0dd\uc131\ud560 \ub3d9\ubb3c). \uc774\ub7ec\ud55c \uc81c3\uc790 \uc0ac\uc6a9\uc790\ub294 \uc804\uccb4 \ud504\ub86c\ud504\ud2b8\ub97c \uc791\uc131\ud558\uac70\ub098 \ubcfc \ud544\uc694\uac00 \uc5c6\uc2b5\ub2c8\ub2e4. \uadf8\ub4e4\uc774 \ud574\uc57c \ud560 \uc77c\uc740 \ubcc0\uc218\ub9cc \ucc44\uc6b0\ub294 \uac83\uc785\ub2c8\ub2e4.\n",
        "\n",
        "\uc5ec\uae30\uc11c\ub294 \ubcc0\uc218\uc640 f-string\uc744 \uc0ac\uc6a9\ud558\uc5ec \ub300\uccb4\ub97c \uc218\ud589\ud558\uc9c0\ub9cc format() \uba54\uc11c\ub4dc\ub97c \uc0ac\uc6a9\ud560 \uc218\ub3c4 \uc788\uc2b5\ub2c8\ub2e4.\n",
        "\n",
        "**\ucc38\uace0:** \ud504\ub86c\ud504\ud2b8 \ud15c\ud50c\ub9bf\uc5d0\ub294 \uc6d0\ud558\ub294 \ub9cc\ud07c \ub9ce\uc740 \ubcc0\uc218\ub97c \uc0ac\uc6a9\ud560 \uc218 \uc788\uc2b5\ub2c8\ub2e4!"
      ]
    },
    {
      "cell_type": "markdown",
      "metadata": {},
      "source": [
        "\uc774\ub807\uac8c \ub300\uccb4 \ubcc0\uc218\ub97c \uc18c\uac1c\ud560 \ub54c **Claude\uc5d0\uac8c \ubcc0\uc218\uac00 \uc2dc\uc791\ud558\uace0 \ub05d\ub098\ub294 \uc704\uce58\ub97c \uc54c\ub824\uc8fc\ub294 \uac83\uc774 \ub9e4\uc6b0 \uc911\uc694\ud569\ub2c8\ub2e4**(\uc9c0\uce68\uc774\ub098 \uc791\uc5c5 \uc124\uba85\uacfc \uad6c\ubd84). \uc9c0\uce68\uacfc \ub300\uccb4 \ubcc0\uc218 \uc0ac\uc774\uc5d0 \uad6c\ubd84\uc774 \uc5c6\ub294 \uc608\ub97c \uc0b4\ud3b4\ubcf4\uaca0\uc2b5\ub2c8\ub2e4.\n",
        "\n",
        "\uc6b0\ub9ac \uc778\uac04\uc758 \ub208\uc73c\ub85c\ub294 \uc544\ub798 \ud504\ub86c\ud504\ud2b8 \ud15c\ud50c\ub9bf\uc5d0\uc11c \ubcc0\uc218\uac00 \uc2dc\uc791\ud558\uace0 \ub05d\ub098\ub294 \uc704\uce58\uac00 \ub9e4\uc6b0 \uba85\ud655\ud569\ub2c8\ub2e4. \uadf8\ub7ec\ub098 \uc644\uc804\ud788 \ub300\uccb4\ub41c \ud504\ub86c\ud504\ud2b8\uc5d0\uc11c\ub294 \uadf8 \uad6c\ubd84\uc774 \ubd88\ubd84\uba85\ud574\uc9d1\ub2c8\ub2e4."
      ]
    },
    {
      "cell_type": "code",
      "execution_count": null,
      "metadata": {},
      "outputs": [],
      "source": [
        "# Variable content\n",
        "EMAIL = \"Show up at 6am tomorrow because I'm the CEO and I say so.\"\n",
        "\n",
        "# Prompt template with a placeholder for the variable content\n",
        "PROMPT = f\"Yo Claude. {EMAIL} <----- Make this email more polite but don't change anything else about it.\"\n",
        "\n",
        "# Print Claude's response\n",
        "print(\"--------------------------- Full prompt with variable substutions ---------------------------\")\n",
        "print(PROMPT)\n",
        "print(\"\\n------------------------------------- Claude's response -------------------------------------\")\n",
        "print(get_completion(PROMPT))"
      ]
    },
    {
      "cell_type": "markdown",
      "metadata": {},
      "source": [
        "\uc5ec\uae30\uc11c **Claude\ub294 \"Yo Claude\"\uac00 \ub2e4\uc2dc \uc791\uc131\ud574\uc57c \ud560 \uc774\uba54\uc77c\uc758 \uc77c\ubd80\ub77c\uace0 \uc0dd\uac01\ud569\ub2c8\ub2e4**! \ub2e4\uc2dc \uc791\uc131\uc744 \"Dear Claude\"\ub85c \uc2dc\uc791\ud558\uae30 \ub54c\ubb38\uc5d0 \uc54c \uc218 \uc788\uc2b5\ub2c8\ub2e4. \uc0ac\ub78c\uc758 \ub208\uc5d0\ub294 \uc774\uba54\uc77c\uc774 \uc2dc\uc791\ub418\uace0 \ub05d\ub098\ub294 \ud504\ub86c\ud504\ud2b8 \ud15c\ud50c\ub9bf\uc5d0\uc11c \uba85\ud655\ud558\uc9c0\ub9cc, \ub300\uccb4 \ud6c4 \ud504\ub86c\ud504\ud2b8\uc5d0\uc11c\ub294 \ub35c \uba85\ud655\ud574\uc9d1\ub2c8\ub2e4."
      ]
    },
    {
      "cell_type": "markdown",
      "metadata": {},
      "source": [
        "\uc774\ub97c \uc5b4\ub5bb\uac8c \ud574\uacb0\ud560\uae4c\uc694? **\uc785\ub825\uc744 XML \ud0dc\uadf8\ub85c \uac10\uc2f8\uc138\uc694**! \uc544\ub798\uc5d0\uc11c \uc774\ub807\uac8c \ud588\uace0, \ucd9c\ub825\uc5d0 \ub354 \uc774\uc0c1 \"Dear Claude\"\uac00 \uc5c6\ub294 \uac83\uc744 \ubcfc \uc218 \uc788\uc2b5\ub2c8\ub2e4.\n",
        "\n",
        "[XML \ud0dc\uadf8](https://docs.anthropic.com/claude/docs/use-xml-tags)\ub294 `<tag></tag>`\uc640 \uac19\uc740 \uaebe\uc1e0 \uad04\ud638 \ud0dc\uadf8\uc785\ub2c8\ub2e4. \uc30d\uc73c\ub85c \uc774\ub8e8\uc5b4\uc838 \uc788\uc73c\uba70 `<tag>`\uc640 \uac19\uc740 \uc5ec\ub294 \ud0dc\uadf8\uc640 `</tag>`\uc640 \uac19\uc740 \ub2eb\ub294 \ud0dc\uadf8\ub85c \uad6c\uc131\ub429\ub2c8\ub2e4. XML \ud0dc\uadf8\ub294 `<tag>content</tag>`\uc640 \uac19\uc774 \ucf58\ud150\uce20\ub97c \uac10\uc2f8\ub294 \ub370 \uc0ac\uc6a9\ub429\ub2c8\ub2e4.\n",
        "\n",
        "**\ucc38\uace0:** Claude\ub294 \ub2e4\uc591\ud55c \uad6c\ubd84 \uae30\ud638\uc640 \uad6c\ubd84\uc790\ub97c \uc778\uc2dd\ud558\uace0 \uc791\uc5c5\ud560 \uc218 \uc788\uc9c0\ub9cc, Claude\uac00 \ud504\ub86c\ud504\ud2b8 \uad6c\uc131 \uba54\ucee4\ub2c8\uc998\uc73c\ub85c XML \ud0dc\uadf8\ub97c \uc778\uc2dd\ud558\ub3c4\ub85d \ud2b9\ubcc4\ud788 \ud6c8\ub828\ub418\uc5c8\uae30 \ub54c\ubb38\uc5d0 **Claude\uc5d0 \ub300\ud55c \uad6c\ubd84\uc790\ub85c \ud2b9\ubcc4\ud788 XML \ud0dc\uadf8\ub97c \uc0ac\uc6a9\ud558\ub294 \uac83\uc774 \uc88b\uc2b5\ub2c8\ub2e4**. \ud568\uc218 \ud638\ucd9c \uc678\uc5d0\ub294 **\uc131\ub2a5\uc744 \ucd5c\ub300\ud55c \ub192\uc774\uae30 \uc704\ud574 Claude\uac00 \ud6c8\ub828\ub41c \ud2b9\ubcc4\ud55c XML \ud0dc\uadf8\uac00 \uc5c6\uc2b5\ub2c8\ub2e4**. Anthropic\uc740 \uc758\ub3c4\uc801\uc73c\ub85c Claude\ub97c \ub9e4\uc6b0 \uc720\uc5f0\ud558\uace0 \uc0ac\uc6a9\uc790 \uc815\uc758\ud560 \uc218 \uc788\ub3c4\ub85d \ub9cc\ub4e4\uc5c8\uc2b5\ub2c8\ub2e4."
      ]
    },
    {
      "cell_type": "code",
      "execution_count": null,
      "metadata": {},
      "outputs": [],
      "source": [
        "# Variable content\n",
        "EMAIL = \"Show up at 6am tomorrow because I'm the CEO and I say so.\"\n",
        "\n",
        "# Prompt template with a placeholder for the variable content\n",
        "PROMPT = f\"Yo Claude. <email>{EMAIL}</email> <----- Make this email more polite but don't change anything else about it.\"\n",
        "\n",
        "# Print Claude's response\n",
        "print(\"--------------------------- Full prompt with variable substutions ---------------------------\")\n",
        "print(PROMPT)\n",
        "print(\"\\n------------------------------------- Claude's response -------------------------------------\")\n",
        "print(get_completion(PROMPT))"
      ]
    },
    {
      "cell_type": "markdown",
      "metadata": {},
      "source": [
        "XML \ud0dc\uadf8\uac00 \uc5b4\ub5bb\uac8c \ub3c4\uc6c0\uc774 \ub418\ub294\uc9c0 \ub2e4\ub978 \uc608\ub97c \uc0b4\ud3b4\ubd05\uc2dc\ub2e4. \n",
        "\n",
        "\ub2e4\uc74c \ud504\ub86c\ud504\ud2b8\uc5d0\uc11c **Claude\ub294 \ud504\ub86c\ud504\ud2b8\uc758 \uc5b4\ub290 \ubd80\ubd84\uc774 \uc9c0\uc2dc\uc0ac\ud56d\uc774\uace0 \uc785\ub825\uc778\uc9c0\ub97c \uc798\ubabb \ud574\uc11d\ud569\ub2c8\ub2e4**. \uc0ac\uc6a9\uc790(SENTENCES \ubcc0\uc218\ub97c \ucc44\uc6b0\ub294 \uc0ac\ub78c)\uac00 \uc6d0\ud558\uc9c0 \uc54a\uc558\uc744 \uac83 \uac19\uc740\ub370\ub3c4 `Each is about an animal, like rabbits`\ub97c \ubaa9\ub85d\uc758 \uc77c\ubd80\ub85c \uc798\ubabb \uac04\uc8fc\ud569\ub2c8\ub2e4."
      ]
    },
    {
      "cell_type": "code",
      "execution_count": null,
      "metadata": {},
      "outputs": [],
      "source": [
        "# Variable content\n",
        "SENTENCES = \"\"\"- I like how cows sound\n",
        "- This sentence is about spiders\n",
        "- This sentence may appear to be about dogs but it's actually about pigs\"\"\"\n",
        "\n",
        "# Prompt template with a placeholder for the variable content\n",
        "PROMPT = f\"\"\"Below is a list of sentences. Tell me the second item on the list.\n",
        "\n",
        "- Each is about an animal, like rabbits.\n",
        "{SENTENCES}\"\"\"\n",
        "\n",
        "# Print Claude's response\n",
        "print(\"--------------------------- Full prompt with variable substutions ---------------------------\")\n",
        "print(PROMPT)\n",
        "print(\"\\n------------------------------------- Claude's response -------------------------------------\")\n",
        "print(get_completion(PROMPT))"
      ]
    },
    {
      "cell_type": "markdown",
      "metadata": {},
      "source": [
        "\uc774\ub97c \ud574\uacb0\ud558\ub824\uba74 **\uc0ac\uc6a9\uc790 \uc785\ub825 \ubb38\uc7a5\uc744 XML \ud0dc\uadf8\ub85c \uac10\uc2f8\uae30\ub9cc \ud558\uba74 \ub429\ub2c8\ub2e4**. \uc774\ub807\uac8c \ud558\uba74 `Each is about an animal, like rabbits.` \uc55e\uc758 \ud558\uc774\ud508\uc774 \ud63c\ub780\uc2a4\ub7fd\ub354\ub77c\ub3c4 Claude\uc5d0\uac8c \uc785\ub825 \ub370\uc774\ud130\uac00 \uc2dc\uc791\ub418\uace0 \ub05d\ub098\ub294 \uc704\uce58\ub97c \ubcf4\uc5ec\uc904 \uc218 \uc788\uc2b5\ub2c8\ub2e4."
      ]
    },
    {
      "cell_type": "code",
      "execution_count": null,
      "metadata": {},
      "outputs": [],
      "source": [
        "# Variable content\n",
        "SENTENCES = \"\"\"- I like how cows sound\n",
        "- This sentence is about spiders\n",
        "- This sentence may appear to be about dogs but it's actually about pigs\"\"\"\n",
        "\n",
        "# Prompt template with a placeholder for the variable content\n",
        "PROMPT = f\"\"\" Below is a list of sentences. Tell me the second item on the list.\n",
        "\n",
        "- Each is about an animal, like rabbits.\n",
        "<sentences>\n",
        "{SENTENCES}\n",
        "</sentences>\"\"\"\n",
        "\n",
        "# Print Claude's response\n",
        "print(\"--------------------------- Full prompt with variable substutions ---------------------------\")\n",
        "print(PROMPT)\n",
        "print(\"\\n------------------------------------- Claude's response -------------------------------------\")\n",
        "print(get_completion(PROMPT))"
      ]
    },
    {
      "cell_type": "markdown",
      "metadata": {},
      "source": [
        "**\ucc38\uace0:** \"Each is about an animal\"\uc774\ub77c\ub294 \ud504\ub86c\ud504\ud2b8\uc758 \uc798\ubabb\ub41c \ubc84\uc804\uc5d0\uc11c\ub294 \uc774 \uc608\uc81c\uc5d0\uc11c \uc6d0\ud558\ub294 \ub300\ub85c Claude\uac00 \uc798\ubabb \uc751\ub2f5\ud558\uac8c \ud558\ub824\uba74 \ud558\uc774\ud508\uc744 \ud3ec\ud568\ud574\uc57c \ud588\uc2b5\ub2c8\ub2e4. \uc774\uac83\uc740 \ud504\ub86c\ud504\ud305\uc5d0 \ub300\ud55c \uc911\uc694\ud55c \uad50\ud6c8\uc785\ub2c8\ub2e4: **\uc791\uc740 \uc138\ubd80 \uc0ac\ud56d\uc774 \uc911\uc694\ud569\ub2c8\ub2e4**! **\ud504\ub86c\ud504\ud2b8\uc5d0\uc11c \uc624\ud0c0\uc640 \ubb38\ubc95 \uc624\ub958\ub97c \uc81c\uac70\ud558\ub294 \uac83\uc774 \ud56d\uc0c1 \uc911\uc694\ud569\ub2c8\ub2e4**. Claude\ub294 \ud328\ud134\uc5d0 \ubbfc\uac10\ud569\ub2c8\ub2e4(\ucd08\uae30\uc5d0\ub294 \ubbf8\uc138\uc870\uc815 \uc804 \uc6d0\uc2dc \ud14d\uc2a4\ud2b8 \uc608\uce21 \ub3c4\uad6c\uc600\uc2b5\ub2c8\ub2e4). \uc2e4\uc218\ub97c \ud558\uba74 \uc2e4\uc218\ud560 \uac00\ub2a5\uc131\uc774 \ub354 \ub192\uace0, \ub611\ub611\ud558\uac8c \ub4e4\ub9ac\uba74 \ub354 \ub611\ub611\ud574\uc9c0\uace0, \ubc14\ubcf4 \uac19\uc774 \ub4e4\ub9ac\uba74 \ub354 \ubc14\ubcf4 \uac19\uc544\uc9d1\ub2c8\ub2e4.\n",
        "\n",
        "\uc704\uc758 \ub0b4\uc6a9\uc744 \ubcc0\uacbd\ud558\uc9c0 \uc54a\uace0 \uc218\uc5c5 \ud504\ub86c\ud504\ud2b8\ub97c \uc2e4\ud5d8\ud574 \ubcf4\uace0 \uc2f6\ub2e4\uba74 \uc218\uc5c5 \ub178\ud2b8\ubd81 \ub9e8 \uc544\ub798\ub85c \uc2a4\ud06c\ub864\ud558\uc5ec [**\uc608\uc81c \ub180\uc774\ud130**](#example-playground)\ub97c \ubc29\ubb38\ud558\uc138\uc694."
      ]
    },
    {
      "cell_type": "markdown",
      "metadata": {},
      "source": [
        "---\n",
        "\n",
        "## \uc5f0\uc2b5 \ubb38\uc81c\n",
        "- [\uc5f0\uc2b5\ubb38\uc81c 4.1 - \ud558\uc774\ucfe0 \uc8fc\uc81c](#exercise-41---haiku-topic)\n",
        "- [\uc5f0\uc2b5\ubb38\uc81c 4.2 - \uc624\ud0c0\uac00 \uc788\ub294 \uac1c \uc9c8\ubb38](#exercise-42---dog-question-with-typos)\n",
        "- [\uc5f0\uc2b5\ubb38\uc81c 4.3 - \uac1c \uc9c8\ubb38 \ud30c\ud2b8 2](#exercise-42---dog-question-part-2)"
      ]
    },
    {
      "cell_type": "markdown",
      "metadata": {},
      "source": [
        "### \uc5f0\uc2b5 4.1 - \ud558\uc774\ucfe0 \uc8fc\uc81c\n",
        "\ubcc0\uc218 `TOPIC`\uc744 \ubc1b\uc544 \ud574\ub2f9 \uc8fc\uc81c\uc5d0 \ub300\ud55c \ud558\uc774\ucfe0\ub97c \ucd9c\ub825\ud558\ub294 \ud15c\ud50c\ub9bf\uc73c\ub85c `PROMPT`\ub97c \uc218\uc815\ud558\uc138\uc694. \uc774 \uc5f0\uc2b5\uc740 f-string\uc744 \uc0ac\uc6a9\ud55c \ubcc0\uc218 \ud15c\ud50c\ub9bf \uad6c\uc870\uc5d0 \ub300\ud55c \uc774\ud574\ub97c \ud14c\uc2a4\ud2b8\ud558\uae30 \uc704\ud55c \uac83\uc785\ub2c8\ub2e4."
      ]
    },
    {
      "cell_type": "code",
      "execution_count": null,
      "metadata": {},
      "outputs": [],
      "source": [
        "# Variable content\n",
        "TOPIC = \"Pigs\"\n",
        "\n",
        "# Prompt template with a placeholder for the variable content\n",
        "PROMPT = f\"Create a haiku about pigs\"\n",
        "\n",
        "# Get Claude's response\n",
        "response = get_completion(PROMPT)\n",
        "\n",
        "# Function to grade exercise correctness\n",
        "def grade_exercise(text):\n",
        "    return bool(re.search(\"pigs\", text.lower()) and re.search(\"haiku\", text.lower()))\n",
        "\n",
        "# Print Claude's response\n",
        "print(\"--------------------------- Full prompt with variable substutions ---------------------------\")\n",
        "print(PROMPT)\n",
        "print(\"\\n------------------------------------- Claude's response -------------------------------------\")\n",
        "print(response)\n",
        "print(\"\\n------------------------------------------ GRADING ------------------------------------------\")\n",
        "print(\"This exercise has been correctly solved:\", grade_exercise(response))"
      ]
    },
    {
      "cell_type": "markdown",
      "metadata": {},
      "source": [
        "\u2753 \ud78c\ud2b8\uac00 \ud544\uc694\ud558\uba74 \uc544\ub798 \uc140\uc744 \uc2e4\ud589\ud558\uc138\uc694!"
      ]
    },
    {
      "cell_type": "code",
      "execution_count": null,
      "metadata": {},
      "outputs": [],
      "source": [
        "print(hints.exercise_4_1_hint)"
      ]
    },
    {
      "cell_type": "markdown",
      "metadata": {},
      "source": [
        "### \uc5f0\uc2b5 4.2 - \uc624\ud0c0\uac00 \uc788\ub294 \uac1c \uc9c8\ubb38\n",
        "XML \ud0dc\uadf8\ub97c \ucd94\uac00\ud558\uc5ec `PROMPT`\ub97c \uc218\uc815\ud558\uace0 Claude\uac00 \uc62c\ubc14\ub978 \ub2f5\ubcc0\uc744 \uc0dd\uc131\ud558\ub3c4\ub85d \ud558\uc138\uc694.\n",
        "\n",
        "\ud504\ub86c\ud504\ud2b8\uc758 \ub2e4\ub978 \ubd80\ubd84\uc740 \ubcc0\uacbd\ud558\uc9c0 \ub9c8\uc138\uc694. \uc5c9\ub9dd\uc774\uace0 \uc2e4\uc218 \ud22c\uc131\uc774\uc778 \uae00\uc740 Claude\uac00 \uadf8\ub7f0 \uc2e4\uc218\uc5d0 \uc5b4\ub5bb\uac8c \ubc18\uc751\ud558\ub294\uc9c0 \ubcf4\uae30 \uc704\ud55c \uc758\ub3c4\uc801\uc778 \uac83\uc785\ub2c8\ub2e4."
      ]
    },
    {
      "cell_type": "code",
      "execution_count": null,
      "metadata": {},
      "outputs": [],
      "source": [
        "# Variable content\n",
        "QUESTION = \"ar cn brown?\"\n",
        "\n",
        "# Prompt template with a placeholder for the variable content\n",
        "PROMPT = f\"Hia its me i have a q about dogs jkaerjv {QUESTION} jklmvca tx it help me muhch much atx fst fst answer short short tx\"\n",
        "\n",
        "# Get Claude's response\n",
        "response = get_completion(PROMPT)\n",
        "\n",
        "# Function to grade exercise correctness\n",
        "def grade_exercise(text):\n",
        "    return bool(re.search(\"brown\", text.lower()))\n",
        "\n",
        "# Print Claude's response\n",
        "print(\"--------------------------- Full prompt with variable substutions ---------------------------\")\n",
        "print(PROMPT)\n",
        "print(\"\\n------------------------------------- Claude's response -------------------------------------\")\n",
        "print(response)\n",
        "print(\"\\n------------------------------------------ GRADING ------------------------------------------\")\n",
        "print(\"This exercise has been correctly solved:\", grade_exercise(response))"
      ]
    },
    {
      "cell_type": "markdown",
      "metadata": {},
      "source": [
        "\u2753 \ud78c\ud2b8\uac00 \ud544\uc694\ud558\uba74 \uc544\ub798 \uc140\uc744 \uc2e4\ud589\ud558\uc138\uc694!"
      ]
    },
    {
      "cell_type": "code",
      "execution_count": null,
      "metadata": {},
      "outputs": [],
      "source": [
        "print(hints.exercise_4_2_hint)"
      ]
    },
    {
      "cell_type": "markdown",
      "metadata": {},
      "source": [
        "### \uc5f0\uc2b5 4.3 - \uac1c \uc9c8\ubb38 \ud30c\ud2b8 2\n",
        "XML \ud0dc\uadf8\ub97c \ucd94\uac00\ud558\uc9c0 \uc54a\uace0 `PROMPT`\ub97c \uc218\uc815\ud558\uc138\uc694. \ub300\uc2e0 \ud504\ub86c\ud504\ud2b8\uc5d0\uc11c \ud55c\ub450 \ub2e8\uc5b4\ub9cc \uc81c\uac70\ud558\uc138\uc694.\n",
        "\n",
        "\uc704\uc758 \uc5f0\uc2b5\uacfc \ub9c8\ucc2c\uac00\uc9c0\ub85c \ud504\ub86c\ud504\ud2b8\uc758 \ub2e4\ub978 \ubd80\ubd84\uc740 \ubcc0\uacbd\ud558\uc9c0 \ub9c8\uc138\uc694. \uc774\ub97c \ud1b5\ud574 Claude\uac00 \uc5b4\ub5a4 \uc885\ub958\uc758 \uc5b8\uc5b4\ub97c \uad6c\ubb38 \ubd84\uc11d\ud558\uace0 \uc774\ud574\ud560 \uc218 \uc788\ub294\uc9c0 \uc54c \uc218 \uc788\uc2b5\ub2c8\ub2e4."
      ]
    },
    {
      "cell_type": "code",
      "execution_count": null,
      "metadata": {},
      "outputs": [],
      "source": [
        "# Variable content\n",
        "QUESTION = \"ar cn brown?\"\n",
        "\n",
        "# Prompt template with a placeholder for the variable content\n",
        "PROMPT = f\"Hia its me i have a q about dogs jkaerjv {QUESTION} jklmvca tx it help me muhch much atx fst fst answer short short tx\"\n",
        "\n",
        "# Get Claude's response\n",
        "response = get_completion(PROMPT)\n",
        "\n",
        "# Function to grade exercise correctness\n",
        "def grade_exercise(text):\n",
        "    return bool(re.search(\"brown\", text.lower()))\n",
        "\n",
        "# Print Claude's response\n",
        "print(\"--------------------------- Full prompt with variable substutions ---------------------------\")\n",
        "print(PROMPT)\n",
        "print(\"\\n------------------------------------- Claude's response -------------------------------------\")\n",
        "print(response)\n",
        "print(\"\\n------------------------------------------ GRADING ------------------------------------------\")\n",
        "print(\"This exercise has been correctly solved:\", grade_exercise(response))"
      ]
    },
    {
      "cell_type": "markdown",
      "metadata": {},
      "source": [
        "\u2753 \ud78c\ud2b8\uac00 \ud544\uc694\ud558\uba74 \uc544\ub798 \uc140\uc744 \uc2e4\ud589\ud558\uc138\uc694!"
      ]
    },
    {
      "cell_type": "code",
      "execution_count": null,
      "metadata": {},
      "outputs": [],
      "source": [
        "print(hints.exercise_4_3_hint)"
      ]
    },
    {
      "cell_type": "markdown",
      "metadata": {},
      "source": [
        "### \ucd95\ud558\ud569\ub2c8\ub2e4!\n",
        "\n",
        "\uc9c0\uae08\uae4c\uc9c0\uc758 \ubaa8\ub4e0 \uc5f0\uc2b5\uc744 \ud574\uacb0\ud588\ub2e4\uba74 \ub2e4\uc74c \uc7a5\uc73c\ub85c \ub118\uc5b4\uac08 \uc900\ube44\uac00 \ub418\uc5c8\uc2b5\ub2c8\ub2e4. \ud504\ub86c\ud504\ud305\uc744 \uc990\uae30\uc138\uc694!"
      ]
    },
    {
      "cell_type": "markdown",
      "metadata": {},
      "source": [
        "---\n",
        "\n",
        "## \uc608\uc81c \ub180\uc774\ud130\n",
        "\n",
        "\uc774 \uc601\uc5ed\uc5d0\uc11c\ub294 \uc774 \uc218\uc5c5\uc5d0\uc11c \ubcf4\uc5ec\uc900 \ud504\ub86c\ud504\ud2b8 \uc608\uc81c\ub97c \uc790\uc720\ub86d\uac8c \uc2e4\ud5d8\ud558\uace0 \ud504\ub86c\ud504\ud2b8\ub97c \uc870\uc815\ud558\uc5ec Claude\uc758 \uc751\ub2f5\uc774 \uc5b4\ub5bb\uac8c \ub2ec\ub77c\uc9c0\ub294\uc9c0 \ud655\uc778\ud560 \uc218 \uc788\uc2b5\ub2c8\ub2e4."
      ]
    },
    {
      "cell_type": "code",
      "execution_count": null,
      "metadata": {},
      "outputs": [],
      "source": [
        "# Variable content\n",
        "ANIMAL = \"Cow\"\n",
        "\n",
        "# Prompt template with a placeholder for the variable content\n",
        "PROMPT = f\"I will tell you the name of an animal. Please respond with the noise that animal makes. {ANIMAL}\"\n",
        "\n",
        "# Print Claude's response\n",
        "print(\"--------------------------- Full prompt with variable substutions ---------------------------\")\n",
        "print(PROMPT)\n",
        "print(\"\\n------------------------------------- Claude's response -------------------------------------\")\n",
        "print(get_completion(PROMPT))"
      ]
    },
    {
      "cell_type": "code",
      "execution_count": null,
      "metadata": {},
      "outputs": [],
      "source": [
        "# Variable content\n",
        "EMAIL = \"Show up at 6am tomorrow because I'm the CEO and I say so.\"\n",
        "\n",
        "# Prompt template with a placeholder for the variable content\n",
        "PROMPT = f\"Yo Claude. {EMAIL} <----- Make this email more polite but don't change anything else about it.\"\n",
        "\n",
        "# Print Claude's response\n",
        "print(\"--------------------------- Full prompt with variable substutions ---------------------------\")\n",
        "print(PROMPT)\n",
        "print(\"\\n------------------------------------- Claude's response -------------------------------------\")\n",
        "print(get_completion(PROMPT))"
      ]
    },
    {
      "cell_type": "code",
      "execution_count": null,
      "metadata": {},
      "outputs": [],
      "source": [
        "# Variable content\n",
        "EMAIL = \"Show up at 6am tomorrow because I'm the CEO and I say so.\"\n",
        "\n",
        "# Prompt template with a placeholder for the variable content\n",
        "PROMPT = f\"Yo Claude. <email>{EMAIL}</email> <----- Make this email more polite but don't change anything else about it.\"\n",
        "\n",
        "# Print Claude's response\n",
        "print(\"--------------------------- Full prompt with variable substutions ---------------------------\")\n",
        "print(PROMPT)\n",
        "print(\"\\n------------------------------------- Claude's response -------------------------------------\")\n",
        "print(get_completion(PROMPT))"
      ]
    },
    {
      "cell_type": "code",
      "execution_count": null,
      "metadata": {},
      "outputs": [],
      "source": [
        "# Variable content\n",
        "SENTENCES = \"\"\"- I like how cows sound\n",
        "- This sentence is about spiders\n",
        "- This sentence may appear to be about dogs but it's actually about pigs\"\"\"\n",
        "\n",
        "# Prompt template with a placeholder for the variable content\n",
        "PROMPT = f\"\"\"Below is a list of sentences. Tell me the second item on the list.\n",
        "\n",
        "- Each is about an animal, like rabbits.\n",
        "{SENTENCES}\"\"\"\n",
        "\n",
        "# Print Claude's response\n",
        "print(\"--------------------------- Full prompt with variable substutions ---------------------------\")\n",
        "print(PROMPT)\n",
        "print(\"\\n------------------------------------- Claude's response -------------------------------------\")\n",
        "print(get_completion(PROMPT))"
      ]
    },
    {
      "cell_type": "code",
      "execution_count": null,
      "metadata": {
        "tags": []
      },
      "outputs": [],
      "source": [
        "# Variable content\n",
        "SENTENCES = \"\"\"- I like how cows sound\n",
        "- This sentence is about spiders\n",
        "- This sentence may appear to be about dogs but it's actually about pigs\"\"\"\n",
        "\n",
        "# Prompt template with a placeholder for the variable content\n",
        "PROMPT = f\"\"\" Below is a list of sentences. Tell me the second item on the list.\n",
        "\n",
        "- Each is about an animal, like rabbits.\n",
        "<sentences>\n",
        "{SENTENCES}\n",
        "</sentences>\"\"\"\n",
        "\n",
        "# Print Claude's response\n",
        "print(\"--------------------------- Full prompt with variable substutions ---------------------------\")\n",
        "print(PROMPT)\n",
        "print(\"\\n------------------------------------- Claude's response -------------------------------------\")\n",
        "print(get_completion(PROMPT))"
      ]
    }
  ],
  "metadata": {
    "kernelspec": {
      "display_name": "",
      "name": ""
    },
    "language_info": {
      "codemirror_mode": {
        "name": "ipython",
        "version": 3
      },
      "file_extension": ".py",
      "mimetype": "text/x-python",
      "name": "python",
      "nbconvert_exporter": "python",
      "pygments_lexer": "ipython3",
      "version": "3.10.14"
    }
  },
  "nbformat": 4,
  "nbformat_minor": 4
}