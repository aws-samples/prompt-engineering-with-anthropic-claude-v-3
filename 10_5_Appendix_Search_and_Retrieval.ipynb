{
  "cells": [
    {
      "cell_type": "markdown",
      "metadata": {},
      "source": [
        "# 부록 10.5: 검색 및 탐색\n",
        "\n",
        "Claude를 사용하여 **Wikipedia를 검색**할 수 있다는 것을 알고 계셨나요? Claude는 기사를 찾고 검색할 수 있으며, 이후 Claude를 사용하여 요약 및 종합, 발견한 내용에서 새로운 콘텐츠 작성 등을 할 수 있습니다. 그리고 Wikipedia뿐만 아니라 자신의 문서를 일반 텍스트 또는 벡터 데이터 저장소에 저장된 형태로 검색할 수 있습니다.\n",
        "\n",
        "Claude의 지식을 보완하고 벡터 데이터베이스, Wikipedia, 인터넷 등에서 검색한 데이터로 Claude의 응답 정확성과 관련성을 높이는 방법을 알아보려면 [RAG 요리책 예제](https://github.com/anthropics/anthropic-cookbook/blob/main/third_party/Wikipedia/wikipedia-search-cookbook.ipynb)를 참조하세요. 여기서 특정 [임베딩](https://docs.anthropic.com/claude/docs/embeddings) 및 벡터 데이터베이스 도구 사용법도 배울 수 있습니다.\n",
        "\n",
        "Claude를 사용한 고급 RAG 아키텍처에 대해 알아보려면 [Claude 3 RAG 아키텍처 기술 프레젠테이션 슬라이드](https://docs.google.com/presentation/d/1zxkSI7lLUBrZycA-_znwqu8DDyVhHLkQGScvzaZrUns/edit#slide=id.g2c736259dac_63_782)를 확인하세요."
      ]
    },
    {
      "cell_type": "markdown",
      "metadata": {},
      "source": []
    }
  ],
  "metadata": {
    "kernelspec": {
      "display_name": "",
      "name": ""
    },
    "language_info": {
      "name": "python"
    }
  },
  "nbformat": 4,
  "nbformat_minor": 4
}
