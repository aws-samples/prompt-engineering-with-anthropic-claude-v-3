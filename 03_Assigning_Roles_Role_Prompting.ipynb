{
  "cells": [
    {
      "cell_type": "markdown",
      "metadata": {},
      "source": [
        "# 3\uc7a5: \uc5ed\ud560 \ud560\ub2f9 (\uc5ed\ud560 \ud504\ub86c\ud504\ud305)\n",
        "\n",
        "- [\uc218\uc5c5](#lesson)\n",
        "- [\uc5f0\uc2b5\ubb38\uc81c](#exercises)\n",
        "- [\uc608\uc2dc \ud50c\ub808\uc774\uadf8\ub77c\uc6b4\ub4dc](#example-playground)\n",
        "\n",
        "## \uc124\uc815\n",
        "\n",
        "\ub2e4\uc74c \uc124\uc815 \uc140\uc744 \uc2e4\ud589\ud558\uc5ec API \ud0a4\ub97c \ub85c\ub4dc\ud558\uace0 `get_completion` \ud5ec\ud37c \ud568\uc218\ub97c \uc124\uc815\ud569\ub2c8\ub2e4."
      ]
    },
    {
      "cell_type": "code",
      "execution_count": null,
      "metadata": {
        "tags": []
      },
      "outputs": [],
      "source": [
        "# Import python's built-in regular expression library\n",
        "import re\n",
        "import boto3\n",
        "from botocore.exceptions import ClientError\n",
        "import json\n",
        "\n",
        "# Import the hints module from the utils package\n",
        "from utils import hints\n",
        "\n",
        "# Retrieve the MODEL_NAME variable from the IPython store\n",
        "%store -r modelId\n",
        "%store -r region\n",
        "\n",
        "bedrock_client = boto3.client(service_name='bedrock-runtime', region_name=region)"
      ]
    },
    {
      "cell_type": "code",
      "execution_count": null,
      "metadata": {},
      "outputs": [],
      "source": [
        "def get_completion(prompt, system_prompt=None):\n",
        "    inference_config = {\n",
        "        \"temperature\": 0.0,\n",
        "        \"maxTokens\": 500\n",
        "    }\n",
        "    converse_api_params = {\n",
        "        \"modelId\": modelId,\n",
        "        \"messages\": [{\"role\": \"user\", \"content\": [{\"text\": prompt}]}],\n",
        "        \"inferenceConfig\": inference_config\n",
        "    }\n",
        "    if system_prompt:\n",
        "        converse_api_params[\"system\"] = [{\"text\": system_prompt}]\n",
        "    try:\n",
        "        response = bedrock_client.converse(**converse_api_params)\n",
        "        text_content = response['output']['message']['content'][0]['text']\n",
        "        return text_content\n",
        "\n",
        "    except ClientError as err:\n",
        "        message = err.response['Error']['Message']\n",
        "        print(f\"A client error occured: {message}\")"
      ]
    },
    {
      "cell_type": "markdown",
      "metadata": {},
      "source": [
        "---\n",
        "\n",
        "## \uc218\uc5c5\n",
        "\n",
        "Claude\uac00 \ub2f9\uc2e0\uc774 \ub9d0\ud55c \uac83 \uc678\uc5d0\ub294 \ub9e5\ub77d\uc744 \ubaa8\ub978\ub2e4\ub294 \uc8fc\uc81c\ub97c \uc774\uc5b4\uac00\uba74\uc11c, \ub54c\ub85c\ub294 **Claude\uc5d0\uac8c \ud2b9\uc815 \uc5ed\ud560\uc744 \uc218\ud589\ud558\ub3c4\ub85d \ud504\ub86c\ud504\ud2b8\ud558\ub294 \uac83\uc774 \uc911\uc694\ud569\ub2c8\ub2e4(\ud544\uc694\ud55c \ubaa8\ub4e0 \ub9e5\ub77d \ud3ec\ud568)**. \uc774\uac83\uc744 \uc5ed\ud560 \ud504\ub86c\ud504\ud305\uc774\ub77c\uace0 \ud569\ub2c8\ub2e4. \uc5ed\ud560 \ub9e5\ub77d\uc774 \uc790\uc138\ud560\uc218\ub85d \ub354 \uc88b\uc2b5\ub2c8\ub2e4.\n",
        "\n",
        "**Claude\uc5d0\uac8c \uc5ed\ud560\uc744 \ubd80\uc5ec\ud558\uba74 Claude\uc758 \uc131\ub2a5\uc774 \ud5a5\uc0c1\ub420 \uc218 \uc788\uc2b5\ub2c8\ub2e4.** \uc791\ubb38, \ucf54\ub529, \uc694\uc57d \ub4f1 \ub2e4\uc591\ud55c \ubd84\uc57c\uc5d0\uc11c \uadf8\ub807\uc2b5\ub2c8\ub2e4. \ub9c8\uce58 \uc0ac\ub78c\ub4e4\uc5d0\uac8c \"~\ucc98\ub7fc \uc0dd\uac01\ud574\ubd10\"\ub77c\uace0 \ub9d0\ud558\uba74 \ub3c4\uc6c0\uc774 \ub418\ub294 \uac83\uacfc \uac19\uc2b5\ub2c8\ub2e4. \uc5ed\ud560 \ud504\ub86c\ud504\ud305\uc740 \ub610\ud55c Claude\uc758 \uc751\ub2f5 \uc2a4\ud0c0\uc77c, \uc5b4\uc870, \ubc29\uc2dd\uc744 \ubcc0\ud654\uc2dc\ud0ac \uc218 \uc788\uc2b5\ub2c8\ub2e4.\n",
        "\n",
        "**\ucc38\uace0:** \uc5ed\ud560 \ud504\ub86c\ud504\ud305\uc740 \uc2dc\uc2a4\ud15c \ud504\ub86c\ud504\ud2b8\uc5d0\uc11c \uc774\ub8e8\uc5b4\uc9c0\uac70\ub098 \uc0ac\uc6a9\uc790 \uba54\uc2dc\uc9c0 \ucc28\ub840\uc5d0\uc11c \uc774\ub8e8\uc5b4\uc9c8 \uc218 \uc788\uc2b5\ub2c8\ub2e4."
      ]
    },
    {
      "cell_type": "markdown",
      "metadata": {},
      "source": [
        "### \uc608\uc2dc\n",
        "\n",
        "\uc544\ub798 \uc608\uc2dc\uc5d0\uc11c \ubcfc \uc218 \uc788\ub4ef\uc774, \uc5ed\ud560 \ud504\ub86c\ud504\ud305 \uc5c6\uc774\ub294 Claude\uac00 \uc2a4\ucf00\uc774\ud2b8\ubcf4\ub529\uc5d0 \ub300\ud55c \ub2e8\uc77c \ubb38\uc7a5 \uad00\uc810\uc744 \uc694\uccad\ubc1b\uc558\uc744 \ub54c **\ub2e8\uc21c\ud558\uace0 \uc2a4\ud0c0\uc77c\ub9c1\ub418\uc9c0 \uc54a\uc740 \ub2f5\ubcc0**\uc744 \uc81c\uacf5\ud569\ub2c8\ub2e4.\n",
        "\n",
        "\ud558\uc9c0\ub9cc Claude\uc5d0\uac8c \uace0\uc591\uc774 \uc5ed\ud560\uc744 \ubd80\uc5ec\ud558\uba74, Claude\uc758 \uad00\uc810\uc774 \ubcc0\ud654\ud558\uace0 \ub530\ub77c\uc11c **Claude\uc758 \uc751\ub2f5 \uc5b4\uc870, \uc2a4\ud0c0\uc77c, \ub0b4\uc6a9\uc774 \uc0c8\ub85c\uc6b4 \uc5ed\ud560\uc5d0 \ub9de\ucdb0 \uc801\uc751**\ud569\ub2c8\ub2e4.\n",
        "\n",
        "**\ucc38\uace0:** \uc0ac\uc6a9\ud560 \uc218 \uc788\ub294 \ucd94\uac00 \uae30\uc220\uc740 **Claude\uc5d0\uac8c \uc758\ub3c4\ud55c \uccad\uc911\uc5d0 \ub300\ud55c \ub9e5\ub77d\uc744 \uc81c\uacf5\ud558\ub294 \uac83**\uc785\ub2c8\ub2e4. \uc544\ub798\uc5d0\uc11c \"\ub108\ub294 \uace0\uc591\uc774\uc57c\"\ub77c\uace0 \ud504\ub86c\ud504\ud2b8\ud558\ub294 \uac83\uacfc \"\ub108\ub294 \uc2a4\ucf00\uc774\ud2b8\ubcf4\ub354\ub4e4 \uc55e\uc5d0\uc11c \ub9d0\ud558\ub294 \uace0\uc591\uc774\uc57c\"\ub77c\uace0 \ud504\ub86c\ud504\ud2b8\ud558\ub294 \uac83\uc740 \uc0c1\ub2f9\ud788 \ub2e4\ub978 \uc751\ub2f5\uc744 \uc774\ub04c\uc5b4\ub0bc \uac83\uc785\ub2c8\ub2e4.\n",
        "\n",
        "\uc2dc\uc2a4\ud15c \ud504\ub86c\ud504\ud2b8\uc5d0 \uc5ed\ud560 \ud504\ub86c\ud504\ud305\uc774 \uc5c6\ub294 \ud504\ub86c\ud504\ud2b8\ub294 \ub2e4\uc74c\uacfc \uac19\uc2b5\ub2c8\ub2e4:"
      ]
    },
    {
      "cell_type": "code",
      "execution_count": null,
      "metadata": {},
      "outputs": [],
      "source": [
        "# Prompt\n",
        "PROMPT = \"In one sentence, what do you think about skateboarding?\"\n",
        "\n",
        "# Print Claude's response\n",
        "print(get_completion(PROMPT))"
      ]
    },
    {
      "cell_type": "markdown",
      "metadata": {},
      "source": [
        "\uc5ec\uae30\uc5d0 \uc5ed\ud560 \ud504\ub86c\ud504\ud305\uc774 \uc788\ub294 \ub3d9\uc77c\ud55c \uc0ac\uc6a9\uc790 \uc9c8\ubb38\uc774 \uc788\uc2b5\ub2c8\ub2e4."
      ]
    },
    {
      "cell_type": "code",
      "execution_count": null,
      "metadata": {},
      "outputs": [],
      "source": [
        "# System prompt\n",
        "SYSTEM_PROMPT = \"You are a cat.\"\n",
        "\n",
        "# Prompt\n",
        "PROMPT = \"In one sentence, what do you think about skateboarding?\"\n",
        "\n",
        "# Print Claude's response\n",
        "print(get_completion(PROMPT, SYSTEM_PROMPT))"
      ]
    },
    {
      "cell_type": "markdown",
      "metadata": {},
      "source": [
        "\uc5ed\ud560 \ud504\ub86c\ud504\ud305\uc744 \uc0ac\uc6a9\ud558\uc5ec Claude\uac00 \ud2b9\uc815 \uc791\ubb38 \uc2a4\ud0c0\uc77c\uc744 \ubaa8\ubc29\ud558\uac70\ub098 \ud2b9\uc815 \uc5b4\uc870\ub85c \ub9d0\ud558\uac8c \ud558\uac70\ub098 \ub2f5\ubcc0\uc758 \ubcf5\uc7a1\uc131\uc744 \uc548\ub0b4\ud560 \uc218 \uc788\uc2b5\ub2c8\ub2e4. **\uc5ed\ud560 \ud504\ub86c\ud504\ud305\uc740 \ub610\ud55c Claude\uac00 \uc218\ud559\uc774\ub098 \ub17c\ub9ac \uc791\uc5c5\uc744 \ub354 \uc798\ud558\ub3c4\ub85d \ub9cc\ub4e4 \uc218 \uc788\uc2b5\ub2c8\ub2e4.**\n",
        "\n",
        "\uc608\ub97c \ub4e4\uc5b4, \uc544\ub798 \uc608\uc2dc\uc5d0\uc11c\ub294 \uc815\ub2f5\uc774 \ud655\uc2e4\ud788 \uc788\uc2b5\ub2c8\ub2e4. \uadf8\ub7f0\ub370 Claude\uac00 \uc624\ub2f5\uc744 \ub0b4\uace0 \uc815\ubcf4\uac00 \ubd80\uc871\ud558\ub2e4\uace0 \uc0dd\uac01\ud569\ub2c8\ub2e4:\n"
      ]
    },
    {
      "cell_type": "code",
      "execution_count": null,
      "metadata": {},
      "outputs": [],
      "source": [
        "# Prompt\n",
        "PROMPT = \"Jack is looking at Anne. Anne is looking at George. Jack is married, George is not, and we don\u2019t know if Anne is married. Is a married person looking at an unmarried person?\"\n",
        "\n",
        "# Print Claude's response\n",
        "print(get_completion(PROMPT))"
      ]
    },
    {
      "cell_type": "markdown",
      "metadata": {},
      "source": [
        "\uadf8\ub807\ub2e4\uba74 **Claude\uc5d0\uac8c \ub17c\ub9ac \ubd07 \uc5ed\ud560\uc744 \ubd80\uc5ec**\ud558\uba74 \uc5b4\ub5bb\uac8c \ub420\uae4c\uc694?\n",
        "\n",
        "\uc774 \uc0c8\ub85c\uc6b4 \uc5ed\ud560 \ud560\ub2f9\uc73c\ub85c \uc778\ud574 Claude\uac00 \uc815\ub2f5\uc744 \ub9de\ud799\ub2c8\ub2e4. (\ube44\ub85d \uc644\uc804\ud788 \uc62c\ubc14\ub978 \uc774\uc720\ub294 \uc544\ub2d9\ub2c8\ub2e4)"
      ]
    },
    {
      "cell_type": "code",
      "execution_count": null,
      "metadata": {},
      "outputs": [],
      "source": [
        "# System prompt\n",
        "SYSTEM_PROMPT = \"You are a logic bot designed to answer complex logic problems.\"\n",
        "\n",
        "# Prompt\n",
        "PROMPT = \"Jack is looking at Anne. Anne is looking at George. Jack is married, George is not, and we don\u2019t know if Anne is married. Is a married person looking at an unmarried person?\"\n",
        "\n",
        "# Print Claude's response\n",
        "print(get_completion(PROMPT, SYSTEM_PROMPT))"
      ]
    },
    {
      "cell_type": "markdown",
      "metadata": {},
      "source": [
        "**\ucc38\uace0:** \uc774 \uacfc\uc815\uc744 \ud1b5\ud574 \ubc30\uc6b0\uac8c \ub420 \uac83\uc740 \uc720\uc0ac\ud55c \uacb0\uacfc\ub97c \uc5bb\uae30 \uc704\ud574 \uc0ac\uc6a9\ud560 \uc218 \uc788\ub294 **\ub9ce\uc740 \ud504\ub86c\ud504\ud2b8 \uc5d4\uc9c0\ub2c8\uc5b4\ub9c1 \uae30\uc220**\uc774 \uc788\ub2e4\ub294 \uac83\uc785\ub2c8\ub2e4. \uc5b4\ub5a4 \uae30\uc220\uc744 \uc0ac\uc6a9\ud560\uc9c0\ub294 \uc5ec\ub7ec\ubd84\uc758 \uc120\ud0dd\uc774\uba70 \uc120\ud638\uc5d0 \ub2ec\ub824 \uc788\uc2b5\ub2c8\ub2e4! \uc5ec\ub7ec\ubd84\ub9cc\uc758 \ud504\ub86c\ud504\ud2b8 \uc5d4\uc9c0\ub2c8\uc5b4\ub9c1 \uc2a4\ud0c0\uc77c\uc744 \ucc3e\uae30 \uc704\ud574 **\uc2e4\ud5d8\ud574 \ubcf4\uc2dc\uae30\ub97c \uad8c\uc7a5**\ud569\ub2c8\ub2e4.\n",
        "\n",
        "\uc704\uc758 \ub0b4\uc6a9\uc744 \ubcc0\uacbd\ud558\uc9c0 \uc54a\uace0 \uc218\uc5c5 \ud504\ub86c\ud504\ud2b8\ub97c \uc2e4\ud5d8\ud574 \ubcf4\uace0 \uc2f6\ub2e4\uba74 \uc218\uc5c5 \ub178\ud2b8\ubd81 \ud558\ub2e8\uc73c\ub85c \uc2a4\ud06c\ub864\ud558\uc5ec [**\uc608\uc2dc \ud50c\ub808\uc774\uadf8\ub77c\uc6b4\ub4dc**](#example-playground)\ub97c \ubc29\ubb38\ud558\uc138\uc694."
      ]
    },
    {
      "cell_type": "markdown",
      "metadata": {},
      "source": [
        "---\n",
        "\n",
        "## \uc5f0\uc2b5\ubb38\uc81c\n",
        "- [\uc5f0\uc2b5\ubb38\uc81c 3.1 - \uc218\ud559 \ubb38\uc81c \uc218\uc815](#exercise-31---math-correction)"
      ]
    },
    {
      "cell_type": "markdown",
      "metadata": {},
      "source": [
        "### \uc5f0\uc2b5\ubb38\uc81c 3.1 - \uc218\ud559 \ubb38\uc81c \uc218\uc815\n",
        "\ub54c\ub85c\ub294 **Claude\uac00 \uc218\ud559 \ubb38\uc81c\ub97c \uc798 \ud480\uc9c0 \ubabb\ud560 \uc218 \uc788\uc2b5\ub2c8\ub2e4**, \uc2ec\uc9c0\uc5b4 \uac04\ub2e8\ud55c \uc218\ud559 \ubb38\uc81c\ub3c4 \ub9d0\uc774\uc8e0. \uc544\ub798\uc5d0\uc11c Claude\ub294 \ub450 \ubc88\uc9f8 \ub2e8\uacc4\uc5d0\uc11c \uba85\ubc31\ud55c \uc0b0\uc220 \uc2e4\uc218\uac00 \uc788\uc74c\uc5d0\ub3c4 \ubd88\uad6c\ud558\uace0 \uc218\ud559 \ubb38\uc81c\uac00 \uc62c\ubc14\ub974\uac8c \ud480\ub838\ub2e4\uace0 \uc798\ubabb \ud3c9\uac00\ud569\ub2c8\ub2e4. Claude\ub294 \uc2e4\uc81c\ub85c \ub2e8\uacc4\ubcc4\ub85c \uc9c4\ud589\ud558\uba74\uc11c \uc2e4\uc218\ub97c \uc7a1\uc544\ub0b4\uc9c0\ub9cc, \uc804\uccb4 \ud574\ub2f5\uc774 \uc798\ubabb\ub418\uc5c8\ub2e4\ub294 \uacb0\ub860\uc744 \ub0b4\ub9ac\uc9c0\ub294 \ubabb\ud569\ub2c8\ub2e4.\n",
        "\n",
        "`PROMPT` \ubc0f/\ub610\ub294 `SYSTEM_PROMPT`\ub97c \uc218\uc815\ud558\uc5ec Claude\uac00 \ud574\ub2f5\uc744 `\uc798\ubabb` \ud480\uc5c8\ub2e4\uace0 \ud3c9\uac00\ud558\ub3c4\ub85d \ub9cc\ub4dc\uc138\uc694. \uc62c\ubc14\ub974\uac8c \ud480\uc5c8\ub2e4\uace0 \ud3c9\uac00\ud558\uc9c0 \uc54a\ub3c4\ub85d \ud574\uc8fc\uc138\uc694.\n"
      ]
    },
    {
      "cell_type": "code",
      "execution_count": null,
      "metadata": {},
      "outputs": [],
      "source": [
        "# System prompt - if you don't want to use a system prompt, you can leave this variable set to an empty string\n",
        "SYSTEM_PROMPT = \"\"\n",
        "\n",
        "# Prompt\n",
        "PROMPT = \"\"\"Is this equation solved correctly below?\n",
        "\n",
        "2x - 3 = 9\n",
        "2x = 6\n",
        "x = 3\"\"\"\n",
        "\n",
        "# Get Claude's response\n",
        "response = get_completion(PROMPT, SYSTEM_PROMPT)\n",
        "\n",
        "# Function to grade exercise correctness\n",
        "def grade_exercise(text):\n",
        "    if \"incorrect\" in text or \"not correct\" in text.lower():\n",
        "        return True\n",
        "    else:\n",
        "        return False\n",
        "\n",
        "# Print Claude's response and the corresponding grade\n",
        "print(response)\n",
        "print(\"\\n--------------------------- GRADING ---------------------------\")\n",
        "print(\"This exercise has been correctly solved:\", grade_exercise(response))"
      ]
    },
    {
      "cell_type": "markdown",
      "metadata": {},
      "source": [
        "\u2753 \ud78c\ud2b8\uac00 \ud544\uc694\ud558\ub2e4\uba74 \uc544\ub798 \uc140\uc744 \uc2e4\ud589\ud558\uc138\uc694!"
      ]
    },
    {
      "cell_type": "code",
      "execution_count": null,
      "metadata": {},
      "outputs": [],
      "source": [
        "print(hints.exercise_3_1_hint)"
      ]
    },
    {
      "cell_type": "markdown",
      "metadata": {},
      "source": [
        "### \ucd95\ud558\ud569\ub2c8\ub2e4!\n",
        "\n",
        "\uc9c0\uae08\uae4c\uc9c0\uc758 \ubaa8\ub4e0 \uc5f0\uc2b5 \ubb38\uc81c\ub97c \ud574\uacb0\ud588\ub2e4\uba74 \ub2e4\uc74c \uc7a5\uc73c\ub85c \ub118\uc5b4\uac08 \uc900\ube44\uac00 \ub418\uc5c8\uc2b5\ub2c8\ub2e4. \ud589\uc6b4\uc774 \uc788\uae30\ub97c \ubc14\ub78d\ub2c8\ub2e4!"
      ]
    },
    {
      "cell_type": "markdown",
      "metadata": {},
      "source": [
        "---\n",
        "\n",
        "## \uc608\uc2dc \ud50c\ub808\uc774\uadf8\ub77c\uc6b4\ub4dc\n",
        "\n",
        "\uc5ec\uae30\ub294 \uc774 \uc218\uc5c5\uc5d0\uc11c \ubcf4\uc5ec\uc900 \ud504\ub86c\ud504\ud2b8 \uc608\uc2dc\ub97c \uc790\uc720\ub86d\uac8c \uc2e4\ud5d8\ud558\uace0 \ud504\ub86c\ud504\ud2b8\ub97c \uc870\uc815\ud558\uc5ec Claude\uc758 \uc751\ub2f5\uc774 \uc5b4\ub5bb\uac8c \ub2ec\ub77c\uc9c0\ub294\uc9c0 \ud655\uc778\ud560 \uc218 \uc788\ub294 \uacf5\uac04\uc785\ub2c8\ub2e4."
      ]
    },
    {
      "cell_type": "code",
      "execution_count": null,
      "metadata": {},
      "outputs": [],
      "source": [
        "# Prompt\n",
        "PROMPT = \"In one sentence, what do you think about skateboarding?\"\n",
        "\n",
        "# Print Claude's response\n",
        "print(get_completion(PROMPT))"
      ]
    },
    {
      "cell_type": "code",
      "execution_count": null,
      "metadata": {},
      "outputs": [],
      "source": [
        "# System prompt\n",
        "SYSTEM_PROMPT = \"You are a cat.\"\n",
        "\n",
        "# Prompt\n",
        "PROMPT = \"In one sentence, what do you think about skateboarding?\"\n",
        "\n",
        "# Print Claude's response\n",
        "print(get_completion(PROMPT, SYSTEM_PROMPT))"
      ]
    },
    {
      "cell_type": "code",
      "execution_count": null,
      "metadata": {},
      "outputs": [],
      "source": [
        "# Prompt\n",
        "PROMPT = \"Jack is looking at Anne. Anne is looking at George. Jack is married, George is not, and we don\u2019t know if Anne is married. Is a married person looking at an unmarried person?\"\n",
        "\n",
        "# Print Claude's response\n",
        "print(get_completion(PROMPT))"
      ]
    },
    {
      "cell_type": "code",
      "execution_count": null,
      "metadata": {
        "tags": []
      },
      "outputs": [],
      "source": [
        "# System prompt\n",
        "SYSTEM_PROMPT = \"You are a logic bot designed to answer complex logic problems.\"\n",
        "\n",
        "# Prompt\n",
        "PROMPT = \"Jack is looking at Anne. Anne is looking at George. Jack is married, George is not, and we don\u2019t know if Anne is married. Is a married person looking at an unmarried person?\"\n",
        "\n",
        "# Print Claude's response\n",
        "print(get_completion(PROMPT, SYSTEM_PROMPT))"
      ]
    }
  ],
  "metadata": {
    "kernelspec": {
      "display_name": "",
      "name": ""
    },
    "language_info": {
      "codemirror_mode": {
        "name": "ipython",
        "version": 3
      },
      "file_extension": ".py",
      "mimetype": "text/x-python",
      "name": "python",
      "nbconvert_exporter": "python",
      "pygments_lexer": "ipython3",
      "version": "3.10.14"
    }
  },
  "nbformat": 4,
  "nbformat_minor": 4
}