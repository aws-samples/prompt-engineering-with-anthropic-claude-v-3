{
  "cells": [
    {
      "cell_type": "markdown",
      "metadata": {},
      "source": [
        "# \ubd80\ub85d 10.4.1: \uc2dc\uc791\ud558\uae30 - Claude\uc5d0 \uc774\ubbf8\uc9c0\ub97c \uc804\ub2ec\ud558\ub294 \ubc29\ubc95\n",
        "\n",
        "Claude 3 \ubaa8\ub378 \uc81c\ud488\uad70\uc740 API\uc5d0\uc11c \uc774\ubbf8\uc9c0 \uc785\ub825\uc744 \uc9c0\uc6d0\ud569\ub2c8\ub2e4. Claude\uc5d0 \uc774\ubbf8\uc9c0\ub97c \uc804\ub2ec\ud558\ub294 \ubc29\ubc95\uc740 \ub2e4\uc74c\uacfc \uac19\uc2b5\ub2c8\ub2e4."
      ]
    },
    {
      "cell_type": "code",
      "execution_count": null,
      "metadata": {
        "tags": []
      },
      "outputs": [],
      "source": [
        "pip install -qUr requirements.txt"
      ]
    },
    {
      "cell_type": "code",
      "execution_count": null,
      "metadata": {
        "tags": []
      },
      "outputs": [],
      "source": [
        "import boto3\n",
        "import json\n",
        "from datetime import datetime\n",
        "from IPython.display import Image\n",
        "from botocore.exceptions import ClientError\n",
        "\n",
        "session = boto3.Session()\n",
        "region = session.region_name"
      ]
    },
    {
      "cell_type": "code",
      "execution_count": null,
      "metadata": {
        "tags": []
      },
      "outputs": [],
      "source": [
        "#modelId = 'anthropic.claude-3-sonnet-20240229-v1:0'\n",
        "modelId = 'anthropic.claude-3-haiku-20240307-v1:0'\n",
        "\n",
        "%store modelId\n",
        "%store region\n",
        "\n",
        "print(f'Using modelId: {modelId}')\n",
        "print('Using region: ', region)\n",
        "\n",
        "bedrock_client = boto3.client(service_name = 'bedrock-runtime', region_name = region,)"
      ]
    },
    {
      "cell_type": "code",
      "execution_count": null,
      "metadata": {
        "tags": []
      },
      "outputs": [],
      "source": [
        "from IPython.display import Image\n",
        "Image(filename='./images/sunset.jpeg')"
      ]
    },
    {
      "cell_type": "code",
      "execution_count": null,
      "metadata": {
        "tags": []
      },
      "outputs": [],
      "source": [
        "with open(\"./images/sunset.jpeg\", \"rb\") as f:\n",
        "    image_file = f.read()\n",
        "\n",
        "messages = [\n",
        "    {\n",
        "        \"role\": 'user',\n",
        "        \"content\": [\n",
        "            {\"text\": \"Write a sonnet based on this image.\"},\n",
        "            {\"image\": {\n",
        "                \"format\": 'jpeg',\n",
        "                \"source\": {\"bytes\": image_file }\n",
        "                },\n",
        "            }\n",
        "        ]\n",
        "    }\n",
        "]\n",
        "\n",
        "converse_api_params = {\n",
        "    \"modelId\": modelId,\n",
        "    \"messages\": messages,\n",
        "}\n",
        "\n",
        "response = bedrock_client.converse(**converse_api_params)\n",
        "\n",
        "# Extract the generated text content from the response\n",
        "output_message = response['output']['message']['content'][0]['text']\n",
        "\n",
        "# Return the generated text content\n",
        "print(output_message)"
      ]
    },
    {
      "cell_type": "markdown",
      "metadata": {},
      "source": [
        "## URL\uc744 \ud1b5\ud574 \uc774\ubbf8\uc9c0 \uc804\ub2ec\n",
        "\n",
        "\uc774\ubbf8\uc9c0\uc758 URL\ub9cc \uc788\ub2e4\uba74 \uba87 \uc904\uc758 \ucf54\ub4dc\ub85c Claude\uc5d0 \uc804\ub2ec\ud560 \uc218 \uc788\uc2b5\ub2c8\ub2e4."
      ]
    },
    {
      "cell_type": "code",
      "execution_count": null,
      "metadata": {
        "tags": []
      },
      "outputs": [],
      "source": [
        "image_url = \"https://upload.wikimedia.org/wikipedia/commons/thumb/c/ca/Machu_Picchu%2C_Peru_%282018%29.jpg/2560px-Machu_Picchu%2C_Peru_%282018%29.jpg\"\n",
        "Image(url=image_url)\n"
      ]
    },
    {
      "cell_type": "code",
      "execution_count": null,
      "metadata": {
        "tags": []
      },
      "outputs": [],
      "source": [
        "import httpx\n",
        "\n",
        "web_image = httpx.get(image_url).content\n",
        "\n",
        "messages = [\n",
        "    {\n",
        "        \"role\": 'user',\n",
        "        \"content\": [\n",
        "            {\"text\": \"Write a sonnet based on this image.\"},\n",
        "            {\"image\": {\n",
        "                \"format\": 'jpeg',\n",
        "                \"source\": {\"bytes\": web_image }\n",
        "                },\n",
        "            }\n",
        "        ]\n",
        "    }\n",
        "]\n",
        "\n",
        "converse_api_params = {\n",
        "    \"modelId\": modelId,\n",
        "    \"messages\": messages,\n",
        "}\n",
        "\n",
        "response = bedrock_client.converse(**converse_api_params)\n",
        "\n",
        "# Extract the generated text content from the response\n",
        "output_message = response['output']['message']['content'][0]['text']\n",
        "\n",
        "# Return the generated text content\n",
        "print(output_message)"
      ]
    }
  ],
  "metadata": {
    "kernelspec": {
      "display_name": "conda_tensorflow2_p310",
      "language": "python",
      "name": "conda_tensorflow2_p310"
    },
    "language_info": {
      "codemirror_mode": {
        "name": "ipython",
        "version": 3
      },
      "file_extension": ".py",
      "mimetype": "text/x-python",
      "name": "python",
      "nbconvert_exporter": "python",
      "pygments_lexer": "ipython3",
      "version": "3.10.14"
    }
  },
  "nbformat": 4,
  "nbformat_minor": 4
}