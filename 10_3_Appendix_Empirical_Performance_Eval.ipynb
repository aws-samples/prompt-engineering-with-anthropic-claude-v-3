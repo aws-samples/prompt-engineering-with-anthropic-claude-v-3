{
  "cells": [
    {
      "cell_type": "markdown",
      "metadata": {},
      "source": [
        "# AI \ubaa8\ub378 \ud3c9\uac00: \ucf54\ub4dc, \uc778\uac04, \ubaa8\ub378 \uae30\ubc18 \ud3c9\uac00\n",
        "\n",
        "\uc774 \ub178\ud2b8\ubd81\uc5d0\uc11c\ub294 Claude v3\uc640 \uac19\uc740 AI \ubaa8\ub378\uc758 \ud6a8\uacfc\ub97c \ud3c9\uac00\ud558\uae30 \uc704\ud574 \ub110\ub9ac \uc0ac\uc6a9\ub418\ub294 \uc138 \uac00\uc9c0 \uae30\uc220\uc5d0 \ub300\ud574 \uc0b4\ud3b4\ubcf4\uaca0\uc2b5\ub2c8\ub2e4.\n",
        "\n",
        "1. \ucf54\ub4dc \uae30\ubc18 \ud3c9\uac00\n",
        "2. \uc778\uac04 \ud3c9\uac00\n",
        "3. \ubaa8\ub378 \uae30\ubc18 \ud3c9\uac00\n",
        "\n",
        "\uac01 \uc811\uadfc \ubc29\uc2dd\uc744 \uc608\uc2dc\ub97c \ud1b5\ud574 \uc124\uba85\ud558\uace0 AI \uc131\ub2a5\uc744 \ud3c9\uac00\ud560 \ub54c \uac01\uac01\uc758 \uc7a5\ub2e8\uc810\uc744 \uac80\ud1a0\ud574 \ubcf4\uaca0\uc2b5\ub2c8\ub2e4."
      ]
    },
    {
      "cell_type": "markdown",
      "metadata": {},
      "source": [
        "## \ucf54\ub4dc \uae30\ubc18 \ud3c9\uac00 \uc608\uc2dc: \uac10\uc815 \ubd84\uc11d\n",
        "\n",
        "\uc774 \uc608\uc2dc\uc5d0\uc11c\ub294 Claude\uac00 \uc601\ud654 \ub9ac\ubdf0\uc758 \uac10\uc815\uc744 \uae0d\uc815\uc801 \ub610\ub294 \ubd80\uc815\uc801\uc73c\ub85c \ubd84\ub958\ud558\ub294 \ub2a5\ub825\uc744 \ud3c9\uac00\ud560 \uac83\uc785\ub2c8\ub2e4. \ucf54\ub4dc\ub97c \uc0ac\uc6a9\ud558\uc5ec \ubaa8\ub378\uc758 \ucd9c\ub825\uc774 \uc608\uc0c1 \uac10\uc815\uacfc \uc77c\uce58\ud558\ub294\uc9c0 \ud655\uc778\ud560 \uc218 \uc788\uc2b5\ub2c8\ub2e4."
      ]
    },
    {
      "cell_type": "code",
      "execution_count": null,
      "metadata": {
        "tags": []
      },
      "outputs": [],
      "source": [
        "# Import python's built-in regular expression library\n",
        "import re\n",
        "\n",
        "# Import boto3 and json\n",
        "import boto3\n",
        "import json\n",
        "from botocore.exceptions import ClientError\n",
        "# Store the model name and AWS region for later use\n",
        "\n",
        "%store -r modelId\n",
        "%store -r region"
      ]
    },
    {
      "cell_type": "code",
      "execution_count": null,
      "metadata": {
        "tags": []
      },
      "outputs": [],
      "source": [
        "# Function to build the input prompt for sentiment analysis\n",
        "def build_input_prompt(review):\n",
        "    user_content = f\"\"\"Classify the sentiment of the following movie review as either 'positive' or 'negative' provide only one of those two choices:\n",
        "    <review>{review}</review>\"\"\"\n",
        "    return [{\"role\": \"user\", \"content\": [{\"text\": user_content}]}]\n",
        "\n",
        "# Define the evaluation data\n",
        "eval = [\n",
        "    {\n",
        "        \"review\": \"This movie was amazing! The acting was superb and the plot kept me engaged from start to finish.\",\n",
        "        \"golden_answer\": \"positive\"\n",
        "    },\n",
        "    {\n",
        "        \"review\": \"I was thoroughly disappointed by this film. The pacing was slow and the characters were one-dimensional.\",\n",
        "        \"golden_answer\": \"negative\"\n",
        "    }\n",
        "]\n",
        "\n",
        "# Function to get completions from the model\n",
        "bedrock_client = boto3.client(service_name='bedrock-runtime', region_name=region)\n",
        "\n",
        "def get_completion(messages, system_prompt=None):\n",
        "    inference_config = {\n",
        "        \"temperature\": 0.5,\n",
        "        \"maxTokens\": 200\n",
        "    }\n",
        "    additional_model_fields = {\n",
        "        \"top_p\": 1\n",
        "    }\n",
        "    converse_api_params = {\n",
        "        \"modelId\": modelId,\n",
        "        \"messages\": messages,\n",
        "        \"inferenceConfig\": inference_config,\n",
        "        \"additionalModelRequestFields\": additional_model_fields\n",
        "    }\n",
        "    if system_prompt:\n",
        "        converse_api_params[\"system\"] = [{\"text\": system_prompt}]\n",
        "    try:\n",
        "        response = bedrock_client.converse(**converse_api_params)\n",
        "        text_content = response['output']['message']['content'][0]['text']\n",
        "        return text_content\n",
        "\n",
        "    except ClientError as err:\n",
        "        message = err.response['Error']['Message']\n",
        "        print(f\"A client error occured: {message}\")\n",
        "\n",
        "# Get completions for each input\n",
        "outputs = [get_completion(build_input_prompt(item[\"review\"])) for item in eval]\n",
        "\n",
        "# Print the outputs and golden answers\n",
        "for output, question in zip(outputs, eval):\n",
        "    print(f\"Review: {question['review']}\\nGolden Answer: {question['golden_answer']}\\nOutput: {output}\\n\")\n",
        "\n",
        "# Function to grade the completions\n",
        "def grade_completion(output, golden_answer):\n",
        "    return output.lower() == golden_answer.lower()\n",
        "\n",
        "# Grade the completions and print the accuracy\n",
        "grades = [grade_completion(output, item[\"golden_answer\"]) for output, item in zip(outputs, eval)]\n",
        "print(f\"Accuracy: {sum(grades) / len(grades) * 100}%\")"
      ]
    },
    {
      "cell_type": "markdown",
      "metadata": {},
      "source": [
        "## \uc778\uac04 \ud3c9\uac00 \uc608\uc2dc: \uc5d0\uc138\uc774 \ucc44\uc810\n",
        "\n",
        "\uc5d0\uc138\uc774 \ucc44\uc810\uacfc \uac19\uc740 \uc77c\ubd80 \uc791\uc5c5\uc740 \ucf54\ub4dc\ub9cc\uc73c\ub85c \ud3c9\uac00\ud558\uae30 \uc5b4\ub835\uc2b5\ub2c8\ub2e4. \uc774 \uacbd\uc6b0 \uc778\uac04 \ud3c9\uac00\uc790\uc5d0\uac8c \ubaa8\ub378 \ucd9c\ub825\uc744 \ud3c9\uac00\ud558\uae30 \uc704\ud55c \uc9c0\uce68\uc744 \uc81c\uacf5\ud560 \uc218 \uc788\uc2b5\ub2c8\ub2e4."
      ]
    },
    {
      "cell_type": "code",
      "execution_count": null,
      "metadata": {
        "tags": []
      },
      "outputs": [],
      "source": [
        "# Function to build the input prompt for essay generation\n",
        "def build_input_prompt(topic):\n",
        "    user_content = f\"\"\"Write a short essay discussing the following topic:\n",
        "    <topic>{topic}</topic>\"\"\"\n",
        "    return [{\"role\": \"user\", \"content\": [{\"text\": user_content}]}]\n",
        "\n",
        "# Define the evaluation data\n",
        "eval = [\n",
        "    {\n",
        "        \"topic\": \"The importance of education in personal development and societal progress\",\n",
        "        \"golden_answer\": \"A high-scoring essay should have a clear thesis, well-structured paragraphs, and persuasive examples discussing how education contributes to individual growth and broader societal advancement.\"\n",
        "    }\n",
        "]\n",
        "\n",
        "# Get completions for each input\n",
        "outputs = [get_completion(build_input_prompt(item[\"topic\"])) for item in eval]\n",
        "\n",
        "# Print the outputs and golden answers\n",
        "for output, item in zip(outputs, eval):\n",
        "    print(f\"Topic: {item['topic']}\\n\\nGrading Rubric:\\n {item['golden_answer']}\\n\\nModel Output:\\n{output}\\n\")"
      ]
    },
    {
      "cell_type": "markdown",
      "metadata": {},
      "source": [
        "## \ubaa8\ub378 \uae30\ubc18 \ud3c9\uac00 \uc608\uc2dc\n",
        "\n",
        "Claude\uc5d0\uac8c \ubaa8\ub378\uc758 \uc751\ub2f5\uacfc \ud3c9\uac00 \uae30\uc900\uc744 \uc81c\uacf5\ud558\uc5ec \uc790\uccb4 \ucd9c\ub825\uc744 \ud3c9\uac00\ud558\ub3c4\ub85d \ud560 \uc218 \uc788\uc2b5\ub2c8\ub2e4. \uc774\ub97c \ud1b5\ud574 \uc77c\ubc18\uc801\uc73c\ub85c \uc778\uac04\uc758 \ud310\ub2e8\uc774 \ud544\uc694\ud55c \uc791\uc5c5\uc744 \uc790\ub3d9\ud654\ud560 \uc218 \uc788\uc2b5\ub2c8\ub2e4."
      ]
    },
    {
      "cell_type": "markdown",
      "metadata": {},
      "source": [
        "### \uc608\uc2dc 1: \uc694\uc57d\n",
        "\n",
        "\uc774 \uc608\uc2dc\uc5d0\uc11c\ub294 Claude\ub97c \uc0ac\uc6a9\ud558\uc5ec \uc0dd\uc131\ud55c \uc694\uc57d\uc758 \ud488\uc9c8\uc744 \ud3c9\uac00\ud560 \uac83\uc785\ub2c8\ub2e4. \ubaa8\ub378\uc774 \uae34 \ud14d\uc2a4\ud2b8\uc5d0\uc11c \ud575\uc2ec \uc815\ubcf4\ub97c \uac04\uacb0\ud558\uace0 \uc815\ud655\ud558\uac8c \ud3ec\ucc29\ud558\ub294 \ub2a5\ub825\uc744 \ud3c9\uac00\ud560 \ub54c \uc720\uc6a9\ud560 \uc218 \uc788\uc2b5\ub2c8\ub2e4. \ud3ec\ud568\ub418\uc5b4\uc57c \ud560 \ud575\uc2ec \ub0b4\uc6a9\uc744 \uac1c\uad04\ud55c \uae30\uc900\uc744 \uc81c\uacf5\ud568\uc73c\ub85c\uc368 \ud3c9\uac00 \uacfc\uc815\uc744 \uc790\ub3d9\ud654\ud558\uace0 \uc694\uc57d \uc791\uc5c5\uc5d0 \ub300\ud55c \ubaa8\ub378\uc758 \uc131\ub2a5\uc744 \uc2e0\uc18d\ud558\uac8c \ud3c9\uac00\ud560 \uc218 \uc788\uc2b5\ub2c8\ub2e4."
      ]
    },
    {
      "cell_type": "code",
      "execution_count": null,
      "metadata": {
        "tags": []
      },
      "outputs": [],
      "source": [
        "# Function to build the input prompt for summarization\n",
        "def build_input_prompt(text):\n",
        "    user_content = f\"\"\"Please summarize the main points of the following text:\n",
        "    <text>{text}</text>\"\"\"\n",
        "    return [{\"role\": \"user\", \"content\": [{\"text\": user_content}]}]\n",
        "\n",
        "# Function to build the grader prompt for assessing summary quality\n",
        "def build_grader_prompt(output, rubric):\n",
        "    user_content = f\"\"\"Assess the quality of the following summary based on this rubric:\n",
        "    <rubric>{rubric}</rubric>\n",
        "    <summary>{output}</summary>\n",
        "    Provide a score from 1-5, where 1 is poor and 5 is excellent.\"\"\"\n",
        "    return [{\"role\": \"user\", \"content\": [{\"text\": user_content}]}]\n",
        "\n",
        "# Define the evaluation data\n",
        "eval = [\n",
        "    {\n",
        "        \"text\": \"The Magna Carta, signed in 1215, was a pivotal document in English history. It limited the powers of the monarchy and established the principle that everyone, including the king, was subject to the law. This laid the foundation for constitutional governance and the rule of law in England and influenced legal systems worldwide.\",\n",
        "        \"golden_answer\": \"A high-quality summary should concisely capture the key points: 1) The Magna Carta's significance in English history, 2) Its role in limiting monarchical power, 3) Establishing the principle of rule of law, and 4) Its influence on legal systems around the world.\"\n",
        "    }\n",
        "]\n",
        "\n",
        "# Get completions for each input\n",
        "outputs = [get_completion(build_input_prompt(item[\"text\"])) for item in eval]\n",
        "\n",
        "# Grade the completions\n",
        "grades = [get_completion(build_grader_prompt(output, item[\"golden_answer\"])) for output, item in zip(outputs, eval)]\n",
        "\n",
        "# Print the summary quality score\n",
        "print(f\"Summary quality score: {grades[0]}\")"
      ]
    },
    {
      "cell_type": "markdown",
      "metadata": {},
      "source": [
        "### \uc608\uc2dc 2: \uc0ac\uc2e4 \ud655\uc778\n",
        "\n",
        "\uc774 \uc608\uc2dc\uc5d0\uc11c\ub294 Claude\uc5d0\uac8c \uc8fc\uc7a5\uc744 \uc0ac\uc2e4 \ud655\uc778\ud558\uac8c \ud55c \ub2e4\uc74c \uadf8 \uc815\ud655\uc131\uc744 \ud3c9\uac00\ud560 \uac83\uc785\ub2c8\ub2e4. \ubaa8\ub378\uc774 \uc815\ud655\ud55c \uc815\ubcf4\uc640 \ubd80\uc815\ud655\ud55c \uc815\ubcf4\ub97c \uad6c\ubd84\ud558\ub294 \ub2a5\ub825\uc744 \ud3c9\uac00\ud560 \ub54c \uc720\uc6a9\ud560 \uc218 \uc788\uc2b5\ub2c8\ub2e4. \uc62c\ubc14\ub978 \uc0ac\uc2e4 \ud655\uc778\uc5d0 \ud3ec\ud568\ub418\uc5b4\uc57c \ud560 \ud575\uc2ec \ub0b4\uc6a9\uc744 \uac1c\uad04\ud55c \uae30\uc900\uc744 \uc81c\uacf5\ud568\uc73c\ub85c\uc368 \ud3c9\uac00 \uacfc\uc815\uc744 \uc790\ub3d9\ud654\ud558\uace0 \uc0ac\uc2e4 \ud655\uc778 \uc791\uc5c5\uc5d0 \ub300\ud55c \ubaa8\ub378\uc758 \uc131\ub2a5\uc744 \uc2e0\uc18d\ud558\uac8c \ud3c9\uac00\ud560 \uc218 \uc788\uc2b5\ub2c8\ub2e4."
      ]
    },
    {
      "cell_type": "code",
      "execution_count": null,
      "metadata": {
        "tags": []
      },
      "outputs": [],
      "source": [
        "# Function to build the input prompt for fact-checking\n",
        "def build_input_prompt(claim):\n",
        "    user_content = f\"\"\"Determine if the following claim is true or false:\n",
        "    <claim>{claim}</claim>\"\"\"\n",
        "    return [{\"role\": \"user\", \"content\": [{\"text\": user_content}]}]\n",
        "\n",
        "# Function to build the grader prompt for assessing fact-check accuracy\n",
        "def build_grader_prompt(output, rubric):\n",
        "    user_content = f\"\"\"Based on the following rubric, assess whether the fact-check is correct:\n",
        "    <rubric>{rubric}</rubric>\n",
        "    <fact-check>{output}</fact-check>\"\"\"\n",
        "    return [{\"role\": \"user\", \"content\": [{\"text\": user_content}]}]\n",
        "\n",
        "# Define the evaluation data\n",
        "eval = [\n",
        "    {\n",
        "        \"claim\": \"The Great Wall of China is visible from space.\",\n",
        "        \"golden_answer\": \"A correct fact-check should state that this claim is false. While the Great Wall is an impressive structure, it is not visible from space with the naked eye.\"\n",
        "    }\n",
        "]\n",
        "\n",
        "# Get completions for each input\n",
        "outputs = [get_completion(build_input_prompt(item[\"claim\"])) for item in eval]\n",
        "\n",
        "grades = []\n",
        "for output, item in zip(outputs, eval):\n",
        "    # Print the claim, fact-check, and rubric\n",
        "    print(f\"Claim: {item['claim']}\\n\")\n",
        "    print(f\"Fact-check: {output}]\\n\")\n",
        "    print(f\"Rubric: {item['golden_answer']}\\n\")\n",
        "    \n",
        "    # Grade the fact-check\n",
        "    grader_prompt = build_grader_prompt(output, item[\"golden_answer\"])\n",
        "    grade = get_completion(grader_prompt)\n",
        "    grades.append(\"correct\" in grade.lower())\n",
        "\n",
        "# Print the fact-checking accuracy\n",
        "accuracy = sum(grades) / len(grades)\n",
        "print(f\"Fact-checking accuracy: {accuracy * 100}%\")"
      ]
    },
    {
      "cell_type": "markdown",
      "metadata": {},
      "source": [
        "### \uc608\uc2dc 3: \ud1a4 \ubd84\uc11d\n",
        "\n",
        "\uc774 \uc608\uc2dc\uc5d0\uc11c\ub294 Claude\uc5d0\uac8c \uc8fc\uc5b4\uc9c4 \ud14d\uc2a4\ud2b8\uc758 \ud1a4\uc744 \ubd84\uc11d\ud558\uac8c \ud55c \ub2e4\uc74c \uadf8 \ubd84\uc11d\uc758 \uc815\ud655\uc131\uc744 \ud3c9\uac00\ud560 \uac83\uc785\ub2c8\ub2e4. \ubaa8\ub378\uc774 \ud14d\uc2a4\ud2b8\uc5d0 \ud45c\ud604\ub41c \uac10\uc815\uc801 \ub0b4\uc6a9\uacfc \ud0dc\ub3c4\ub97c \uc2dd\ubcc4\ud558\uace0 \ud574\uc11d\ud558\ub294 \ub2a5\ub825\uc744 \ud3c9\uac00\ud560 \ub54c \uc720\uc6a9\ud560 \uc218 \uc788\uc2b5\ub2c8\ub2e4. \uc2dd\ubcc4\ub418\uc5b4\uc57c \ud560 \ud1a4\uc758 \ud575\uc2ec \uce21\uba74\uc744 \uac1c\uad04\ud55c \uae30\uc900\uc744 \uc81c\uacf5\ud568\uc73c\ub85c\uc368 \ud3c9\uac00 \uacfc\uc815\uc744 \uc790\ub3d9\ud654\ud558\uace0 \ud1a4 \ubd84\uc11d \uc791\uc5c5\uc5d0 \ub300\ud55c \ubaa8\ub378\uc758 \uc131\ub2a5\uc744 \uc2e0\uc18d\ud558\uac8c \ud3c9\uac00\ud560 \uc218 \uc788\uc2b5\ub2c8\ub2e4."
      ]
    },
    {
      "cell_type": "code",
      "execution_count": null,
      "metadata": {
        "tags": []
      },
      "outputs": [],
      "source": [
        "# Function to build the input prompt for tone analysis\n",
        "def build_input_prompt(text):\n",
        "    user_content = f\"\"\"Analyze the tone of the following text:\n",
        "    <text>{text}</text>\"\"\"\n",
        "    return [{\"role\": \"user\", \"content\": [{\"text\": user_content}]}]\n",
        "\n",
        "# Function to build the grader prompt for assessing tone analysis accuracy\n",
        "def build_grader_prompt(output, rubric):\n",
        "    user_content = f\"\"\"Assess the accuracy of the following tone analysis based on this rubric:\n",
        "    <rubric>{rubric}</rubric>\n",
        "    <tone-analysis>{output}</tone-analysis>\"\"\"\n",
        "    return [{\"role\": \"user\", \"content\": [{\"text\": user_content}]}]\n",
        "\n",
        "# Define the evaluation data\n",
        "eval = [\n",
        "    {\n",
        "        \"text\": \"I can't believe they canceled the event at the last minute. This is completely unacceptable and unprofessional!\",\n",
        "        \"golden_answer\": \"The tone analysis should identify the text as expressing frustration, anger, and disappointment. Key words like 'can't believe', 'last minute', 'unacceptable', and 'unprofessional' indicate strong negative emotions.\"\n",
        "    }\n",
        "]\n",
        "\n",
        "# Get completions for each input\n",
        "outputs = [get_completion(build_input_prompt(item[\"text\"])) for item in eval]\n",
        "\n",
        "# Grade the completions\n",
        "grades = [get_completion(build_grader_prompt(output, item[\"golden_answer\"])) for output, item in zip(outputs, eval)]\n",
        "\n",
        "# Print the tone analysis quality\n",
        "print(f\"Tone analysis quality: {grades[0]}\")"
      ]
    },
    {
      "cell_type": "markdown",
      "metadata": {},
      "source": [
        "\uc774\ub7ec\ud55c \uc608\uc2dc\ub294 \ucf54\ub4dc \uae30\ubc18, \uc778\uac04 \uae30\ubc18, \ubaa8\ub378 \uae30\ubc18 \ud3c9\uac00\uac00 Claude\uc640 \uac19\uc740 AI \ubaa8\ub378\uc744 \ub2e4\uc591\ud55c \uc791\uc5c5\uc5d0 \ub300\ud574 \ud3c9\uac00\ud558\ub294 \ub370 \uc0ac\uc6a9\ub420 \uc218 \uc788\uc74c\uc744 \ubcf4\uc5ec\uc90d\ub2c8\ub2e4. \ud3c9\uac00 \ubc29\ubc95\uc758 \uc120\ud0dd\uc740 \uc791\uc5c5\uc758 \uc131\uaca9\uacfc \uac00\uc6a9 \uc790\uc6d0\uc5d0 \ub530\ub77c \ub2ec\ub77c\uc9d1\ub2c8\ub2e4. \ubaa8\ub378 \uae30\ubc18 \ud3c9\uac00\ub294 \uc77c\ubc18\uc801\uc73c\ub85c \uc778\uac04\uc758 \ud310\ub2e8\uc774 \ud544\uc694\ud55c \ubcf5\uc7a1\ud55c \uc791\uc5c5\uc758 \ud3c9\uac00\ub97c \uc790\ub3d9\ud654\ud560 \uc218 \uc788\ub294 \uc720\ub9dd\ud55c \uc811\uadfc \ubc29\uc2dd\uc785\ub2c8\ub2e4."
      ]
    }
  ],
  "metadata": {
    "kernelspec": {
      "display_name": "",
      "name": ""
    },
    "language_info": {
      "codemirror_mode": {
        "name": "ipython",
        "version": 3
      },
      "file_extension": ".py",
      "mimetype": "text/x-python",
      "name": "python",
      "nbconvert_exporter": "python",
      "pygments_lexer": "ipython3",
      "version": "3.10.14"
    }
  },
  "nbformat": 4,
  "nbformat_minor": 4
}