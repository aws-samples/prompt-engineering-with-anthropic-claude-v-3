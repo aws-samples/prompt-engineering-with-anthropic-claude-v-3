{
  "cells": [
    {
      "cell_type": "markdown",
      "metadata": {},
      "source": [
        "# \ubd80\ub85d 10.4.3: \ucc28\ud2b8, \uadf8\ub798\ud504 \ubc0f \uc2ac\ub77c\uc774\ub4dc \ub370\ud06c \uc791\uc5c5\n",
        "Claude\ub294 \ucc28\ud2b8, \uadf8\ub798\ud504 \ubc0f \ub354 \ub113\uc740 \uc2ac\ub77c\uc774\ub4dc \ub370\ud06c\ub97c \uc791\uc5c5\ud558\ub294 \ub370 \ub9e4\uc6b0 \ub2a5\uc219\ud569\ub2c8\ub2e4. \uc0ac\uc6a9 \uc0ac\ub840\uc5d0 \ub530\ub77c \ud65c\uc6a9\ud560 \uc218 \uc788\ub294 \ub2e4\uc591\ud55c \ud301\uacfc \uc694\ub839\uc774 \uc788\uc2b5\ub2c8\ub2e4. \uc774 \ub808\uc2dc\ud53c\uc5d0\uc11c\ub294 \uc774\ub7ec\ud55c \uc790\ub8cc\uc640 \ud568\uaed8 Claude\ub97c \uc0ac\uc6a9\ud558\ub294 \uc77c\ubc18\uc801\uc778 \ud328\ud134\uc744 \ubcf4\uc5ec\uc90d\ub2c8\ub2e4."
      ]
    },
    {
      "cell_type": "markdown",
      "metadata": {},
      "source": [
        "## \ucc28\ud2b8 \ubc0f \uadf8\ub798\ud504\n",
        "\ub300\ubd80\ubd84\uc758 \uacbd\uc6b0 Claude\ub97c \ucc28\ud2b8\uc640 \uadf8\ub798\ud504\uc5d0 \uc0ac\uc6a9\ud558\ub294 \uac83\uc740 \uac04\ub2e8\ud569\ub2c8\ub2e4. \uc774\ub4e4\uc744 \uc218\uc6a9\ud558\uace0 Claude\uc5d0 \uc804\ub2ec\ud558\ub294 \ubc29\ubc95\uacfc \uacb0\uacfc\ub97c \uac1c\uc120\ud558\uae30 \uc704\ud55c \uc77c\ubc18\uc801\uc778 \ud301\uc744 \uc0b4\ud3b4\ubcf4\uaca0\uc2b5\ub2c8\ub2e4."
      ]
    },
    {
      "cell_type": "markdown",
      "metadata": {},
      "source": [
        "### \uc218\uc6a9 \ubc0f Claude API \ud638\ucd9c\n",
        "Claude\uc5d0 \ucc28\ud2b8\uc640 \uadf8\ub798\ud504\ub97c \uc804\ub2ec\ud558\ub294 \uac00\uc7a5 \uc88b\uc740 \ubc29\ubc95\uc740 \ube44\uc804 \uae30\ub2a5\uc744 \ud65c\uc6a9\ud558\ub294 \uac83\uc785\ub2c8\ub2e4. \uc989, \ucc28\ud2b8\ub098 \uadf8\ub798\ud504\uc758 \uc774\ubbf8\uc9c0\uc640 \ud568\uaed8 \uc774\uc5d0 \ub300\ud55c \ud14d\uc2a4\ud2b8 \uc9c8\ubb38\uc744 Claude\uc5d0\uac8c \uc81c\uacf5\ud569\ub2c8\ub2e4. \ubaa8\ub4e0 \ubc84\uc804\uc758 Claude\uac00 \uc774\ubbf8\uc9c0\ub97c \uc218\uc6a9\ud560 \uc218 \uc788\uc9c0\ub9cc, Sonnet\uacfc Opus\ub294 \ub370\uc774\ud130 \uc911\uc2ec \uc774\ubbf8\uc9c0 \uc791\uc5c5\uc5d0 \uad8c\uc7a5\ub418\ub294 \ubaa8\ub378\uc785\ub2c8\ub2e4. Sonnet\uc744 \uc0ac\uc6a9\ud558\uc5ec \uc2dc\uc791\ud574 \ubcf4\uaca0\uc2b5\ub2c8\ub2e4."
      ]
    },
    {
      "cell_type": "code",
      "execution_count": null,
      "metadata": {},
      "outputs": [],
      "source": [
        "pip install -qUr requirements.txt"
      ]
    },
    {
      "cell_type": "code",
      "execution_count": null,
      "metadata": {},
      "outputs": [],
      "source": [
        "import boto3\n",
        "import json\n",
        "import base64\n",
        "from datetime import datetime\n",
        "from IPython.display import Image\n",
        "from botocore.exceptions import ClientError\n",
        "\n",
        "session = boto3.Session()\n",
        "region = session.region_name\n",
        "\n",
        "#modelId = 'anthropic.claude-3-sonnet-20240229-v1:0'\n",
        "modelId = 'anthropic.claude-3-haiku-20240307-v1:0'\n",
        "\n",
        "print(f'Using modelId: {modelId}')\n",
        "print('Using region: ', region)\n",
        "\n",
        "bedrock_client = boto3.client(service_name = 'bedrock-runtime', region_name = region,)"
      ]
    },
    {
      "cell_type": "code",
      "execution_count": null,
      "metadata": {},
      "outputs": [],
      "source": [
        "def get_completion(messages):\n",
        "    converse_api_params = {\n",
        "        \"modelId\": modelId,\n",
        "        \"messages\": messages,\n",
        "    }\n",
        "    response = bedrock_client.converse(**converse_api_params)\n",
        "    # Extract the generated text content from the response\n",
        "    return response['output']['message']['content'][0]['text']"
      ]
    },
    {
      "cell_type": "code",
      "execution_count": null,
      "metadata": {},
      "outputs": [],
      "source": [
        "# To start, we'll need an image. We will be using the .png image located at cvna_2021_annual_report_image.png.\n",
        "# Start by reading in the image and encoding it as base64.\n",
        "with open(\"./images/reading_charts_graphs/cvna_2021_annual_report_image.png\", \"rb\") as f:\n",
        "    image_file = f.read()\n",
        "\n",
        "# Let's also see the image for ourself\n",
        "Image(filename='./images/reading_charts_graphs/cvna_2021_annual_report_image.png') "
      ]
    },
    {
      "cell_type": "markdown",
      "metadata": {},
      "source": [
        "\uc774 \uc774\ubbf8\uc9c0\ub97c \uac04\ub2e8\ud55c \uc9c8\ubb38\uacfc \ud568\uaed8 \ubaa8\ub378\uc5d0 \uc804\ub2ec\ud558\ub294 \ubc29\ubc95\uc744 \uc0b4\ud3b4\ubcf4\uaca0\uc2b5\ub2c8\ub2e4."
      ]
    },
    {
      "cell_type": "code",
      "execution_count": null,
      "metadata": {},
      "outputs": [],
      "source": [
        "messages = [\n",
        "    {\n",
        "        \"role\": 'user',\n",
        "        \"content\": [\n",
        "            {\"text\": \"What's in this image? Answer in a single sentence.\"},\n",
        "            {\"image\": {\n",
        "                \"format\": 'png',\n",
        "                \"source\": {\"bytes\": image_file }\n",
        "                },\n",
        "            }\n",
        "        ]\n",
        "    }\n",
        "]\n",
        "\n",
        "print(get_completion(messages))"
      ]
    },
    {
      "cell_type": "markdown",
      "metadata": {},
      "source": [
        "\uaf64 \uad1c\ucc2e\ub124\uc694! \uc774\uc81c \ub354 \uc720\uc6a9\ud55c \uc9c8\ubb38\uc744 \ud574\ubd05\uc2dc\ub2e4."
      ]
    },
    {
      "cell_type": "code",
      "execution_count": null,
      "metadata": {
        "tags": []
      },
      "outputs": [],
      "source": [
        "questions = [\n",
        "    \"What was CVNA revenue in 2020?\",\n",
        "    \"How many additional markets has Carvana added since 2014?\",\n",
        "    \"What was 2016 revenue per retail unit sold?\"\n",
        "]\n",
        "\n",
        "for index, question in enumerate(questions):\n",
        "    messages = [\n",
        "        {\n",
        "            \"role\": 'user',\n",
        "            \"content\": [\n",
        "                {\"text\": \"What's in this image? Answer in a single sentence.\"},\n",
        "                {\"image\": {\n",
        "                    \"format\": 'png',\n",
        "                    \"source\": {\"bytes\": image_file }\n",
        "                    },\n",
        "                }\n",
        "            ]\n",
        "        }\n",
        "    ]\n",
        "    \n",
        "    print(f\"\\n----------Question {index+1}----------\")\n",
        "    print(get_completion(messages))"
      ]
    },
    {
      "cell_type": "markdown",
      "metadata": {},
      "source": [
        "\ubcf4\uc2dc\ub2e4\uc2dc\ud53c Claude\ub294 \ucc28\ud2b8\uc640 \uadf8\ub798\ud504\uc5d0 \ub300\ud574 \uc0c1\ub2f9\ud788 \uad6c\uccb4\uc801\uc778 \uc9c8\ubb38\uc5d0 \ub2f5\ud560 \uc218 \uc788\uc2b5\ub2c8\ub2e4. \uadf8\ub7ec\ub098 \uc774\ub97c \ucd5c\ub300\ud55c \ud65c\uc6a9\ud558\uae30 \uc704\ud55c \ud301\uacfc \uc694\ub839\uc774 \uc788\uc2b5\ub2c8\ub2e4.\n",
        "- \ub54c\ub54c\ub85c Claude\uc758 \uc0b0\uc220 \ub2a5\ub825\uc774 \ubc29\ud574\uac00 \ub429\ub2c8\ub2e4. \uc704\uc758 \uc138 \ubc88\uc9f8 \uc9c8\ubb38\uc744 \uc0d8\ud50c\ub9c1\ud558\uba74 \uc0b0\uc220 \uacc4\uc0b0\uc744 \uc798\ubabb\ud558\uc5ec \ucd5c\uc885 \ub2f5\ubcc0\uc774 \uc798\ubabb\ub41c \uacbd\uc6b0\uac00 \uc788\uc74c\uc744 \uc54c \uc218 \uc788\uc2b5\ub2c8\ub2e4. Claude\uc5d0\uac8c \uacc4\uc0b0\uae30 \ub3c4\uad6c\ub97c \uc81c\uacf5\ud558\uc5ec \uc774\ub7ec\ud55c \uc2e4\uc218\ub97c \ubc29\uc9c0\ud558\ub294 \uac83\uc774 \uc88b\uc2b5\ub2c8\ub2e4.\n",
        "- \ub9e4\uc6b0 \ubcf5\uc7a1\ud55c \ucc28\ud2b8\uc640 \uadf8\ub798\ud504\uc758 \uacbd\uc6b0, Claude\uc5d0\uac8c \"\uba3c\uc800 \uc774\ubbf8\uc9c0\uc5d0\uc11c \ubcf4\uc774\ub294 \ubaa8\ub4e0 \ub370\uc774\ud130 \ud3ec\uc778\ud2b8\ub97c \uc124\uba85\ud558\ub77c\"\uace0 \uc694\uccad\ud558\uba74 \uc804\ud1b5\uc801\uc778 \uc0ac\uace0 \uc5f0\uc1c4(Chain of Thought)\uc5d0\uc11c \ubcf8 \uac83\uacfc \uc720\uc0ac\ud55c \uac1c\uc120 \ud6a8\uacfc\ub97c \uc5bb\uc744 \uc218 \uc788\uc2b5\ub2c8\ub2e4.\n",
        "- Claude\ub294 \ub9ce\uc740 \uadf8\ub8f9\uc774 \uc788\ub294 \uadf8\ub8f9\ud654\ub41c \ub9c9\ub300 \ucc28\ud2b8\uc640 \uac19\uc774 \uc0c9\uc0c1\uc5d0 \ub9ce\uc774 \uc758\uc874\ud558\ub294 \ucc28\ud2b8\uc5d0\uc11c \uc5b4\ub824\uc6c0\uc744 \uacaa\uc744 \uc218 \uc788\uc2b5\ub2c8\ub2e4. Claude\uc5d0\uac8c \uba3c\uc800 \uadf8\ub798\ud504\uc758 \uc0c9\uc0c1\uc744 16\uc9c4\uc218 \ucf54\ub4dc\ub85c \uc2dd\ubcc4\ud558\ub3c4\ub85d \uc694\uccad\ud558\uba74 \uc815\ud655\ub3c4\uac00 \ub192\uc544\uc9d1\ub2c8\ub2e4."
      ]
    },
    {
      "cell_type": "markdown",
      "metadata": {},
      "source": [
        "## \uc2ac\ub77c\uc774\ub4dc \ub370\ud06c\n",
        "\uc774\uc81c Claude\uac00 \ucc28\ud2b8\uc640 \uadf8\ub798\ud504\uc758 \ub9c8\ubc95\uc0ac\uc784\uc744 \uc54c\uc558\uc73c\ub2c8, \ucc28\ud2b8\uc640 \uadf8\ub798\ud504\uc758 \uc9c4\uc815\ud55c \uace0\ud5a5\uc778 \uc2ac\ub77c\uc774\ub4dc \ub370\ud06c\ub85c \ud655\uc7a5\ud558\ub294 \uac83\uc774 \ub17c\ub9ac\uc801\uc785\ub2c8\ub2e4!\n",
        "\n",
        "\uc2ac\ub77c\uc774\ub4dc\ub294 \uae08\uc735 \uc11c\ube44\uc2a4\ub97c \ud3ec\ud568\ud55c \ub9ce\uc740 \ubd84\uc57c\uc5d0\uc11c \uc911\uc694\ud55c \uc815\ubcf4 \uc6d0\ucc9c\uc785\ub2c8\ub2e4. PyPDF\uc640 \uac19\uc740 \ud328\ud0a4\uc9c0\ub97c \uc0ac\uc6a9\ud558\uc5ec \uc2ac\ub77c\uc774\ub4dc \ub370\ud06c\uc5d0\uc11c \ud14d\uc2a4\ud2b8\ub97c \ucd94\ucd9c\ud560 \uc218\ub294 \uc788\uc9c0\ub9cc, \ucc28\ud2b8/\uadf8\ub798\ud504\uac00 \ub9ce\uc740 \ud2b9\uc131\uc0c1 \uc774\ub294 \uc88b\uc740 \uc120\ud0dd\uc774 \uc544\ub2d0 \uc218 \uc788\uc2b5\ub2c8\ub2e4. \ubaa8\ub378\uc774 \uc2e4\uc81c\ub85c \ud544\uc694\ud55c \uc815\ubcf4\uc5d0 \uc811\uadfc\ud558\uae30 \uc5b4\ub824\uc6b8 \uc218 \uc788\uae30 \ub54c\ubb38\uc785\ub2c8\ub2e4. \uacb0\uacfc\uc801\uc73c\ub85c \ube44\uc804\uc774 \ud6cc\ub96d\ud55c \ub300\uccb4\uc7ac\uac00 \ub420 \uc218 \uc788\uc2b5\ub2c8\ub2e4. \uc774 \uc139\uc158\uc5d0\uc11c\ub294 \ube44\uc804 Claude\ub97c \uc0ac\uc6a9\ud558\uc5ec \uc2ac\ub77c\uc774\ub4dc \ub370\ud06c\ub97c \uac80\ud1a0\ud558\ub294 \ubc29\ubc95\uacfc \uc774 \uc811\uadfc \ubc29\uc2dd\uc758 \uc77c\ubc18\uc801\uc778 \ubb38\uc81c\uc810\uc744 \ud574\uacb0\ud558\ub294 \ubc29\ubc95\uc5d0 \ub300\ud574 \uc0b4\ud3b4\ubcf4\uaca0\uc2b5\ub2c8\ub2e4."
      ]
    },
    {
      "cell_type": "markdown",
      "metadata": {},
      "source": [
        "\uc77c\ubc18\uc801\uc778 \uc2ac\ub77c\uc774\ub4dc \ub370\ud06c\ub97c Claude\uc5d0\uac8c \uc804\ub2ec\ud558\ub294 \uac00\uc7a5 \uc88b\uc740 \ubc29\ubc95\uc740 PDF\ub85c \ub2e4\uc6b4\ub85c\ub4dc\ud55c \ub2e4\uc74c \uac01 PDF \ud398\uc774\uc9c0\ub97c \uc774\ubbf8\uc9c0\ub85c \ubcc0\ud658\ud558\ub294 \uac83\uc785\ub2c8\ub2e4. \ub2e4\uc74c\uacfc \uac19\uc774 \uc218\ud589\ud560 \uc218 \uc788\uc2b5\ub2c8\ub2e4."
      ]
    },
    {
      "cell_type": "code",
      "execution_count": null,
      "metadata": {
        "tags": []
      },
      "outputs": [],
      "source": [
        "#%pip install PyMuPDF"
      ]
    },
    {
      "cell_type": "code",
      "execution_count": null,
      "metadata": {
        "tags": []
      },
      "outputs": [],
      "source": [
        "from PIL import Image\n",
        "import io\n",
        "import fitz\n",
        "\n",
        "def pdf_to_pngs(pdf_path, quality=75, max_size=(1024, 1024)):\n",
        "    \"\"\"\n",
        "    Converts a PDF file to a list of PNG images.\n",
        "\n",
        "    Args:\n",
        "        pdf_path (str): The path to the PDF file.\n",
        "        quality (int, optional): The quality of the output PNG images (default is 75).\n",
        "        max_size (tuple, optional): The maximum size of the output images (default is (1024, 1024)).\n",
        "\n",
        "    Returns:\n",
        "        list: A list of PNG images as bytes.\n",
        "    \"\"\"\n",
        "    # Open the PDF file\n",
        "    doc = fitz.open(pdf_path)\n",
        "    pdf_to_png_images = []\n",
        "\n",
        "    # Iterate through each page of the PDF\n",
        "    for page_num in range(doc.page_count):\n",
        "        # Load the page\n",
        "        page = doc.load_page(page_num)\n",
        "\n",
        "        # Render the page as a PNG image\n",
        "        pix = page.get_pixmap(matrix=fitz.Matrix(300/72, 300/72))\n",
        "\n",
        "        # Save the PNG image\n",
        "        output_path = f\"./images/reading_charts_graphs/slides/page_{page_num+1}.png\"\n",
        "        pix.save(output_path)\n",
        "\n",
        "        # Open the saved image using PIL\n",
        "        image = Image.open(output_path)\n",
        "\n",
        "        # Resize the image if it exceeds the maximum size\n",
        "        if image.size[0] > max_size[0] or image.size[1] > max_size[1]:\n",
        "            image.thumbnail(max_size, Image.Resampling.LANCZOS)\n",
        "\n",
        "        # Convert the PIL image to bytes\n",
        "        image_data = io.BytesIO()\n",
        "        image.save(image_data, format='PNG', optimize=True, quality=quality)\n",
        "        image_data.seek(0)\n",
        "        pdf_to_png_image = image_data.getvalue()\n",
        "\n",
        "        # Append the PNG image bytes to the list\n",
        "        pdf_to_png_images.append(pdf_to_png_image)\n",
        "\n",
        "    # Close the PDF document\n",
        "    doc.close()\n",
        "\n",
        "    return pdf_to_png_images\n",
        "\n",
        "# Specify the path to the PDF file\n",
        "pdf_path = './images/reading_charts_graphs/twilio_q4_2023.pdf'\n",
        "# Call the pdf_to_pngs function to convert the PDF to PNG images\n",
        "pdf_pngs = pdf_to_pngs(pdf_path)"
      ]
    },
    {
      "cell_type": "code",
      "execution_count": null,
      "metadata": {
        "tags": []
      },
      "outputs": [],
      "source": [
        "# Now let's pass the first 20 of these images (in order) to Claude at once and ask it a question about the deck. \n",
        "# Why 20? Currently, the Anthropic API only allows you to pass in a maximum of 20 images.\n",
        "# While this number will likely increase over time, we have some helpful tips for how to manage it later in this recipe.\n",
        "\n",
        "content = [{\"image\": {\"format\": 'png', \"source\": {\"bytes\": pdf_png}}} for pdf_png in pdf_pngs[:20]]\n",
        "\n",
        "question = \"What was Twilio y/y revenue growth for fiscal year 2023?\"\n",
        "#question = \"What was the non-GAAP gross margin?\"\n",
        "\n",
        "# Append the question to our images\n",
        "content.append({\"text\": question})\n",
        "\n",
        "messages = [\n",
        "    {\n",
        "        \"role\": 'user',\n",
        "        \"content\": content\n",
        "    }\n",
        "]\n",
        "\n",
        "print(get_completion(messages))"
      ]
    },
    {
      "cell_type": "markdown",
      "metadata": {},
      "source": [
        "\uc774 \uc811\uadfc \ubc29\uc2dd\uc740 \uc2dc\uc791\ud558\uae30\uc5d0 \uc88b\uc740 \ubc29\ubc95\uc774\uba70, \uc77c\ubd80 \uc0ac\uc6a9 \uc0ac\ub840\uc5d0\uc11c\ub294 \ucd5c\uace0\uc758 \uc131\ub2a5\uc744 \uc81c\uacf5\ud569\ub2c8\ub2e4. \uadf8\ub7ec\ub098 \uba87 \uac00\uc9c0 \uc81c\ud55c \uc0ac\ud56d\uc774 \uc788\uc2b5\ub2c8\ub2e4.\n",
        "- \ucd5c\ub300 20\uac1c\uc758 \uc774\ubbf8\uc9c0\ub9cc \ud3ec\ud568\ud560 \uc218 \uc788\uc2b5\ub2c8\ub2e4(\uc2dc\uac04\uc774 \uc9c0\ub098\uba74\uc11c \uc774 \uc81c\ud55c\uc744 \ub298\ub9b4 \uc608\uc815\uc785\ub2c8\ub2e4)\n",
        "- RAG\uc758 \uc77c\ubd80\ub85c \uc2ac\ub77c\uc774\ub4dc \ucf58\ud150\uce20\ub97c \uc0ac\uc6a9\ud558\ub294 \uacbd\uc6b0 \uc774\ubbf8\uc9c0\ub97c \uc784\ubca0\ub529\uc5d0 \ub3c4\uc785\ud558\uba74 \ubb38\uc81c\uac00 \ubc1c\uc0dd\ud560 \uc218 \uc788\uc2b5\ub2c8\ub2e4\n",
        "\n",
        "\ub2e4\ud589\ud788\ub3c4 Claude\uc758 \ube44\uc804 \uae30\ub2a5\uc744 \ud65c\uc6a9\ud558\uc5ec \uc77c\ubc18\uc801\uc778 PDF \uc804\uc0ac\ubcf4\ub2e4 \ud6e8\uc52c \ub354 \ub192\uc740 \ud488\uc9c8\uc758 \uc2ac\ub77c\uc774\ub4dc \ub371 **\ud14d\uc2a4\ud2b8 \ud615\uc2dd** \ud45c\ud604\uc744 \uc5bb\uc744 \uc218 \uc788\uc2b5\ub2c8\ub2e4.\n",
        "\n",
        "\uc774\ub97c \uc218\ud589\ud558\ub294 \uac00\uc7a5 \uc88b\uc740 \ubc29\ubc95\uc740 Claude\uc5d0\uac8c \uc2dc\uc791\ubd80\ud130 \ub05d\uae4c\uc9c0 \uc21c\ucc28\uc801\uc73c\ub85c \ub371\uc744 \uc124\uba85\ud558\ub3c4\ub85d \uc694\uccad\ud558\uace0, \ud604\uc7ac \uc2ac\ub77c\uc774\ub4dc\uc640 \uc774\uc804 \uc124\uba85\uc744 \uc804\ub2ec\ud558\ub294 \uac83\uc785\ub2c8\ub2e4. \uc5b4\ub5bb\uac8c \ud558\ub294\uc9c0 \uc0b4\ud3b4\ubcf4\uaca0\uc2b5\ub2c8\ub2e4."
      ]
    },
    {
      "cell_type": "code",
      "execution_count": null,
      "metadata": {
        "tags": []
      },
      "outputs": [],
      "source": [
        "# Define two functions that allow us to craft prompts for narrating our slide deck. We would adjut these prompts based on the nature of the deck, but keep the structure largely the same.\n",
        "def build_previous_slides_prompt(previous_slide_narratives):\n",
        "    prompt = '\\n'.join([f\"<slide_narration id={index+1}>\\n{narrative}\\n</slide_narration>\" for index, narrative in enumerate(previous_slide_narratives)])\n",
        "    return prompt\n",
        "\n",
        "def build_slides_narration_prompt(previous_slide_narratives):\n",
        "    if len(previous_slide_narratives) == 0:\n",
        "        prompt = \"\"\"You are the Twilio CFO, narrating your Q4 2023 earnings presentation.\n",
        "\n",
        "You are currently on slide 1, shown in the image.\n",
        "Please narrate this page from Twilio's Q4 2023 Earnings Presentation as if you were the presenter. Do not talk about any things, especially acronyms, if you are not exactly sure you know what they mean. Do not discuss anything not explicitly seen on this slide as there are more slides to narrate later that will likely cover that material.\n",
        "Do not leave any details un-narrated as some of your viewers are vision-impaired, so if you don't narrate every number they won't know the number.\n",
        "\n",
        "Put your narration in <narration> tags.\"\"\"\n",
        "\n",
        "    else:\n",
        "        prompt = f\"\"\"You are the Twilio CFO, narrating your Q4 2023 earnings presentation. So far, here is your narration from previous slides:\n",
        "<previous_slide_narrations>\n",
        "{build_previous_slides_prompt(previous_slide_narratives)}\n",
        "</previous_slide_narrations>\n",
        "\n",
        "You are currently on slide {len(previous_slide_narratives)+1}, shown in the image.\n",
        "Please narrate this page from Twilio's Q4 2023 Earnings Presentation as if you were the presenter, accounting for what you have already said on previous slides. Do not talk about any things, especially acronyms, if you are not exactly sure you know what they mean. Do not discuss anything not explicitly seen on this slide as there are more slides to narrate later that will likely cover that material.\n",
        "Do not leave any details un-narrated as some of your viewers are vision-impaired, so if you don't narrate every number they won't know the number.\n",
        "\n",
        "Use excruciating detail.\n",
        "\n",
        "Put your narration in <narration> tags.\"\"\"\n",
        "    \n",
        "    return prompt"
      ]
    },
    {
      "cell_type": "code",
      "execution_count": null,
      "metadata": {
        "tags": []
      },
      "outputs": [],
      "source": [
        "# Now we use our functions to narrate the entire deck. Note that this may take a few minutes to run (often up to 10).\n",
        "import re\n",
        "from tqdm import tqdm\n",
        "previous_slide_narratives = []\n",
        "for i, pdf_png in tqdm(enumerate(pdf_pngs)):\n",
        "    messages = [\n",
        "        {\n",
        "            \"role\": 'user',\n",
        "            \"content\": [\n",
        "                {\"text\": build_slides_narration_prompt(previous_slide_narratives)},\n",
        "                {\"image\": {\n",
        "                    \"format\": 'jpeg',\n",
        "                    \"source\": {\"bytes\": pdf_png }\n",
        "                    },\n",
        "                }\n",
        "            ]\n",
        "        }\n",
        "    ]\n",
        "    completion = get_completion(messages)\n",
        "\n",
        "\n",
        "    pattern = r\"<narration>(.*?)</narration>\"\n",
        "    match = re.search(pattern, completion.strip(), re.DOTALL)\n",
        "    if match:\n",
        "        narration = match.group(1)\n",
        "    else:\n",
        "        raise ValueError(\"No narration available.\")\n",
        "    \n",
        "    previous_slide_narratives.append(narration)\n",
        "    # If you want to see the narration we produced, uncomment the below line\n",
        "    # print(narration)\n",
        "\n",
        "slide_narration = build_previous_slides_prompt(previous_slide_narratives)"
      ]
    },
    {
      "cell_type": "markdown",
      "metadata": {},
      "source": [
        "\uc774\uc81c \ud14d\uc2a4\ud2b8 \uae30\ubc18 \uc124\uba85(\uc644\ubcbd\ud558\uc9c0\ub294 \uc54a\uc9c0\ub9cc \uaf64 \uad1c\ucc2e\uc2b5\ub2c8\ub2e4)\uc744 \uac00\uc9c0\uace0 \uc788\uc73c\ubbc0\ub85c \ubca1\ud130 \uac80\uc0c9\uc744 \ud3ec\ud568\ud558\uc5ec \ubaa8\ub4e0 \ud14d\uc2a4\ud2b8 \uc804\uc6a9 \uc6cc\ud06c\ud50c\ub85c\uc6b0\uc5d0\uc11c \uc774 \ub371\uc744 \uc0ac\uc6a9\ud560 \uc218 \uc788\uc2b5\ub2c8\ub2e4.\n",
        "\n",
        "\ub9c8\uc9c0\ub9c9\uc73c\ub85c \uc124\uba85\ub9cc\uc73c\ub85c \uad6c\uc131\ub41c \uc124\uc815\uc5d0 \uba87 \uac00\uc9c0 \uc9c8\ubb38\uc744 \ud574\ubcf4\uaca0\uc2b5\ub2c8\ub2e4!"
      ]
    },
    {
      "cell_type": "code",
      "execution_count": null,
      "metadata": {
        "tags": []
      },
      "outputs": [],
      "source": [
        "questions = [\n",
        "    \"What percentage of q4 total revenue was the Segment business line?\",\n",
        "    \"Has the rate of growth of quarterly revenue been increasing or decreasing? Give just an answer.\",\n",
        "    \"What was acquisition revenue for the year ended december 31, 2023 (including negative revenues)?\"\n",
        "]\n",
        "\n",
        "for index, question in enumerate(questions):\n",
        "    prompt = f\"\"\"You are an expert financial analyst analyzing a transcript of Twilio's earnings call.\n",
        "Here is the transcript:\n",
        "<transcript>\n",
        "{slide_narration}\n",
        "</transcript>\n",
        "\n",
        "Please answer the following question:\n",
        "<question>\n",
        "{question}\n",
        "</question>\"\"\"\n",
        "    messages = [\n",
        "        {\n",
        "            \"role\": 'user',\n",
        "            \"content\": [\n",
        "                {\"text\": prompt},\n",
        "            ]\n",
        "        }\n",
        "    ]\n",
        "\n",
        "    print(f\"\\n----------Question {index+1}----------\")\n",
        "    print(get_completion(messages))"
      ]
    },
    {
      "cell_type": "markdown",
      "metadata": {},
      "source": [
        "\uc88b\uc544 \ubcf4\uc785\ub2c8\ub2e4! \uc774\ub7ec\ud55c \uae30\uc220\uc744 \ud65c\uc6a9\ud558\uba74 \uc2ac\ub77c\uc774\ub4dc \ub371\uacfc \uac19\uc740 \ucc28\ud2b8 \ubc0f \uadf8\ub798\ud504\uac00 \ub9ce\uc774 \ud3ec\ud568\ub41c \ucf58\ud150\uce20\uc5d0 \ubaa8\ub378\uc744 \uc801\uc6a9\ud560 \uc900\ube44\uac00 \ub418\uc5c8\uc2b5\ub2c8\ub2e4."
      ]
    }
  ],
  "metadata": {
    "kernelspec": {
      "display_name": "conda_python3",
      "language": "python",
      "name": "conda_python3"
    },
    "language_info": {
      "codemirror_mode": {
        "name": "ipython",
        "version": 3
      },
      "file_extension": ".py",
      "mimetype": "text/x-python",
      "name": "python",
      "nbconvert_exporter": "python",
      "pygments_lexer": "ipython3",
      "version": "3.10.14"
    }
  },
  "nbformat": 4,
  "nbformat_minor": 4
}