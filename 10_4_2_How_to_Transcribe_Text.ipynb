{
  "cells": [
    {
      "cell_type": "markdown",
      "metadata": {},
      "source": [
        "# \ubd80\ub85d 10.4.2: Claude\ub85c \ubb38\uc11c\ub97c \uc804\uc0ac\ud558\ub294 \ubc29\ubc95\n",
        "\n",
        "Claude 3\ub294 \uad6c\uc870\ud654\ub418\uc9c0 \uc54a\uc740 \ud14d\uc2a4\ud2b8\uc640 \uc774\ubbf8\uc9c0 \ubc0f PDF \ub0b4\uc758 \uc815\ubcf4\ub97c \uc77d\uace0 \uad6c\uc870\ud654\ub41c \ud14d\uc2a4\ud2b8\ub85c \ubcc0\ud658\ud558\ub294 \ub370 \ub6f0\uc5b4\ub0a9\ub2c8\ub2e4. \uba87 \uac00\uc9c0 \uc608\ub97c \uc0b4\ud3b4\ubcf4\uaca0\uc9c0\ub9cc \uba3c\uc800 \ub178\ud2b8\ubd81\uc744 \uc2e4\ud589\ud558\ub294 \ub370 \ud544\uc694\ud55c \ucf54\ub4dc\ub97c \uc124\uc815\ud574 \ubcf4\uaca0\uc2b5\ub2c8\ub2e4."
      ]
    },
    {
      "cell_type": "code",
      "execution_count": null,
      "metadata": {
        "tags": []
      },
      "outputs": [],
      "source": [
        "pip install -qUr requirements.txt"
      ]
    },
    {
      "cell_type": "code",
      "execution_count": null,
      "metadata": {
        "tags": []
      },
      "outputs": [],
      "source": [
        "import boto3\n",
        "import json\n",
        "from datetime import datetime\n",
        "from IPython.display import Image\n",
        "from botocore.exceptions import ClientError\n",
        "\n",
        "session = boto3.Session()\n",
        "region = session.region_name"
      ]
    },
    {
      "cell_type": "code",
      "execution_count": null,
      "metadata": {
        "tags": []
      },
      "outputs": [],
      "source": [
        "modelId = 'anthropic.claude-3-sonnet-20240229-v1:0'\n",
        "#modelId = 'anthropic.claude-3-haiku-20240307-v1:0'\n",
        "\n",
        "print(f'Using modelId: {modelId}')\n",
        "print('Using region: ', region)\n",
        "\n",
        "bedrock_client = boto3.client(service_name = 'bedrock-runtime', region_name = region,)"
      ]
    },
    {
      "cell_type": "markdown",
      "metadata": {},
      "source": [
        "## \uc785\ub825\ub41c \ud14d\uc2a4\ud2b8 \uc804\uc0ac\ud558\uae30\n",
        "\n",
        "Claude 3\ub97c \uc0ac\uc6a9\ud558\uba74 Claude 3\uc758 \uace0\uae09 \ucd94\ub860 \uae30\ub2a5 \ub355\ubd84\uc5d0 \uc804\uc0ac\ud560 \ub0b4\uc6a9\uc744 \uc815\ud655\ud788 \uc9c0\uc815\ud560 \uc218 \uc788\ub2e4\ub294 \uc7a5\uc810\uc774 \uc788\uc2b5\ub2c8\ub2e4. \uc774 \uc774\ubbf8\uc9c0\uc758 \uacbd\uc6b0 \ub2f5\ubcc0\uc5d0 \uc788\ub294 \ucf54\ub4dc\ub9cc \uc804\uc0ac\ud574 \ubcf4\uaca0\uc2b5\ub2c8\ub2e4."
      ]
    },
    {
      "cell_type": "code",
      "execution_count": null,
      "metadata": {
        "tags": []
      },
      "outputs": [],
      "source": [
        "from IPython.display import Image\n",
        "Image(filename='./images/transcribe/stack_overflow.png')"
      ]
    },
    {
      "cell_type": "code",
      "execution_count": null,
      "metadata": {
        "tags": []
      },
      "outputs": [],
      "source": [
        "with open(\"./images/transcribe/stack_overflow.png\", \"rb\") as f:\n",
        "    image_file = f.read()\n",
        "\n",
        "messages = [\n",
        "    {\n",
        "        \"role\": 'user',\n",
        "        \"content\": [\n",
        "            {\"text\": \"Transcribe the code in the answer. Only output the code.\"},\n",
        "            {\"image\": {\n",
        "                \"format\": 'png',\n",
        "                \"source\": {\"bytes\": image_file }\n",
        "                },\n",
        "            }\n",
        "        ]\n",
        "    }\n",
        "]\n",
        "\n",
        "converse_api_params = {\n",
        "    \"modelId\": modelId,\n",
        "    \"messages\": messages,\n",
        "}\n",
        "\n",
        "response = bedrock_client.converse(**converse_api_params)\n",
        "\n",
        "# Extract the generated text content from the response\n",
        "output_message = response['output']['message']['content'][0]['text']\n",
        "\n",
        "# Return the generated text content\n",
        "print(output_message)"
      ]
    },
    {
      "cell_type": "markdown",
      "metadata": {},
      "source": [
        "## \ud544\uae30 \ud14d\uc2a4\ud2b8 \uc804\uc0ac\ud558\uae30\n",
        "\n",
        "\uc88b\uc2b5\ub2c8\ub2e4. \uadf8\ub807\ub2e4\uba74 \uc870\uae08 \ub354 \uc5b4\ub824\uc6b4 \uac83\uc744 \uc2dc\ub3c4\ud574 \ubcfc\uae4c\uc694. Claude 3\ub294 \ud544\uae30 \ud14d\uc2a4\ud2b8\ub97c \uc804\uc0ac\ud558\ub294 \ub370\ub3c4 \ub6f0\uc5b4\ub0a9\ub2c8\ub2e4. Claude 3\uc5d0\uac8c \uc774 \ud544\uae30 \ucc98\ubc29\uc804 \uba54\ubaa8\ub97c \uc804\uc0ac\ud558\ub3c4\ub85d \uc694\uccad\ud574 \ubcf4\uaca0\uc2b5\ub2c8\ub2e4."
      ]
    },
    {
      "cell_type": "code",
      "execution_count": null,
      "metadata": {
        "tags": []
      },
      "outputs": [],
      "source": [
        "Image(filename='./images/transcribe/school_notes.png')"
      ]
    },
    {
      "cell_type": "code",
      "execution_count": null,
      "metadata": {
        "tags": []
      },
      "outputs": [],
      "source": [
        "with open(\"./images/transcribe/school_notes.png\", \"rb\") as f:\n",
        "    image_file = f.read()\n",
        "\n",
        "messages = [\n",
        "    {\n",
        "        \"role\": 'user',\n",
        "        \"content\": [\n",
        "            {\"text\": \"Transcribe this text. Only output the text and nothing else.\"},\n",
        "            {\"image\": {\n",
        "                \"format\": 'png',\n",
        "                \"source\": {\"bytes\": image_file }\n",
        "                },\n",
        "            }\n",
        "        ]\n",
        "    }\n",
        "]\n",
        "\n",
        "converse_api_params = {\n",
        "    \"modelId\": modelId,\n",
        "    \"messages\": messages,\n",
        "}\n",
        "\n",
        "response = bedrock_client.converse(**converse_api_params)\n",
        "\n",
        "# Extract the generated text content from the response\n",
        "output_message = response['output']['message']['content'][0]['text']\n",
        "\n",
        "# Return the generated text content\n",
        "print(output_message)"
      ]
    },
    {
      "cell_type": "markdown",
      "metadata": {},
      "source": [
        "## \uc591\uc2dd \uc804\uc0ac\ud558\uae30\n",
        "\uc785\ub825\ub41c \ud14d\uc2a4\ud2b8\uc640 \ud544\uae30 \ud14d\uc2a4\ud2b8\uac00 \ud63c\ud569\ub41c \uacbd\uc6b0\ub294 \uc5b4\ub5a8\uae4c\uc694? \uc774\ub294 \ubcf4\ud5d8 \ubc0f \ubcf4\uace0\uc11c \uc591\uc2dd\uacfc \uac19\uc740 \ub2e4\uc591\ud55c \ubb38\uc11c\uc5d0\uc11c \ud754\ud788 \ubcfc \uc218 \uc788\uc2b5\ub2c8\ub2e4."
      ]
    },
    {
      "cell_type": "code",
      "execution_count": null,
      "metadata": {},
      "outputs": [],
      "source": [
        "Image(filename='./images/transcribe/vehicle_form.jpg') "
      ]
    },
    {
      "cell_type": "code",
      "execution_count": null,
      "metadata": {
        "tags": []
      },
      "outputs": [],
      "source": [
        "with open(\"./images/transcribe/vehicle_form.jpg\", \"rb\") as f:\n",
        "    image_file = f.read()\n",
        "\n",
        "messages = [\n",
        "    {\n",
        "        \"role\": 'user',\n",
        "        \"content\": [\n",
        "            {\"text\": \"Transcribe this form exactly.\"},\n",
        "            {\"image\": {\n",
        "                \"format\": 'jpeg',\n",
        "                \"source\": {\"bytes\": image_file }\n",
        "                },\n",
        "            }\n",
        "        ]\n",
        "    }\n",
        "]\n",
        "\n",
        "converse_api_params = {\n",
        "    \"modelId\": modelId,\n",
        "    \"messages\": messages,\n",
        "}\n",
        "\n",
        "response = bedrock_client.converse(**converse_api_params)\n",
        "\n",
        "# Extract the generated text content from the response\n",
        "output_message = response['output']['message']['content'][0]['text']\n",
        "\n",
        "# Return the generated text content\n",
        "print(output_message)"
      ]
    },
    {
      "cell_type": "markdown",
      "metadata": {},
      "source": [
        "## \ubcf5\uc7a1\ud55c \ubb38\uc11c QA\n",
        "Claude 3\ub97c \uc0ac\uc6a9\ud558\uba74 \ub2e8\uc21c\ud55c \uc804\uc0ac\ub97c \ub118\uc5b4 \uad6c\uc870\ud654\ub418\uc9c0 \uc54a\uc740 \ubb38\uc11c\uc5d0 \ub300\ud55c \ud2b9\uc815 \uc9c8\ubb38\uc744 \ud560 \uc218 \uc788\uc2b5\ub2c8\ub2e4. "
      ]
    },
    {
      "cell_type": "code",
      "execution_count": null,
      "metadata": {},
      "outputs": [],
      "source": [
        "Image(filename='./images/transcribe/page.jpeg') "
      ]
    },
    {
      "cell_type": "code",
      "execution_count": null,
      "metadata": {
        "tags": []
      },
      "outputs": [],
      "source": [
        "with open(\"./images/transcribe/page.jpeg\", \"rb\") as f:\n",
        "    image_file = f.read()\n",
        "\n",
        "messages = [\n",
        "    {\n",
        "        \"role\": 'user',\n",
        "        \"content\": [\n",
        "            {\"text\": \"Which is the most critical issue for live rep support?\"},\n",
        "            {\"image\": {\n",
        "                \"format\": 'jpeg',\n",
        "                \"source\": {\"bytes\": image_file }\n",
        "                },\n",
        "            }\n",
        "        ]\n",
        "    }\n",
        "]\n",
        "\n",
        "converse_api_params = {\n",
        "    \"modelId\": modelId,\n",
        "    \"messages\": messages,\n",
        "}\n",
        "\n",
        "response = bedrock_client.converse(**converse_api_params)\n",
        "\n",
        "# Extract the generated text content from the response\n",
        "output_message = response['output']['message']['content'][0]['text']\n",
        "\n",
        "# Return the generated text content\n",
        "print(output_message)"
      ]
    },
    {
      "cell_type": "markdown",
      "metadata": {},
      "source": [
        "## \uad6c\uc870\ud654\ub418\uc9c0 \uc54a\uc740 \uc815\ubcf4 -> JSON\n",
        "\n",
        "Claude\ub97c \uc0ac\uc6a9\ud558\uc5ec \uc774\ubbf8\uc9c0 \ub0b4\uc758 \uad6c\uc870\ud654\ub418\uc9c0 \uc54a\uc740 \uc815\ubcf4\ub97c \uad6c\uc870\ud654\ub41c JSON \ucd9c\ub825\uc73c\ub85c \ubcc0\ud658\ud558\ub294 \ubc29\ubc95\uc744 \uc0b4\ud3b4\ubcf4\uaca0\uc2b5\ub2c8\ub2e4."
      ]
    },
    {
      "cell_type": "code",
      "execution_count": null,
      "metadata": {},
      "outputs": [],
      "source": [
        "Image(filename='./images/transcribe/org_chart.jpeg') "
      ]
    },
    {
      "cell_type": "code",
      "execution_count": null,
      "metadata": {
        "tags": []
      },
      "outputs": [],
      "source": [
        "with open(\"./images/transcribe/org_chart.jpeg\", \"rb\") as f:\n",
        "    image_file = f.read()\n",
        "\n",
        "messages = [\n",
        "    {\n",
        "        \"role\": 'user',\n",
        "        \"content\": [\n",
        "            {\"text\": \"Turn this org chart into JSON indicating who reports to who. Only output the JSON and nothing else.\"},\n",
        "            {\"image\": {\n",
        "                \"format\": 'jpeg',\n",
        "                \"source\": {\"bytes\": image_file }\n",
        "                },\n",
        "            }\n",
        "        ]\n",
        "    }\n",
        "]\n",
        "\n",
        "converse_api_params = {\n",
        "    \"modelId\": modelId,\n",
        "    \"messages\": messages,\n",
        "}\n",
        "\n",
        "response = bedrock_client.converse(**converse_api_params)\n",
        "\n",
        "# Extract the generated text content from the response\n",
        "output_message = response['output']['message']['content'][0]['text']\n",
        "\n",
        "# Return the generated text content\n",
        "print(output_message)"
      ]
    }
  ],
  "metadata": {
    "kernelspec": {
      "display_name": "conda_tensorflow2_p310",
      "language": "python",
      "name": "conda_tensorflow2_p310"
    },
    "language_info": {
      "codemirror_mode": {
        "name": "ipython",
        "version": 3
      },
      "file_extension": ".py",
      "mimetype": "text/x-python",
      "name": "python",
      "nbconvert_exporter": "python",
      "pygments_lexer": "ipython3",
      "version": "3.10.14"
    }
  },
  "nbformat": 4,
  "nbformat_minor": 4
}