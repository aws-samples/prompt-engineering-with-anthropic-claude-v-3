{
  "cells": [
    {
      "cell_type": "markdown",
      "metadata": {},
      "source": [
        "# 2\uc7a5: \uba85\ud655\ud558\uace0 \uc9c1\uc811\uc801\uc73c\ub85c \ub9d0\ud558\uae30\n",
        "\n",
        "- [\uc218\uc5c5](#lesson)\n",
        "- [\uc5f0\uc2b5 \ubb38\uc81c](#exercises)\n",
        "- [\uc608\uc2dc \ub180\uc774\ud130](#example-playground)\n",
        "\n",
        "## \uc124\uc815\n",
        "\n",
        "\ub2e4\uc74c \uc124\uc815 \uc140\uc744 \uc2e4\ud589\ud558\uc5ec API \ud0a4\ub97c \ub85c\ub4dc\ud558\uace0 `get_completion` \ud5ec\ud37c \ud568\uc218\ub97c \uc124\uc815\ud569\ub2c8\ub2e4."
      ]
    },
    {
      "cell_type": "code",
      "execution_count": null,
      "metadata": {
        "tags": []
      },
      "outputs": [],
      "source": [
        "# Import python's built-in regular expression library\n",
        "import re\n",
        "import boto3\n",
        "from botocore.exceptions import ClientError\n",
        "import json\n",
        "\n",
        "# Import the hints module from the utils package\n",
        "from utils import hints\n",
        "\n",
        "# Retrieve the MODEL_NAME variable from the IPython store\n",
        "%store -r modelId\n",
        "%store -r region\n",
        "\n",
        "bedrock_client = boto3.client(service_name='bedrock-runtime', region_name=region)"
      ]
    },
    {
      "cell_type": "code",
      "execution_count": null,
      "metadata": {},
      "outputs": [],
      "source": [
        "def get_completion(prompt, system_prompt=None):\n",
        "    inference_config = {\n",
        "        \"temperature\": 0.0,\n",
        "        \"maxTokens\": 3000\n",
        "    }\n",
        "    additional_model_fields = {\n",
        "        \"top_p\": 1\n",
        "    }\n",
        "    converse_api_params = {\n",
        "        \"modelId\": modelId,\n",
        "        \"messages\": [{\"role\": \"user\", \"content\": [{\"text\": prompt}]}],\n",
        "        \"inferenceConfig\": inference_config,\n",
        "        \"additionalModelRequestFields\": additional_model_fields\n",
        "    }\n",
        "    if system_prompt:\n",
        "        converse_api_params[\"system\"] = [{\"text\": system_prompt}]\n",
        "    try:\n",
        "        response = bedrock_client.converse(**converse_api_params)\n",
        "        text_content = response['output']['message']['content'][0]['text']\n",
        "        return text_content\n",
        "\n",
        "    except ClientError as err:\n",
        "        message = err.response['Error']['Message']\n",
        "        print(f\"A client error occured: {message}\")"
      ]
    },
    {
      "cell_type": "markdown",
      "metadata": {},
      "source": [
        "---\n",
        "\n",
        "## \uc218\uc5c5\n",
        "\n",
        "**Claude\ub294 \uba85\ud655\ud558\uace0 \uc9c1\uc811\uc801\uc778 \uc9c0\uc2dc\uc5d0 \uac00\uc7a5 \uc798 \ubc18\uc751\ud569\ub2c8\ub2e4.**\n",
        "\n",
        "Claude\ub97c \uc0c8\ub85c \uc5c5\ubb34\ub97c \uc2dc\uc791\ud55c \ub2e4\ub978 \uc0ac\ub78c\ucc98\ub7fc \uc0dd\uac01\ud574 \ubcf4\uc138\uc694. **Claude\ub294 \ub2f9\uc2e0\uc774 \ub9d0\ud55c \uac83 \uc678\uc5d0\ub294 \ub9e5\ub77d\uc744 \ubaa8\ub985\ub2c8\ub2e4.** \uc0ac\ub78c\uc5d0\uac8c \ucc98\uc74c\uc73c\ub85c \uc791\uc5c5\uc744 \uc9c0\uc2dc\ud560 \ub54c\uc640 \ub9c8\ucc2c\uac00\uc9c0\ub85c, \ub2f9\uc2e0\uc774 Claude\uc5d0\uac8c \uc6d0\ud558\ub294 \ubc14\ub97c \uba85\ud655\ud558\uac8c \uc124\uba85\ud560\uc218\ub85d Claude\uc758 \uc751\ub2f5\uc774 \ub354 \ub098\uc544\uc9c0\uace0 \uc815\ud655\ud574\uc9d1\ub2c8\ub2e4.\"\t\t\t\t\n",
        "\t\t\t\t\n",
        "\ud655\uc2e4\ud558\uc9c0 \uc54a\uc740 \uacbd\uc6b0 **\uba85\ud655\ud55c \ud504\ub86c\ud504\ud2b8\uc758 \ud669\uae08\ub960**\uc744 \ub530\ub974\uc138\uc694:\n",
        "- \ub3d9\ub8cc\ub098 \uce5c\uad6c\uc5d0\uac8c \ud504\ub86c\ud504\ud2b8\ub97c \ubcf4\uc5ec\uc8fc\uace0 \uadf8\ub4e4\uc774 \uc6d0\ud558\ub294 \uacb0\uacfc\ub97c \ub9cc\ub4e4 \uc218 \uc788\ub294\uc9c0 \uc9c0\uc2dc\ub97c \ub530\ub77c\ud574 \ubcf4\uac8c \ud569\ub2c8\ub2e4. \uadf8\ub4e4\uc774 \ud63c\ub780\uc2a4\ub7ec\uc6cc\ud558\uba74 Claude\ub3c4 \ud63c\ub780\uc2a4\ub7ec\uc6b8 \uac83\uc785\ub2c8\ub2e4.\t\t\t\t"
      ]
    },
    {
      "cell_type": "markdown",
      "metadata": {},
      "source": [
        "### \uc608\uc2dc\n",
        "\n",
        "\uc2dc\ub97c \uc4f0\ub294 \uc791\uc5c5\uc744 \uc608\ub85c \ub4e4\uc5b4\ubcf4\uaca0\uc2b5\ub2c8\ub2e4. (\uc6b4\uc728 \ubd88\uc77c\uce58\ub294 \ubb34\uc2dc\ud558\uc138\uc694 - LLM\uc740 \uc544\uc9c1 \uc6b4\uc728 \uc138\uae30\uac00 \uc11c\ud23d\uc2b5\ub2c8\ub2e4.)"
      ]
    },
    {
      "cell_type": "code",
      "execution_count": null,
      "metadata": {
        "tags": []
      },
      "outputs": [],
      "source": [
        "# Prompt\n",
        "PROMPT = \"Write a haiku about robots.\"\n",
        "\n",
        "# Print Claude's response\n",
        "print(get_completion(PROMPT))"
      ]
    },
    {
      "cell_type": "markdown",
      "metadata": {},
      "source": [
        "\uc774 \ud558\uc774\ucfe0\ub294 \uad1c\ucc2e\uc9c0\ub9cc, \uc0ac\uc6a9\uc790\ub294 \"\uc5ec\uae30 \ud558\uc774\ucfe0\uac00 \uc788\uc2b5\ub2c8\ub2e4\"\ub77c\ub294 \uc804\ubb38 \uc5c6\uc774 Claude\uac00 \ubc14\ub85c \uc2dc\ub85c \ub4e4\uc5b4\uac00\uae30\ub97c \uc6d0\ud560 \uc218 \uc788\uc2b5\ub2c8\ub2e4.\n",
        "\n",
        "\uadf8\ub807\uac8c \ud558\ub824\uba74 \uc5b4\ub5bb\uac8c \ud574\uc57c \ud560\uae4c\uc694? **\uc694\uccad\ud558\uba74 \ub429\ub2c8\ub2e4**!"
      ]
    },
    {
      "cell_type": "code",
      "execution_count": null,
      "metadata": {},
      "outputs": [],
      "source": [
        "# Prompt\n",
        "PROMPT = \"Write a haiku about robots. Skip the preamble; go straight into the poem.\"\n",
        "\n",
        "# Print Claude's response\n",
        "print(get_completion(PROMPT))"
      ]
    },
    {
      "cell_type": "markdown",
      "metadata": {},
      "source": [
        "\ub2e4\ub978 \uc608\uc2dc\uc785\ub2c8\ub2e4. Claude\uc5d0\uac8c \uc5ed\ub300 \ucd5c\uace0\uc758 \ub18d\uad6c \uc120\uc218\uac00 \ub204\uad6c\uc778\uc9c0 \ubb3c\uc5b4\ubd05\uc2dc\ub2e4. \uc544\ub798\uc5d0\uc11c \ubcfc \uc218 \uc788\ub4ef\uc774 Claude\ub294 \uba87 \uba85\uc758 \uc774\ub984\uc744 \uc5f4\uac70\ud558\uc9c0\ub9cc **\ud655\uc2e4\ud55c \"\ucd5c\uace0\"\ub97c \ub300\ub2f5\ud558\uc9c0\ub294 \uc54a\uc2b5\ub2c8\ub2e4**."
      ]
    },
    {
      "cell_type": "code",
      "execution_count": null,
      "metadata": {},
      "outputs": [],
      "source": [
        "# Prompt\n",
        "PROMPT = \"Who is the best basketball player of all time?\"\n",
        "\n",
        "# Print Claude's response\n",
        "print(get_completion(PROMPT))"
      ]
    },
    {
      "cell_type": "markdown",
      "metadata": {},
      "source": [
        "Claude\uc5d0\uac8c \ub9c8\uc74c\uc744 \uc815\ud558\uace0 \ucd5c\uace0\uc758 \uc120\uc218\ub97c \uacb0\uc815\ud558\uac8c \ud560 \uc218 \uc788\uc744\uae4c\uc694? \ubb3c\ub860\uc785\ub2c8\ub2e4! \uadf8\ub0e5 \ubb3c\uc5b4\ubcf4\uc138\uc694!"
      ]
    },
    {
      "cell_type": "code",
      "execution_count": null,
      "metadata": {},
      "outputs": [],
      "source": [
        "# Prompt\n",
        "PROMPT = \"Who is the best basketball player of all time? Yes, there are differing opinions, but if you absolutely had to pick one player, who would it be?\"\n",
        "\n",
        "# Print Claude's response\n",
        "print(get_completion(PROMPT))"
      ]
    },
    {
      "cell_type": "markdown",
      "metadata": {},
      "source": [
        "\uc218\uc5c5 \ud504\ub86c\ud504\ud2b8\ub97c \uc2e4\ud5d8\ud574\ubcf4\uace0 \uc2f6\uc9c0\ub9cc \uc704\uc758 \ub0b4\uc6a9\uc744 \ubcc0\uacbd\ud558\uace0 \uc2f6\uc9c0 \uc54a\ub2e4\uba74 \uc218\uc5c5 \ub178\ud2b8\ubd81 \ub9e8 \uc544\ub798\ub85c \uc2a4\ud06c\ub864\ud558\uc5ec [**\uc608\uc2dc \ub180\uc774\ud130**](#example-playground)\ub97c \ubc29\ubb38\ud558\uc138\uc694."
      ]
    },
    {
      "cell_type": "markdown",
      "metadata": {},
      "source": [
        "---\n",
        "\n",
        "## \uc5f0\uc2b5 \ubb38\uc81c\n",
        "- [\uc5f0\uc2b5\ubb38\uc81c 2.1 - \uc2a4\ud398\uc778\uc5b4](#exercise-21---spanish)\n",
        "- [\uc5f0\uc2b5\ubb38\uc81c 2.2 - \ud55c \uba85\uc758 \uc120\uc218\ub9cc](#exercise-22---one-player-only)\n",
        "- [\uc5f0\uc2b5\ubb38\uc81c 2.3 - \uc774\uc57c\uae30 \uc4f0\uae30](#exercise-23---write-a-story)"
      ]
    },
    {
      "cell_type": "markdown",
      "metadata": {},
      "source": [
        "### \uc5f0\uc2b5\ubb38\uc81c 2.1 - \uc2a4\ud398\uc778\uc5b4\n",
        "Claude\uac00 \ub2f5\ubcc0\uc744 \uc2a4\ud398\uc778\uc5b4\ub85c \ucd9c\ub825\ud558\ub3c4\ub85d `SYSTEM_PROMPT`\ub97c \uc218\uc815\ud558\uc138\uc694."
      ]
    },
    {
      "cell_type": "code",
      "execution_count": null,
      "metadata": {},
      "outputs": [],
      "source": [
        "# System prompt - this is the only field you should chnage\n",
        "SYSTEM_PROMPT = \"[Replace this text]\"\n",
        "\n",
        "# Prompt\n",
        "PROMPT = \"Hello Claude, how are you?\"\n",
        "\n",
        "# Get Claude's response\n",
        "response = get_completion(PROMPT, SYSTEM_PROMPT)\n",
        "\n",
        "# Function to grade exercise correctness\n",
        "def grade_exercise(text):\n",
        "    return \"hola\" in text.lower()\n",
        "\n",
        "# Print Claude's response and the corresponding grade\n",
        "print(response)\n",
        "print(\"\\n--------------------------- GRADING ---------------------------\")\n",
        "print(\"This exercise has been correctly solved:\", grade_exercise(response))"
      ]
    },
    {
      "cell_type": "markdown",
      "metadata": {},
      "source": [
        "\u2753 \ud78c\ud2b8\uac00 \ud544\uc694\ud558\ub2e4\uba74 \uc544\ub798 \uc140\uc744 \uc2e4\ud589\ud558\uc138\uc694!"
      ]
    },
    {
      "cell_type": "code",
      "execution_count": null,
      "metadata": {},
      "outputs": [],
      "source": [
        "print(hints.exercise_2_1_hint)"
      ]
    },
    {
      "cell_type": "markdown",
      "metadata": {},
      "source": [
        "### \uc5f0\uc2b5\ubb38\uc81c 2.2 - \ud55c \uba85\uc758 \uc120\uc218\ub9cc\n",
        "\n",
        "`PROMPT`\ub97c \uc218\uc815\ud558\uc5ec Claude\uac00 \uc8fc\uc800\ud558\uc9c0 \uc54a\uace0 **\ud55c \uba85\uc758 \ud2b9\uc815 \uc120\uc218 \uc774\ub984\ub9cc** \uc751\ub2f5\ud558\ub3c4\ub85d \ud558\uc138\uc694. **\ub2e4\ub978 \ub2e8\uc5b4\ub098 \ubb38\uc7a5 \ubd80\ud638\ub294 \uc5c6\uc5b4\uc57c \ud569\ub2c8\ub2e4**."
      ]
    },
    {
      "cell_type": "code",
      "execution_count": null,
      "metadata": {},
      "outputs": [],
      "source": [
        "# Prompt - this is the only field you should change\n",
        "PROMPT = \"[Replace this text]\"\n",
        "\n",
        "# Get Claude's response\n",
        "response = get_completion(PROMPT)\n",
        "\n",
        "# Function to grade exercise correctness\n",
        "def grade_exercise(text):\n",
        "    return text == \"Michael Jordan\"\n",
        "\n",
        "# Print Claude's response and the corresponding grade\n",
        "print(response)\n",
        "print(\"\\n--------------------------- GRADING ---------------------------\")\n",
        "print(\"This exercise has been correctly solved:\", grade_exercise(response))"
      ]
    },
    {
      "cell_type": "markdown",
      "metadata": {},
      "source": [
        "\u2753 \ud78c\ud2b8\uac00 \ud544\uc694\ud558\ub2e4\uba74 \uc544\ub798 \uc140\uc744 \uc2e4\ud589\ud558\uc138\uc694!"
      ]
    },
    {
      "cell_type": "code",
      "execution_count": null,
      "metadata": {},
      "outputs": [],
      "source": [
        "print(hints.exercise_2_2_hint)"
      ]
    },
    {
      "cell_type": "markdown",
      "metadata": {},
      "source": [
        "### \uc5f0\uc2b5\ubb38\uc81c 2.3 - \uc774\uc57c\uae30 \uc4f0\uae30\n",
        "\n",
        "`PROMPT`\ub97c \uc218\uc815\ud558\uc5ec Claude\uac00 \uac00\ub2a5\ud55c \ud55c \uae34 \uc751\ub2f5\uc744 \ud558\ub3c4\ub85d \ud558\uc138\uc694. \ub2f5\ubcc0\uc774 **800\ub2e8\uc5b4 \uc774\uc0c1**\uc774\uba74 Claude\uc758 \uc751\ub2f5\uc740 \uc815\ub2f5\uc73c\ub85c \ud3c9\uac00\ub429\ub2c8\ub2e4."
      ]
    },
    {
      "cell_type": "code",
      "execution_count": null,
      "metadata": {},
      "outputs": [],
      "source": [
        "# Prompt - this is the only field you should change\n",
        "PROMPT = \"[Replace this text]\"\n",
        "\n",
        "# Get Claude's response\n",
        "response = get_completion(PROMPT)\n",
        "\n",
        "# Function to grade exercise correctness\n",
        "def grade_exercise(text):\n",
        "    trimmed = text.strip()\n",
        "    words = len(trimmed.split())\n",
        "    return words >= 800\n",
        "\n",
        "# Print Claude's response and the corresponding grade\n",
        "print(response)\n",
        "print(\"\\n--------------------------- GRADING ---------------------------\")\n",
        "print(\"This exercise has been correctly solved:\", grade_exercise(response))"
      ]
    },
    {
      "cell_type": "markdown",
      "metadata": {},
      "source": [
        "\u2753 \ud78c\ud2b8\uac00 \ud544\uc694\ud558\ub2e4\uba74 \uc544\ub798 \uc140\uc744 \uc2e4\ud589\ud558\uc138\uc694!"
      ]
    },
    {
      "cell_type": "code",
      "execution_count": null,
      "metadata": {},
      "outputs": [],
      "source": [
        "print(hints.exercise_2_3_hint)"
      ]
    },
    {
      "cell_type": "markdown",
      "metadata": {},
      "source": [
        "### \ucd95\ud558\ud569\ub2c8\ub2e4!\n",
        "\n",
        "\uc9c0\uae08\uae4c\uc9c0\uc758 \ubaa8\ub4e0 \uc5f0\uc2b5 \ubb38\uc81c\ub97c \ud574\uacb0\ud588\ub2e4\uba74 \ub2e4\uc74c \uc7a5\uc73c\ub85c \ub118\uc5b4\uac08 \uc900\ube44\uac00 \ub418\uc5c8\uc2b5\ub2c8\ub2e4. \ud589\uc6b4\uc774 \uc788\uae30\ub97c!"
      ]
    },
    {
      "cell_type": "markdown",
      "metadata": {},
      "source": [
        "---\n",
        "\n",
        "## \uc608\uc81c \uc2e4\uc2b5 \uacf5\uac04\n",
        "\n",
        "\uc774 \uacf3\uc740 \uc774 \uc218\uc5c5\uc5d0\uc11c \ubcf4\uc5ec\uc900 \ud504\ub86c\ud504\ud2b8 \uc608\uc81c\ub97c \uc790\uc720\ub86d\uac8c \uc2e4\ud5d8\ud558\uace0 \ud504\ub86c\ud504\ud2b8\ub97c \uc870\uc815\ud558\uc5ec Claude\uc758 \uc751\ub2f5\uc5d0 \uc5b4\ub5a4 \uc601\ud5a5\uc744 \ubbf8\uce58\ub294\uc9c0 \ud655\uc778\ud560 \uc218 \uc788\ub294 \uacf5\uac04\uc785\ub2c8\ub2e4."
      ]
    },
    {
      "cell_type": "code",
      "execution_count": null,
      "metadata": {},
      "outputs": [],
      "source": [
        "# Prompt\n",
        "PROMPT = \"Write a haiku about robots.\"\n",
        "\n",
        "# Print Claude's response\n",
        "print(get_completion(PROMPT))"
      ]
    },
    {
      "cell_type": "code",
      "execution_count": null,
      "metadata": {},
      "outputs": [],
      "source": [
        "# Prompt\n",
        "PROMPT = \"Write a haiku about robots. Skip the preamble; go straight into the poem.\"\n",
        "\n",
        "# Print Claude's response\n",
        "print(get_completion(PROMPT))"
      ]
    },
    {
      "cell_type": "code",
      "execution_count": null,
      "metadata": {},
      "outputs": [],
      "source": [
        "# Prompt\n",
        "PROMPT = \"Who is the best basketball player of all time?\"\n",
        "\n",
        "# Print Claude's response\n",
        "print(get_completion(PROMPT))"
      ]
    },
    {
      "cell_type": "code",
      "execution_count": null,
      "metadata": {
        "tags": []
      },
      "outputs": [],
      "source": [
        "# Prompt\n",
        "PROMPT = \"Who is the best basketball player of all time? Yes, there are differing opinions, but if you absolutely had to pick one player, who would it be?\"\n",
        "\n",
        "# Print Claude's response\n",
        "print(get_completion(PROMPT))"
      ]
    }
  ],
  "metadata": {
    "kernelspec": {
      "display_name": "",
      "name": ""
    },
    "language_info": {
      "codemirror_mode": {
        "name": "ipython",
        "version": 3
      },
      "file_extension": ".py",
      "mimetype": "text/x-python",
      "name": "python",
      "nbconvert_exporter": "python",
      "pygments_lexer": "ipython3",
      "version": "3.10.14"
    }
  },
  "nbformat": 4,
  "nbformat_minor": 4
}